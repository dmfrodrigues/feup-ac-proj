{
 "cells": [
  {
   "cell_type": "code",
   "execution_count": 1,
   "metadata": {},
   "outputs": [],
   "source": [
    "import pandas as pd\n",
    "import matplotlib as mpl\n",
    "import matplotlib.pyplot as plt\n",
    "import seaborn as sns\n",
    "import numpy as np\n",
    "from datetime import datetime\n",
    "\n",
    "from mpl_toolkits.mplot3d import Axes3D\n",
    "\n",
    "import warnings\n",
    "warnings.filterwarnings('ignore')\n",
    "#pd.set_option('display.max_rows', None)\n",
    "pd.set_option('display.max_columns', None)\n",
    "\n"
   ]
  },
  {
   "cell_type": "markdown",
   "metadata": {},
   "source": [
    "# 1. Data Understanding / Preparation"
   ]
  },
  {
   "cell_type": "markdown",
   "metadata": {},
   "source": [
    "## 1.1 Data Retrieval"
   ]
  },
  {
   "cell_type": "code",
   "execution_count": 2,
   "metadata": {},
   "outputs": [],
   "source": [
    "# Reading Accounts' Data\n",
    "acc = pd.read_csv(\"./processed/account.csv\", sep=\";\")\n",
    "\n",
    "# Reading Transactions' Data\n",
    "trans = pd.read_csv(\"./processed/trans_dev.csv\", sep=\";\");\n",
    "#trans = pd.read_csv(\"./processed/trans_comp.csv\", sep=\";\");\n",
    "\n",
    "# Reading Loans' Data\n",
    "loan = pd.read_csv(\"./processed/loan_dev.csv\", sep=\";\");\n",
    "#loan = pd.read_csv(\"./processed/loan_comp.csv\", sep=\";\");\n",
    "\n",
    "# Reading Districts' Data\n",
    "dist = pd.read_csv(\"./raw/district.csv\", sep=\";\");\n",
    "\n",
    "# Reading Disponents' Data\n",
    "disp = pd.read_csv(\"./processed/disp.csv\", sep=\";\");\n",
    "\n",
    "# Reading Cards' Data\n",
    "card = pd.read_csv(\"./processed/card_dev.csv\", sep=\";\");\n",
    "#card = pd.read_csv(\"./processed/card_comp.csv\", sep=\";\");\n",
    "\n",
    "# Reading Clients' Data\n",
    "clie = pd.read_csv(\"./processed/client.csv\", sep=\";\");"
   ]
  },
  {
   "cell_type": "code",
   "execution_count": 3,
   "metadata": {},
   "outputs": [],
   "source": [
    "# Confirming all files were read successfully.\n",
    "# General overview of number of attributes (columns) and entries (rows) per table, missing values, types of variables.\n",
    "#for df in [acc, trans, loan, dist, disp, card, clie]:\n",
    "#    print(df.info())\n",
    "#    print(\"\\n\")"
   ]
  },
  {
   "cell_type": "markdown",
   "metadata": {},
   "source": [
    "## 1.2 Data Integration - Grouping all columns of all files into a single dataframe"
   ]
  },
  {
   "cell_type": "code",
   "execution_count": 4,
   "metadata": {},
   "outputs": [
    {
     "name": "stdout",
     "output_type": "stream",
     "text": [
      "(328, 43)\n"
     ]
    },
    {
     "data": {
      "text/html": [
       "<div>\n",
       "<style scoped>\n",
       "    .dataframe tbody tr th:only-of-type {\n",
       "        vertical-align: middle;\n",
       "    }\n",
       "\n",
       "    .dataframe tbody tr th {\n",
       "        vertical-align: top;\n",
       "    }\n",
       "\n",
       "    .dataframe thead th {\n",
       "        text-align: right;\n",
       "    }\n",
       "</style>\n",
       "<table border=\"1\" class=\"dataframe\">\n",
       "  <thead>\n",
       "    <tr style=\"text-align: right;\">\n",
       "      <th></th>\n",
       "      <th>account_id</th>\n",
       "      <th>district_id</th>\n",
       "      <th>frequency</th>\n",
       "      <th>date</th>\n",
       "      <th># trans</th>\n",
       "      <th>oper #1</th>\n",
       "      <th>oper #2</th>\n",
       "      <th>oper #3</th>\n",
       "      <th>oper #4</th>\n",
       "      <th>oper #5</th>\n",
       "      <th>type #1</th>\n",
       "      <th>type #2</th>\n",
       "      <th>type #3</th>\n",
       "      <th>avg trans amount</th>\n",
       "      <th>avg trans balance</th>\n",
       "      <th>loan_id</th>\n",
       "      <th>loan date</th>\n",
       "      <th>loan amount</th>\n",
       "      <th>loan duration (mths)</th>\n",
       "      <th>loan payments</th>\n",
       "      <th>loan status</th>\n",
       "      <th>district_name</th>\n",
       "      <th>district_region</th>\n",
       "      <th>no. of inhabitants</th>\n",
       "      <th>no. of municipalities with inhabitants &lt; 499</th>\n",
       "      <th>no. of municipalities with inhabitants 500-1999</th>\n",
       "      <th>no. of municipalities with inhabitants 2000-9999</th>\n",
       "      <th>no. of municipalities with inhabitants &gt;10000</th>\n",
       "      <th>no. of cities</th>\n",
       "      <th>ratio of urban inhabitants</th>\n",
       "      <th>average salary</th>\n",
       "      <th>unemploymant rate '95</th>\n",
       "      <th>unemploymant rate '96</th>\n",
       "      <th>no. of enterpreneurs per 1000 inhabitants</th>\n",
       "      <th>no. of commited crimes '95</th>\n",
       "      <th>no. of commited crimes '96</th>\n",
       "      <th>client_id</th>\n",
       "      <th>card_id</th>\n",
       "      <th>card type</th>\n",
       "      <th>issued</th>\n",
       "      <th>birthdate</th>\n",
       "      <th>sex</th>\n",
       "      <th>has disponent</th>\n",
       "    </tr>\n",
       "  </thead>\n",
       "  <tbody>\n",
       "    <tr>\n",
       "      <th>0</th>\n",
       "      <td>5270</td>\n",
       "      <td>44</td>\n",
       "      <td>monthly issuance</td>\n",
       "      <td>1993-01-13</td>\n",
       "      <td>53.0</td>\n",
       "      <td>1.0</td>\n",
       "      <td>NaN</td>\n",
       "      <td>11.0</td>\n",
       "      <td>NaN</td>\n",
       "      <td>31.0</td>\n",
       "      <td>28.0</td>\n",
       "      <td>3.0</td>\n",
       "      <td>22.0</td>\n",
       "      <td>17600.36</td>\n",
       "      <td>69954.57</td>\n",
       "      <td>6077</td>\n",
       "      <td>1993-11-22</td>\n",
       "      <td>79608</td>\n",
       "      <td>24</td>\n",
       "      <td>3317</td>\n",
       "      <td>1</td>\n",
       "      <td>Chrudim</td>\n",
       "      <td>east Bohemia</td>\n",
       "      <td>105606</td>\n",
       "      <td>77</td>\n",
       "      <td>26</td>\n",
       "      <td>7</td>\n",
       "      <td>2</td>\n",
       "      <td>7</td>\n",
       "      <td>53.0</td>\n",
       "      <td>8254</td>\n",
       "      <td>2.79</td>\n",
       "      <td>3.76</td>\n",
       "      <td>97</td>\n",
       "      <td>2166</td>\n",
       "      <td>2325</td>\n",
       "      <td>6367</td>\n",
       "      <td>NaN</td>\n",
       "      <td>NaN</td>\n",
       "      <td>NaN</td>\n",
       "      <td>1970-04-28</td>\n",
       "      <td>M</td>\n",
       "      <td>False</td>\n",
       "    </tr>\n",
       "    <tr>\n",
       "      <th>1</th>\n",
       "      <td>5385</td>\n",
       "      <td>44</td>\n",
       "      <td>weekly issuance</td>\n",
       "      <td>1993-05-21</td>\n",
       "      <td>56.0</td>\n",
       "      <td>3.0</td>\n",
       "      <td>NaN</td>\n",
       "      <td>10.0</td>\n",
       "      <td>6.0</td>\n",
       "      <td>27.0</td>\n",
       "      <td>32.0</td>\n",
       "      <td>1.0</td>\n",
       "      <td>23.0</td>\n",
       "      <td>5778.79</td>\n",
       "      <td>29069.12</td>\n",
       "      <td>6103</td>\n",
       "      <td>1994-04-07</td>\n",
       "      <td>149340</td>\n",
       "      <td>60</td>\n",
       "      <td>2489</td>\n",
       "      <td>1</td>\n",
       "      <td>Chrudim</td>\n",
       "      <td>east Bohemia</td>\n",
       "      <td>105606</td>\n",
       "      <td>77</td>\n",
       "      <td>26</td>\n",
       "      <td>7</td>\n",
       "      <td>2</td>\n",
       "      <td>7</td>\n",
       "      <td>53.0</td>\n",
       "      <td>8254</td>\n",
       "      <td>2.79</td>\n",
       "      <td>3.76</td>\n",
       "      <td>97</td>\n",
       "      <td>2166</td>\n",
       "      <td>2325</td>\n",
       "      <td>6499</td>\n",
       "      <td>NaN</td>\n",
       "      <td>NaN</td>\n",
       "      <td>NaN</td>\n",
       "      <td>1963-02-01</td>\n",
       "      <td>M</td>\n",
       "      <td>False</td>\n",
       "    </tr>\n",
       "    <tr>\n",
       "      <th>2</th>\n",
       "      <td>8027</td>\n",
       "      <td>44</td>\n",
       "      <td>weekly issuance</td>\n",
       "      <td>1993-07-07</td>\n",
       "      <td>60.0</td>\n",
       "      <td>2.0</td>\n",
       "      <td>NaN</td>\n",
       "      <td>10.0</td>\n",
       "      <td>NaN</td>\n",
       "      <td>38.0</td>\n",
       "      <td>33.0</td>\n",
       "      <td>5.0</td>\n",
       "      <td>22.0</td>\n",
       "      <td>13255.80</td>\n",
       "      <td>55570.30</td>\n",
       "      <td>6642</td>\n",
       "      <td>1994-06-05</td>\n",
       "      <td>77640</td>\n",
       "      <td>12</td>\n",
       "      <td>6470</td>\n",
       "      <td>1</td>\n",
       "      <td>Chrudim</td>\n",
       "      <td>east Bohemia</td>\n",
       "      <td>105606</td>\n",
       "      <td>77</td>\n",
       "      <td>26</td>\n",
       "      <td>7</td>\n",
       "      <td>2</td>\n",
       "      <td>7</td>\n",
       "      <td>53.0</td>\n",
       "      <td>8254</td>\n",
       "      <td>2.79</td>\n",
       "      <td>3.76</td>\n",
       "      <td>97</td>\n",
       "      <td>2166</td>\n",
       "      <td>2325</td>\n",
       "      <td>9915</td>\n",
       "      <td>NaN</td>\n",
       "      <td>NaN</td>\n",
       "      <td>NaN</td>\n",
       "      <td>1967-07-10</td>\n",
       "      <td>M</td>\n",
       "      <td>False</td>\n",
       "    </tr>\n",
       "    <tr>\n",
       "      <th>3</th>\n",
       "      <td>3037</td>\n",
       "      <td>44</td>\n",
       "      <td>monthly issuance</td>\n",
       "      <td>1994-05-26</td>\n",
       "      <td>117.0</td>\n",
       "      <td>26.0</td>\n",
       "      <td>NaN</td>\n",
       "      <td>NaN</td>\n",
       "      <td>NaN</td>\n",
       "      <td>71.0</td>\n",
       "      <td>70.0</td>\n",
       "      <td>1.0</td>\n",
       "      <td>46.0</td>\n",
       "      <td>10720.31</td>\n",
       "      <td>46487.00</td>\n",
       "      <td>5593</td>\n",
       "      <td>1996-04-18</td>\n",
       "      <td>277884</td>\n",
       "      <td>36</td>\n",
       "      <td>7719</td>\n",
       "      <td>-1</td>\n",
       "      <td>Chrudim</td>\n",
       "      <td>east Bohemia</td>\n",
       "      <td>105606</td>\n",
       "      <td>77</td>\n",
       "      <td>26</td>\n",
       "      <td>7</td>\n",
       "      <td>2</td>\n",
       "      <td>7</td>\n",
       "      <td>53.0</td>\n",
       "      <td>8254</td>\n",
       "      <td>2.79</td>\n",
       "      <td>3.76</td>\n",
       "      <td>97</td>\n",
       "      <td>2166</td>\n",
       "      <td>2325</td>\n",
       "      <td>3670</td>\n",
       "      <td>NaN</td>\n",
       "      <td>NaN</td>\n",
       "      <td>NaN</td>\n",
       "      <td>1980-09-17</td>\n",
       "      <td>F</td>\n",
       "      <td>False</td>\n",
       "    </tr>\n",
       "    <tr>\n",
       "      <th>4</th>\n",
       "      <td>10942</td>\n",
       "      <td>44</td>\n",
       "      <td>weekly issuance</td>\n",
       "      <td>1994-06-05</td>\n",
       "      <td>130.0</td>\n",
       "      <td>40.0</td>\n",
       "      <td>NaN</td>\n",
       "      <td>NaN</td>\n",
       "      <td>12.0</td>\n",
       "      <td>62.0</td>\n",
       "      <td>72.0</td>\n",
       "      <td>2.0</td>\n",
       "      <td>56.0</td>\n",
       "      <td>15168.36</td>\n",
       "      <td>63527.42</td>\n",
       "      <td>7227</td>\n",
       "      <td>1995-10-02</td>\n",
       "      <td>314520</td>\n",
       "      <td>60</td>\n",
       "      <td>5242</td>\n",
       "      <td>1</td>\n",
       "      <td>Chrudim</td>\n",
       "      <td>east Bohemia</td>\n",
       "      <td>105606</td>\n",
       "      <td>77</td>\n",
       "      <td>26</td>\n",
       "      <td>7</td>\n",
       "      <td>2</td>\n",
       "      <td>7</td>\n",
       "      <td>53.0</td>\n",
       "      <td>8254</td>\n",
       "      <td>2.79</td>\n",
       "      <td>3.76</td>\n",
       "      <td>97</td>\n",
       "      <td>2166</td>\n",
       "      <td>2325</td>\n",
       "      <td>13451</td>\n",
       "      <td>NaN</td>\n",
       "      <td>NaN</td>\n",
       "      <td>NaN</td>\n",
       "      <td>1955-11-18</td>\n",
       "      <td>F</td>\n",
       "      <td>False</td>\n",
       "    </tr>\n",
       "    <tr>\n",
       "      <th>...</th>\n",
       "      <td>...</td>\n",
       "      <td>...</td>\n",
       "      <td>...</td>\n",
       "      <td>...</td>\n",
       "      <td>...</td>\n",
       "      <td>...</td>\n",
       "      <td>...</td>\n",
       "      <td>...</td>\n",
       "      <td>...</td>\n",
       "      <td>...</td>\n",
       "      <td>...</td>\n",
       "      <td>...</td>\n",
       "      <td>...</td>\n",
       "      <td>...</td>\n",
       "      <td>...</td>\n",
       "      <td>...</td>\n",
       "      <td>...</td>\n",
       "      <td>...</td>\n",
       "      <td>...</td>\n",
       "      <td>...</td>\n",
       "      <td>...</td>\n",
       "      <td>...</td>\n",
       "      <td>...</td>\n",
       "      <td>...</td>\n",
       "      <td>...</td>\n",
       "      <td>...</td>\n",
       "      <td>...</td>\n",
       "      <td>...</td>\n",
       "      <td>...</td>\n",
       "      <td>...</td>\n",
       "      <td>...</td>\n",
       "      <td>...</td>\n",
       "      <td>...</td>\n",
       "      <td>...</td>\n",
       "      <td>...</td>\n",
       "      <td>...</td>\n",
       "      <td>...</td>\n",
       "      <td>...</td>\n",
       "      <td>...</td>\n",
       "      <td>...</td>\n",
       "      <td>...</td>\n",
       "      <td>...</td>\n",
       "      <td>...</td>\n",
       "    </tr>\n",
       "    <tr>\n",
       "      <th>323</th>\n",
       "      <td>4462</td>\n",
       "      <td>73</td>\n",
       "      <td>weekly issuance</td>\n",
       "      <td>1995-12-27</td>\n",
       "      <td>10.0</td>\n",
       "      <td>4.0</td>\n",
       "      <td>NaN</td>\n",
       "      <td>NaN</td>\n",
       "      <td>NaN</td>\n",
       "      <td>3.0</td>\n",
       "      <td>3.0</td>\n",
       "      <td>NaN</td>\n",
       "      <td>7.0</td>\n",
       "      <td>13609.12</td>\n",
       "      <td>34798.28</td>\n",
       "      <td>5892</td>\n",
       "      <td>1996-05-14</td>\n",
       "      <td>66480</td>\n",
       "      <td>24</td>\n",
       "      <td>2770</td>\n",
       "      <td>-1</td>\n",
       "      <td>Opava</td>\n",
       "      <td>north Moravia</td>\n",
       "      <td>182027</td>\n",
       "      <td>17</td>\n",
       "      <td>49</td>\n",
       "      <td>12</td>\n",
       "      <td>2</td>\n",
       "      <td>7</td>\n",
       "      <td>56.4</td>\n",
       "      <td>8746</td>\n",
       "      <td>3.33</td>\n",
       "      <td>3.74</td>\n",
       "      <td>90</td>\n",
       "      <td>4355</td>\n",
       "      <td>4433</td>\n",
       "      <td>5384</td>\n",
       "      <td>NaN</td>\n",
       "      <td>NaN</td>\n",
       "      <td>NaN</td>\n",
       "      <td>1935-07-21</td>\n",
       "      <td>M</td>\n",
       "      <td>False</td>\n",
       "    </tr>\n",
       "    <tr>\n",
       "      <th>324</th>\n",
       "      <td>5001</td>\n",
       "      <td>53</td>\n",
       "      <td>monthly issuance</td>\n",
       "      <td>1995-12-15</td>\n",
       "      <td>82.0</td>\n",
       "      <td>27.0</td>\n",
       "      <td>NaN</td>\n",
       "      <td>NaN</td>\n",
       "      <td>6.0</td>\n",
       "      <td>39.0</td>\n",
       "      <td>41.0</td>\n",
       "      <td>4.0</td>\n",
       "      <td>37.0</td>\n",
       "      <td>17234.72</td>\n",
       "      <td>76232.70</td>\n",
       "      <td>6015</td>\n",
       "      <td>1996-11-09</td>\n",
       "      <td>110112</td>\n",
       "      <td>24</td>\n",
       "      <td>4588</td>\n",
       "      <td>1</td>\n",
       "      <td>Blansko</td>\n",
       "      <td>south Moravia</td>\n",
       "      <td>107911</td>\n",
       "      <td>88</td>\n",
       "      <td>33</td>\n",
       "      <td>6</td>\n",
       "      <td>2</td>\n",
       "      <td>7</td>\n",
       "      <td>50.9</td>\n",
       "      <td>8240</td>\n",
       "      <td>2.53</td>\n",
       "      <td>3.56</td>\n",
       "      <td>99</td>\n",
       "      <td>1850</td>\n",
       "      <td>1903</td>\n",
       "      <td>6042</td>\n",
       "      <td>NaN</td>\n",
       "      <td>NaN</td>\n",
       "      <td>NaN</td>\n",
       "      <td>1963-10-12</td>\n",
       "      <td>M</td>\n",
       "      <td>False</td>\n",
       "    </tr>\n",
       "    <tr>\n",
       "      <th>325</th>\n",
       "      <td>3084</td>\n",
       "      <td>59</td>\n",
       "      <td>weekly issuance</td>\n",
       "      <td>1996-01-28</td>\n",
       "      <td>29.0</td>\n",
       "      <td>8.0</td>\n",
       "      <td>NaN</td>\n",
       "      <td>NaN</td>\n",
       "      <td>NaN</td>\n",
       "      <td>15.0</td>\n",
       "      <td>13.0</td>\n",
       "      <td>2.0</td>\n",
       "      <td>14.0</td>\n",
       "      <td>11379.26</td>\n",
       "      <td>37095.84</td>\n",
       "      <td>5606</td>\n",
       "      <td>1996-08-28</td>\n",
       "      <td>253512</td>\n",
       "      <td>36</td>\n",
       "      <td>7042</td>\n",
       "      <td>-1</td>\n",
       "      <td>Kromeriz</td>\n",
       "      <td>south Moravia</td>\n",
       "      <td>108871</td>\n",
       "      <td>41</td>\n",
       "      <td>29</td>\n",
       "      <td>7</td>\n",
       "      <td>2</td>\n",
       "      <td>6</td>\n",
       "      <td>62.1</td>\n",
       "      <td>8444</td>\n",
       "      <td>3.24</td>\n",
       "      <td>3.47</td>\n",
       "      <td>106</td>\n",
       "      <td>2595</td>\n",
       "      <td>2305</td>\n",
       "      <td>3730</td>\n",
       "      <td>NaN</td>\n",
       "      <td>NaN</td>\n",
       "      <td>NaN</td>\n",
       "      <td>1945-08-07</td>\n",
       "      <td>F</td>\n",
       "      <td>False</td>\n",
       "    </tr>\n",
       "    <tr>\n",
       "      <th>326</th>\n",
       "      <td>11054</td>\n",
       "      <td>59</td>\n",
       "      <td>weekly issuance</td>\n",
       "      <td>1996-02-01</td>\n",
       "      <td>31.0</td>\n",
       "      <td>3.0</td>\n",
       "      <td>NaN</td>\n",
       "      <td>7.0</td>\n",
       "      <td>3.0</td>\n",
       "      <td>12.0</td>\n",
       "      <td>14.0</td>\n",
       "      <td>1.0</td>\n",
       "      <td>16.0</td>\n",
       "      <td>7832.08</td>\n",
       "      <td>32435.32</td>\n",
       "      <td>7246</td>\n",
       "      <td>1996-08-20</td>\n",
       "      <td>148920</td>\n",
       "      <td>60</td>\n",
       "      <td>2482</td>\n",
       "      <td>1</td>\n",
       "      <td>Kromeriz</td>\n",
       "      <td>south Moravia</td>\n",
       "      <td>108871</td>\n",
       "      <td>41</td>\n",
       "      <td>29</td>\n",
       "      <td>7</td>\n",
       "      <td>2</td>\n",
       "      <td>6</td>\n",
       "      <td>62.1</td>\n",
       "      <td>8444</td>\n",
       "      <td>3.24</td>\n",
       "      <td>3.47</td>\n",
       "      <td>106</td>\n",
       "      <td>2595</td>\n",
       "      <td>2305</td>\n",
       "      <td>13590</td>\n",
       "      <td>NaN</td>\n",
       "      <td>NaN</td>\n",
       "      <td>NaN</td>\n",
       "      <td>1977-08-03</td>\n",
       "      <td>M</td>\n",
       "      <td>False</td>\n",
       "    </tr>\n",
       "    <tr>\n",
       "      <th>327</th>\n",
       "      <td>8680</td>\n",
       "      <td>17</td>\n",
       "      <td>monthly issuance</td>\n",
       "      <td>1996-02-12</td>\n",
       "      <td>19.0</td>\n",
       "      <td>2.0</td>\n",
       "      <td>NaN</td>\n",
       "      <td>5.0</td>\n",
       "      <td>NaN</td>\n",
       "      <td>4.0</td>\n",
       "      <td>4.0</td>\n",
       "      <td>NaN</td>\n",
       "      <td>15.0</td>\n",
       "      <td>7206.16</td>\n",
       "      <td>31337.26</td>\n",
       "      <td>6751</td>\n",
       "      <td>1996-07-14</td>\n",
       "      <td>85716</td>\n",
       "      <td>36</td>\n",
       "      <td>2381</td>\n",
       "      <td>1</td>\n",
       "      <td>Pelhrimov</td>\n",
       "      <td>south Bohemia</td>\n",
       "      <td>74062</td>\n",
       "      <td>99</td>\n",
       "      <td>15</td>\n",
       "      <td>4</td>\n",
       "      <td>2</td>\n",
       "      <td>7</td>\n",
       "      <td>61.4</td>\n",
       "      <td>8114</td>\n",
       "      <td>2.38</td>\n",
       "      <td>2.62</td>\n",
       "      <td>119</td>\n",
       "      <td>1003</td>\n",
       "      <td>1181</td>\n",
       "      <td>10702</td>\n",
       "      <td>NaN</td>\n",
       "      <td>NaN</td>\n",
       "      <td>NaN</td>\n",
       "      <td>1938-05-03</td>\n",
       "      <td>M</td>\n",
       "      <td>True</td>\n",
       "    </tr>\n",
       "  </tbody>\n",
       "</table>\n",
       "<p>328 rows × 43 columns</p>\n",
       "</div>"
      ],
      "text/plain": [
       "     account_id  district_id         frequency        date  # trans  oper #1  \\\n",
       "0          5270           44  monthly issuance  1993-01-13     53.0      1.0   \n",
       "1          5385           44   weekly issuance  1993-05-21     56.0      3.0   \n",
       "2          8027           44   weekly issuance  1993-07-07     60.0      2.0   \n",
       "3          3037           44  monthly issuance  1994-05-26    117.0     26.0   \n",
       "4         10942           44   weekly issuance  1994-06-05    130.0     40.0   \n",
       "..          ...          ...               ...         ...      ...      ...   \n",
       "323        4462           73   weekly issuance  1995-12-27     10.0      4.0   \n",
       "324        5001           53  monthly issuance  1995-12-15     82.0     27.0   \n",
       "325        3084           59   weekly issuance  1996-01-28     29.0      8.0   \n",
       "326       11054           59   weekly issuance  1996-02-01     31.0      3.0   \n",
       "327        8680           17  monthly issuance  1996-02-12     19.0      2.0   \n",
       "\n",
       "     oper #2  oper #3  oper #4  oper #5  type #1  type #2  type #3  \\\n",
       "0        NaN     11.0      NaN     31.0     28.0      3.0     22.0   \n",
       "1        NaN     10.0      6.0     27.0     32.0      1.0     23.0   \n",
       "2        NaN     10.0      NaN     38.0     33.0      5.0     22.0   \n",
       "3        NaN      NaN      NaN     71.0     70.0      1.0     46.0   \n",
       "4        NaN      NaN     12.0     62.0     72.0      2.0     56.0   \n",
       "..       ...      ...      ...      ...      ...      ...      ...   \n",
       "323      NaN      NaN      NaN      3.0      3.0      NaN      7.0   \n",
       "324      NaN      NaN      6.0     39.0     41.0      4.0     37.0   \n",
       "325      NaN      NaN      NaN     15.0     13.0      2.0     14.0   \n",
       "326      NaN      7.0      3.0     12.0     14.0      1.0     16.0   \n",
       "327      NaN      5.0      NaN      4.0      4.0      NaN     15.0   \n",
       "\n",
       "     avg trans amount  avg trans balance  loan_id   loan date  loan amount  \\\n",
       "0            17600.36           69954.57     6077  1993-11-22        79608   \n",
       "1             5778.79           29069.12     6103  1994-04-07       149340   \n",
       "2            13255.80           55570.30     6642  1994-06-05        77640   \n",
       "3            10720.31           46487.00     5593  1996-04-18       277884   \n",
       "4            15168.36           63527.42     7227  1995-10-02       314520   \n",
       "..                ...                ...      ...         ...          ...   \n",
       "323          13609.12           34798.28     5892  1996-05-14        66480   \n",
       "324          17234.72           76232.70     6015  1996-11-09       110112   \n",
       "325          11379.26           37095.84     5606  1996-08-28       253512   \n",
       "326           7832.08           32435.32     7246  1996-08-20       148920   \n",
       "327           7206.16           31337.26     6751  1996-07-14        85716   \n",
       "\n",
       "     loan duration (mths)  loan payments  loan status district_name  \\\n",
       "0                      24           3317            1       Chrudim   \n",
       "1                      60           2489            1       Chrudim   \n",
       "2                      12           6470            1       Chrudim   \n",
       "3                      36           7719           -1       Chrudim   \n",
       "4                      60           5242            1       Chrudim   \n",
       "..                    ...            ...          ...           ...   \n",
       "323                    24           2770           -1         Opava   \n",
       "324                    24           4588            1       Blansko   \n",
       "325                    36           7042           -1      Kromeriz   \n",
       "326                    60           2482            1      Kromeriz   \n",
       "327                    36           2381            1     Pelhrimov   \n",
       "\n",
       "    district_region  no. of inhabitants  \\\n",
       "0      east Bohemia              105606   \n",
       "1      east Bohemia              105606   \n",
       "2      east Bohemia              105606   \n",
       "3      east Bohemia              105606   \n",
       "4      east Bohemia              105606   \n",
       "..              ...                 ...   \n",
       "323   north Moravia              182027   \n",
       "324   south Moravia              107911   \n",
       "325   south Moravia              108871   \n",
       "326   south Moravia              108871   \n",
       "327   south Bohemia               74062   \n",
       "\n",
       "     no. of municipalities with inhabitants < 499   \\\n",
       "0                                               77   \n",
       "1                                               77   \n",
       "2                                               77   \n",
       "3                                               77   \n",
       "4                                               77   \n",
       "..                                             ...   \n",
       "323                                             17   \n",
       "324                                             88   \n",
       "325                                             41   \n",
       "326                                             41   \n",
       "327                                             99   \n",
       "\n",
       "     no. of municipalities with inhabitants 500-1999  \\\n",
       "0                                                 26   \n",
       "1                                                 26   \n",
       "2                                                 26   \n",
       "3                                                 26   \n",
       "4                                                 26   \n",
       "..                                               ...   \n",
       "323                                               49   \n",
       "324                                               33   \n",
       "325                                               29   \n",
       "326                                               29   \n",
       "327                                               15   \n",
       "\n",
       "     no. of municipalities with inhabitants 2000-9999   \\\n",
       "0                                                    7   \n",
       "1                                                    7   \n",
       "2                                                    7   \n",
       "3                                                    7   \n",
       "4                                                    7   \n",
       "..                                                 ...   \n",
       "323                                                 12   \n",
       "324                                                  6   \n",
       "325                                                  7   \n",
       "326                                                  7   \n",
       "327                                                  4   \n",
       "\n",
       "     no. of municipalities with inhabitants >10000   no. of cities   \\\n",
       "0                                                 2               7   \n",
       "1                                                 2               7   \n",
       "2                                                 2               7   \n",
       "3                                                 2               7   \n",
       "4                                                 2               7   \n",
       "..                                              ...             ...   \n",
       "323                                               2               7   \n",
       "324                                               2               7   \n",
       "325                                               2               6   \n",
       "326                                               2               6   \n",
       "327                                               2               7   \n",
       "\n",
       "     ratio of urban inhabitants   average salary  unemploymant rate '95   \\\n",
       "0                           53.0             8254                   2.79   \n",
       "1                           53.0             8254                   2.79   \n",
       "2                           53.0             8254                   2.79   \n",
       "3                           53.0             8254                   2.79   \n",
       "4                           53.0             8254                   2.79   \n",
       "..                           ...              ...                    ...   \n",
       "323                         56.4             8746                   3.33   \n",
       "324                         50.9             8240                   2.53   \n",
       "325                         62.1             8444                   3.24   \n",
       "326                         62.1             8444                   3.24   \n",
       "327                         61.4             8114                   2.38   \n",
       "\n",
       "     unemploymant rate '96   no. of enterpreneurs per 1000 inhabitants   \\\n",
       "0                      3.76                                          97   \n",
       "1                      3.76                                          97   \n",
       "2                      3.76                                          97   \n",
       "3                      3.76                                          97   \n",
       "4                      3.76                                          97   \n",
       "..                      ...                                         ...   \n",
       "323                    3.74                                          90   \n",
       "324                    3.56                                          99   \n",
       "325                    3.47                                         106   \n",
       "326                    3.47                                         106   \n",
       "327                    2.62                                         119   \n",
       "\n",
       "    no. of commited crimes '95   no. of commited crimes '96   client_id  \\\n",
       "0                          2166                         2325       6367   \n",
       "1                          2166                         2325       6499   \n",
       "2                          2166                         2325       9915   \n",
       "3                          2166                         2325       3670   \n",
       "4                          2166                         2325      13451   \n",
       "..                          ...                          ...        ...   \n",
       "323                        4355                         4433       5384   \n",
       "324                        1850                         1903       6042   \n",
       "325                        2595                         2305       3730   \n",
       "326                        2595                         2305      13590   \n",
       "327                        1003                         1181      10702   \n",
       "\n",
       "     card_id card type issued   birthdate sex  has disponent  \n",
       "0        NaN       NaN    NaN  1970-04-28   M          False  \n",
       "1        NaN       NaN    NaN  1963-02-01   M          False  \n",
       "2        NaN       NaN    NaN  1967-07-10   M          False  \n",
       "3        NaN       NaN    NaN  1980-09-17   F          False  \n",
       "4        NaN       NaN    NaN  1955-11-18   F          False  \n",
       "..       ...       ...    ...         ...  ..            ...  \n",
       "323      NaN       NaN    NaN  1935-07-21   M          False  \n",
       "324      NaN       NaN    NaN  1963-10-12   M          False  \n",
       "325      NaN       NaN    NaN  1945-08-07   F          False  \n",
       "326      NaN       NaN    NaN  1977-08-03   M          False  \n",
       "327      NaN       NaN    NaN  1938-05-03   M           True  \n",
       "\n",
       "[328 rows x 43 columns]"
      ]
     },
     "execution_count": 4,
     "metadata": {},
     "output_type": "execute_result"
    }
   ],
   "source": [
    "# Merging Accounts' and Transactions' Data\n",
    "\n",
    "complete = pd.merge(acc, pd.DataFrame(trans.groupby('account_id').size(), columns=['# trans']), right_index=True, left_on='account_id', how=\"outer\")\n",
    "\n",
    "# Oper 1 - credit in cash, Oper 2 - credit card withdrawal, Oper 3 - collection from another bank, Oper 4 - remittance to another bank, Oper 5 - withdrawal in cash\n",
    "complete = pd.merge(complete, pd.DataFrame(trans[trans['operation']=='credit in cash'].groupby('account_id').size(), columns=['oper #1']), right_index=True, left_on='account_id', how=\"outer\")\n",
    "complete = pd.merge(complete, pd.DataFrame(trans[trans['operation']=='credit card withdrawal'].groupby('account_id').size(), columns=['oper #2']), right_index=True, left_on='account_id', how=\"outer\")\n",
    "complete = pd.merge(complete, pd.DataFrame(trans[trans['operation']=='collection from another bank'].groupby('account_id').size(), columns=['oper #3']), right_index=True, left_on='account_id', how=\"outer\")\n",
    "complete = pd.merge(complete, pd.DataFrame(trans[trans['operation']=='remittance to another bank'].groupby('account_id').size(), columns=['oper #4']), right_index=True, left_on='account_id', how=\"outer\")\n",
    "complete = pd.merge(complete, pd.DataFrame(trans[trans['operation']=='withdrawal in cash'].groupby('account_id').size(), columns=['oper #5']), right_index=True, left_on='account_id', how=\"outer\")\n",
    "\n",
    "# Type 1 - withdrawal, Type 2 - withdrawal in cash, Type 3 - credit \n",
    "complete = pd.merge(complete, pd.DataFrame(trans[trans['type']=='withdrawal'].groupby('account_id').size(), columns=['type #1']), right_index=True, left_on='account_id', how=\"outer\")\n",
    "complete = pd.merge(complete, pd.DataFrame(trans[trans['type']=='withdrawal in cash'].groupby('account_id').size(), columns=['type #2']), right_index=True, left_on='account_id', how=\"outer\")\n",
    "complete = pd.merge(complete, pd.DataFrame(trans[trans['type']=='credit'].groupby('account_id').size(), columns=['type #3']), right_index=True, left_on='account_id', how=\"outer\")\n",
    "\n",
    "complete = pd.merge(complete, pd.DataFrame(trans.groupby('account_id').amount.mean().round(2)).rename(columns={'amount':'avg trans amount'}), right_index=True, left_on='account_id', how=\"outer\")\n",
    "complete = pd.merge(complete, pd.DataFrame(trans.groupby('account_id').balance.mean().round(2)).rename(columns={'balance':'avg trans balance'}), right_index=True, left_on='account_id', how=\"outer\")\n",
    "# (4500, 15)\n",
    "\n",
    "# ------------------------\n",
    "\n",
    "# Merging with Loans' Data\n",
    "complete = pd.merge(complete, loan.rename(columns={'date': 'loan date', 'amount': 'loan amount', 'duration': 'loan duration (mths)', 'payments': 'loan payments', 'status': 'loan status'}))\n",
    "# (328, 21)\n",
    "\n",
    "# ------------------------\n",
    "\n",
    "# Merging with Districts' Data\n",
    "complete = pd.merge(complete, dist.rename(columns={'code ': 'district_id', 'name ': 'district_name', 'region': 'district_region'}))\n",
    "# (328, 36)\n",
    "\n",
    "# ------------------------\n",
    "\n",
    "# Merging Disp' and Cards' Data\n",
    "disp = disp.rename(columns={\"type\": \"disp type\"})\n",
    "disp['has disponent'] = np.where(disp['disp type'] == 'DISPONENT', True, False)\n",
    "card = card.rename(columns={\"type\": \"card type\"})\n",
    "disp_card = pd.merge(disp, card, how=\"outer\")\n",
    "# (5369, 9)\n",
    "\n",
    "# ------------------------\n",
    "\n",
    "# Merging Previous with Clients' Data\n",
    "disp_card_clie = pd.merge(disp_card, clie).drop_duplicates(subset=['account_id']).drop(columns=['has disponent', 'disp type', 'district_id', 'disp_id'])\n",
    "# (4500, 7)\n",
    "temp = pd.merge(disp_card_clie, pd.DataFrame(disp_card.groupby('account_id').size(), columns = ['count owner']), right_index=True, left_on='account_id', how=\"outer\")\n",
    "disp_card_clie['has disponent'] = np.where(temp['count owner'] == 2, True, False)\n",
    "# (4500, 8)\n",
    "\n",
    "# ------------------------\n",
    "\n",
    "# Merging Previous subset with the rest\n",
    "complete = pd.merge(complete, disp_card_clie)\n",
    "\n",
    "\n",
    "print(complete.shape)\n",
    "complete\n"
   ]
  },
  {
   "cell_type": "markdown",
   "metadata": {},
   "source": [
    "### 1.2.1 Replacing by 0 columns refering to number of transactions (operations / types) that are NaN (weren't filled in"
   ]
  },
  {
   "cell_type": "code",
   "execution_count": 5,
   "metadata": {},
   "outputs": [
    {
     "data": {
      "text/html": [
       "<div>\n",
       "<style scoped>\n",
       "    .dataframe tbody tr th:only-of-type {\n",
       "        vertical-align: middle;\n",
       "    }\n",
       "\n",
       "    .dataframe tbody tr th {\n",
       "        vertical-align: top;\n",
       "    }\n",
       "\n",
       "    .dataframe thead th {\n",
       "        text-align: right;\n",
       "    }\n",
       "</style>\n",
       "<table border=\"1\" class=\"dataframe\">\n",
       "  <thead>\n",
       "    <tr style=\"text-align: right;\">\n",
       "      <th></th>\n",
       "      <th>account_id</th>\n",
       "      <th>district_id</th>\n",
       "      <th>frequency</th>\n",
       "      <th>date</th>\n",
       "      <th># trans</th>\n",
       "      <th>oper #1</th>\n",
       "      <th>oper #2</th>\n",
       "      <th>oper #3</th>\n",
       "      <th>oper #4</th>\n",
       "      <th>oper #5</th>\n",
       "      <th>type #1</th>\n",
       "      <th>type #2</th>\n",
       "      <th>type #3</th>\n",
       "      <th>avg trans amount</th>\n",
       "      <th>avg trans balance</th>\n",
       "      <th>loan_id</th>\n",
       "      <th>loan date</th>\n",
       "      <th>loan amount</th>\n",
       "      <th>loan duration (mths)</th>\n",
       "      <th>loan payments</th>\n",
       "      <th>loan status</th>\n",
       "      <th>district_name</th>\n",
       "      <th>district_region</th>\n",
       "      <th>no. of inhabitants</th>\n",
       "      <th>no. of municipalities with inhabitants &lt; 499</th>\n",
       "      <th>no. of municipalities with inhabitants 500-1999</th>\n",
       "      <th>no. of municipalities with inhabitants 2000-9999</th>\n",
       "      <th>no. of municipalities with inhabitants &gt;10000</th>\n",
       "      <th>no. of cities</th>\n",
       "      <th>ratio of urban inhabitants</th>\n",
       "      <th>average salary</th>\n",
       "      <th>unemploymant rate '95</th>\n",
       "      <th>unemploymant rate '96</th>\n",
       "      <th>no. of enterpreneurs per 1000 inhabitants</th>\n",
       "      <th>no. of commited crimes '95</th>\n",
       "      <th>no. of commited crimes '96</th>\n",
       "      <th>client_id</th>\n",
       "      <th>card_id</th>\n",
       "      <th>card type</th>\n",
       "      <th>issued</th>\n",
       "      <th>birthdate</th>\n",
       "      <th>sex</th>\n",
       "      <th>has disponent</th>\n",
       "    </tr>\n",
       "  </thead>\n",
       "  <tbody>\n",
       "    <tr>\n",
       "      <th>0</th>\n",
       "      <td>5270</td>\n",
       "      <td>44</td>\n",
       "      <td>monthly issuance</td>\n",
       "      <td>1993-01-13</td>\n",
       "      <td>53.0</td>\n",
       "      <td>1.0</td>\n",
       "      <td>0.0</td>\n",
       "      <td>11.0</td>\n",
       "      <td>0.0</td>\n",
       "      <td>31.0</td>\n",
       "      <td>28.0</td>\n",
       "      <td>3.0</td>\n",
       "      <td>22.0</td>\n",
       "      <td>17600.36</td>\n",
       "      <td>69954.57</td>\n",
       "      <td>6077</td>\n",
       "      <td>1993-11-22</td>\n",
       "      <td>79608</td>\n",
       "      <td>24</td>\n",
       "      <td>3317</td>\n",
       "      <td>1</td>\n",
       "      <td>Chrudim</td>\n",
       "      <td>east Bohemia</td>\n",
       "      <td>105606</td>\n",
       "      <td>77</td>\n",
       "      <td>26</td>\n",
       "      <td>7</td>\n",
       "      <td>2</td>\n",
       "      <td>7</td>\n",
       "      <td>53.0</td>\n",
       "      <td>8254</td>\n",
       "      <td>2.79</td>\n",
       "      <td>3.76</td>\n",
       "      <td>97</td>\n",
       "      <td>2166</td>\n",
       "      <td>2325</td>\n",
       "      <td>6367</td>\n",
       "      <td>NaN</td>\n",
       "      <td>NaN</td>\n",
       "      <td>NaN</td>\n",
       "      <td>1970-04-28</td>\n",
       "      <td>M</td>\n",
       "      <td>False</td>\n",
       "    </tr>\n",
       "    <tr>\n",
       "      <th>1</th>\n",
       "      <td>5385</td>\n",
       "      <td>44</td>\n",
       "      <td>weekly issuance</td>\n",
       "      <td>1993-05-21</td>\n",
       "      <td>56.0</td>\n",
       "      <td>3.0</td>\n",
       "      <td>0.0</td>\n",
       "      <td>10.0</td>\n",
       "      <td>6.0</td>\n",
       "      <td>27.0</td>\n",
       "      <td>32.0</td>\n",
       "      <td>1.0</td>\n",
       "      <td>23.0</td>\n",
       "      <td>5778.79</td>\n",
       "      <td>29069.12</td>\n",
       "      <td>6103</td>\n",
       "      <td>1994-04-07</td>\n",
       "      <td>149340</td>\n",
       "      <td>60</td>\n",
       "      <td>2489</td>\n",
       "      <td>1</td>\n",
       "      <td>Chrudim</td>\n",
       "      <td>east Bohemia</td>\n",
       "      <td>105606</td>\n",
       "      <td>77</td>\n",
       "      <td>26</td>\n",
       "      <td>7</td>\n",
       "      <td>2</td>\n",
       "      <td>7</td>\n",
       "      <td>53.0</td>\n",
       "      <td>8254</td>\n",
       "      <td>2.79</td>\n",
       "      <td>3.76</td>\n",
       "      <td>97</td>\n",
       "      <td>2166</td>\n",
       "      <td>2325</td>\n",
       "      <td>6499</td>\n",
       "      <td>NaN</td>\n",
       "      <td>NaN</td>\n",
       "      <td>NaN</td>\n",
       "      <td>1963-02-01</td>\n",
       "      <td>M</td>\n",
       "      <td>False</td>\n",
       "    </tr>\n",
       "    <tr>\n",
       "      <th>2</th>\n",
       "      <td>8027</td>\n",
       "      <td>44</td>\n",
       "      <td>weekly issuance</td>\n",
       "      <td>1993-07-07</td>\n",
       "      <td>60.0</td>\n",
       "      <td>2.0</td>\n",
       "      <td>0.0</td>\n",
       "      <td>10.0</td>\n",
       "      <td>0.0</td>\n",
       "      <td>38.0</td>\n",
       "      <td>33.0</td>\n",
       "      <td>5.0</td>\n",
       "      <td>22.0</td>\n",
       "      <td>13255.80</td>\n",
       "      <td>55570.30</td>\n",
       "      <td>6642</td>\n",
       "      <td>1994-06-05</td>\n",
       "      <td>77640</td>\n",
       "      <td>12</td>\n",
       "      <td>6470</td>\n",
       "      <td>1</td>\n",
       "      <td>Chrudim</td>\n",
       "      <td>east Bohemia</td>\n",
       "      <td>105606</td>\n",
       "      <td>77</td>\n",
       "      <td>26</td>\n",
       "      <td>7</td>\n",
       "      <td>2</td>\n",
       "      <td>7</td>\n",
       "      <td>53.0</td>\n",
       "      <td>8254</td>\n",
       "      <td>2.79</td>\n",
       "      <td>3.76</td>\n",
       "      <td>97</td>\n",
       "      <td>2166</td>\n",
       "      <td>2325</td>\n",
       "      <td>9915</td>\n",
       "      <td>NaN</td>\n",
       "      <td>NaN</td>\n",
       "      <td>NaN</td>\n",
       "      <td>1967-07-10</td>\n",
       "      <td>M</td>\n",
       "      <td>False</td>\n",
       "    </tr>\n",
       "    <tr>\n",
       "      <th>3</th>\n",
       "      <td>3037</td>\n",
       "      <td>44</td>\n",
       "      <td>monthly issuance</td>\n",
       "      <td>1994-05-26</td>\n",
       "      <td>117.0</td>\n",
       "      <td>26.0</td>\n",
       "      <td>0.0</td>\n",
       "      <td>0.0</td>\n",
       "      <td>0.0</td>\n",
       "      <td>71.0</td>\n",
       "      <td>70.0</td>\n",
       "      <td>1.0</td>\n",
       "      <td>46.0</td>\n",
       "      <td>10720.31</td>\n",
       "      <td>46487.00</td>\n",
       "      <td>5593</td>\n",
       "      <td>1996-04-18</td>\n",
       "      <td>277884</td>\n",
       "      <td>36</td>\n",
       "      <td>7719</td>\n",
       "      <td>-1</td>\n",
       "      <td>Chrudim</td>\n",
       "      <td>east Bohemia</td>\n",
       "      <td>105606</td>\n",
       "      <td>77</td>\n",
       "      <td>26</td>\n",
       "      <td>7</td>\n",
       "      <td>2</td>\n",
       "      <td>7</td>\n",
       "      <td>53.0</td>\n",
       "      <td>8254</td>\n",
       "      <td>2.79</td>\n",
       "      <td>3.76</td>\n",
       "      <td>97</td>\n",
       "      <td>2166</td>\n",
       "      <td>2325</td>\n",
       "      <td>3670</td>\n",
       "      <td>NaN</td>\n",
       "      <td>NaN</td>\n",
       "      <td>NaN</td>\n",
       "      <td>1980-09-17</td>\n",
       "      <td>F</td>\n",
       "      <td>False</td>\n",
       "    </tr>\n",
       "    <tr>\n",
       "      <th>4</th>\n",
       "      <td>10942</td>\n",
       "      <td>44</td>\n",
       "      <td>weekly issuance</td>\n",
       "      <td>1994-06-05</td>\n",
       "      <td>130.0</td>\n",
       "      <td>40.0</td>\n",
       "      <td>0.0</td>\n",
       "      <td>0.0</td>\n",
       "      <td>12.0</td>\n",
       "      <td>62.0</td>\n",
       "      <td>72.0</td>\n",
       "      <td>2.0</td>\n",
       "      <td>56.0</td>\n",
       "      <td>15168.36</td>\n",
       "      <td>63527.42</td>\n",
       "      <td>7227</td>\n",
       "      <td>1995-10-02</td>\n",
       "      <td>314520</td>\n",
       "      <td>60</td>\n",
       "      <td>5242</td>\n",
       "      <td>1</td>\n",
       "      <td>Chrudim</td>\n",
       "      <td>east Bohemia</td>\n",
       "      <td>105606</td>\n",
       "      <td>77</td>\n",
       "      <td>26</td>\n",
       "      <td>7</td>\n",
       "      <td>2</td>\n",
       "      <td>7</td>\n",
       "      <td>53.0</td>\n",
       "      <td>8254</td>\n",
       "      <td>2.79</td>\n",
       "      <td>3.76</td>\n",
       "      <td>97</td>\n",
       "      <td>2166</td>\n",
       "      <td>2325</td>\n",
       "      <td>13451</td>\n",
       "      <td>NaN</td>\n",
       "      <td>NaN</td>\n",
       "      <td>NaN</td>\n",
       "      <td>1955-11-18</td>\n",
       "      <td>F</td>\n",
       "      <td>False</td>\n",
       "    </tr>\n",
       "  </tbody>\n",
       "</table>\n",
       "</div>"
      ],
      "text/plain": [
       "   account_id  district_id         frequency        date  # trans  oper #1  \\\n",
       "0        5270           44  monthly issuance  1993-01-13     53.0      1.0   \n",
       "1        5385           44   weekly issuance  1993-05-21     56.0      3.0   \n",
       "2        8027           44   weekly issuance  1993-07-07     60.0      2.0   \n",
       "3        3037           44  monthly issuance  1994-05-26    117.0     26.0   \n",
       "4       10942           44   weekly issuance  1994-06-05    130.0     40.0   \n",
       "\n",
       "   oper #2  oper #3  oper #4  oper #5  type #1  type #2  type #3  \\\n",
       "0      0.0     11.0      0.0     31.0     28.0      3.0     22.0   \n",
       "1      0.0     10.0      6.0     27.0     32.0      1.0     23.0   \n",
       "2      0.0     10.0      0.0     38.0     33.0      5.0     22.0   \n",
       "3      0.0      0.0      0.0     71.0     70.0      1.0     46.0   \n",
       "4      0.0      0.0     12.0     62.0     72.0      2.0     56.0   \n",
       "\n",
       "   avg trans amount  avg trans balance  loan_id   loan date  loan amount  \\\n",
       "0          17600.36           69954.57     6077  1993-11-22        79608   \n",
       "1           5778.79           29069.12     6103  1994-04-07       149340   \n",
       "2          13255.80           55570.30     6642  1994-06-05        77640   \n",
       "3          10720.31           46487.00     5593  1996-04-18       277884   \n",
       "4          15168.36           63527.42     7227  1995-10-02       314520   \n",
       "\n",
       "   loan duration (mths)  loan payments  loan status district_name  \\\n",
       "0                    24           3317            1       Chrudim   \n",
       "1                    60           2489            1       Chrudim   \n",
       "2                    12           6470            1       Chrudim   \n",
       "3                    36           7719           -1       Chrudim   \n",
       "4                    60           5242            1       Chrudim   \n",
       "\n",
       "  district_region  no. of inhabitants  \\\n",
       "0    east Bohemia              105606   \n",
       "1    east Bohemia              105606   \n",
       "2    east Bohemia              105606   \n",
       "3    east Bohemia              105606   \n",
       "4    east Bohemia              105606   \n",
       "\n",
       "   no. of municipalities with inhabitants < 499   \\\n",
       "0                                             77   \n",
       "1                                             77   \n",
       "2                                             77   \n",
       "3                                             77   \n",
       "4                                             77   \n",
       "\n",
       "   no. of municipalities with inhabitants 500-1999  \\\n",
       "0                                               26   \n",
       "1                                               26   \n",
       "2                                               26   \n",
       "3                                               26   \n",
       "4                                               26   \n",
       "\n",
       "   no. of municipalities with inhabitants 2000-9999   \\\n",
       "0                                                  7   \n",
       "1                                                  7   \n",
       "2                                                  7   \n",
       "3                                                  7   \n",
       "4                                                  7   \n",
       "\n",
       "   no. of municipalities with inhabitants >10000   no. of cities   \\\n",
       "0                                               2               7   \n",
       "1                                               2               7   \n",
       "2                                               2               7   \n",
       "3                                               2               7   \n",
       "4                                               2               7   \n",
       "\n",
       "   ratio of urban inhabitants   average salary  unemploymant rate '95   \\\n",
       "0                         53.0             8254                   2.79   \n",
       "1                         53.0             8254                   2.79   \n",
       "2                         53.0             8254                   2.79   \n",
       "3                         53.0             8254                   2.79   \n",
       "4                         53.0             8254                   2.79   \n",
       "\n",
       "   unemploymant rate '96   no. of enterpreneurs per 1000 inhabitants   \\\n",
       "0                    3.76                                          97   \n",
       "1                    3.76                                          97   \n",
       "2                    3.76                                          97   \n",
       "3                    3.76                                          97   \n",
       "4                    3.76                                          97   \n",
       "\n",
       "  no. of commited crimes '95   no. of commited crimes '96   client_id  \\\n",
       "0                        2166                         2325       6367   \n",
       "1                        2166                         2325       6499   \n",
       "2                        2166                         2325       9915   \n",
       "3                        2166                         2325       3670   \n",
       "4                        2166                         2325      13451   \n",
       "\n",
       "   card_id card type issued   birthdate sex  has disponent  \n",
       "0      NaN       NaN    NaN  1970-04-28   M          False  \n",
       "1      NaN       NaN    NaN  1963-02-01   M          False  \n",
       "2      NaN       NaN    NaN  1967-07-10   M          False  \n",
       "3      NaN       NaN    NaN  1980-09-17   F          False  \n",
       "4      NaN       NaN    NaN  1955-11-18   F          False  "
      ]
     },
     "execution_count": 5,
     "metadata": {},
     "output_type": "execute_result"
    }
   ],
   "source": [
    "# NaN value is present in # operation / # type columns and represents that 0 were found. Therefore 0 is a more suitable value.\n",
    "for col in ['oper #1', 'oper #2', 'oper #3', 'oper #4', 'oper #5', 'type #1', 'type #2', 'type #3']:\n",
    "    complete[col] = complete[col].fillna(0)\n",
    "    \n",
    "complete.head()"
   ]
  },
  {
   "cell_type": "markdown",
   "metadata": {},
   "source": [
    "### 1.2.2 Deleting columns whose only purpose was to help in the join of tables (IDs) and/or are redundant"
   ]
  },
  {
   "cell_type": "code",
   "execution_count": 6,
   "metadata": {},
   "outputs": [
    {
     "name": "stdout",
     "output_type": "stream",
     "text": [
      "(328, 36)\n"
     ]
    },
    {
     "data": {
      "text/plain": [
       "Index(['frequency', 'date', '# trans', 'oper #1', 'oper #2', 'oper #3',\n",
       "       'oper #4', 'oper #5', 'type #1', 'type #2', 'type #3',\n",
       "       'avg trans amount', 'avg trans balance', 'loan_id', 'loan date',\n",
       "       'loan amount', 'loan duration (mths)', 'loan payments', 'loan status',\n",
       "       'no. of inhabitants', 'no. of municipalities with inhabitants < 499 ',\n",
       "       'no. of municipalities with inhabitants 500-1999',\n",
       "       'no. of municipalities with inhabitants 2000-9999 ',\n",
       "       'no. of municipalities with inhabitants >10000 ', 'no. of cities ',\n",
       "       'ratio of urban inhabitants ', 'average salary ',\n",
       "       'unemploymant rate '95 ', 'unemploymant rate '96 ',\n",
       "       'no. of enterpreneurs per 1000 inhabitants ',\n",
       "       'no. of commited crimes '95 ', 'no. of commited crimes '96 ',\n",
       "       'card type', 'birthdate', 'sex', 'has disponent'],\n",
       "      dtype='object')"
      ]
     },
     "execution_count": 6,
     "metadata": {},
     "output_type": "execute_result"
    }
   ],
   "source": [
    "# Removing attributes. district_name / district_region are redundant because they can be derived by the rest of the district columns\n",
    "complete = complete.drop(columns=['account_id', 'district_id', 'district_name', 'district_region', 'client_id', 'card_id'])\n",
    "\n",
    "# Doesn't seem to be useful, especially considering the very limited amount of data related to cards\n",
    "complete = complete.drop(columns=['issued'])\n",
    "\n",
    "print(complete.shape)\n",
    "complete.columns"
   ]
  },
  {
   "cell_type": "code",
   "execution_count": 7,
   "metadata": {},
   "outputs": [
    {
     "data": {
      "text/plain": [
       "Index(['frequency', 'acc date', '# trans', 'oper #1', 'oper #2', 'oper #3',\n",
       "       'oper #4', 'oper #5', 'type #1', 'type #2', 'type #3',\n",
       "       'avg trans amount', 'avg trans balance', 'loan_id', 'loan date',\n",
       "       'loan amount', 'loan duration (mths)', 'loan payments', 'loan status',\n",
       "       'no. of inhabitants', 'no. of municipalities with inhabitants < 499 ',\n",
       "       'no. of municipalities with inhabitants 500-1999',\n",
       "       'no. of municipalities with inhabitants 2000-9999 ',\n",
       "       'no. of municipalities with inhabitants >10000 ', 'no. of cities ',\n",
       "       'ratio of urban inhabitants ', 'average salary ',\n",
       "       'unemploymant rate '95 ', 'unemploymant rate '96 ',\n",
       "       'no. of enterpreneurs per 1000 inhabitants ',\n",
       "       'no. of commited crimes '95 ', 'no. of commited crimes '96 ',\n",
       "       'card type', 'birthdate', 'sex', 'has disponent'],\n",
       "      dtype='object')"
      ]
     },
     "execution_count": 7,
     "metadata": {},
     "output_type": "execute_result"
    }
   ],
   "source": [
    "complete = complete.rename(columns={'date': 'acc date'})\n",
    "complete.columns"
   ]
  },
  {
   "cell_type": "markdown",
   "metadata": {},
   "source": [
    "### 1.2.3 Account id as index"
   ]
  },
  {
   "cell_type": "code",
   "execution_count": 8,
   "metadata": {},
   "outputs": [],
   "source": [
    "complete = complete.set_index('loan_id')"
   ]
  },
  {
   "cell_type": "code",
   "execution_count": 9,
   "metadata": {},
   "outputs": [],
   "source": [
    "complete['age_at_loan'] = (pd.to_datetime(complete['loan date']) - pd.to_datetime(complete['birthdate'])).dt.total_seconds() / (365.25*24*3600)\n",
    "complete['acc_age_at_loan'] = (pd.to_datetime(complete['loan date']) - pd.to_datetime(complete['acc date'])).dt.total_seconds() / (365.25*24*3600)"
   ]
  },
  {
   "cell_type": "code",
   "execution_count": 10,
   "metadata": {},
   "outputs": [],
   "source": [
    "complete.loc[complete[\"unemploymant rate '95 \"] == '?', \"unemploymant rate '95 \"] = complete[\"unemploymant rate '96 \"]\n",
    "complete.loc[complete[\"unemploymant rate '96 \"] == '?', \"unemploymant rate '96 \"] = complete[\"unemploymant rate '95 \"]"
   ]
  },
  {
   "cell_type": "code",
   "execution_count": 11,
   "metadata": {},
   "outputs": [],
   "source": [
    "complete[\"unemploymant rate\"] = (complete[\"unemploymant rate '95 \"].astype('float') + complete[\"unemploymant rate '96 \"].astype('float')) / 2.0\n",
    "complete = complete.drop(columns=[\"unemploymant rate '95 \", \"unemploymant rate '96 \"])"
   ]
  },
  {
   "cell_type": "code",
   "execution_count": 12,
   "metadata": {},
   "outputs": [],
   "source": [
    "complete.loc[complete[\"no. of commited crimes '95 \"] == '?', \"no. of commited crimes '95 \"] = complete[\"no. of commited crimes '96 \"]\n",
    "complete.loc[complete[\"no. of commited crimes '96 \"] == '?', \"no. of commited crimes '96 \"] = complete[\"no. of commited crimes '95 \"]"
   ]
  },
  {
   "cell_type": "code",
   "execution_count": 13,
   "metadata": {},
   "outputs": [],
   "source": [
    "complete[\"no. of commited crimes per capita\"] = (complete[\"no. of commited crimes '95 \"].astype('float') + complete[\"no. of commited crimes '96 \"].astype('float')) / 2.0 / complete[\"no. of inhabitants\"]\n",
    "complete = complete.drop(columns=[\"no. of commited crimes '95 \", \"no. of commited crimes '96 \"])"
   ]
  },
  {
   "cell_type": "code",
   "execution_count": 14,
   "metadata": {},
   "outputs": [],
   "source": [
    "complete['card type'] = complete['card type'].fillna('None')"
   ]
  },
  {
   "cell_type": "code",
   "execution_count": 15,
   "metadata": {
    "scrolled": true
   },
   "outputs": [],
   "source": [
    "#complete.loc[complete['age at loan (Years)'] < 18]"
   ]
  },
  {
   "cell_type": "code",
   "execution_count": 16,
   "metadata": {},
   "outputs": [
    {
     "data": {
      "text/plain": [
       "Index(['frequency', 'acc date', '# trans', 'oper #1', 'oper #2', 'oper #3',\n",
       "       'oper #4', 'oper #5', 'type #1', 'type #2', 'type #3',\n",
       "       'avg trans amount', 'avg trans balance', 'loan date', 'loan amount',\n",
       "       'loan duration (mths)', 'loan payments', 'loan status',\n",
       "       'no. of inhabitants', 'no. of municipalities with inhabitants < 499 ',\n",
       "       'no. of municipalities with inhabitants 500-1999',\n",
       "       'no. of municipalities with inhabitants 2000-9999 ',\n",
       "       'no. of municipalities with inhabitants >10000 ', 'no. of cities ',\n",
       "       'ratio of urban inhabitants ', 'average salary ',\n",
       "       'no. of enterpreneurs per 1000 inhabitants ', 'card type', 'birthdate',\n",
       "       'sex', 'has disponent', 'age_at_loan', 'acc_age_at_loan',\n",
       "       'unemploymant rate', 'no. of commited crimes per capita'],\n",
       "      dtype='object')"
      ]
     },
     "execution_count": 16,
     "metadata": {},
     "output_type": "execute_result"
    }
   ],
   "source": [
    "complete.columns"
   ]
  },
  {
   "cell_type": "code",
   "execution_count": 17,
   "metadata": {},
   "outputs": [
    {
     "data": {
      "text/plain": [
       "(328, 35)"
      ]
     },
     "execution_count": 17,
     "metadata": {},
     "output_type": "execute_result"
    }
   ],
   "source": [
    "complete = complete[['loan status', 'frequency', 'acc date', '# trans', 'oper #1', 'oper #2', 'oper #3',\n",
    "       'oper #4', 'oper #5', 'type #1', 'type #2', 'type #3',\n",
    "       'avg trans amount', 'avg trans balance', 'loan date', 'loan amount',\n",
    "       'loan duration (mths)', 'loan payments',\n",
    "       'no. of inhabitants', 'no. of municipalities with inhabitants < 499 ',\n",
    "       'no. of municipalities with inhabitants 500-1999',\n",
    "       'no. of municipalities with inhabitants 2000-9999 ',\n",
    "       'no. of municipalities with inhabitants >10000 ', 'no. of cities ',\n",
    "       'ratio of urban inhabitants ', 'average salary ',\n",
    "       'no. of enterpreneurs per 1000 inhabitants ', 'card type', 'birthdate',\n",
    "       'sex', 'has disponent', 'age_at_loan', 'acc_age_at_loan',\n",
    "       'unemploymant rate', 'no. of commited crimes per capita']]\n",
    "complete.shape"
   ]
  },
  {
   "cell_type": "code",
   "execution_count": 18,
   "metadata": {},
   "outputs": [
    {
     "name": "stdout",
     "output_type": "stream",
     "text": [
      "<class 'pandas.core.frame.DataFrame'>\n",
      "Int64Index: 328 entries, 6077 to 6751\n",
      "Data columns (total 35 columns):\n",
      " #   Column                                             Non-Null Count  Dtype  \n",
      "---  ------                                             --------------  -----  \n",
      " 0   loan status                                        328 non-null    int64  \n",
      " 1   frequency                                          328 non-null    object \n",
      " 2   acc date                                           328 non-null    object \n",
      " 3   # trans                                            328 non-null    float64\n",
      " 4   oper #1                                            328 non-null    float64\n",
      " 5   oper #2                                            328 non-null    float64\n",
      " 6   oper #3                                            328 non-null    float64\n",
      " 7   oper #4                                            328 non-null    float64\n",
      " 8   oper #5                                            328 non-null    float64\n",
      " 9   type #1                                            328 non-null    float64\n",
      " 10  type #2                                            328 non-null    float64\n",
      " 11  type #3                                            328 non-null    float64\n",
      " 12  avg trans amount                                   328 non-null    float64\n",
      " 13  avg trans balance                                  328 non-null    float64\n",
      " 14  loan date                                          328 non-null    object \n",
      " 15  loan amount                                        328 non-null    int64  \n",
      " 16  loan duration (mths)                               328 non-null    int64  \n",
      " 17  loan payments                                      328 non-null    int64  \n",
      " 18  no. of inhabitants                                 328 non-null    int64  \n",
      " 19  no. of municipalities with inhabitants < 499       328 non-null    int64  \n",
      " 20  no. of municipalities with inhabitants 500-1999    328 non-null    int64  \n",
      " 21  no. of municipalities with inhabitants 2000-9999   328 non-null    int64  \n",
      " 22  no. of municipalities with inhabitants >10000      328 non-null    int64  \n",
      " 23  no. of cities                                      328 non-null    int64  \n",
      " 24  ratio of urban inhabitants                         328 non-null    float64\n",
      " 25  average salary                                     328 non-null    int64  \n",
      " 26  no. of enterpreneurs per 1000 inhabitants          328 non-null    int64  \n",
      " 27  card type                                          328 non-null    object \n",
      " 28  birthdate                                          328 non-null    object \n",
      " 29  sex                                                328 non-null    object \n",
      " 30  has disponent                                      328 non-null    bool   \n",
      " 31  age_at_loan                                        328 non-null    float64\n",
      " 32  acc_age_at_loan                                    328 non-null    float64\n",
      " 33  unemploymant rate                                  328 non-null    float64\n",
      " 34  no. of commited crimes per capita                  328 non-null    float64\n",
      "dtypes: bool(1), float64(16), int64(12), object(6)\n",
      "memory usage: 100.0+ KB\n"
     ]
    }
   ],
   "source": [
    "complete.info()"
   ]
  },
  {
   "cell_type": "code",
   "execution_count": 19,
   "metadata": {},
   "outputs": [
    {
     "data": {
      "text/plain": [
       "Index(['loan status', 'frequency', 'acc date', '# trans', 'oper #1', 'oper #2',\n",
       "       'oper #3', 'oper #4', 'oper #5', 'type #1', 'type #2', 'type #3',\n",
       "       'avg trans amount', 'avg trans balance', 'loan date', 'loan amount',\n",
       "       'loan duration (mths)', 'loan payments', 'no. of inhabitants',\n",
       "       'no. of municipalities with inhabitants < 499 ',\n",
       "       'no. of municipalities with inhabitants 500-1999',\n",
       "       'no. of municipalities with inhabitants 2000-9999 ',\n",
       "       'no. of municipalities with inhabitants >10000 ', 'no. of cities ',\n",
       "       'ratio of urban inhabitants ', 'average salary ',\n",
       "       'no. of enterpreneurs per 1000 inhabitants ', 'card type', 'birthdate',\n",
       "       'sex', 'has disponent', 'age_at_loan', 'acc_age_at_loan',\n",
       "       'unemploymant rate', 'no. of commited crimes per capita'],\n",
       "      dtype='object')"
      ]
     },
     "execution_count": 19,
     "metadata": {},
     "output_type": "execute_result"
    }
   ],
   "source": [
    "complete.columns"
   ]
  },
  {
   "cell_type": "code",
   "execution_count": 20,
   "metadata": {},
   "outputs": [],
   "source": [
    "for column in ['acc date', 'loan date', 'birthdate']:\n",
    "    complete[column] = pd.to_datetime(complete[column])"
   ]
  },
  {
   "cell_type": "code",
   "execution_count": 21,
   "metadata": {},
   "outputs": [],
   "source": [
    "def ordinal_encode(df, column, ordering):\n",
    "    df = df.copy()\n",
    "    df[column] = df[column].apply(lambda x : ordering.index(x))\n",
    "    return df\n",
    "\n",
    "def special_binary_encode(df, column, negative_value):\n",
    "    df = df.copy()\n",
    "    df['card_owner'] = df[column].apply(lambda x : 0 if x == negative_value else 1)\n",
    "    # df = df.drop(column, axis=1)\n",
    "    return df"
   ]
  },
  {
   "cell_type": "code",
   "execution_count": 22,
   "metadata": {},
   "outputs": [],
   "source": [
    "#complete['account_year'] = complete['acc date'].apply(lambda x : x.year)\n",
    "#complete['account_month'] = complete['acc date'].apply(lambda x : x.month)\n",
    "#complete['account_day'] = complete['acc date'].apply(lambda x : x.day)\n",
    "\n",
    "#complete['loan_year'] = complete['loan date'].apply(lambda x : x.year)\n",
    "#complete['loan_month'] = complete['loan date'].apply(lambda x : x.month)\n",
    "#complete['loan_day'] = complete['loan date'].apply(lambda x : x.day)\n",
    "\n",
    "#complete['birth_year'] = complete['birthdate'].apply(lambda x : x.year)\n",
    "#complete['birth_month'] = complete['birthdate'].apply(lambda x : x.month)\n",
    "#complete['birth_day'] = complete['birthdate'].apply(lambda x : x.day)\n",
    "\n",
    "#complete = complete.drop(['acc date', 'loan date', 'birthdate'], axis=1)"
   ]
  },
  {
   "cell_type": "code",
   "execution_count": 23,
   "metadata": {},
   "outputs": [],
   "source": [
    "#freq_ordering = [\n",
    "#    'monthly issuance',\n",
    "#    'weekly issuance',\n",
    "#    'issuance after transaction'\n",
    "#]\n",
    "#complete = ordinal_encode(complete, 'frequency', ordering=freq_ordering)\n",
    "\n",
    "complete = pd.get_dummies(complete, columns=['frequency'])\n",
    "\n",
    "complete = special_binary_encode(complete, 'card type', negative_value='None')\n",
    "\n",
    "complete = pd.get_dummies(complete, columns=['card type'])"
   ]
  },
  {
   "cell_type": "markdown",
   "metadata": {},
   "source": [
    "## 1.3 Complete ('joined') data"
   ]
  },
  {
   "cell_type": "code",
   "execution_count": 24,
   "metadata": {},
   "outputs": [
    {
     "data": {
      "text/html": [
       "<div>\n",
       "<style scoped>\n",
       "    .dataframe tbody tr th:only-of-type {\n",
       "        vertical-align: middle;\n",
       "    }\n",
       "\n",
       "    .dataframe tbody tr th {\n",
       "        vertical-align: top;\n",
       "    }\n",
       "\n",
       "    .dataframe thead th {\n",
       "        text-align: right;\n",
       "    }\n",
       "</style>\n",
       "<table border=\"1\" class=\"dataframe\">\n",
       "  <thead>\n",
       "    <tr style=\"text-align: right;\">\n",
       "      <th></th>\n",
       "      <th>loan status</th>\n",
       "      <th>acc date</th>\n",
       "      <th># trans</th>\n",
       "      <th>oper #1</th>\n",
       "      <th>oper #2</th>\n",
       "      <th>oper #3</th>\n",
       "      <th>oper #4</th>\n",
       "      <th>oper #5</th>\n",
       "      <th>type #1</th>\n",
       "      <th>type #2</th>\n",
       "      <th>type #3</th>\n",
       "      <th>avg trans amount</th>\n",
       "      <th>avg trans balance</th>\n",
       "      <th>loan date</th>\n",
       "      <th>loan amount</th>\n",
       "      <th>loan duration (mths)</th>\n",
       "      <th>loan payments</th>\n",
       "      <th>no. of inhabitants</th>\n",
       "      <th>no. of municipalities with inhabitants &lt; 499</th>\n",
       "      <th>no. of municipalities with inhabitants 500-1999</th>\n",
       "      <th>no. of municipalities with inhabitants 2000-9999</th>\n",
       "      <th>no. of municipalities with inhabitants &gt;10000</th>\n",
       "      <th>no. of cities</th>\n",
       "      <th>ratio of urban inhabitants</th>\n",
       "      <th>average salary</th>\n",
       "      <th>no. of enterpreneurs per 1000 inhabitants</th>\n",
       "      <th>birthdate</th>\n",
       "      <th>sex</th>\n",
       "      <th>has disponent</th>\n",
       "      <th>age_at_loan</th>\n",
       "      <th>acc_age_at_loan</th>\n",
       "      <th>unemploymant rate</th>\n",
       "      <th>no. of commited crimes per capita</th>\n",
       "      <th>frequency_issuance after transaction</th>\n",
       "      <th>frequency_monthly issuance</th>\n",
       "      <th>frequency_weekly issuance</th>\n",
       "      <th>card_owner</th>\n",
       "      <th>card type_None</th>\n",
       "      <th>card type_classic</th>\n",
       "      <th>card type_gold</th>\n",
       "      <th>card type_junior</th>\n",
       "    </tr>\n",
       "    <tr>\n",
       "      <th>loan_id</th>\n",
       "      <th></th>\n",
       "      <th></th>\n",
       "      <th></th>\n",
       "      <th></th>\n",
       "      <th></th>\n",
       "      <th></th>\n",
       "      <th></th>\n",
       "      <th></th>\n",
       "      <th></th>\n",
       "      <th></th>\n",
       "      <th></th>\n",
       "      <th></th>\n",
       "      <th></th>\n",
       "      <th></th>\n",
       "      <th></th>\n",
       "      <th></th>\n",
       "      <th></th>\n",
       "      <th></th>\n",
       "      <th></th>\n",
       "      <th></th>\n",
       "      <th></th>\n",
       "      <th></th>\n",
       "      <th></th>\n",
       "      <th></th>\n",
       "      <th></th>\n",
       "      <th></th>\n",
       "      <th></th>\n",
       "      <th></th>\n",
       "      <th></th>\n",
       "      <th></th>\n",
       "      <th></th>\n",
       "      <th></th>\n",
       "      <th></th>\n",
       "      <th></th>\n",
       "      <th></th>\n",
       "      <th></th>\n",
       "      <th></th>\n",
       "      <th></th>\n",
       "      <th></th>\n",
       "      <th></th>\n",
       "      <th></th>\n",
       "    </tr>\n",
       "  </thead>\n",
       "  <tbody>\n",
       "    <tr>\n",
       "      <th>6077</th>\n",
       "      <td>1</td>\n",
       "      <td>1993-01-13</td>\n",
       "      <td>53.0</td>\n",
       "      <td>1.0</td>\n",
       "      <td>0.0</td>\n",
       "      <td>11.0</td>\n",
       "      <td>0.0</td>\n",
       "      <td>31.0</td>\n",
       "      <td>28.0</td>\n",
       "      <td>3.0</td>\n",
       "      <td>22.0</td>\n",
       "      <td>17600.36</td>\n",
       "      <td>69954.57</td>\n",
       "      <td>1993-11-22</td>\n",
       "      <td>79608</td>\n",
       "      <td>24</td>\n",
       "      <td>3317</td>\n",
       "      <td>105606</td>\n",
       "      <td>77</td>\n",
       "      <td>26</td>\n",
       "      <td>7</td>\n",
       "      <td>2</td>\n",
       "      <td>7</td>\n",
       "      <td>53.0</td>\n",
       "      <td>8254</td>\n",
       "      <td>97</td>\n",
       "      <td>1970-04-28</td>\n",
       "      <td>M</td>\n",
       "      <td>False</td>\n",
       "      <td>23.570157</td>\n",
       "      <td>0.856947</td>\n",
       "      <td>3.275</td>\n",
       "      <td>0.021263</td>\n",
       "      <td>0</td>\n",
       "      <td>1</td>\n",
       "      <td>0</td>\n",
       "      <td>0</td>\n",
       "      <td>1</td>\n",
       "      <td>0</td>\n",
       "      <td>0</td>\n",
       "      <td>0</td>\n",
       "    </tr>\n",
       "    <tr>\n",
       "      <th>6103</th>\n",
       "      <td>1</td>\n",
       "      <td>1993-05-21</td>\n",
       "      <td>56.0</td>\n",
       "      <td>3.0</td>\n",
       "      <td>0.0</td>\n",
       "      <td>10.0</td>\n",
       "      <td>6.0</td>\n",
       "      <td>27.0</td>\n",
       "      <td>32.0</td>\n",
       "      <td>1.0</td>\n",
       "      <td>23.0</td>\n",
       "      <td>5778.79</td>\n",
       "      <td>29069.12</td>\n",
       "      <td>1994-04-07</td>\n",
       "      <td>149340</td>\n",
       "      <td>60</td>\n",
       "      <td>2489</td>\n",
       "      <td>105606</td>\n",
       "      <td>77</td>\n",
       "      <td>26</td>\n",
       "      <td>7</td>\n",
       "      <td>2</td>\n",
       "      <td>7</td>\n",
       "      <td>53.0</td>\n",
       "      <td>8254</td>\n",
       "      <td>97</td>\n",
       "      <td>1963-02-01</td>\n",
       "      <td>M</td>\n",
       "      <td>False</td>\n",
       "      <td>31.178645</td>\n",
       "      <td>0.878850</td>\n",
       "      <td>3.275</td>\n",
       "      <td>0.021263</td>\n",
       "      <td>0</td>\n",
       "      <td>0</td>\n",
       "      <td>1</td>\n",
       "      <td>0</td>\n",
       "      <td>1</td>\n",
       "      <td>0</td>\n",
       "      <td>0</td>\n",
       "      <td>0</td>\n",
       "    </tr>\n",
       "    <tr>\n",
       "      <th>6642</th>\n",
       "      <td>1</td>\n",
       "      <td>1993-07-07</td>\n",
       "      <td>60.0</td>\n",
       "      <td>2.0</td>\n",
       "      <td>0.0</td>\n",
       "      <td>10.0</td>\n",
       "      <td>0.0</td>\n",
       "      <td>38.0</td>\n",
       "      <td>33.0</td>\n",
       "      <td>5.0</td>\n",
       "      <td>22.0</td>\n",
       "      <td>13255.80</td>\n",
       "      <td>55570.30</td>\n",
       "      <td>1994-06-05</td>\n",
       "      <td>77640</td>\n",
       "      <td>12</td>\n",
       "      <td>6470</td>\n",
       "      <td>105606</td>\n",
       "      <td>77</td>\n",
       "      <td>26</td>\n",
       "      <td>7</td>\n",
       "      <td>2</td>\n",
       "      <td>7</td>\n",
       "      <td>53.0</td>\n",
       "      <td>8254</td>\n",
       "      <td>97</td>\n",
       "      <td>1967-07-10</td>\n",
       "      <td>M</td>\n",
       "      <td>False</td>\n",
       "      <td>26.904860</td>\n",
       "      <td>0.911704</td>\n",
       "      <td>3.275</td>\n",
       "      <td>0.021263</td>\n",
       "      <td>0</td>\n",
       "      <td>0</td>\n",
       "      <td>1</td>\n",
       "      <td>0</td>\n",
       "      <td>1</td>\n",
       "      <td>0</td>\n",
       "      <td>0</td>\n",
       "      <td>0</td>\n",
       "    </tr>\n",
       "    <tr>\n",
       "      <th>5593</th>\n",
       "      <td>-1</td>\n",
       "      <td>1994-05-26</td>\n",
       "      <td>117.0</td>\n",
       "      <td>26.0</td>\n",
       "      <td>0.0</td>\n",
       "      <td>0.0</td>\n",
       "      <td>0.0</td>\n",
       "      <td>71.0</td>\n",
       "      <td>70.0</td>\n",
       "      <td>1.0</td>\n",
       "      <td>46.0</td>\n",
       "      <td>10720.31</td>\n",
       "      <td>46487.00</td>\n",
       "      <td>1996-04-18</td>\n",
       "      <td>277884</td>\n",
       "      <td>36</td>\n",
       "      <td>7719</td>\n",
       "      <td>105606</td>\n",
       "      <td>77</td>\n",
       "      <td>26</td>\n",
       "      <td>7</td>\n",
       "      <td>2</td>\n",
       "      <td>7</td>\n",
       "      <td>53.0</td>\n",
       "      <td>8254</td>\n",
       "      <td>97</td>\n",
       "      <td>1980-09-17</td>\n",
       "      <td>F</td>\n",
       "      <td>False</td>\n",
       "      <td>15.583847</td>\n",
       "      <td>1.897331</td>\n",
       "      <td>3.275</td>\n",
       "      <td>0.021263</td>\n",
       "      <td>0</td>\n",
       "      <td>1</td>\n",
       "      <td>0</td>\n",
       "      <td>0</td>\n",
       "      <td>1</td>\n",
       "      <td>0</td>\n",
       "      <td>0</td>\n",
       "      <td>0</td>\n",
       "    </tr>\n",
       "    <tr>\n",
       "      <th>7227</th>\n",
       "      <td>1</td>\n",
       "      <td>1994-06-05</td>\n",
       "      <td>130.0</td>\n",
       "      <td>40.0</td>\n",
       "      <td>0.0</td>\n",
       "      <td>0.0</td>\n",
       "      <td>12.0</td>\n",
       "      <td>62.0</td>\n",
       "      <td>72.0</td>\n",
       "      <td>2.0</td>\n",
       "      <td>56.0</td>\n",
       "      <td>15168.36</td>\n",
       "      <td>63527.42</td>\n",
       "      <td>1995-10-02</td>\n",
       "      <td>314520</td>\n",
       "      <td>60</td>\n",
       "      <td>5242</td>\n",
       "      <td>105606</td>\n",
       "      <td>77</td>\n",
       "      <td>26</td>\n",
       "      <td>7</td>\n",
       "      <td>2</td>\n",
       "      <td>7</td>\n",
       "      <td>53.0</td>\n",
       "      <td>8254</td>\n",
       "      <td>97</td>\n",
       "      <td>1955-11-18</td>\n",
       "      <td>F</td>\n",
       "      <td>False</td>\n",
       "      <td>39.871321</td>\n",
       "      <td>1.325120</td>\n",
       "      <td>3.275</td>\n",
       "      <td>0.021263</td>\n",
       "      <td>0</td>\n",
       "      <td>0</td>\n",
       "      <td>1</td>\n",
       "      <td>0</td>\n",
       "      <td>1</td>\n",
       "      <td>0</td>\n",
       "      <td>0</td>\n",
       "      <td>0</td>\n",
       "    </tr>\n",
       "    <tr>\n",
       "      <th>...</th>\n",
       "      <td>...</td>\n",
       "      <td>...</td>\n",
       "      <td>...</td>\n",
       "      <td>...</td>\n",
       "      <td>...</td>\n",
       "      <td>...</td>\n",
       "      <td>...</td>\n",
       "      <td>...</td>\n",
       "      <td>...</td>\n",
       "      <td>...</td>\n",
       "      <td>...</td>\n",
       "      <td>...</td>\n",
       "      <td>...</td>\n",
       "      <td>...</td>\n",
       "      <td>...</td>\n",
       "      <td>...</td>\n",
       "      <td>...</td>\n",
       "      <td>...</td>\n",
       "      <td>...</td>\n",
       "      <td>...</td>\n",
       "      <td>...</td>\n",
       "      <td>...</td>\n",
       "      <td>...</td>\n",
       "      <td>...</td>\n",
       "      <td>...</td>\n",
       "      <td>...</td>\n",
       "      <td>...</td>\n",
       "      <td>...</td>\n",
       "      <td>...</td>\n",
       "      <td>...</td>\n",
       "      <td>...</td>\n",
       "      <td>...</td>\n",
       "      <td>...</td>\n",
       "      <td>...</td>\n",
       "      <td>...</td>\n",
       "      <td>...</td>\n",
       "      <td>...</td>\n",
       "      <td>...</td>\n",
       "      <td>...</td>\n",
       "      <td>...</td>\n",
       "      <td>...</td>\n",
       "    </tr>\n",
       "    <tr>\n",
       "      <th>5892</th>\n",
       "      <td>-1</td>\n",
       "      <td>1995-12-27</td>\n",
       "      <td>10.0</td>\n",
       "      <td>4.0</td>\n",
       "      <td>0.0</td>\n",
       "      <td>0.0</td>\n",
       "      <td>0.0</td>\n",
       "      <td>3.0</td>\n",
       "      <td>3.0</td>\n",
       "      <td>0.0</td>\n",
       "      <td>7.0</td>\n",
       "      <td>13609.12</td>\n",
       "      <td>34798.28</td>\n",
       "      <td>1996-05-14</td>\n",
       "      <td>66480</td>\n",
       "      <td>24</td>\n",
       "      <td>2770</td>\n",
       "      <td>182027</td>\n",
       "      <td>17</td>\n",
       "      <td>49</td>\n",
       "      <td>12</td>\n",
       "      <td>2</td>\n",
       "      <td>7</td>\n",
       "      <td>56.4</td>\n",
       "      <td>8746</td>\n",
       "      <td>90</td>\n",
       "      <td>1935-07-21</td>\n",
       "      <td>M</td>\n",
       "      <td>False</td>\n",
       "      <td>60.815880</td>\n",
       "      <td>0.380561</td>\n",
       "      <td>3.535</td>\n",
       "      <td>0.024139</td>\n",
       "      <td>0</td>\n",
       "      <td>0</td>\n",
       "      <td>1</td>\n",
       "      <td>0</td>\n",
       "      <td>1</td>\n",
       "      <td>0</td>\n",
       "      <td>0</td>\n",
       "      <td>0</td>\n",
       "    </tr>\n",
       "    <tr>\n",
       "      <th>6015</th>\n",
       "      <td>1</td>\n",
       "      <td>1995-12-15</td>\n",
       "      <td>82.0</td>\n",
       "      <td>27.0</td>\n",
       "      <td>0.0</td>\n",
       "      <td>0.0</td>\n",
       "      <td>6.0</td>\n",
       "      <td>39.0</td>\n",
       "      <td>41.0</td>\n",
       "      <td>4.0</td>\n",
       "      <td>37.0</td>\n",
       "      <td>17234.72</td>\n",
       "      <td>76232.70</td>\n",
       "      <td>1996-11-09</td>\n",
       "      <td>110112</td>\n",
       "      <td>24</td>\n",
       "      <td>4588</td>\n",
       "      <td>107911</td>\n",
       "      <td>88</td>\n",
       "      <td>33</td>\n",
       "      <td>6</td>\n",
       "      <td>2</td>\n",
       "      <td>7</td>\n",
       "      <td>50.9</td>\n",
       "      <td>8240</td>\n",
       "      <td>99</td>\n",
       "      <td>1963-10-12</td>\n",
       "      <td>M</td>\n",
       "      <td>False</td>\n",
       "      <td>33.078713</td>\n",
       "      <td>0.903491</td>\n",
       "      <td>3.045</td>\n",
       "      <td>0.017389</td>\n",
       "      <td>0</td>\n",
       "      <td>1</td>\n",
       "      <td>0</td>\n",
       "      <td>0</td>\n",
       "      <td>1</td>\n",
       "      <td>0</td>\n",
       "      <td>0</td>\n",
       "      <td>0</td>\n",
       "    </tr>\n",
       "    <tr>\n",
       "      <th>5606</th>\n",
       "      <td>-1</td>\n",
       "      <td>1996-01-28</td>\n",
       "      <td>29.0</td>\n",
       "      <td>8.0</td>\n",
       "      <td>0.0</td>\n",
       "      <td>0.0</td>\n",
       "      <td>0.0</td>\n",
       "      <td>15.0</td>\n",
       "      <td>13.0</td>\n",
       "      <td>2.0</td>\n",
       "      <td>14.0</td>\n",
       "      <td>11379.26</td>\n",
       "      <td>37095.84</td>\n",
       "      <td>1996-08-28</td>\n",
       "      <td>253512</td>\n",
       "      <td>36</td>\n",
       "      <td>7042</td>\n",
       "      <td>108871</td>\n",
       "      <td>41</td>\n",
       "      <td>29</td>\n",
       "      <td>7</td>\n",
       "      <td>2</td>\n",
       "      <td>6</td>\n",
       "      <td>62.1</td>\n",
       "      <td>8444</td>\n",
       "      <td>106</td>\n",
       "      <td>1945-08-07</td>\n",
       "      <td>F</td>\n",
       "      <td>False</td>\n",
       "      <td>51.058179</td>\n",
       "      <td>0.583162</td>\n",
       "      <td>3.355</td>\n",
       "      <td>0.022504</td>\n",
       "      <td>0</td>\n",
       "      <td>0</td>\n",
       "      <td>1</td>\n",
       "      <td>0</td>\n",
       "      <td>1</td>\n",
       "      <td>0</td>\n",
       "      <td>0</td>\n",
       "      <td>0</td>\n",
       "    </tr>\n",
       "    <tr>\n",
       "      <th>7246</th>\n",
       "      <td>1</td>\n",
       "      <td>1996-02-01</td>\n",
       "      <td>31.0</td>\n",
       "      <td>3.0</td>\n",
       "      <td>0.0</td>\n",
       "      <td>7.0</td>\n",
       "      <td>3.0</td>\n",
       "      <td>12.0</td>\n",
       "      <td>14.0</td>\n",
       "      <td>1.0</td>\n",
       "      <td>16.0</td>\n",
       "      <td>7832.08</td>\n",
       "      <td>32435.32</td>\n",
       "      <td>1996-08-20</td>\n",
       "      <td>148920</td>\n",
       "      <td>60</td>\n",
       "      <td>2482</td>\n",
       "      <td>108871</td>\n",
       "      <td>41</td>\n",
       "      <td>29</td>\n",
       "      <td>7</td>\n",
       "      <td>2</td>\n",
       "      <td>6</td>\n",
       "      <td>62.1</td>\n",
       "      <td>8444</td>\n",
       "      <td>106</td>\n",
       "      <td>1977-08-03</td>\n",
       "      <td>M</td>\n",
       "      <td>False</td>\n",
       "      <td>19.047228</td>\n",
       "      <td>0.550308</td>\n",
       "      <td>3.355</td>\n",
       "      <td>0.022504</td>\n",
       "      <td>0</td>\n",
       "      <td>0</td>\n",
       "      <td>1</td>\n",
       "      <td>0</td>\n",
       "      <td>1</td>\n",
       "      <td>0</td>\n",
       "      <td>0</td>\n",
       "      <td>0</td>\n",
       "    </tr>\n",
       "    <tr>\n",
       "      <th>6751</th>\n",
       "      <td>1</td>\n",
       "      <td>1996-02-12</td>\n",
       "      <td>19.0</td>\n",
       "      <td>2.0</td>\n",
       "      <td>0.0</td>\n",
       "      <td>5.0</td>\n",
       "      <td>0.0</td>\n",
       "      <td>4.0</td>\n",
       "      <td>4.0</td>\n",
       "      <td>0.0</td>\n",
       "      <td>15.0</td>\n",
       "      <td>7206.16</td>\n",
       "      <td>31337.26</td>\n",
       "      <td>1996-07-14</td>\n",
       "      <td>85716</td>\n",
       "      <td>36</td>\n",
       "      <td>2381</td>\n",
       "      <td>74062</td>\n",
       "      <td>99</td>\n",
       "      <td>15</td>\n",
       "      <td>4</td>\n",
       "      <td>2</td>\n",
       "      <td>7</td>\n",
       "      <td>61.4</td>\n",
       "      <td>8114</td>\n",
       "      <td>119</td>\n",
       "      <td>1938-05-03</td>\n",
       "      <td>M</td>\n",
       "      <td>True</td>\n",
       "      <td>58.198494</td>\n",
       "      <td>0.418891</td>\n",
       "      <td>2.500</td>\n",
       "      <td>0.014744</td>\n",
       "      <td>0</td>\n",
       "      <td>1</td>\n",
       "      <td>0</td>\n",
       "      <td>0</td>\n",
       "      <td>1</td>\n",
       "      <td>0</td>\n",
       "      <td>0</td>\n",
       "      <td>0</td>\n",
       "    </tr>\n",
       "  </tbody>\n",
       "</table>\n",
       "<p>328 rows × 41 columns</p>\n",
       "</div>"
      ],
      "text/plain": [
       "         loan status   acc date  # trans  oper #1  oper #2  oper #3  oper #4  \\\n",
       "loan_id                                                                        \n",
       "6077               1 1993-01-13     53.0      1.0      0.0     11.0      0.0   \n",
       "6103               1 1993-05-21     56.0      3.0      0.0     10.0      6.0   \n",
       "6642               1 1993-07-07     60.0      2.0      0.0     10.0      0.0   \n",
       "5593              -1 1994-05-26    117.0     26.0      0.0      0.0      0.0   \n",
       "7227               1 1994-06-05    130.0     40.0      0.0      0.0     12.0   \n",
       "...              ...        ...      ...      ...      ...      ...      ...   \n",
       "5892              -1 1995-12-27     10.0      4.0      0.0      0.0      0.0   \n",
       "6015               1 1995-12-15     82.0     27.0      0.0      0.0      6.0   \n",
       "5606              -1 1996-01-28     29.0      8.0      0.0      0.0      0.0   \n",
       "7246               1 1996-02-01     31.0      3.0      0.0      7.0      3.0   \n",
       "6751               1 1996-02-12     19.0      2.0      0.0      5.0      0.0   \n",
       "\n",
       "         oper #5  type #1  type #2  type #3  avg trans amount  \\\n",
       "loan_id                                                         \n",
       "6077        31.0     28.0      3.0     22.0          17600.36   \n",
       "6103        27.0     32.0      1.0     23.0           5778.79   \n",
       "6642        38.0     33.0      5.0     22.0          13255.80   \n",
       "5593        71.0     70.0      1.0     46.0          10720.31   \n",
       "7227        62.0     72.0      2.0     56.0          15168.36   \n",
       "...          ...      ...      ...      ...               ...   \n",
       "5892         3.0      3.0      0.0      7.0          13609.12   \n",
       "6015        39.0     41.0      4.0     37.0          17234.72   \n",
       "5606        15.0     13.0      2.0     14.0          11379.26   \n",
       "7246        12.0     14.0      1.0     16.0           7832.08   \n",
       "6751         4.0      4.0      0.0     15.0           7206.16   \n",
       "\n",
       "         avg trans balance  loan date  loan amount  loan duration (mths)  \\\n",
       "loan_id                                                                    \n",
       "6077              69954.57 1993-11-22        79608                    24   \n",
       "6103              29069.12 1994-04-07       149340                    60   \n",
       "6642              55570.30 1994-06-05        77640                    12   \n",
       "5593              46487.00 1996-04-18       277884                    36   \n",
       "7227              63527.42 1995-10-02       314520                    60   \n",
       "...                    ...        ...          ...                   ...   \n",
       "5892              34798.28 1996-05-14        66480                    24   \n",
       "6015              76232.70 1996-11-09       110112                    24   \n",
       "5606              37095.84 1996-08-28       253512                    36   \n",
       "7246              32435.32 1996-08-20       148920                    60   \n",
       "6751              31337.26 1996-07-14        85716                    36   \n",
       "\n",
       "         loan payments  no. of inhabitants  \\\n",
       "loan_id                                      \n",
       "6077              3317              105606   \n",
       "6103              2489              105606   \n",
       "6642              6470              105606   \n",
       "5593              7719              105606   \n",
       "7227              5242              105606   \n",
       "...                ...                 ...   \n",
       "5892              2770              182027   \n",
       "6015              4588              107911   \n",
       "5606              7042              108871   \n",
       "7246              2482              108871   \n",
       "6751              2381               74062   \n",
       "\n",
       "         no. of municipalities with inhabitants < 499   \\\n",
       "loan_id                                                  \n",
       "6077                                                77   \n",
       "6103                                                77   \n",
       "6642                                                77   \n",
       "5593                                                77   \n",
       "7227                                                77   \n",
       "...                                                ...   \n",
       "5892                                                17   \n",
       "6015                                                88   \n",
       "5606                                                41   \n",
       "7246                                                41   \n",
       "6751                                                99   \n",
       "\n",
       "         no. of municipalities with inhabitants 500-1999  \\\n",
       "loan_id                                                    \n",
       "6077                                                  26   \n",
       "6103                                                  26   \n",
       "6642                                                  26   \n",
       "5593                                                  26   \n",
       "7227                                                  26   \n",
       "...                                                  ...   \n",
       "5892                                                  49   \n",
       "6015                                                  33   \n",
       "5606                                                  29   \n",
       "7246                                                  29   \n",
       "6751                                                  15   \n",
       "\n",
       "         no. of municipalities with inhabitants 2000-9999   \\\n",
       "loan_id                                                      \n",
       "6077                                                     7   \n",
       "6103                                                     7   \n",
       "6642                                                     7   \n",
       "5593                                                     7   \n",
       "7227                                                     7   \n",
       "...                                                    ...   \n",
       "5892                                                    12   \n",
       "6015                                                     6   \n",
       "5606                                                     7   \n",
       "7246                                                     7   \n",
       "6751                                                     4   \n",
       "\n",
       "         no. of municipalities with inhabitants >10000   no. of cities   \\\n",
       "loan_id                                                                   \n",
       "6077                                                  2               7   \n",
       "6103                                                  2               7   \n",
       "6642                                                  2               7   \n",
       "5593                                                  2               7   \n",
       "7227                                                  2               7   \n",
       "...                                                 ...             ...   \n",
       "5892                                                  2               7   \n",
       "6015                                                  2               7   \n",
       "5606                                                  2               6   \n",
       "7246                                                  2               6   \n",
       "6751                                                  2               7   \n",
       "\n",
       "         ratio of urban inhabitants   average salary   \\\n",
       "loan_id                                                 \n",
       "6077                            53.0             8254   \n",
       "6103                            53.0             8254   \n",
       "6642                            53.0             8254   \n",
       "5593                            53.0             8254   \n",
       "7227                            53.0             8254   \n",
       "...                              ...              ...   \n",
       "5892                            56.4             8746   \n",
       "6015                            50.9             8240   \n",
       "5606                            62.1             8444   \n",
       "7246                            62.1             8444   \n",
       "6751                            61.4             8114   \n",
       "\n",
       "         no. of enterpreneurs per 1000 inhabitants   birthdate sex  \\\n",
       "loan_id                                                              \n",
       "6077                                             97 1970-04-28   M   \n",
       "6103                                             97 1963-02-01   M   \n",
       "6642                                             97 1967-07-10   M   \n",
       "5593                                             97 1980-09-17   F   \n",
       "7227                                             97 1955-11-18   F   \n",
       "...                                             ...        ...  ..   \n",
       "5892                                             90 1935-07-21   M   \n",
       "6015                                             99 1963-10-12   M   \n",
       "5606                                            106 1945-08-07   F   \n",
       "7246                                            106 1977-08-03   M   \n",
       "6751                                            119 1938-05-03   M   \n",
       "\n",
       "         has disponent  age_at_loan  acc_age_at_loan  unemploymant rate  \\\n",
       "loan_id                                                                   \n",
       "6077             False    23.570157         0.856947              3.275   \n",
       "6103             False    31.178645         0.878850              3.275   \n",
       "6642             False    26.904860         0.911704              3.275   \n",
       "5593             False    15.583847         1.897331              3.275   \n",
       "7227             False    39.871321         1.325120              3.275   \n",
       "...                ...          ...              ...                ...   \n",
       "5892             False    60.815880         0.380561              3.535   \n",
       "6015             False    33.078713         0.903491              3.045   \n",
       "5606             False    51.058179         0.583162              3.355   \n",
       "7246             False    19.047228         0.550308              3.355   \n",
       "6751              True    58.198494         0.418891              2.500   \n",
       "\n",
       "         no. of commited crimes per capita  \\\n",
       "loan_id                                      \n",
       "6077                              0.021263   \n",
       "6103                              0.021263   \n",
       "6642                              0.021263   \n",
       "5593                              0.021263   \n",
       "7227                              0.021263   \n",
       "...                                    ...   \n",
       "5892                              0.024139   \n",
       "6015                              0.017389   \n",
       "5606                              0.022504   \n",
       "7246                              0.022504   \n",
       "6751                              0.014744   \n",
       "\n",
       "         frequency_issuance after transaction  frequency_monthly issuance  \\\n",
       "loan_id                                                                     \n",
       "6077                                        0                           1   \n",
       "6103                                        0                           0   \n",
       "6642                                        0                           0   \n",
       "5593                                        0                           1   \n",
       "7227                                        0                           0   \n",
       "...                                       ...                         ...   \n",
       "5892                                        0                           0   \n",
       "6015                                        0                           1   \n",
       "5606                                        0                           0   \n",
       "7246                                        0                           0   \n",
       "6751                                        0                           1   \n",
       "\n",
       "         frequency_weekly issuance  card_owner  card type_None  \\\n",
       "loan_id                                                          \n",
       "6077                             0           0               1   \n",
       "6103                             1           0               1   \n",
       "6642                             1           0               1   \n",
       "5593                             0           0               1   \n",
       "7227                             1           0               1   \n",
       "...                            ...         ...             ...   \n",
       "5892                             1           0               1   \n",
       "6015                             0           0               1   \n",
       "5606                             1           0               1   \n",
       "7246                             1           0               1   \n",
       "6751                             0           0               1   \n",
       "\n",
       "         card type_classic  card type_gold  card type_junior  \n",
       "loan_id                                                       \n",
       "6077                     0               0                 0  \n",
       "6103                     0               0                 0  \n",
       "6642                     0               0                 0  \n",
       "5593                     0               0                 0  \n",
       "7227                     0               0                 0  \n",
       "...                    ...             ...               ...  \n",
       "5892                     0               0                 0  \n",
       "6015                     0               0                 0  \n",
       "5606                     0               0                 0  \n",
       "7246                     0               0                 0  \n",
       "6751                     0               0                 0  \n",
       "\n",
       "[328 rows x 41 columns]"
      ]
     },
     "execution_count": 24,
     "metadata": {},
     "output_type": "execute_result"
    }
   ],
   "source": [
    "complete"
   ]
  },
  {
   "cell_type": "markdown",
   "metadata": {},
   "source": [
    "### 1.3.1 Exporting to csv"
   ]
  },
  {
   "cell_type": "code",
   "execution_count": 25,
   "metadata": {},
   "outputs": [],
   "source": [
    "complete.to_csv(\"./last_dev_complete_data_2.csv\", sep=\";\")\n",
    "#complete.to_csv(\"./last_comp_complete_data.csv\", sep=\";\")"
   ]
  },
  {
   "cell_type": "markdown",
   "metadata": {},
   "source": [
    "## 1.4 Data Analysis"
   ]
  },
  {
   "cell_type": "markdown",
   "metadata": {},
   "source": [
    "### 1.4.1 Frequency - Nominal Categorical Attribute"
   ]
  },
  {
   "cell_type": "code",
   "execution_count": 26,
   "metadata": {},
   "outputs": [
    {
     "ename": "KeyError",
     "evalue": "'frequency'",
     "output_type": "error",
     "traceback": [
      "\u001b[1;31m---------------------------------------------------------------------------\u001b[0m",
      "\u001b[1;31mKeyError\u001b[0m                                  Traceback (most recent call last)",
      "\u001b[1;32mC:\\ProgramData\\Anaconda3\\lib\\site-packages\\pandas\\core\\indexes\\base.py\u001b[0m in \u001b[0;36mget_loc\u001b[1;34m(self, key, method, tolerance)\u001b[0m\n\u001b[0;32m   2894\u001b[0m             \u001b[1;32mtry\u001b[0m\u001b[1;33m:\u001b[0m\u001b[1;33m\u001b[0m\u001b[1;33m\u001b[0m\u001b[0m\n\u001b[1;32m-> 2895\u001b[1;33m                 \u001b[1;32mreturn\u001b[0m \u001b[0mself\u001b[0m\u001b[1;33m.\u001b[0m\u001b[0m_engine\u001b[0m\u001b[1;33m.\u001b[0m\u001b[0mget_loc\u001b[0m\u001b[1;33m(\u001b[0m\u001b[0mcasted_key\u001b[0m\u001b[1;33m)\u001b[0m\u001b[1;33m\u001b[0m\u001b[1;33m\u001b[0m\u001b[0m\n\u001b[0m\u001b[0;32m   2896\u001b[0m             \u001b[1;32mexcept\u001b[0m \u001b[0mKeyError\u001b[0m \u001b[1;32mas\u001b[0m \u001b[0merr\u001b[0m\u001b[1;33m:\u001b[0m\u001b[1;33m\u001b[0m\u001b[1;33m\u001b[0m\u001b[0m\n",
      "\u001b[1;32mpandas\\_libs\\index.pyx\u001b[0m in \u001b[0;36mpandas._libs.index.IndexEngine.get_loc\u001b[1;34m()\u001b[0m\n",
      "\u001b[1;32mpandas\\_libs\\index.pyx\u001b[0m in \u001b[0;36mpandas._libs.index.IndexEngine.get_loc\u001b[1;34m()\u001b[0m\n",
      "\u001b[1;32mpandas\\_libs\\hashtable_class_helper.pxi\u001b[0m in \u001b[0;36mpandas._libs.hashtable.PyObjectHashTable.get_item\u001b[1;34m()\u001b[0m\n",
      "\u001b[1;32mpandas\\_libs\\hashtable_class_helper.pxi\u001b[0m in \u001b[0;36mpandas._libs.hashtable.PyObjectHashTable.get_item\u001b[1;34m()\u001b[0m\n",
      "\u001b[1;31mKeyError\u001b[0m: 'frequency'",
      "\nThe above exception was the direct cause of the following exception:\n",
      "\u001b[1;31mKeyError\u001b[0m                                  Traceback (most recent call last)",
      "\u001b[1;32m<ipython-input-26-059ea21e869f>\u001b[0m in \u001b[0;36m<module>\u001b[1;34m\u001b[0m\n\u001b[1;32m----> 1\u001b[1;33m \u001b[0mcomplete\u001b[0m\u001b[1;33m[\u001b[0m\u001b[1;34m'frequency'\u001b[0m\u001b[1;33m]\u001b[0m\u001b[1;33m.\u001b[0m\u001b[0mdescribe\u001b[0m\u001b[1;33m(\u001b[0m\u001b[1;33m)\u001b[0m\u001b[1;33m\u001b[0m\u001b[1;33m\u001b[0m\u001b[0m\n\u001b[0m",
      "\u001b[1;32mC:\\ProgramData\\Anaconda3\\lib\\site-packages\\pandas\\core\\frame.py\u001b[0m in \u001b[0;36m__getitem__\u001b[1;34m(self, key)\u001b[0m\n\u001b[0;32m   2900\u001b[0m             \u001b[1;32mif\u001b[0m \u001b[0mself\u001b[0m\u001b[1;33m.\u001b[0m\u001b[0mcolumns\u001b[0m\u001b[1;33m.\u001b[0m\u001b[0mnlevels\u001b[0m \u001b[1;33m>\u001b[0m \u001b[1;36m1\u001b[0m\u001b[1;33m:\u001b[0m\u001b[1;33m\u001b[0m\u001b[1;33m\u001b[0m\u001b[0m\n\u001b[0;32m   2901\u001b[0m                 \u001b[1;32mreturn\u001b[0m \u001b[0mself\u001b[0m\u001b[1;33m.\u001b[0m\u001b[0m_getitem_multilevel\u001b[0m\u001b[1;33m(\u001b[0m\u001b[0mkey\u001b[0m\u001b[1;33m)\u001b[0m\u001b[1;33m\u001b[0m\u001b[1;33m\u001b[0m\u001b[0m\n\u001b[1;32m-> 2902\u001b[1;33m             \u001b[0mindexer\u001b[0m \u001b[1;33m=\u001b[0m \u001b[0mself\u001b[0m\u001b[1;33m.\u001b[0m\u001b[0mcolumns\u001b[0m\u001b[1;33m.\u001b[0m\u001b[0mget_loc\u001b[0m\u001b[1;33m(\u001b[0m\u001b[0mkey\u001b[0m\u001b[1;33m)\u001b[0m\u001b[1;33m\u001b[0m\u001b[1;33m\u001b[0m\u001b[0m\n\u001b[0m\u001b[0;32m   2903\u001b[0m             \u001b[1;32mif\u001b[0m \u001b[0mis_integer\u001b[0m\u001b[1;33m(\u001b[0m\u001b[0mindexer\u001b[0m\u001b[1;33m)\u001b[0m\u001b[1;33m:\u001b[0m\u001b[1;33m\u001b[0m\u001b[1;33m\u001b[0m\u001b[0m\n\u001b[0;32m   2904\u001b[0m                 \u001b[0mindexer\u001b[0m \u001b[1;33m=\u001b[0m \u001b[1;33m[\u001b[0m\u001b[0mindexer\u001b[0m\u001b[1;33m]\u001b[0m\u001b[1;33m\u001b[0m\u001b[1;33m\u001b[0m\u001b[0m\n",
      "\u001b[1;32mC:\\ProgramData\\Anaconda3\\lib\\site-packages\\pandas\\core\\indexes\\base.py\u001b[0m in \u001b[0;36mget_loc\u001b[1;34m(self, key, method, tolerance)\u001b[0m\n\u001b[0;32m   2895\u001b[0m                 \u001b[1;32mreturn\u001b[0m \u001b[0mself\u001b[0m\u001b[1;33m.\u001b[0m\u001b[0m_engine\u001b[0m\u001b[1;33m.\u001b[0m\u001b[0mget_loc\u001b[0m\u001b[1;33m(\u001b[0m\u001b[0mcasted_key\u001b[0m\u001b[1;33m)\u001b[0m\u001b[1;33m\u001b[0m\u001b[1;33m\u001b[0m\u001b[0m\n\u001b[0;32m   2896\u001b[0m             \u001b[1;32mexcept\u001b[0m \u001b[0mKeyError\u001b[0m \u001b[1;32mas\u001b[0m \u001b[0merr\u001b[0m\u001b[1;33m:\u001b[0m\u001b[1;33m\u001b[0m\u001b[1;33m\u001b[0m\u001b[0m\n\u001b[1;32m-> 2897\u001b[1;33m                 \u001b[1;32mraise\u001b[0m \u001b[0mKeyError\u001b[0m\u001b[1;33m(\u001b[0m\u001b[0mkey\u001b[0m\u001b[1;33m)\u001b[0m \u001b[1;32mfrom\u001b[0m \u001b[0merr\u001b[0m\u001b[1;33m\u001b[0m\u001b[1;33m\u001b[0m\u001b[0m\n\u001b[0m\u001b[0;32m   2898\u001b[0m \u001b[1;33m\u001b[0m\u001b[0m\n\u001b[0;32m   2899\u001b[0m         \u001b[1;32mif\u001b[0m \u001b[0mtolerance\u001b[0m \u001b[1;32mis\u001b[0m \u001b[1;32mnot\u001b[0m \u001b[1;32mNone\u001b[0m\u001b[1;33m:\u001b[0m\u001b[1;33m\u001b[0m\u001b[1;33m\u001b[0m\u001b[0m\n",
      "\u001b[1;31mKeyError\u001b[0m: 'frequency'"
     ]
    }
   ],
   "source": [
    "complete['frequency'].describe()"
   ]
  },
  {
   "cell_type": "code",
   "execution_count": null,
   "metadata": {},
   "outputs": [],
   "source": [
    "complete['frequency'].value_counts().plot(kind='bar')"
   ]
  },
  {
   "cell_type": "code",
   "execution_count": null,
   "metadata": {},
   "outputs": [],
   "source": [
    "fig, ax = plt.subplots()\n",
    "ax.pie(complete['frequency'].value_counts(), labels=complete['frequency'].unique(), autopct='%1.1f%%')\n",
    "ax.axis('equal')  # Equal aspect ratio ensures the pie chart is circular.\n",
    "ax.set_title('Frequency types')\n",
    "\n",
    "plt.show()"
   ]
  },
  {
   "cell_type": "markdown",
   "metadata": {},
   "source": [
    "#### Remarks:\n",
    "Of the 328 rows of complete data available, the majority corresponds to accounts where the frequency attribute value is 'monthly issuance'. 'monthly issuance' has 5 times more entries than 'weekly issuance' and more than 14 times more entries than 'issuance after transaction'.\n",
    "\n",
    "This might mean that this attribute will not be of great help to predict the outcome of a loan due to the small sample of the other 2 possibilities."
   ]
  },
  {
   "cell_type": "markdown",
   "metadata": {},
   "source": [
    "### 1.4.2 Account Creation Date - Date Attribute"
   ]
  },
  {
   "cell_type": "code",
   "execution_count": null,
   "metadata": {},
   "outputs": [],
   "source": [
    "complete['date'].describe()"
   ]
  },
  {
   "cell_type": "code",
   "execution_count": null,
   "metadata": {},
   "outputs": [],
   "source": [
    "print(\"Min: \", end=\"\");                 print(complete['date'].min())\n",
    "print(\"Max: \", end=\"\");                 print(complete['date'].max())"
   ]
  },
  {
   "cell_type": "code",
   "execution_count": null,
   "metadata": {},
   "outputs": [],
   "source": [
    "complete['date'].value_counts()[:50].plot(kind='bar', figsize=(15,3))"
   ]
  },
  {
   "cell_type": "markdown",
   "metadata": {},
   "source": [
    "#### Remarks:\n",
    "The accounts of this dataset were all created between the years 1993 and 1996.\n",
    "\n",
    "The date of account creation a priori doesn't seem to be related at all with the possible outcome of a loan."
   ]
  },
  {
   "cell_type": "markdown",
   "metadata": {},
   "source": [
    "### 1.4.3 Number of transactions - Numerical Attribute"
   ]
  },
  {
   "cell_type": "code",
   "execution_count": null,
   "metadata": {},
   "outputs": [],
   "source": [
    "q3, q1 = np.percentile(complete['# trans'], [75 ,25])\n",
    "\n",
    "print(\"Min: \", end=\"\");                 print(complete['# trans'].min())\n",
    "print(\"Max: \", end=\"\");                 print(complete['# trans'].max())\n",
    "print(\"Mean: \", end=\"\");                print(complete['# trans'].mean())\n",
    "print(\"Median: \", end=\"\");              print(complete['# trans'].median())\n",
    "print(\"Standard deviation: \", end=\"\");  print(complete['# trans'].std())\n",
    "print(\"Skewness: \", end=\"\");            print(complete['# trans'].skew())  \n",
    "print(\"Variance: \", end=\"\");            print(complete['# trans'].var())\n",
    "print(\"Kurtosis: \", end=\"\");            print(complete['# trans'].kurtosis())\n",
    "print(\"Interquartile Range: \", end=\"\"); print(q3 - q1, end=\" | \"); print(\"Q1: {} | Q3: {}\".format(q1,q3))"
   ]
  },
  {
   "cell_type": "code",
   "execution_count": null,
   "metadata": {},
   "outputs": [],
   "source": [
    "sns.distplot(complete['# trans'])"
   ]
  },
  {
   "cell_type": "code",
   "execution_count": null,
   "metadata": {},
   "outputs": [],
   "source": [
    "complete['# trans'].plot.box();"
   ]
  },
  {
   "cell_type": "markdown",
   "metadata": {},
   "source": [
    "#### Remarks:\n",
    "The number of transactions performed by an account has a very wide range of values and every single one is at minimum 4 and at maximum 196 which justifies the high variance / standard deviation. The majority of the values is concentrated in the range \\[39,103\\].\n",
    "By observing the skewness we can classify the data as slightly skewed (between -0.5 and 0.5 would be considered approximately symmetric). The small (in absolute value) kurtosis (it is in the range \\[-1,1\\]) informs that the distribution is neither too flat or too peeked."
   ]
  },
  {
   "cell_type": "markdown",
   "metadata": {},
   "source": [
    "### 1.4.4 Transaction Operations - Numerical Attributes"
   ]
  },
  {
   "cell_type": "code",
   "execution_count": null,
   "metadata": {},
   "outputs": [],
   "source": [
    "subset = complete[['oper #1', 'oper #2', 'oper #3', 'oper #4', 'oper #5']].mean()\n",
    "print(subset)\n",
    "subset.plot(kind='bar', title=\"Average number of transactions per Operation\")"
   ]
  },
  {
   "cell_type": "markdown",
   "metadata": {},
   "source": [
    "#### Remarks:\n",
    "The data provided is very unbalanced when it comes to the transaction operations' performed for each account of which there is information about a loan. Of the 5 options identified, 'oper \\#5' ('withdrawal in cash') is by far the most common while 'oper \\#2' ('credit card withdrawal') is very rare.\n",
    "\n",
    "Therefore, this attribute might not be of much use to predict the outcome of a loan due to sample size discrepancy of the 5 possible values."
   ]
  },
  {
   "cell_type": "markdown",
   "metadata": {},
   "source": [
    "### 1.4.5 Transaction Types - Numerical Attributes"
   ]
  },
  {
   "cell_type": "code",
   "execution_count": null,
   "metadata": {},
   "outputs": [],
   "source": [
    "subset = complete[['type #1', 'type #2', 'type #3']].mean()\n",
    "subset.plot(kind='bar', title=\"Average number of transactions per Type\")"
   ]
  },
  {
   "cell_type": "markdown",
   "metadata": {},
   "source": [
    "#### Remarks: \n",
    "Similar to columns 'oper X' with the difference that in this case only one value is much less represented than the others\n",
    "Therefore, similarly to the previous attribute, this one might also not be of much use to predict the outcome of a loan due to sample size of 1 of the possible values."
   ]
  },
  {
   "cell_type": "markdown",
   "metadata": {},
   "source": [
    "### 1.4.6 Average Transaction Amount - Numerical Attribute"
   ]
  },
  {
   "cell_type": "code",
   "execution_count": null,
   "metadata": {
    "scrolled": true
   },
   "outputs": [],
   "source": [
    "q3, q1 = np.percentile(complete['avg trans amount'], [75 ,25])\n",
    "\n",
    "print(\"Min: \", end=\"\");                 print(complete['avg trans amount'].min())\n",
    "print(\"Max: \", end=\"\");                 print(complete['avg trans amount'].max())\n",
    "print(\"Mean: \", end=\"\");                print(complete['avg trans amount'].mean())\n",
    "print(\"Median: \", end=\"\");              print(complete['avg trans amount'].median())\n",
    "print(\"Standard deviation: \", end=\"\");  print(complete['avg trans amount'].std())\n",
    "print(\"Skewness: \", end=\"\");            print(complete['avg trans amount'].skew())  \n",
    "print(\"Variance: \", end=\"\");            print(complete['avg trans amount'].var())\n",
    "print(\"Kurtosis: \", end=\"\");            print(complete['avg trans amount'].kurtosis())\n",
    "print(\"Interquartile Range: \", end=\"\"); print(q3 - q1, end=\" | \"); print(\"Q1: {} | Q3: {}\".format(q1,q3))\n",
    "\n",
    "# var() method returns the unbiased variance\n",
    "# Medium-High std which indicates that the data is spread out and not clustered around the mean\n",
    "# Skewness > 1 => it is skewed to the right"
   ]
  },
  {
   "cell_type": "code",
   "execution_count": null,
   "metadata": {},
   "outputs": [],
   "source": [
    "sns.distplot(complete['avg trans amount'])"
   ]
  },
  {
   "cell_type": "code",
   "execution_count": null,
   "metadata": {},
   "outputs": [],
   "source": [
    "complete['avg trans amount'].plot.box();"
   ]
  },
  {
   "cell_type": "markdown",
   "metadata": {},
   "source": [
    "#### Remarks:\n",
    "The 'average transaction amount' atribute seems to follow approximately a normal distribution based on its graphical representation and skewness/kurtosis values.\n",
    "\n",
    "Despite this, it is possible to identify some values outside the general landscape that can either correspond to outliers or to a real group that is not well represented in the provided data."
   ]
  },
  {
   "cell_type": "markdown",
   "metadata": {},
   "source": [
    "### 1.4.7 Average Transaction Balance - Numerical Attribute"
   ]
  },
  {
   "cell_type": "code",
   "execution_count": null,
   "metadata": {},
   "outputs": [],
   "source": [
    "q3, q1 = np.percentile(complete['avg trans balance'], [75 ,25])\n",
    "\n",
    "print(\"Min: \", end=\"\");                 print(complete['avg trans balance'].min())\n",
    "print(\"Max: \", end=\"\");                 print(complete['avg trans balance'].max())\n",
    "print(\"Mean: \", end=\"\");                print(complete['avg trans balance'].mean())\n",
    "print(\"Median: \", end=\"\");              print(complete['avg trans balance'].median())\n",
    "print(\"Standard deviation: \", end=\"\");  print(complete['avg trans balance'].std())\n",
    "print(\"Skewness: \", end=\"\");            print(complete['avg trans balance'].skew())  \n",
    "print(\"Variance: \", end=\"\");            print(complete['avg trans balance'].var())\n",
    "print(\"Kurtosis: \", end=\"\");            print(complete['avg trans balance'].kurtosis())\n",
    "print(\"Interquartile Range: \", end=\"\"); print(q3 - q1, end=\" | \"); print(\"Q1: {} | Q3: {}\".format(q1,q3))\n",
    "\n",
    "# var() method returns the unbiased variance\n",
    "# Medium-High std which indicates that the data is spread out and not clustered around the mean\n",
    "# Skewness > 1 => it is skewed to the right"
   ]
  },
  {
   "cell_type": "code",
   "execution_count": null,
   "metadata": {},
   "outputs": [],
   "source": [
    "sns.distplot(complete['avg trans balance'])"
   ]
  },
  {
   "cell_type": "code",
   "execution_count": null,
   "metadata": {},
   "outputs": [],
   "source": [
    "complete['avg trans balance'].plot.box();"
   ]
  },
  {
   "cell_type": "markdown",
   "metadata": {},
   "source": [
    "#### Remarks:\n",
    "Like the previous atribute, the 'average transaction balance' seems to follow approximately a normal distribution based on its graphical representation and skewness/kurtosis values. Contrasting with the last atribute, there seem to be no possible outliers, constituting possibly a good candidate variable to predict the outcome of a loan."
   ]
  },
  {
   "cell_type": "markdown",
   "metadata": {},
   "source": [
    "### 1.4.8 Loan Date - Date Attribute"
   ]
  },
  {
   "cell_type": "code",
   "execution_count": null,
   "metadata": {},
   "outputs": [],
   "source": [
    "complete['loan date'].describe()"
   ]
  },
  {
   "cell_type": "code",
   "execution_count": null,
   "metadata": {
    "scrolled": true
   },
   "outputs": [],
   "source": [
    "print(\"Min: \", end=\"\");                 print(complete['loan date'].min())\n",
    "print(\"Max: \", end=\"\");                 print(complete['loan date'].max())"
   ]
  },
  {
   "cell_type": "code",
   "execution_count": null,
   "metadata": {},
   "outputs": [],
   "source": [
    "complete['loan date'].value_counts()[:50].plot(kind='bar', figsize=(15,3))"
   ]
  },
  {
   "cell_type": "markdown",
   "metadata": {},
   "source": [
    "#### Remarks:\n",
    "The loan of this dataset all date between the years 1993 and 1996, similarly to the account creation dates.\n",
    "\n",
    "The date of a loan, a priori, doesn't seem to be related at all with the possible outcome of a loan."
   ]
  },
  {
   "cell_type": "code",
   "execution_count": null,
   "metadata": {},
   "outputs": [],
   "source": [
    "q3, q1 = np.percentile(complete['age at loan (Years)'], [75 ,25])\n",
    "\n",
    "print(\"Min: \", end=\"\");                 print(complete['age at loan (Years)'].min())\n",
    "print(\"Max: \", end=\"\");                 print(complete['age at loan (Years)'].max())\n",
    "print(\"Mean: \", end=\"\");                print(complete['age at loan (Years)'].mean())\n",
    "print(\"Median: \", end=\"\");              print(complete['age at loan (Years)'].median())\n",
    "print(\"Standard deviation: \", end=\"\");  print(complete['age at loan (Years)'].std())\n",
    "print(\"Skewness: \", end=\"\");            print(complete['age at loan (Years)'].skew())  \n",
    "print(\"Variance: \", end=\"\");            print(complete['age at loan (Years)'].var())\n",
    "print(\"Kurtosis: \", end=\"\");            print(complete['age at loan (Years)'].kurtosis())\n",
    "print(\"Interquartile Range: \", end=\"\"); print(q3 - q1, end=\" | \"); print(\"Q1: {} | Q3: {}\".format(q1,q3))"
   ]
  },
  {
   "cell_type": "code",
   "execution_count": null,
   "metadata": {},
   "outputs": [],
   "source": [
    "sns.distplot(complete['age at loan (Years)'])"
   ]
  },
  {
   "cell_type": "code",
   "execution_count": null,
   "metadata": {},
   "outputs": [],
   "source": [
    "complete['age at loan (Years)'].plot.box()"
   ]
  },
  {
   "cell_type": "markdown",
   "metadata": {},
   "source": [
    "#### Remarks:\n",
    "The range of ages of the clients at the time at which the loan was provided is quite comprehensive.\n",
    "The skewness indicates a distribution of the data that isn't skewed and the kurtosis points to its flatness, as it is possible to confirm by observation of the distplot.\n",
    "\n",
    "Despite this aparent 'normality' and, by extent, possibly usefulness of this atribute it is also possible to detect that some values and under the minimum adult age (18 years) which would make these entries invalid and, therefore, creating the necessity to remove them before further analysis."
   ]
  },
  {
   "cell_type": "markdown",
   "metadata": {},
   "source": [
    "### 1.4.9 Loan Amount - Numerical Attribute"
   ]
  },
  {
   "cell_type": "code",
   "execution_count": null,
   "metadata": {},
   "outputs": [],
   "source": [
    "q3, q1 = np.percentile(complete['loan amount'], [75 ,25])\n",
    "\n",
    "print(\"Min: \", end=\"\");                 print(complete['loan amount'].min())\n",
    "print(\"Max: \", end=\"\");                 print(complete['loan amount'].max())\n",
    "print(\"Mean: \", end=\"\");                print(complete['loan amount'].mean())\n",
    "print(\"Median: \", end=\"\");              print(complete['loan amount'].median())\n",
    "print(\"Standard deviation: \", end=\"\");  print(complete['loan amount'].std())\n",
    "print(\"Skewness: \", end=\"\");            print(complete['loan amount'].skew())  \n",
    "print(\"Variance: \", end=\"\");            print(complete['loan amount'].var())\n",
    "print(\"Kurtosis: \", end=\"\");            print(complete['loan amount'].kurtosis())\n",
    "print(\"Interquartile Range: \", end=\"\"); print(q3 - q1, end=\" | \"); print(\"Q1: {} | Q3: {}\".format(q1,q3))\n",
    "\n",
    "# Very High std which indicates that the data is spread out and not clustered around the mean\n",
    "# > 1 therefore it is skewed to the right"
   ]
  },
  {
   "cell_type": "code",
   "execution_count": null,
   "metadata": {},
   "outputs": [],
   "source": [
    "sns.distplot(complete['loan amount'])"
   ]
  },
  {
   "cell_type": "code",
   "execution_count": null,
   "metadata": {},
   "outputs": [],
   "source": [
    "complete['loan amount'].plot.box();"
   ]
  },
  {
   "cell_type": "markdown",
   "metadata": {},
   "source": [
    "#### Remarks:\n",
    "The loan amount column data is made of very different values and it is skewed to the right which is confirmed by the skewness. The kurtosis can be confirmed by observation of the seaborn distplot that shows a peak around the value 100000.\n",
    "\n",
    "It is possible to identify some values outside the general landscape that can either correspond to outliers or to a real group that is not well represented in the provided data. Due to the number of these values we assume the second hypotesis."
   ]
  },
  {
   "cell_type": "markdown",
   "metadata": {},
   "source": [
    "### 1.4.10 Loan Duration (in months) - Numerical Attribute"
   ]
  },
  {
   "cell_type": "code",
   "execution_count": null,
   "metadata": {},
   "outputs": [],
   "source": [
    "q3, q1 = np.percentile(complete['loan duration (mths)'], [75 ,25])\n",
    "\n",
    "print(\"Min: \", end=\"\");                 print(complete['loan duration (mths)'].min())\n",
    "print(\"Max: \", end=\"\");                 print(complete['loan duration (mths)'].max())\n",
    "print(\"Mean: \", end=\"\");                print(complete['loan duration (mths)'].mean())\n",
    "print(\"Median: \", end=\"\");              print(complete['loan duration (mths)'].median())\n",
    "print(\"Standard deviation: \", end=\"\");  print(complete['loan duration (mths)'].std())\n",
    "print(\"Skewness: \", end=\"\");            print(complete['loan duration (mths)'].skew())  \n",
    "print(\"Variance: \", end=\"\");            print(complete['loan duration (mths)'].var())\n",
    "print(\"Kurtosis: \", end=\"\");            print(complete['loan duration (mths)'].kurtosis())\n",
    "print(\"Interquartile Range: \", end=\"\"); print(q3 - q1, end=\" | \"); print(\"Q1: {} | Q3: {}\".format(q1,q3))"
   ]
  },
  {
   "cell_type": "code",
   "execution_count": null,
   "metadata": {},
   "outputs": [],
   "source": [
    "complete['loan duration (mths)'].value_counts().sort_index().plot(kind='bar')"
   ]
  },
  {
   "cell_type": "markdown",
   "metadata": {},
   "source": [
    "#### Remarks:\n",
    "In general, the loan duration data seems rather uniform visually, which is in agreement with the statistical analysis results: small absolute value of skewness points to a approximately normal distribution and the lower than -1 kurtosis represents a flat distribution.\n",
    "\n",
    "Due to the very small variation in frequency of each of the values of this loan duration column, it is plausible to think it won't provide much information regarding the prediction of the outcome of a loan."
   ]
  },
  {
   "cell_type": "markdown",
   "metadata": {},
   "source": [
    "### 1.4.11 Loan Payments - Numerical Attribute"
   ]
  },
  {
   "cell_type": "code",
   "execution_count": null,
   "metadata": {},
   "outputs": [],
   "source": [
    "q3, q1 = np.percentile(complete['loan payments'], [75 ,25])\n",
    "\n",
    "print(\"Min: \", end=\"\");                 print(complete['loan payments'].min())\n",
    "print(\"Max: \", end=\"\");                 print(complete['loan payments'].max())\n",
    "print(\"Mean: \", end=\"\");                print(complete['loan payments'].mean())\n",
    "print(\"Median: \", end=\"\");              print(complete['loan payments'].median())\n",
    "print(\"Standard deviation: \", end=\"\");  print(complete['loan payments'].std())\n",
    "print(\"Skewness: \", end=\"\");            print(complete['loan payments'].skew())  \n",
    "print(\"Variance: \", end=\"\");            print(complete['loan payments'].var())\n",
    "print(\"Kurtosis: \", end=\"\");            print(complete['loan payments'].kurtosis())\n",
    "print(\"Interquartile Range: \", end=\"\"); print(q3 - q1, end=\" | \"); print(\"Q1: {} | Q3: {}\".format(q1,q3))"
   ]
  },
  {
   "cell_type": "code",
   "execution_count": null,
   "metadata": {},
   "outputs": [],
   "source": [
    "sns.distplot(complete['loan payments'])"
   ]
  },
  {
   "cell_type": "code",
   "execution_count": null,
   "metadata": {},
   "outputs": [],
   "source": [
    "complete['loan payments'].plot.box();"
   ]
  },
  {
   "cell_type": "markdown",
   "metadata": {},
   "source": [
    "#### Remarks:\n",
    "Similarly to some of the previous atributes, loan payments follows approximately a normal distribution.\n",
    "Besides, in some way seems to be in agreement with the loan amount atribute, as expected."
   ]
  },
  {
   "cell_type": "markdown",
   "metadata": {},
   "source": [
    "### 1.4.12 Loan Status - Nominal(?) Attribute"
   ]
  },
  {
   "cell_type": "code",
   "execution_count": null,
   "metadata": {},
   "outputs": [],
   "source": [
    "#complete['loan status'].describe()"
   ]
  },
  {
   "cell_type": "code",
   "execution_count": null,
   "metadata": {},
   "outputs": [],
   "source": [
    "# -1 -> not paid; 1 -> paid\n",
    "#complete['loan status'].value_counts().plot(kind='bar')"
   ]
  },
  {
   "cell_type": "markdown",
   "metadata": {},
   "source": [
    "#### Remarks:\n",
    "By observation alone it is clear that the amount of loans where an account fulfills its commitments to the bank severely surpasses the number of entries where default credit it the result. Then, oversampling/undersampling methods might useful."
   ]
  },
  {
   "cell_type": "markdown",
   "metadata": {},
   "source": [
    "### 1.4.13 Number of district inhabitants - Numerical Attribute"
   ]
  },
  {
   "cell_type": "code",
   "execution_count": null,
   "metadata": {},
   "outputs": [],
   "source": [
    "q3, q1 = np.percentile(complete['no. of inhabitants'], [75 ,25])\n",
    "\n",
    "print(\"Min: \", end=\"\");                 print(complete['no. of inhabitants'].min())\n",
    "print(\"Max: \", end=\"\");                 print(complete['no. of inhabitants'].max())\n",
    "print(\"Mean: \", end=\"\");                print(complete['no. of inhabitants'].mean())\n",
    "print(\"Median: \", end=\"\");              print(complete['no. of inhabitants'].median())\n",
    "print(\"Standard deviation: \", end=\"\");  print(complete['no. of inhabitants'].std())\n",
    "print(\"Skewness: \", end=\"\");            print(complete['no. of inhabitants'].skew())  \n",
    "print(\"Variance: \", end=\"\");            print(complete['no. of inhabitants'].var())\n",
    "print(\"Kurtosis: \", end=\"\");            print(complete['no. of inhabitants'].kurtosis())\n",
    "print(\"Interquartile Range: \", end=\"\"); print(q3 - q1, end=\" | \"); print(\"Q1: {} | Q3: {}\".format(q1,q3))"
   ]
  },
  {
   "cell_type": "code",
   "execution_count": null,
   "metadata": {},
   "outputs": [],
   "source": [
    "sns.distplot(complete['no. of inhabitants'])"
   ]
  },
  {
   "cell_type": "code",
   "execution_count": null,
   "metadata": {},
   "outputs": [],
   "source": [
    "complete['no. of inhabitants'].plot.box();"
   ]
  },
  {
   "cell_type": "markdown",
   "metadata": {},
   "source": [
    "#### Remarks:\n",
    "Without the data past 750 thousand inhabitants, the atribute would assume almost a perfect normal distribution. As is, the data distribution is substantially skewed and the kurtosis confirms the peaked characterization.\n",
    "Due to the percentage of information that fits in the supposed 'outlier zone', these entries can't be considered outliers. They may just represent a densely populated area where the average corresponds to semi-urban or even rural regions and the provided data simply doesn't have information regarding regions whose population numbers fit the \\[400000, 1100000\\] range."
   ]
  },
  {
   "cell_type": "markdown",
   "metadata": {},
   "source": [
    "### 1.4.14 Inahbitants per municipality - Numerical Attribute"
   ]
  },
  {
   "cell_type": "code",
   "execution_count": null,
   "metadata": {},
   "outputs": [],
   "source": [
    "fig, ax = plt.subplots(2,2)\n",
    "sns.distplot(complete['no. of municipalities with inhabitants < 499 '], ax=ax[0][0])\n",
    "sns.distplot(complete['no. of municipalities with inhabitants 500-1999'], ax=ax[0][1])\n",
    "\n",
    "sns.distplot(complete['no. of municipalities with inhabitants 2000-9999 '], ax=ax[1][0])\n",
    "sns.distplot(complete['no. of municipalities with inhabitants >10000 '], ax=ax[1][1])\n",
    "fig.tight_layout()\n",
    "fig.show()"
   ]
  },
  {
   "cell_type": "code",
   "execution_count": null,
   "metadata": {},
   "outputs": [],
   "source": [
    "complete[['no. of municipalities with inhabitants < 499 ', 'no. of municipalities with inhabitants 500-1999', 'no. of municipalities with inhabitants 2000-9999 ', 'no. of municipalities with inhabitants >10000 ']].plot(kind='box', subplots=True, legend=False, layout=(2, 2))\n",
    "plt.tight_layout()"
   ]
  },
  {
   "cell_type": "markdown",
   "metadata": {},
   "source": [
    "#### Remarks:\n",
    "The distributions of the number of municipalities seem very disperse and with aparent low value by themselves for loan predictions. Nonetheless, it can be especulated that many of the accounts belong to people that live in a far more densely populated area that the rest, hyposthesis that is corroborated by the previous and next data regarding the districts."
   ]
  },
  {
   "cell_type": "markdown",
   "metadata": {},
   "source": [
    "### 1.4.15 Number of cities of district - Numerical Attribute"
   ]
  },
  {
   "cell_type": "code",
   "execution_count": null,
   "metadata": {},
   "outputs": [],
   "source": [
    "q3, q1 = np.percentile(complete['no. of cities '], [75 ,25])\n",
    "\n",
    "print(\"Min: \", end=\"\");                 print(complete['no. of cities '].min())\n",
    "print(\"Max: \", end=\"\");                 print(complete['no. of cities '].max())\n",
    "print(\"Mean: \", end=\"\");                print(complete['no. of cities '].mean())\n",
    "print(\"Median: \", end=\"\");              print(complete['no. of cities '].median())\n",
    "print(\"Standard deviation: \", end=\"\");  print(complete['no. of cities '].std())\n",
    "print(\"Skewness: \", end=\"\");            print(complete['no. of cities '].skew())  \n",
    "print(\"Variance: \", end=\"\");            print(complete['no. of cities '].var())\n",
    "print(\"Kurtosis: \", end=\"\");            print(complete['no. of cities '].kurtosis())\n",
    "print(\"Interquartile Range: \", end=\"\"); print(q3 - q1, end=\" | \"); print(\"Q1: {} | Q3: {}\".format(q1,q3))"
   ]
  },
  {
   "cell_type": "code",
   "execution_count": null,
   "metadata": {
    "scrolled": true
   },
   "outputs": [],
   "source": [
    "complete['no. of cities '].value_counts().sort_index().plot(kind='bar')"
   ]
  },
  {
   "cell_type": "code",
   "execution_count": null,
   "metadata": {},
   "outputs": [],
   "source": [
    "sns.distplot(complete['no. of cities '].value_counts())"
   ]
  },
  {
   "cell_type": "code",
   "execution_count": null,
   "metadata": {},
   "outputs": [],
   "source": [
    "complete['no. of cities '].plot.box();"
   ]
  },
  {
   "cell_type": "markdown",
   "metadata": {},
   "source": [
    "#### Remarks:\n",
    "Aproximately a normal distribution.\n",
    "This data doesn't seem to indicate any anomaly that might skew the outcome of a loan."
   ]
  },
  {
   "cell_type": "markdown",
   "metadata": {},
   "source": [
    "### 1.4.16 Ratio of Urban Inhabitants - Numerical Attribute"
   ]
  },
  {
   "cell_type": "code",
   "execution_count": null,
   "metadata": {},
   "outputs": [],
   "source": [
    "q3, q1 = np.percentile(complete['ratio of urban inhabitants '], [75 ,25])\n",
    "\n",
    "print(\"Min: \", end=\"\");                 print(complete['ratio of urban inhabitants '].min())\n",
    "print(\"Max: \", end=\"\");                 print(complete['ratio of urban inhabitants '].max())\n",
    "print(\"Mean: \", end=\"\");                print(complete['ratio of urban inhabitants '].mean())\n",
    "print(\"Median: \", end=\"\");              print(complete['ratio of urban inhabitants '].median())\n",
    "print(\"Standard deviation: \", end=\"\");  print(complete['ratio of urban inhabitants '].std())\n",
    "print(\"Skewness: \", end=\"\");            print(complete['ratio of urban inhabitants '].skew())  \n",
    "print(\"Variance: \", end=\"\");            print(complete['ratio of urban inhabitants '].var())\n",
    "print(\"Kurtosis: \", end=\"\");            print(complete['ratio of urban inhabitants '].kurtosis())\n",
    "print(\"Interquartile Range: \", end=\"\"); print(q3 - q1, end=\" | \"); print(\"Q1: {} | Q3: {}\".format(q1,q3))"
   ]
  },
  {
   "cell_type": "code",
   "execution_count": null,
   "metadata": {},
   "outputs": [],
   "source": [
    "sns.distplot(complete['ratio of urban inhabitants '])"
   ]
  },
  {
   "cell_type": "code",
   "execution_count": null,
   "metadata": {},
   "outputs": [],
   "source": [
    "complete['ratio of urban inhabitants '].plot.box();"
   ]
  },
  {
   "cell_type": "markdown",
   "metadata": {},
   "source": [
    "#### Remarks:\n",
    "The range of districts' ratio of urban inhabitants is very wide. The provided information regarding people that took loans points to 2 concentrations: in districts where the urban inhabitants constitute either 50 or 100 percent of the population. Due to these 2 spikes, the skewness and kurtosis conclude an approximate normal and flat distribution of the data."
   ]
  },
  {
   "cell_type": "markdown",
   "metadata": {},
   "source": [
    "### 1.4.17 Average Salary - Numerical Attribute"
   ]
  },
  {
   "cell_type": "code",
   "execution_count": null,
   "metadata": {},
   "outputs": [],
   "source": [
    "q3, q1 = np.percentile(complete['average salary '], [75 ,25])\n",
    "\n",
    "print(\"Min: \", end=\"\");                 print(complete['average salary '].min())\n",
    "print(\"Max: \", end=\"\");                 print(complete['average salary '].max())\n",
    "print(\"Mean: \", end=\"\");                print(complete['average salary '].mean())\n",
    "print(\"Median: \", end=\"\");              print(complete['average salary '].median())\n",
    "print(\"Standard deviation: \", end=\"\");  print(complete['average salary '].std())\n",
    "print(\"Skewness: \", end=\"\");            print(complete['average salary '].skew())  \n",
    "print(\"Variance: \", end=\"\");            print(complete['average salary '].var())\n",
    "print(\"Kurtosis: \", end=\"\");            print(complete['average salary '].kurtosis())\n",
    "print(\"Interquartile Range: \", end=\"\"); print(q3 - q1, end=\" | \"); print(\"Q1: {} | Q3: {}\".format(q1,q3))"
   ]
  },
  {
   "cell_type": "code",
   "execution_count": null,
   "metadata": {},
   "outputs": [],
   "source": [
    "sns.distplot(complete['average salary '])"
   ]
  },
  {
   "cell_type": "code",
   "execution_count": null,
   "metadata": {},
   "outputs": [],
   "source": [
    "complete['average salary '].plot.box();"
   ]
  },
  {
   "cell_type": "markdown",
   "metadata": {},
   "source": [
    "#### Remarks:\n",
    "The average salary atribute seems to follow graphically a distribution somewhat similar to the ratio or urban inhabitants. The second 'spike' in this column could be taken as outlier because it is separated from the rest, which is not an option because of the percentage of the entries that it represents."
   ]
  },
  {
   "cell_type": "markdown",
   "metadata": {},
   "source": [
    "### 1.4.18 Unemploymant Rate - Numerical Attribute"
   ]
  },
  {
   "cell_type": "code",
   "execution_count": null,
   "metadata": {},
   "outputs": [],
   "source": [
    "#complete.loc[complete[\"unemploymant rate '95 \"] == '?', \"unemploymant rate '95 \"] = complete[\"unemploymant rate '96 \"]\n",
    "#complete.loc[complete[\"unemploymant rate '96 \"] == '?', \"unemploymant rate '96 \"] = complete[\"unemploymant rate '95 \"]"
   ]
  },
  {
   "cell_type": "markdown",
   "metadata": {},
   "source": [
    "#### Obtain the average of 95' and 96' columns"
   ]
  },
  {
   "cell_type": "code",
   "execution_count": null,
   "metadata": {},
   "outputs": [],
   "source": [
    "#complete[\"unemploymant rate\"] = (complete[\"unemploymant rate '95 \"].astype('float') + complete[\"unemploymant rate '96 \"].astype('float')) / 2.0\n",
    "#complete = complete.drop(columns=[\"unemploymant rate '95 \", \"unemploymant rate '96 \"])\n",
    "# complete"
   ]
  },
  {
   "cell_type": "code",
   "execution_count": null,
   "metadata": {},
   "outputs": [],
   "source": [
    "q3, q1 = np.percentile(complete['unemploymant rate'], [75 ,25])\n",
    "\n",
    "print(\"Min: \", end=\"\");                 print(complete['unemploymant rate'].min())\n",
    "print(\"Max: \", end=\"\");                 print(complete['unemploymant rate'].max())\n",
    "print(\"Mean: \", end=\"\");                print(complete['unemploymant rate'].mean())\n",
    "print(\"Median: \", end=\"\");              print(complete['unemploymant rate'].median())\n",
    "print(\"Standard deviation: \", end=\"\");  print(complete['unemploymant rate'].std())\n",
    "print(\"Skewness: \", end=\"\");            print(complete['unemploymant rate'].skew())  \n",
    "print(\"Variance: \", end=\"\");            print(complete['unemploymant rate'].var())\n",
    "print(\"Kurtosis: \", end=\"\");            print(complete['unemploymant rate'].kurtosis())\n",
    "print(\"Interquartile Range: \", end=\"\"); print(q3 - q1, end=\" | \"); print(\"Q1: {} | Q3: {}\".format(q1,q3))"
   ]
  },
  {
   "cell_type": "code",
   "execution_count": null,
   "metadata": {},
   "outputs": [],
   "source": [
    "sns.distplot(complete['unemploymant rate'])"
   ]
  },
  {
   "cell_type": "code",
   "execution_count": null,
   "metadata": {},
   "outputs": [],
   "source": [
    "complete['unemploymant rate'].plot.box();"
   ]
  },
  {
   "cell_type": "markdown",
   "metadata": {},
   "source": [
    "#### Remarks:\n",
    "The unemploymant rate seems to follow a normal distribution and doesn't have any outliers."
   ]
  },
  {
   "cell_type": "markdown",
   "metadata": {},
   "source": [
    "### 1.4.19 Number of enterpreneurs per 1000 inhabitants - Numerical Attribute"
   ]
  },
  {
   "cell_type": "code",
   "execution_count": null,
   "metadata": {},
   "outputs": [],
   "source": [
    "q3, q1 = np.percentile(complete['no. of enterpreneurs per 1000 inhabitants '], [75 ,25])\n",
    "\n",
    "print(\"Min: \", end=\"\");                 print(complete['no. of enterpreneurs per 1000 inhabitants '].min())\n",
    "print(\"Max: \", end=\"\");                 print(complete['no. of enterpreneurs per 1000 inhabitants '].max())\n",
    "print(\"Mean: \", end=\"\");                print(complete['no. of enterpreneurs per 1000 inhabitants '].mean())\n",
    "print(\"Median: \", end=\"\");              print(complete['no. of enterpreneurs per 1000 inhabitants '].median())\n",
    "print(\"Standard deviation: \", end=\"\");  print(complete['no. of enterpreneurs per 1000 inhabitants '].std())\n",
    "print(\"Skewness: \", end=\"\");            print(complete['no. of enterpreneurs per 1000 inhabitants '].skew())  \n",
    "print(\"Variance: \", end=\"\");            print(complete['no. of enterpreneurs per 1000 inhabitants '].var())\n",
    "print(\"Kurtosis: \", end=\"\");            print(complete['no. of enterpreneurs per 1000 inhabitants '].kurtosis())\n",
    "print(\"Interquartile Range: \", end=\"\"); print(q3 - q1, end=\" | \"); print(\"Q1: {} | Q3: {}\".format(q1,q3))"
   ]
  },
  {
   "cell_type": "code",
   "execution_count": null,
   "metadata": {},
   "outputs": [],
   "source": [
    "sns.distplot(complete['no. of enterpreneurs per 1000 inhabitants '])"
   ]
  },
  {
   "cell_type": "code",
   "execution_count": null,
   "metadata": {},
   "outputs": [],
   "source": [
    "complete['no. of enterpreneurs per 1000 inhabitants '].plot.box();"
   ]
  },
  {
   "cell_type": "markdown",
   "metadata": {},
   "source": [
    "#### Remarks:\n",
    "Interestingly, the number of enterpreneurs per 1000 inhabitants follows a distribution practically identical to the ratio of urban inhabitants and average salary, which may represent that some of the columns regarding district data might be redundant."
   ]
  },
  {
   "cell_type": "markdown",
   "metadata": {},
   "source": [
    "### 1.4.20 Number of commited crimes per capita - Numerical Attribute"
   ]
  },
  {
   "cell_type": "code",
   "execution_count": null,
   "metadata": {},
   "outputs": [],
   "source": [
    "#complete.loc[complete[\"no. of commited crimes '95 \"] == '?', \"no. of commited crimes '95 \"] = complete[\"no. of commited crimes '96 \"]\n",
    "#complete.loc[complete[\"no. of commited crimes '96 \"] == '?', \"no. of commited crimes '96 \"] = complete[\"no. of commited crimes '95 \"]"
   ]
  },
  {
   "cell_type": "markdown",
   "metadata": {},
   "source": [
    "#### Obtain the average of 95' and 96' columns and then divide by the number of inhabitants"
   ]
  },
  {
   "cell_type": "code",
   "execution_count": null,
   "metadata": {},
   "outputs": [],
   "source": [
    "#complete[\"no. of commited crimes per capita\"] = (complete[\"no. of commited crimes '95 \"].astype('float') + complete[\"no. of commited crimes '96 \"].astype('float')) / 2.0 / complete[\"no. of inhabitants\"]\n",
    "#complete = complete.drop(columns=[\"no. of commited crimes '95 \", \"no. of commited crimes '96 \"])\n",
    "# complete"
   ]
  },
  {
   "cell_type": "code",
   "execution_count": null,
   "metadata": {},
   "outputs": [],
   "source": [
    "sns.distplot(complete['no. of commited crimes per capita'])"
   ]
  },
  {
   "cell_type": "code",
   "execution_count": null,
   "metadata": {},
   "outputs": [],
   "source": [
    "complete['no. of commited crimes per capita'].plot.box();"
   ]
  },
  {
   "cell_type": "markdown",
   "metadata": {},
   "source": [
    "#### Remarks:\n",
    "The number of crimes per capita follows the general district data distribution. One peculiarity by 'crossing data' is that the second spike in this case corresponds to places with higher numbers of inhabitants."
   ]
  },
  {
   "cell_type": "markdown",
   "metadata": {},
   "source": [
    "### 1.4.21 Card Type - Numerical Attribute"
   ]
  },
  {
   "cell_type": "code",
   "execution_count": null,
   "metadata": {},
   "outputs": [],
   "source": [
    "complete['card type'].describe()"
   ]
  },
  {
   "cell_type": "code",
   "execution_count": null,
   "metadata": {},
   "outputs": [],
   "source": [
    "complete['card type'].value_counts().plot(kind='bar')"
   ]
  },
  {
   "cell_type": "markdown",
   "metadata": {},
   "source": [
    "#### Filling Missing Values with 'None'"
   ]
  },
  {
   "cell_type": "code",
   "execution_count": null,
   "metadata": {},
   "outputs": [],
   "source": [
    "#complete['card type'] = complete['card type'].fillna('None')"
   ]
  },
  {
   "cell_type": "code",
   "execution_count": null,
   "metadata": {},
   "outputs": [],
   "source": [
    "complete['card type'].value_counts()"
   ]
  },
  {
   "cell_type": "code",
   "execution_count": null,
   "metadata": {
    "scrolled": false
   },
   "outputs": [],
   "source": [
    "fig, ax = plt.subplots()\n",
    "ax.pie(complete['card type'].value_counts(), labels=complete['card type'].unique(), autopct='%1.1f%%', explode = [0.1,0.1,0.2,0.5])\n",
    "ax.axis('equal')  # Equal aspect ratio ensures the pie chart is circular.\n",
    "ax.set_title('Frequency types')\n",
    "\n",
    "plt.show()"
   ]
  },
  {
   "cell_type": "markdown",
   "metadata": {},
   "source": [
    "#### Remarks:\n",
    "Missing values ('NaN') are infered to be 'no card existent' and therefore replaced by 'None' because in the 90s the popularity of the credit was still low.\n",
    "Despite the very small amount of entries that have card data, this atribute can still be considered useful: for example, to have a card might lead to a higher chance to pay a loan."
   ]
  },
  {
   "cell_type": "markdown",
   "metadata": {},
   "source": [
    "### 1.4.22 Birthdate - Date Attribute"
   ]
  },
  {
   "cell_type": "code",
   "execution_count": null,
   "metadata": {},
   "outputs": [],
   "source": [
    "complete['birthdate'].describe()"
   ]
  },
  {
   "cell_type": "code",
   "execution_count": null,
   "metadata": {},
   "outputs": [],
   "source": [
    "print(\"Min: \", end=\"\");                 print(complete['birthdate'].min())\n",
    "print(\"Max: \", end=\"\");                 print(complete['birthdate'].max())"
   ]
  },
  {
   "cell_type": "code",
   "execution_count": null,
   "metadata": {},
   "outputs": [],
   "source": [
    "complete['birthdate'].value_counts()[:50].plot(kind='bar', figsize=(15,3))"
   ]
  },
  {
   "cell_type": "markdown",
   "metadata": {},
   "source": [
    "#### Remarks:\n",
    "The birthdate of an account owner, a priori, doesn't seem to be related at all with the possible outcome of a loan, but might be useful to detect anomalies like the possibility of an under 18 person to contract a loan which is invalid."
   ]
  },
  {
   "cell_type": "markdown",
   "metadata": {},
   "source": [
    "### 1.4.23 Client Sex - Nominal Categorical Attribute"
   ]
  },
  {
   "cell_type": "code",
   "execution_count": null,
   "metadata": {},
   "outputs": [],
   "source": [
    "complete['sex'].describe()"
   ]
  },
  {
   "cell_type": "code",
   "execution_count": null,
   "metadata": {},
   "outputs": [],
   "source": [
    "complete['sex'].value_counts().plot(kind='bar')"
   ]
  },
  {
   "cell_type": "code",
   "execution_count": null,
   "metadata": {},
   "outputs": [],
   "source": [
    "fig, ax = plt.subplots()\n",
    "ax.pie(complete['sex'].value_counts(), labels=complete['sex'].unique(), autopct='%1.1f%%', startangle = 90)\n",
    "ax.axis('equal')  # Equal aspect ratio ensures the pie chart is circular.\n",
    "ax.set_title('Sex distribution')\n",
    "\n",
    "plt.show()"
   ]
  },
  {
   "cell_type": "markdown",
   "metadata": {},
   "source": [
    "#### Remarks:\n",
    "There isn't any unbalance in the total distribution of individuals regarding their sex which should lead to a plausible atribute for loan prediction."
   ]
  },
  {
   "cell_type": "markdown",
   "metadata": {},
   "source": [
    "### 1.4.23 Account has disponent or not - Nominal Categorical Attribute"
   ]
  },
  {
   "cell_type": "code",
   "execution_count": null,
   "metadata": {},
   "outputs": [],
   "source": [
    "complete['has disponent'].describe()"
   ]
  },
  {
   "cell_type": "code",
   "execution_count": null,
   "metadata": {},
   "outputs": [],
   "source": [
    "complete['has disponent'].value_counts().plot(kind='bar')"
   ]
  },
  {
   "cell_type": "code",
   "execution_count": null,
   "metadata": {},
   "outputs": [],
   "source": [
    "fig, ax = plt.subplots()\n",
    "ax.pie(complete['has disponent'].value_counts(), labels=complete['has disponent'].unique(), autopct='%1.1f%%', startangle = 90)\n",
    "ax.axis('equal')  # Equal aspect ratio ensures the pie chart is circular.\n",
    "ax.set_title('Account has disponent')\n",
    "\n",
    "plt.show()"
   ]
  },
  {
   "cell_type": "markdown",
   "metadata": {},
   "source": [
    "#### Remarks\n",
    "Despite the frequency disparity between the two possible values, another person besides the owner associated with an account may imply a higher or lower chance of loan payment."
   ]
  },
  {
   "cell_type": "code",
   "execution_count": null,
   "metadata": {},
   "outputs": [],
   "source": [
    "#complete.to_csv(\"./complete_data_comp_final_1.csv\", sep=\";\")"
   ]
  },
  {
   "cell_type": "code",
   "execution_count": null,
   "metadata": {},
   "outputs": [],
   "source": [
    "#complete.loc[complete['age at loan (Years)'] < 18]"
   ]
  },
  {
   "cell_type": "markdown",
   "metadata": {},
   "source": [
    "## 1.5 Multivariate Data Analysis of variability or dispersion"
   ]
  },
  {
   "cell_type": "code",
   "execution_count": null,
   "metadata": {},
   "outputs": [],
   "source": [
    "df_num = complete.select_dtypes(include = ['float64', 'int64'])\n",
    "df_num.columns"
   ]
  },
  {
   "cell_type": "markdown",
   "metadata": {},
   "source": [
    "### 1.5.1 Covariance Matrix"
   ]
  },
  {
   "cell_type": "code",
   "execution_count": null,
   "metadata": {},
   "outputs": [],
   "source": [
    "# plot the heatmap\n",
    "sns.heatmap(df_num.cov(), \n",
    "        xticklabels=df_num.columns,\n",
    "        yticklabels=df_num.columns)"
   ]
  },
  {
   "cell_type": "markdown",
   "metadata": {},
   "source": [
    "#### Remarks"
   ]
  },
  {
   "cell_type": "markdown",
   "metadata": {},
   "source": [
    "### 1.5.2 Correlation Matrix"
   ]
  },
  {
   "cell_type": "markdown",
   "metadata": {},
   "source": [
    "#### 1.5.2.1 Pearson (standard correlation coefficient)"
   ]
  },
  {
   "cell_type": "code",
   "execution_count": null,
   "metadata": {
    "scrolled": true
   },
   "outputs": [],
   "source": [
    "pearsoncorr = df_num.corr(method='pearson').round(2)\n",
    "pearsoncorr"
   ]
  },
  {
   "cell_type": "code",
   "execution_count": null,
   "metadata": {},
   "outputs": [],
   "source": [
    "fig, ax = plt.subplots(figsize=(15,10)) \n",
    "sns.heatmap(pearsoncorr, \n",
    "            xticklabels=pearsoncorr.columns,\n",
    "            yticklabels=pearsoncorr.columns,\n",
    "            cmap='RdBu_r',\n",
    "            linewidth=0.5,\n",
    "            annot=True,\n",
    "            ax=ax)"
   ]
  },
  {
   "cell_type": "code",
   "execution_count": null,
   "metadata": {},
   "outputs": [],
   "source": [
    "complete['loan status'].corr(complete['average salary '])"
   ]
  },
  {
   "cell_type": "code",
   "execution_count": null,
   "metadata": {},
   "outputs": [],
   "source": [
    "from scipy import stats"
   ]
  },
  {
   "cell_type": "code",
   "execution_count": null,
   "metadata": {},
   "outputs": [],
   "source": [
    "r, p = stats.pearsonr(complete['loan status'], complete['average salary '])\n",
    "print(round(r, 4))\n",
    "print(round(p, 4))"
   ]
  },
  {
   "cell_type": "code",
   "execution_count": null,
   "metadata": {
    "scrolled": false
   },
   "outputs": [],
   "source": [
    "corr_df = pd.DataFrame(columns=['r', 'p'])\n",
    "\n",
    "for col in complete:\n",
    "    if pd.api.types.is_numeric_dtype(complete[col]) and col != 'loan status':\n",
    "        r, p = stats.pearsonr(complete['loan status'], complete[col])\n",
    "        corr_df.loc[col] = [round(r, 3), round(p, 3)]\n",
    "    \n",
    "corr_df"
   ]
  },
  {
   "cell_type": "code",
   "execution_count": null,
   "metadata": {},
   "outputs": [],
   "source": [
    "corr_df.loc[(corr_df['p'] <= 0.05)]"
   ]
  },
  {
   "cell_type": "markdown",
   "metadata": {},
   "source": [
    "#### 1.5.2.2 Spearman (Spearman rank correlation)"
   ]
  },
  {
   "cell_type": "code",
   "execution_count": null,
   "metadata": {
    "scrolled": true
   },
   "outputs": [],
   "source": [
    "spearmancorr = df_num.corr(method='spearman').round(2)\n",
    "spearmancorr"
   ]
  },
  {
   "cell_type": "code",
   "execution_count": null,
   "metadata": {},
   "outputs": [],
   "source": [
    "fig, ax = plt.subplots(figsize=(15,10)) \n",
    "\n",
    "# Getting the Upper Triangle of the co-relation matrix\n",
    "matrix = np.triu(spearmancorr)\n",
    "\n",
    "sns.heatmap(spearmancorr, \n",
    "            xticklabels=spearmancorr.columns,\n",
    "            yticklabels=spearmancorr.columns,\n",
    "            cmap='RdBu_r',\n",
    "            linewidth=0.5,\n",
    "            annot=True,\n",
    "            ax=ax,\n",
    "           mask=matrix)"
   ]
  },
  {
   "cell_type": "markdown",
   "metadata": {},
   "source": [
    "#### Remarks"
   ]
  },
  {
   "cell_type": "markdown",
   "metadata": {},
   "source": [
    "## 1.6 Data Visualization: Bivariate/Multivariate Graphs"
   ]
  },
  {
   "cell_type": "markdown",
   "metadata": {},
   "source": [
    "### N Transactions / Operations / Types "
   ]
  },
  {
   "cell_type": "code",
   "execution_count": null,
   "metadata": {
    "scrolled": false
   },
   "outputs": [],
   "source": [
    "#sns.pairplot(df_num[['# trans', 'oper #1', 'oper #2', 'oper #3', 'oper #4', 'oper #5', 'type #1', 'type #2', 'type #3']])"
   ]
  },
  {
   "cell_type": "markdown",
   "metadata": {},
   "source": [
    "### avg trans amount / avg trans balance"
   ]
  },
  {
   "cell_type": "code",
   "execution_count": null,
   "metadata": {},
   "outputs": [],
   "source": [
    "#complete[['avg trans amount', 'avg trans balance']].plot.scatter(x=\"avg trans amount\", y=\"avg trans balance\");"
   ]
  },
  {
   "cell_type": "code",
   "execution_count": null,
   "metadata": {},
   "outputs": [],
   "source": [
    "#complete[['avg trans amount', 'avg trans balance']].plot.hexbin(x=\"avg trans amount\", y=\"avg trans balance\", gridsize=25);"
   ]
  },
  {
   "cell_type": "markdown",
   "metadata": {},
   "source": [
    "### loan amount / avg trans amount / avg trans balance"
   ]
  },
  {
   "cell_type": "code",
   "execution_count": null,
   "metadata": {},
   "outputs": [],
   "source": [
    "#fig, ax = plt.subplots()\n",
    "#complete.plot(kind='scatter',x='avg trans amount', y='avg trans balance', c='loan amount', colormap='RdBu_r', ax=ax)\n",
    "#plt.show()"
   ]
  },
  {
   "cell_type": "code",
   "execution_count": null,
   "metadata": {
    "scrolled": false
   },
   "outputs": [],
   "source": [
    "%matplotlib notebook\n",
    "fig = plt.figure()\n",
    "ax = fig.add_subplot(projection='3d')\n",
    "\n",
    "ax.scatter(complete['avg trans amount'], complete['avg trans balance'], complete[\"loan amount\"], c='g', marker='o')\n",
    "\n",
    "ax.set_xlabel('avg trans amount')\n",
    "ax.set_ylabel('avg trans balance')\n",
    "ax.set_zlabel('loan amount')\n",
    "\n",
    "\n",
    "plt.show()"
   ]
  },
  {
   "cell_type": "markdown",
   "metadata": {},
   "source": [
    "### loan duration (mths) / loan amount"
   ]
  },
  {
   "cell_type": "code",
   "execution_count": null,
   "metadata": {},
   "outputs": [],
   "source": [
    "#complete[['loan duration (mths)', 'loan amount']].plot.hexbin(x='loan duration (mths)', y='loan amount', gridsize=25);"
   ]
  },
  {
   "cell_type": "markdown",
   "metadata": {},
   "source": [
    "### loan payments / avg trans amount, avg trans balance, loan amount"
   ]
  },
  {
   "cell_type": "code",
   "execution_count": null,
   "metadata": {},
   "outputs": [],
   "source": [
    "fig = plt.figure()\n",
    "ax = fig.add_subplot(111, projection='3d')\n",
    "\n",
    "x = complete['loan payments']\n",
    "y = complete['avg trans amount']\n",
    "z = complete['avg trans balance']\n",
    "c = complete['loan amount']\n",
    "\n",
    "ax.set_xlabel('loan payments')\n",
    "ax.set_ylabel('avg trans amount')\n",
    "ax.set_zlabel('avg trans balance')\n",
    "\n",
    "img = ax.scatter(x, y, z, c=c, cmap=plt.hot())\n",
    "fig.colorbar(img)\n",
    "plt.show()"
   ]
  },
  {
   "cell_type": "markdown",
   "metadata": {},
   "source": [
    "#### Remarks: loan amount increase seem to imply higher loan payments as expected"
   ]
  },
  {
   "cell_type": "markdown",
   "metadata": {},
   "source": [
    "### loan status / loan amount, loan payments"
   ]
  },
  {
   "cell_type": "code",
   "execution_count": null,
   "metadata": {},
   "outputs": [],
   "source": [
    "#fig, ax = plt.subplots()\n",
    "#complete.plot(kind='scatter',x='loan amount', y='loan payments', c='loan status', colormap='winter', ax=ax)\n",
    "#plt.show()"
   ]
  },
  {
   "cell_type": "code",
   "execution_count": null,
   "metadata": {},
   "outputs": [],
   "source": [
    "#complete[['loan amount', 'loan payments', 'loan status']].plot.hexbin(x='loan amount', y='loan payments', C='loan status', gridsize=25);"
   ]
  },
  {
   "cell_type": "markdown",
   "metadata": {},
   "source": [
    "### no. of cities / no. of inhabitants"
   ]
  },
  {
   "cell_type": "code",
   "execution_count": null,
   "metadata": {},
   "outputs": [],
   "source": [
    "#complete[['no. of cities ', 'no. of inhabitants']].plot.scatter(x='no. of cities ', y='no. of inhabitants');"
   ]
  },
  {
   "cell_type": "markdown",
   "metadata": {},
   "source": [
    "### ratio of urban inhabitants / no. of inhabitants, no. of cities"
   ]
  },
  {
   "cell_type": "code",
   "execution_count": null,
   "metadata": {
    "scrolled": false
   },
   "outputs": [],
   "source": [
    "#fig, ax = plt.subplots()\n",
    "#complete.plot(kind='scatter',x='no. of cities ', y='no. of inhabitants', c='ratio of urban inhabitants ', colormap='RdBu_r', ax=ax)\n",
    "#ax.set_ylabel(\"no. of inhabitants\")\n",
    "#plt.show()"
   ]
  },
  {
   "cell_type": "markdown",
   "metadata": {},
   "source": [
    "### avg salary / no. of inhabitants, no. of cities, ratio of urban inhabitants"
   ]
  },
  {
   "cell_type": "code",
   "execution_count": null,
   "metadata": {},
   "outputs": [],
   "source": [
    "fig = plt.figure()\n",
    "ax = fig.add_subplot(111, projection='3d')\n",
    "\n",
    "x = complete['average salary ']\n",
    "y = complete['no. of inhabitants']\n",
    "z = complete['no. of cities ']\n",
    "c = complete['ratio of urban inhabitants ']\n",
    "\n",
    "ax.set_xlabel('avg salary')\n",
    "ax.set_ylabel('no. of inhabitants')\n",
    "ax.set_zlabel('no. of cities')\n",
    "\n",
    "img = ax.scatter(x, y, z, c=c, cmap='RdBu_r')\n",
    "fig.colorbar(img)\n",
    "plt.show()"
   ]
  },
  {
   "cell_type": "markdown",
   "metadata": {},
   "source": [
    "### enterpreneurs / no. of inhabitants, ratio of urban inhabitants, avg salary"
   ]
  },
  {
   "cell_type": "code",
   "execution_count": null,
   "metadata": {},
   "outputs": [],
   "source": [
    "fig = plt.figure()\n",
    "ax = fig.add_subplot(111, projection='3d')\n",
    "\n",
    "x = complete['no. of enterpreneurs per 1000 inhabitants ']\n",
    "y = complete['no. of inhabitants']\n",
    "z = complete['average salary ']\n",
    "c = complete['ratio of urban inhabitants ']\n",
    "\n",
    "ax.set_xlabel('no. of enterpreneurs per 1000 inhabitants')\n",
    "ax.set_ylabel('no. of inhabitants')\n",
    "ax.set_zlabel('average salary')\n",
    "\n",
    "img = ax.scatter(x, y, z, c=c, cmap='RdBu_r')\n",
    "fig.colorbar(img)\n",
    "plt.show()"
   ]
  },
  {
   "cell_type": "markdown",
   "metadata": {},
   "source": [
    "### unemploymant rate / no. of inhabitants, avg salary, enterpreneurs"
   ]
  },
  {
   "cell_type": "code",
   "execution_count": null,
   "metadata": {},
   "outputs": [],
   "source": [
    "fig = plt.figure()\n",
    "ax = fig.add_subplot(111, projection='3d')\n",
    "\n",
    "x = complete['unemploymant rate']\n",
    "y = complete['no. of inhabitants']\n",
    "z = complete['no. of enterpreneurs per 1000 inhabitants ']\n",
    "c = complete['average salary ']\n",
    "\n",
    "ax.set_xlabel('unemploymant rate')\n",
    "ax.set_ylabel('no. of inhabitants')\n",
    "ax.set_zlabel('no. of enterpreneurs per 1000 inhabitants')\n",
    "\n",
    "img = ax.scatter(x, y, z, c=c, cmap='RdBu_r')\n",
    "fig.colorbar(img)\n",
    "plt.show()"
   ]
  },
  {
   "cell_type": "markdown",
   "metadata": {},
   "source": [
    "### crimes / no. of cities, no. of inhabitants, ratio of urban inhabitants, avg salary, unemployment"
   ]
  },
  {
   "cell_type": "code",
   "execution_count": null,
   "metadata": {},
   "outputs": [],
   "source": [
    "fig = plt.figure()\n",
    "ax = fig.add_subplot(111, projection='3d')\n",
    "\n",
    "x = complete['ratio of urban inhabitants ']\n",
    "y = complete['no. of inhabitants']\n",
    "z = complete['average salary ']\n",
    "c = complete['no. of commited crimes per capita']\n",
    "\n",
    "ax.set_xlabel('ratio of urban inhabitants')\n",
    "ax.set_ylabel('no. of inhabitants')\n",
    "ax.set_zlabel('average salary')\n",
    "\n",
    "img = ax.scatter(x, y, z, c=c, cmap='RdBu_r')\n",
    "fig.colorbar(img)\n",
    "plt.show()"
   ]
  },
  {
   "cell_type": "code",
   "execution_count": null,
   "metadata": {},
   "outputs": [],
   "source": [
    "fig = plt.figure()\n",
    "ax = fig.add_subplot(111, projection='3d')\n",
    "\n",
    "x = complete['ratio of urban inhabitants ']\n",
    "y = complete['no. of cities ']\n",
    "z = complete['average salary ']\n",
    "c = complete['no. of commited crimes per capita']\n",
    "\n",
    "ax.set_xlabel('ratio of urban inhabitants')\n",
    "ax.set_ylabel('no. of cities')\n",
    "ax.set_zlabel('average salary')\n",
    "\n",
    "img = ax.scatter(x, y, z, c=c, cmap='RdBu_r')\n",
    "fig.colorbar(img)\n",
    "plt.show()"
   ]
  },
  {
   "cell_type": "code",
   "execution_count": null,
   "metadata": {},
   "outputs": [],
   "source": [
    "fig = plt.figure()\n",
    "ax = fig.add_subplot(111, projection='3d')\n",
    "\n",
    "x = complete['ratio of urban inhabitants ']\n",
    "y = complete['unemploymant rate']\n",
    "z = complete['average salary ']\n",
    "c = complete['no. of commited crimes per capita']\n",
    "\n",
    "ax.set_xlabel('ratio of urban inhabitants')\n",
    "ax.set_ylabel('unemploymant rate')\n",
    "ax.set_zlabel('average salary')\n",
    "\n",
    "img = ax.scatter(x, y, z, c=c, cmap='RdBu_r')\n",
    "fig.colorbar(img)\n",
    "plt.show()"
   ]
  },
  {
   "cell_type": "code",
   "execution_count": null,
   "metadata": {},
   "outputs": [],
   "source": []
  },
  {
   "cell_type": "code",
   "execution_count": null,
   "metadata": {
    "scrolled": false
   },
   "outputs": [],
   "source": []
  },
  {
   "cell_type": "code",
   "execution_count": null,
   "metadata": {},
   "outputs": [],
   "source": []
  },
  {
   "cell_type": "code",
   "execution_count": null,
   "metadata": {},
   "outputs": [],
   "source": []
  },
  {
   "cell_type": "markdown",
   "metadata": {},
   "source": [
    "# --- Under here not 'redone' ---"
   ]
  },
  {
   "cell_type": "code",
   "execution_count": null,
   "metadata": {},
   "outputs": [],
   "source": []
  },
  {
   "cell_type": "code",
   "execution_count": null,
   "metadata": {},
   "outputs": [],
   "source": []
  },
  {
   "cell_type": "code",
   "execution_count": null,
   "metadata": {},
   "outputs": [],
   "source": [
    "temp = complete[['sex', 'loan status']]"
   ]
  },
  {
   "cell_type": "code",
   "execution_count": null,
   "metadata": {
    "scrolled": false
   },
   "outputs": [],
   "source": [
    "sns.swarmplot(x=\"loan amount\", y=\"sex\", data=complete[['sex', 'loan amount']])"
   ]
  },
  {
   "cell_type": "code",
   "execution_count": null,
   "metadata": {},
   "outputs": [],
   "source": [
    "ax = sns.swarmplot(x=\"loan status\", y=\"average salary \", hue=\"sex\", data=complete[['average salary ', 'loan status', 'sex']])"
   ]
  },
  {
   "cell_type": "code",
   "execution_count": null,
   "metadata": {},
   "outputs": [],
   "source": []
  },
  {
   "cell_type": "code",
   "execution_count": null,
   "metadata": {},
   "outputs": [],
   "source": [
    "# Number of transactions, loan amount, avg amount per transaction\n",
    "\n",
    "fig, ax = plt.subplots()\n",
    "complete.plot(kind='scatter',x='# trans', y='loan amount', c='avg trans amount', colormap='viridis', ax=ax)\n",
    "ax.set_xlabel(\"# trans\")\n",
    "plt.show()"
   ]
  },
  {
   "cell_type": "code",
   "execution_count": null,
   "metadata": {},
   "outputs": [],
   "source": [
    "# %matplotlib notebook\n",
    "fig = plt.figure()\n",
    "ax = fig.add_subplot(projection='3d')\n",
    "\n",
    "ax.scatter(complete['average salary '], complete['loan amount'], complete[\"unemploymant rate\"], c='g', marker='o')\n",
    "\n",
    "ax.set_xlabel('average salary')\n",
    "ax.set_ylabel('loan amount')\n",
    "ax.set_zlabel('unemploymant rate')\n",
    "\n",
    "\n",
    "plt.show()"
   ]
  },
  {
   "cell_type": "markdown",
   "metadata": {},
   "source": [
    "#### Missing Values"
   ]
  },
  {
   "cell_type": "code",
   "execution_count": null,
   "metadata": {},
   "outputs": [],
   "source": [
    "total = complete.isnull().sum().sort_values(ascending=False)\n",
    "percent = (complete.isnull().sum()/complete.isnull().count()).sort_values(ascending=False)\n",
    "missing_data = pd.concat([total, percent], axis=1, keys=['Total', 'Percent'])\n",
    "print(\"Total number of rows: \", end=\"\"); print(complete.shape[0])\n",
    "missing_data.head(10)"
   ]
  },
  {
   "cell_type": "code",
   "execution_count": null,
   "metadata": {},
   "outputs": [],
   "source": []
  },
  {
   "cell_type": "code",
   "execution_count": null,
   "metadata": {},
   "outputs": [],
   "source": []
  },
  {
   "cell_type": "code",
   "execution_count": null,
   "metadata": {},
   "outputs": [],
   "source": [
    "#df_num = complete.select_dtypes(include = ['float64', 'int64'])\n",
    "#df_num.head()"
   ]
  },
  {
   "cell_type": "code",
   "execution_count": null,
   "metadata": {},
   "outputs": [],
   "source": []
  },
  {
   "cell_type": "code",
   "execution_count": null,
   "metadata": {},
   "outputs": [],
   "source": [
    "#df_num.hist(figsize=(16, 20), bins=50, xlabelsize=8, ylabelsize=8);"
   ]
  },
  {
   "cell_type": "code",
   "execution_count": null,
   "metadata": {},
   "outputs": [],
   "source": [
    "corr = complete.corr()['loan status']\n",
    "corr"
   ]
  },
  {
   "cell_type": "code",
   "execution_count": null,
   "metadata": {},
   "outputs": [],
   "source": [
    "#sns.heatmap(complete.corr(method='pearson'))"
   ]
  },
  {
   "cell_type": "markdown",
   "metadata": {},
   "source": [
    "#### Outliers"
   ]
  },
  {
   "cell_type": "code",
   "execution_count": null,
   "metadata": {},
   "outputs": [],
   "source": [
    "#subset = complete[['loan amount', 'loan payments']]\n",
    "#subset['loan payments'] = subset['loan payments'] * 30\n",
    "#subset.plot.box();"
   ]
  },
  {
   "cell_type": "code",
   "execution_count": null,
   "metadata": {},
   "outputs": [],
   "source": [
    "#complete['average salary '].plot.box();"
   ]
  },
  {
   "cell_type": "code",
   "execution_count": null,
   "metadata": {},
   "outputs": [],
   "source": [
    "mpl.rcParams.update(mpl.rcParamsDefault)\n",
    "plt.figure(figsize=(16,5))\n",
    "plt.subplot(1,2,1)\n",
    "sns.distplot(complete['loan amount'])\n",
    "plt.subplot(1,2,2)\n",
    "sns.distplot(complete['average salary '])\n",
    "plt.show()"
   ]
  },
  {
   "cell_type": "code",
   "execution_count": null,
   "metadata": {},
   "outputs": [],
   "source": [
    "# Finding how many \n",
    "df_mask = complete['average salary '] > 12000\n",
    "# print(len(complete[df_mask].index))\n",
    "complete[df_mask]"
   ]
  },
  {
   "cell_type": "code",
   "execution_count": null,
   "metadata": {},
   "outputs": [],
   "source": []
  }
 ],
 "metadata": {
  "kernelspec": {
   "display_name": "Python 3",
   "language": "python",
   "name": "python3"
  },
  "language_info": {
   "codemirror_mode": {
    "name": "ipython",
    "version": 3
   },
   "file_extension": ".py",
   "mimetype": "text/x-python",
   "name": "python",
   "nbconvert_exporter": "python",
   "pygments_lexer": "ipython3",
   "version": "3.8.5"
  }
 },
 "nbformat": 4,
 "nbformat_minor": 2
}
