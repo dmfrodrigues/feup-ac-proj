{
 "cells": [
  {
   "cell_type": "code",
   "execution_count": 1,
   "metadata": {},
   "outputs": [],
   "source": [
    "import pandas as pd\n",
    "import matplotlib as mpl\n",
    "import matplotlib.pyplot as plt\n",
    "import seaborn as sns\n",
    "import numpy as np\n",
    "from datetime import datetime\n",
    "\n",
    "from mpl_toolkits.mplot3d import Axes3D\n",
    "\n",
    "import warnings\n",
    "warnings.filterwarnings('ignore')\n",
    "#pd.set_option('display.max_rows', None)\n",
    "pd.set_option('display.max_columns', None)\n",
    "\n"
   ]
  },
  {
   "cell_type": "markdown",
   "metadata": {},
   "source": [
    "# 1. Data Understanding / Preparation"
   ]
  },
  {
   "cell_type": "markdown",
   "metadata": {},
   "source": [
    "## 1.1 Data Retrieval"
   ]
  },
  {
   "cell_type": "code",
   "execution_count": 34,
   "metadata": {},
   "outputs": [],
   "source": [
    "# Reading Accounts' Data\n",
    "acc = pd.read_csv(\"./processed/account.csv\", sep=\";\")\n",
    "\n",
    "# Reading Transactions' Data\n",
    "#trans = pd.read_csv(\"./processed/trans_dev.csv\", sep=\";\");\n",
    "trans = pd.read_csv(\"./processed/trans_comp.csv\", sep=\";\");\n",
    "\n",
    "# Reading Loans' Data\n",
    "#loan = pd.read_csv(\"./processed/loan_dev.csv\", sep=\";\");\n",
    "loan = pd.read_csv(\"./processed/loan_comp.csv\", sep=\";\");\n",
    "\n",
    "# Reading Districts' Data\n",
    "dist = pd.read_csv(\"./raw/district.csv\", sep=\";\");\n",
    "\n",
    "# Reading Disponents' Data\n",
    "disp = pd.read_csv(\"./processed/disp.csv\", sep=\";\");\n",
    "\n",
    "# Reading Cards' Data\n",
    "#card = pd.read_csv(\"./processed/card_dev.csv\", sep=\";\");\n",
    "card = pd.read_csv(\"./processed/card_comp.csv\", sep=\";\");\n",
    "\n",
    "# Reading Clients' Data\n",
    "clie = pd.read_csv(\"./processed/client.csv\", sep=\";\");"
   ]
  },
  {
   "cell_type": "code",
   "execution_count": 35,
   "metadata": {},
   "outputs": [],
   "source": [
    "# Confirming all files were read successfully.\n",
    "# General overview of number of attributes (columns) and entries (rows) per table, missing values, types of variables.\n",
    "#for df in [acc, trans, loan, dist, disp, card, clie]:\n",
    "#    print(df.info())\n",
    "#    print(\"\\n\")"
   ]
  },
  {
   "cell_type": "markdown",
   "metadata": {},
   "source": [
    "## 1.2 Data Integration - Grouping all columns of all files into a single dataframe"
   ]
  },
  {
   "cell_type": "code",
   "execution_count": 36,
   "metadata": {},
   "outputs": [
    {
     "name": "stdout",
     "output_type": "stream",
     "text": [
      "(354, 43)\n"
     ]
    },
    {
     "data": {
      "text/html": [
       "<div>\n",
       "<style scoped>\n",
       "    .dataframe tbody tr th:only-of-type {\n",
       "        vertical-align: middle;\n",
       "    }\n",
       "\n",
       "    .dataframe tbody tr th {\n",
       "        vertical-align: top;\n",
       "    }\n",
       "\n",
       "    .dataframe thead th {\n",
       "        text-align: right;\n",
       "    }\n",
       "</style>\n",
       "<table border=\"1\" class=\"dataframe\">\n",
       "  <thead>\n",
       "    <tr style=\"text-align: right;\">\n",
       "      <th></th>\n",
       "      <th>account_id</th>\n",
       "      <th>district_id</th>\n",
       "      <th>frequency</th>\n",
       "      <th>date</th>\n",
       "      <th># trans</th>\n",
       "      <th>oper #1</th>\n",
       "      <th>oper #2</th>\n",
       "      <th>oper #3</th>\n",
       "      <th>oper #4</th>\n",
       "      <th>oper #5</th>\n",
       "      <th>type #1</th>\n",
       "      <th>type #2</th>\n",
       "      <th>type #3</th>\n",
       "      <th>avg trans amount</th>\n",
       "      <th>avg trans balance</th>\n",
       "      <th>loan_id</th>\n",
       "      <th>loan date</th>\n",
       "      <th>loan amount</th>\n",
       "      <th>loan duration (mths)</th>\n",
       "      <th>loan payments</th>\n",
       "      <th>loan status</th>\n",
       "      <th>district_name</th>\n",
       "      <th>district_region</th>\n",
       "      <th>no. of inhabitants</th>\n",
       "      <th>no. of municipalities with inhabitants &lt; 499</th>\n",
       "      <th>no. of municipalities with inhabitants 500-1999</th>\n",
       "      <th>no. of municipalities with inhabitants 2000-9999</th>\n",
       "      <th>no. of municipalities with inhabitants &gt;10000</th>\n",
       "      <th>no. of cities</th>\n",
       "      <th>ratio of urban inhabitants</th>\n",
       "      <th>average salary</th>\n",
       "      <th>unemploymant rate '95</th>\n",
       "      <th>unemploymant rate '96</th>\n",
       "      <th>no. of enterpreneurs per 1000 inhabitants</th>\n",
       "      <th>no. of commited crimes '95</th>\n",
       "      <th>no. of commited crimes '96</th>\n",
       "      <th>client_id</th>\n",
       "      <th>card_id</th>\n",
       "      <th>card type</th>\n",
       "      <th>issued</th>\n",
       "      <th>birthdate</th>\n",
       "      <th>sex</th>\n",
       "      <th>has disponent</th>\n",
       "    </tr>\n",
       "  </thead>\n",
       "  <tbody>\n",
       "    <tr>\n",
       "      <th>0</th>\n",
       "      <td>5724</td>\n",
       "      <td>14</td>\n",
       "      <td>issuance after transaction</td>\n",
       "      <td>1995-04-19</td>\n",
       "      <td>176.0</td>\n",
       "      <td>3.0</td>\n",
       "      <td>NaN</td>\n",
       "      <td>20.0</td>\n",
       "      <td>61.0</td>\n",
       "      <td>72.0</td>\n",
       "      <td>126.0</td>\n",
       "      <td>7.0</td>\n",
       "      <td>43.0</td>\n",
       "      <td>7217.39</td>\n",
       "      <td>40175.61</td>\n",
       "      <td>6173</td>\n",
       "      <td>1997-01-08</td>\n",
       "      <td>232560</td>\n",
       "      <td>48</td>\n",
       "      <td>4845</td>\n",
       "      <td>NaN</td>\n",
       "      <td>Ceske Budejovice</td>\n",
       "      <td>south Bohemia</td>\n",
       "      <td>177686</td>\n",
       "      <td>69</td>\n",
       "      <td>27</td>\n",
       "      <td>10</td>\n",
       "      <td>1</td>\n",
       "      <td>9</td>\n",
       "      <td>74.8</td>\n",
       "      <td>10045</td>\n",
       "      <td>1.42</td>\n",
       "      <td>1.71</td>\n",
       "      <td>135</td>\n",
       "      <td>6604</td>\n",
       "      <td>6295</td>\n",
       "      <td>6922</td>\n",
       "      <td>NaN</td>\n",
       "      <td>NaN</td>\n",
       "      <td>NaN</td>\n",
       "      <td>1939-04-27</td>\n",
       "      <td>F</td>\n",
       "      <td>False</td>\n",
       "    </tr>\n",
       "    <tr>\n",
       "      <th>1</th>\n",
       "      <td>4456</td>\n",
       "      <td>14</td>\n",
       "      <td>monthly issuance</td>\n",
       "      <td>1996-09-03</td>\n",
       "      <td>136.0</td>\n",
       "      <td>38.0</td>\n",
       "      <td>NaN</td>\n",
       "      <td>NaN</td>\n",
       "      <td>NaN</td>\n",
       "      <td>81.0</td>\n",
       "      <td>74.0</td>\n",
       "      <td>7.0</td>\n",
       "      <td>55.0</td>\n",
       "      <td>13228.34</td>\n",
       "      <td>76826.46</td>\n",
       "      <td>5889</td>\n",
       "      <td>1998-02-09</td>\n",
       "      <td>321240</td>\n",
       "      <td>60</td>\n",
       "      <td>5354</td>\n",
       "      <td>NaN</td>\n",
       "      <td>Ceske Budejovice</td>\n",
       "      <td>south Bohemia</td>\n",
       "      <td>177686</td>\n",
       "      <td>69</td>\n",
       "      <td>27</td>\n",
       "      <td>10</td>\n",
       "      <td>1</td>\n",
       "      <td>9</td>\n",
       "      <td>74.8</td>\n",
       "      <td>10045</td>\n",
       "      <td>1.42</td>\n",
       "      <td>1.71</td>\n",
       "      <td>135</td>\n",
       "      <td>6604</td>\n",
       "      <td>6295</td>\n",
       "      <td>5376</td>\n",
       "      <td>NaN</td>\n",
       "      <td>NaN</td>\n",
       "      <td>NaN</td>\n",
       "      <td>1970-01-23</td>\n",
       "      <td>M</td>\n",
       "      <td>False</td>\n",
       "    </tr>\n",
       "    <tr>\n",
       "      <th>2</th>\n",
       "      <td>8381</td>\n",
       "      <td>14</td>\n",
       "      <td>monthly issuance</td>\n",
       "      <td>1996-09-17</td>\n",
       "      <td>97.0</td>\n",
       "      <td>25.0</td>\n",
       "      <td>NaN</td>\n",
       "      <td>NaN</td>\n",
       "      <td>14.0</td>\n",
       "      <td>40.0</td>\n",
       "      <td>50.0</td>\n",
       "      <td>4.0</td>\n",
       "      <td>43.0</td>\n",
       "      <td>12692.52</td>\n",
       "      <td>61748.70</td>\n",
       "      <td>6705</td>\n",
       "      <td>1997-07-25</td>\n",
       "      <td>333648</td>\n",
       "      <td>48</td>\n",
       "      <td>6951</td>\n",
       "      <td>NaN</td>\n",
       "      <td>Ceske Budejovice</td>\n",
       "      <td>south Bohemia</td>\n",
       "      <td>177686</td>\n",
       "      <td>69</td>\n",
       "      <td>27</td>\n",
       "      <td>10</td>\n",
       "      <td>1</td>\n",
       "      <td>9</td>\n",
       "      <td>74.8</td>\n",
       "      <td>10045</td>\n",
       "      <td>1.42</td>\n",
       "      <td>1.71</td>\n",
       "      <td>135</td>\n",
       "      <td>6604</td>\n",
       "      <td>6295</td>\n",
       "      <td>10355</td>\n",
       "      <td>NaN</td>\n",
       "      <td>NaN</td>\n",
       "      <td>NaN</td>\n",
       "      <td>1976-07-10</td>\n",
       "      <td>F</td>\n",
       "      <td>False</td>\n",
       "    </tr>\n",
       "    <tr>\n",
       "      <th>3</th>\n",
       "      <td>309</td>\n",
       "      <td>14</td>\n",
       "      <td>monthly issuance</td>\n",
       "      <td>1997-04-25</td>\n",
       "      <td>99.0</td>\n",
       "      <td>21.0</td>\n",
       "      <td>NaN</td>\n",
       "      <td>NaN</td>\n",
       "      <td>NaN</td>\n",
       "      <td>60.0</td>\n",
       "      <td>60.0</td>\n",
       "      <td>NaN</td>\n",
       "      <td>39.0</td>\n",
       "      <td>7918.74</td>\n",
       "      <td>30173.12</td>\n",
       "      <td>5036</td>\n",
       "      <td>1998-11-25</td>\n",
       "      <td>91248</td>\n",
       "      <td>48</td>\n",
       "      <td>1901</td>\n",
       "      <td>NaN</td>\n",
       "      <td>Ceske Budejovice</td>\n",
       "      <td>south Bohemia</td>\n",
       "      <td>177686</td>\n",
       "      <td>69</td>\n",
       "      <td>27</td>\n",
       "      <td>10</td>\n",
       "      <td>1</td>\n",
       "      <td>9</td>\n",
       "      <td>74.8</td>\n",
       "      <td>10045</td>\n",
       "      <td>1.42</td>\n",
       "      <td>1.71</td>\n",
       "      <td>135</td>\n",
       "      <td>6604</td>\n",
       "      <td>6295</td>\n",
       "      <td>376</td>\n",
       "      <td>NaN</td>\n",
       "      <td>NaN</td>\n",
       "      <td>NaN</td>\n",
       "      <td>1973-01-08</td>\n",
       "      <td>F</td>\n",
       "      <td>False</td>\n",
       "    </tr>\n",
       "    <tr>\n",
       "      <th>4</th>\n",
       "      <td>10351</td>\n",
       "      <td>23</td>\n",
       "      <td>monthly issuance</td>\n",
       "      <td>1995-05-04</td>\n",
       "      <td>131.0</td>\n",
       "      <td>33.0</td>\n",
       "      <td>NaN</td>\n",
       "      <td>NaN</td>\n",
       "      <td>18.0</td>\n",
       "      <td>58.0</td>\n",
       "      <td>76.0</td>\n",
       "      <td>NaN</td>\n",
       "      <td>55.0</td>\n",
       "      <td>2751.43</td>\n",
       "      <td>18675.06</td>\n",
       "      <td>7115</td>\n",
       "      <td>1997-03-04</td>\n",
       "      <td>88704</td>\n",
       "      <td>48</td>\n",
       "      <td>1848</td>\n",
       "      <td>NaN</td>\n",
       "      <td>Cheb</td>\n",
       "      <td>west Bohemia</td>\n",
       "      <td>87419</td>\n",
       "      <td>21</td>\n",
       "      <td>11</td>\n",
       "      <td>4</td>\n",
       "      <td>3</td>\n",
       "      <td>9</td>\n",
       "      <td>85.5</td>\n",
       "      <td>8624</td>\n",
       "      <td>1.79</td>\n",
       "      <td>2.66</td>\n",
       "      <td>102</td>\n",
       "      <td>2879</td>\n",
       "      <td>3198</td>\n",
       "      <td>12738</td>\n",
       "      <td>NaN</td>\n",
       "      <td>NaN</td>\n",
       "      <td>NaN</td>\n",
       "      <td>1960-10-29</td>\n",
       "      <td>F</td>\n",
       "      <td>True</td>\n",
       "    </tr>\n",
       "    <tr>\n",
       "      <th>...</th>\n",
       "      <td>...</td>\n",
       "      <td>...</td>\n",
       "      <td>...</td>\n",
       "      <td>...</td>\n",
       "      <td>...</td>\n",
       "      <td>...</td>\n",
       "      <td>...</td>\n",
       "      <td>...</td>\n",
       "      <td>...</td>\n",
       "      <td>...</td>\n",
       "      <td>...</td>\n",
       "      <td>...</td>\n",
       "      <td>...</td>\n",
       "      <td>...</td>\n",
       "      <td>...</td>\n",
       "      <td>...</td>\n",
       "      <td>...</td>\n",
       "      <td>...</td>\n",
       "      <td>...</td>\n",
       "      <td>...</td>\n",
       "      <td>...</td>\n",
       "      <td>...</td>\n",
       "      <td>...</td>\n",
       "      <td>...</td>\n",
       "      <td>...</td>\n",
       "      <td>...</td>\n",
       "      <td>...</td>\n",
       "      <td>...</td>\n",
       "      <td>...</td>\n",
       "      <td>...</td>\n",
       "      <td>...</td>\n",
       "      <td>...</td>\n",
       "      <td>...</td>\n",
       "      <td>...</td>\n",
       "      <td>...</td>\n",
       "      <td>...</td>\n",
       "      <td>...</td>\n",
       "      <td>...</td>\n",
       "      <td>...</td>\n",
       "      <td>...</td>\n",
       "      <td>...</td>\n",
       "      <td>...</td>\n",
       "      <td>...</td>\n",
       "    </tr>\n",
       "    <tr>\n",
       "      <th>349</th>\n",
       "      <td>9167</td>\n",
       "      <td>56</td>\n",
       "      <td>monthly issuance</td>\n",
       "      <td>1997-04-02</td>\n",
       "      <td>80.0</td>\n",
       "      <td>18.0</td>\n",
       "      <td>NaN</td>\n",
       "      <td>NaN</td>\n",
       "      <td>16.0</td>\n",
       "      <td>26.0</td>\n",
       "      <td>37.0</td>\n",
       "      <td>5.0</td>\n",
       "      <td>38.0</td>\n",
       "      <td>7196.52</td>\n",
       "      <td>39041.92</td>\n",
       "      <td>6859</td>\n",
       "      <td>1998-03-07</td>\n",
       "      <td>272220</td>\n",
       "      <td>60</td>\n",
       "      <td>4537</td>\n",
       "      <td>NaN</td>\n",
       "      <td>Breclav</td>\n",
       "      <td>south Moravia</td>\n",
       "      <td>124605</td>\n",
       "      <td>11</td>\n",
       "      <td>42</td>\n",
       "      <td>14</td>\n",
       "      <td>1</td>\n",
       "      <td>8</td>\n",
       "      <td>46.0</td>\n",
       "      <td>8772</td>\n",
       "      <td>4.69</td>\n",
       "      <td>4.98</td>\n",
       "      <td>126</td>\n",
       "      <td>2854</td>\n",
       "      <td>3158</td>\n",
       "      <td>11286</td>\n",
       "      <td>NaN</td>\n",
       "      <td>NaN</td>\n",
       "      <td>NaN</td>\n",
       "      <td>1940-11-27</td>\n",
       "      <td>F</td>\n",
       "      <td>False</td>\n",
       "    </tr>\n",
       "    <tr>\n",
       "      <th>350</th>\n",
       "      <td>7559</td>\n",
       "      <td>56</td>\n",
       "      <td>monthly issuance</td>\n",
       "      <td>1997-05-24</td>\n",
       "      <td>78.0</td>\n",
       "      <td>22.0</td>\n",
       "      <td>NaN</td>\n",
       "      <td>NaN</td>\n",
       "      <td>9.0</td>\n",
       "      <td>34.0</td>\n",
       "      <td>43.0</td>\n",
       "      <td>NaN</td>\n",
       "      <td>35.0</td>\n",
       "      <td>2558.96</td>\n",
       "      <td>28534.94</td>\n",
       "      <td>6539</td>\n",
       "      <td>1998-07-11</td>\n",
       "      <td>12792</td>\n",
       "      <td>12</td>\n",
       "      <td>1066</td>\n",
       "      <td>NaN</td>\n",
       "      <td>Breclav</td>\n",
       "      <td>south Moravia</td>\n",
       "      <td>124605</td>\n",
       "      <td>11</td>\n",
       "      <td>42</td>\n",
       "      <td>14</td>\n",
       "      <td>1</td>\n",
       "      <td>8</td>\n",
       "      <td>46.0</td>\n",
       "      <td>8772</td>\n",
       "      <td>4.69</td>\n",
       "      <td>4.98</td>\n",
       "      <td>126</td>\n",
       "      <td>2854</td>\n",
       "      <td>3158</td>\n",
       "      <td>9362</td>\n",
       "      <td>NaN</td>\n",
       "      <td>NaN</td>\n",
       "      <td>NaN</td>\n",
       "      <td>1973-07-19</td>\n",
       "      <td>F</td>\n",
       "      <td>False</td>\n",
       "    </tr>\n",
       "    <tr>\n",
       "      <th>351</th>\n",
       "      <td>1318</td>\n",
       "      <td>56</td>\n",
       "      <td>monthly issuance</td>\n",
       "      <td>1997-12-22</td>\n",
       "      <td>35.0</td>\n",
       "      <td>11.0</td>\n",
       "      <td>NaN</td>\n",
       "      <td>NaN</td>\n",
       "      <td>7.0</td>\n",
       "      <td>10.0</td>\n",
       "      <td>15.0</td>\n",
       "      <td>2.0</td>\n",
       "      <td>18.0</td>\n",
       "      <td>7575.05</td>\n",
       "      <td>27729.92</td>\n",
       "      <td>5226</td>\n",
       "      <td>1998-10-11</td>\n",
       "      <td>185544</td>\n",
       "      <td>36</td>\n",
       "      <td>5154</td>\n",
       "      <td>NaN</td>\n",
       "      <td>Breclav</td>\n",
       "      <td>south Moravia</td>\n",
       "      <td>124605</td>\n",
       "      <td>11</td>\n",
       "      <td>42</td>\n",
       "      <td>14</td>\n",
       "      <td>1</td>\n",
       "      <td>8</td>\n",
       "      <td>46.0</td>\n",
       "      <td>8772</td>\n",
       "      <td>4.69</td>\n",
       "      <td>4.98</td>\n",
       "      <td>126</td>\n",
       "      <td>2854</td>\n",
       "      <td>3158</td>\n",
       "      <td>1594</td>\n",
       "      <td>NaN</td>\n",
       "      <td>NaN</td>\n",
       "      <td>NaN</td>\n",
       "      <td>1939-09-29</td>\n",
       "      <td>M</td>\n",
       "      <td>False</td>\n",
       "    </tr>\n",
       "    <tr>\n",
       "      <th>352</th>\n",
       "      <td>1447</td>\n",
       "      <td>65</td>\n",
       "      <td>monthly issuance</td>\n",
       "      <td>1997-02-20</td>\n",
       "      <td>10.0</td>\n",
       "      <td>2.0</td>\n",
       "      <td>NaN</td>\n",
       "      <td>3.0</td>\n",
       "      <td>NaN</td>\n",
       "      <td>2.0</td>\n",
       "      <td>2.0</td>\n",
       "      <td>NaN</td>\n",
       "      <td>8.0</td>\n",
       "      <td>5374.27</td>\n",
       "      <td>22604.34</td>\n",
       "      <td>5253</td>\n",
       "      <td>1997-06-03</td>\n",
       "      <td>100080</td>\n",
       "      <td>48</td>\n",
       "      <td>2085</td>\n",
       "      <td>NaN</td>\n",
       "      <td>Znojmo</td>\n",
       "      <td>south Moravia</td>\n",
       "      <td>114200</td>\n",
       "      <td>101</td>\n",
       "      <td>41</td>\n",
       "      <td>4</td>\n",
       "      <td>1</td>\n",
       "      <td>4</td>\n",
       "      <td>43.7</td>\n",
       "      <td>8403</td>\n",
       "      <td>5.74</td>\n",
       "      <td>5.72</td>\n",
       "      <td>105</td>\n",
       "      <td>2157</td>\n",
       "      <td>2718</td>\n",
       "      <td>1755</td>\n",
       "      <td>NaN</td>\n",
       "      <td>NaN</td>\n",
       "      <td>NaN</td>\n",
       "      <td>1965-08-18</td>\n",
       "      <td>F</td>\n",
       "      <td>False</td>\n",
       "    </tr>\n",
       "    <tr>\n",
       "      <th>353</th>\n",
       "      <td>37</td>\n",
       "      <td>20</td>\n",
       "      <td>monthly issuance</td>\n",
       "      <td>1997-08-18</td>\n",
       "      <td>116.0</td>\n",
       "      <td>18.0</td>\n",
       "      <td>NaN</td>\n",
       "      <td>NaN</td>\n",
       "      <td>36.0</td>\n",
       "      <td>48.0</td>\n",
       "      <td>82.0</td>\n",
       "      <td>2.0</td>\n",
       "      <td>32.0</td>\n",
       "      <td>7572.00</td>\n",
       "      <td>39953.97</td>\n",
       "      <td>4967</td>\n",
       "      <td>1998-10-14</td>\n",
       "      <td>318480</td>\n",
       "      <td>60</td>\n",
       "      <td>5308</td>\n",
       "      <td>NaN</td>\n",
       "      <td>Strakonice</td>\n",
       "      <td>south Bohemia</td>\n",
       "      <td>70646</td>\n",
       "      <td>94</td>\n",
       "      <td>14</td>\n",
       "      <td>3</td>\n",
       "      <td>1</td>\n",
       "      <td>4</td>\n",
       "      <td>58.4</td>\n",
       "      <td>8547</td>\n",
       "      <td>2.65</td>\n",
       "      <td>3.64</td>\n",
       "      <td>120</td>\n",
       "      <td>1563</td>\n",
       "      <td>1542</td>\n",
       "      <td>45</td>\n",
       "      <td>NaN</td>\n",
       "      <td>NaN</td>\n",
       "      <td>NaN</td>\n",
       "      <td>1952-08-26</td>\n",
       "      <td>M</td>\n",
       "      <td>False</td>\n",
       "    </tr>\n",
       "  </tbody>\n",
       "</table>\n",
       "<p>354 rows × 43 columns</p>\n",
       "</div>"
      ],
      "text/plain": [
       "     account_id  district_id                   frequency        date  # trans  \\\n",
       "0          5724           14  issuance after transaction  1995-04-19    176.0   \n",
       "1          4456           14            monthly issuance  1996-09-03    136.0   \n",
       "2          8381           14            monthly issuance  1996-09-17     97.0   \n",
       "3           309           14            monthly issuance  1997-04-25     99.0   \n",
       "4         10351           23            monthly issuance  1995-05-04    131.0   \n",
       "..          ...          ...                         ...         ...      ...   \n",
       "349        9167           56            monthly issuance  1997-04-02     80.0   \n",
       "350        7559           56            monthly issuance  1997-05-24     78.0   \n",
       "351        1318           56            monthly issuance  1997-12-22     35.0   \n",
       "352        1447           65            monthly issuance  1997-02-20     10.0   \n",
       "353          37           20            monthly issuance  1997-08-18    116.0   \n",
       "\n",
       "     oper #1  oper #2  oper #3  oper #4  oper #5  type #1  type #2  type #3  \\\n",
       "0        3.0      NaN     20.0     61.0     72.0    126.0      7.0     43.0   \n",
       "1       38.0      NaN      NaN      NaN     81.0     74.0      7.0     55.0   \n",
       "2       25.0      NaN      NaN     14.0     40.0     50.0      4.0     43.0   \n",
       "3       21.0      NaN      NaN      NaN     60.0     60.0      NaN     39.0   \n",
       "4       33.0      NaN      NaN     18.0     58.0     76.0      NaN     55.0   \n",
       "..       ...      ...      ...      ...      ...      ...      ...      ...   \n",
       "349     18.0      NaN      NaN     16.0     26.0     37.0      5.0     38.0   \n",
       "350     22.0      NaN      NaN      9.0     34.0     43.0      NaN     35.0   \n",
       "351     11.0      NaN      NaN      7.0     10.0     15.0      2.0     18.0   \n",
       "352      2.0      NaN      3.0      NaN      2.0      2.0      NaN      8.0   \n",
       "353     18.0      NaN      NaN     36.0     48.0     82.0      2.0     32.0   \n",
       "\n",
       "     avg trans amount  avg trans balance  loan_id   loan date  loan amount  \\\n",
       "0             7217.39           40175.61     6173  1997-01-08       232560   \n",
       "1            13228.34           76826.46     5889  1998-02-09       321240   \n",
       "2            12692.52           61748.70     6705  1997-07-25       333648   \n",
       "3             7918.74           30173.12     5036  1998-11-25        91248   \n",
       "4             2751.43           18675.06     7115  1997-03-04        88704   \n",
       "..                ...                ...      ...         ...          ...   \n",
       "349           7196.52           39041.92     6859  1998-03-07       272220   \n",
       "350           2558.96           28534.94     6539  1998-07-11        12792   \n",
       "351           7575.05           27729.92     5226  1998-10-11       185544   \n",
       "352           5374.27           22604.34     5253  1997-06-03       100080   \n",
       "353           7572.00           39953.97     4967  1998-10-14       318480   \n",
       "\n",
       "     loan duration (mths)  loan payments  loan status     district_name  \\\n",
       "0                      48           4845          NaN  Ceske Budejovice   \n",
       "1                      60           5354          NaN  Ceske Budejovice   \n",
       "2                      48           6951          NaN  Ceske Budejovice   \n",
       "3                      48           1901          NaN  Ceske Budejovice   \n",
       "4                      48           1848          NaN              Cheb   \n",
       "..                    ...            ...          ...               ...   \n",
       "349                    60           4537          NaN           Breclav   \n",
       "350                    12           1066          NaN           Breclav   \n",
       "351                    36           5154          NaN           Breclav   \n",
       "352                    48           2085          NaN            Znojmo   \n",
       "353                    60           5308          NaN        Strakonice   \n",
       "\n",
       "    district_region  no. of inhabitants  \\\n",
       "0     south Bohemia              177686   \n",
       "1     south Bohemia              177686   \n",
       "2     south Bohemia              177686   \n",
       "3     south Bohemia              177686   \n",
       "4      west Bohemia               87419   \n",
       "..              ...                 ...   \n",
       "349   south Moravia              124605   \n",
       "350   south Moravia              124605   \n",
       "351   south Moravia              124605   \n",
       "352   south Moravia              114200   \n",
       "353   south Bohemia               70646   \n",
       "\n",
       "     no. of municipalities with inhabitants < 499   \\\n",
       "0                                               69   \n",
       "1                                               69   \n",
       "2                                               69   \n",
       "3                                               69   \n",
       "4                                               21   \n",
       "..                                             ...   \n",
       "349                                             11   \n",
       "350                                             11   \n",
       "351                                             11   \n",
       "352                                            101   \n",
       "353                                             94   \n",
       "\n",
       "     no. of municipalities with inhabitants 500-1999  \\\n",
       "0                                                 27   \n",
       "1                                                 27   \n",
       "2                                                 27   \n",
       "3                                                 27   \n",
       "4                                                 11   \n",
       "..                                               ...   \n",
       "349                                               42   \n",
       "350                                               42   \n",
       "351                                               42   \n",
       "352                                               41   \n",
       "353                                               14   \n",
       "\n",
       "     no. of municipalities with inhabitants 2000-9999   \\\n",
       "0                                                   10   \n",
       "1                                                   10   \n",
       "2                                                   10   \n",
       "3                                                   10   \n",
       "4                                                    4   \n",
       "..                                                 ...   \n",
       "349                                                 14   \n",
       "350                                                 14   \n",
       "351                                                 14   \n",
       "352                                                  4   \n",
       "353                                                  3   \n",
       "\n",
       "     no. of municipalities with inhabitants >10000   no. of cities   \\\n",
       "0                                                 1               9   \n",
       "1                                                 1               9   \n",
       "2                                                 1               9   \n",
       "3                                                 1               9   \n",
       "4                                                 3               9   \n",
       "..                                              ...             ...   \n",
       "349                                               1               8   \n",
       "350                                               1               8   \n",
       "351                                               1               8   \n",
       "352                                               1               4   \n",
       "353                                               1               4   \n",
       "\n",
       "     ratio of urban inhabitants   average salary  unemploymant rate '95   \\\n",
       "0                           74.8            10045                   1.42   \n",
       "1                           74.8            10045                   1.42   \n",
       "2                           74.8            10045                   1.42   \n",
       "3                           74.8            10045                   1.42   \n",
       "4                           85.5             8624                   1.79   \n",
       "..                           ...              ...                    ...   \n",
       "349                         46.0             8772                   4.69   \n",
       "350                         46.0             8772                   4.69   \n",
       "351                         46.0             8772                   4.69   \n",
       "352                         43.7             8403                   5.74   \n",
       "353                         58.4             8547                   2.65   \n",
       "\n",
       "     unemploymant rate '96   no. of enterpreneurs per 1000 inhabitants   \\\n",
       "0                      1.71                                         135   \n",
       "1                      1.71                                         135   \n",
       "2                      1.71                                         135   \n",
       "3                      1.71                                         135   \n",
       "4                      2.66                                         102   \n",
       "..                      ...                                         ...   \n",
       "349                    4.98                                         126   \n",
       "350                    4.98                                         126   \n",
       "351                    4.98                                         126   \n",
       "352                    5.72                                         105   \n",
       "353                    3.64                                         120   \n",
       "\n",
       "    no. of commited crimes '95   no. of commited crimes '96   client_id  \\\n",
       "0                          6604                         6295       6922   \n",
       "1                          6604                         6295       5376   \n",
       "2                          6604                         6295      10355   \n",
       "3                          6604                         6295        376   \n",
       "4                          2879                         3198      12738   \n",
       "..                          ...                          ...        ...   \n",
       "349                        2854                         3158      11286   \n",
       "350                        2854                         3158       9362   \n",
       "351                        2854                         3158       1594   \n",
       "352                        2157                         2718       1755   \n",
       "353                        1563                         1542         45   \n",
       "\n",
       "     card_id card type issued   birthdate sex  has disponent  \n",
       "0        NaN       NaN    NaN  1939-04-27   F          False  \n",
       "1        NaN       NaN    NaN  1970-01-23   M          False  \n",
       "2        NaN       NaN    NaN  1976-07-10   F          False  \n",
       "3        NaN       NaN    NaN  1973-01-08   F          False  \n",
       "4        NaN       NaN    NaN  1960-10-29   F           True  \n",
       "..       ...       ...    ...         ...  ..            ...  \n",
       "349      NaN       NaN    NaN  1940-11-27   F          False  \n",
       "350      NaN       NaN    NaN  1973-07-19   F          False  \n",
       "351      NaN       NaN    NaN  1939-09-29   M          False  \n",
       "352      NaN       NaN    NaN  1965-08-18   F          False  \n",
       "353      NaN       NaN    NaN  1952-08-26   M          False  \n",
       "\n",
       "[354 rows x 43 columns]"
      ]
     },
     "execution_count": 36,
     "metadata": {},
     "output_type": "execute_result"
    }
   ],
   "source": [
    "# Merging Accounts' and Transactions' Data\n",
    "\n",
    "complete = pd.merge(acc, pd.DataFrame(trans.groupby('account_id').size(), columns=['# trans']), right_index=True, left_on='account_id', how=\"outer\")\n",
    "\n",
    "# Oper 1 - credit in cash, Oper 2 - credit card withdrawal, Oper 3 - collection from another bank, Oper 4 - remittance to another bank, Oper 5 - withdrawal in cash\n",
    "complete = pd.merge(complete, pd.DataFrame(trans[trans['operation']=='credit in cash'].groupby('account_id').size(), columns=['oper #1']), right_index=True, left_on='account_id', how=\"outer\")\n",
    "complete = pd.merge(complete, pd.DataFrame(trans[trans['operation']=='credit card withdrawal'].groupby('account_id').size(), columns=['oper #2']), right_index=True, left_on='account_id', how=\"outer\")\n",
    "complete = pd.merge(complete, pd.DataFrame(trans[trans['operation']=='collection from another bank'].groupby('account_id').size(), columns=['oper #3']), right_index=True, left_on='account_id', how=\"outer\")\n",
    "complete = pd.merge(complete, pd.DataFrame(trans[trans['operation']=='remittance to another bank'].groupby('account_id').size(), columns=['oper #4']), right_index=True, left_on='account_id', how=\"outer\")\n",
    "complete = pd.merge(complete, pd.DataFrame(trans[trans['operation']=='withdrawal in cash'].groupby('account_id').size(), columns=['oper #5']), right_index=True, left_on='account_id', how=\"outer\")\n",
    "\n",
    "# Type 1 - withdrawal, Type 2 - withdrawal in cash, Type 3 - credit \n",
    "complete = pd.merge(complete, pd.DataFrame(trans[trans['type']=='withdrawal'].groupby('account_id').size(), columns=['type #1']), right_index=True, left_on='account_id', how=\"outer\")\n",
    "complete = pd.merge(complete, pd.DataFrame(trans[trans['type']=='withdrawal in cash'].groupby('account_id').size(), columns=['type #2']), right_index=True, left_on='account_id', how=\"outer\")\n",
    "complete = pd.merge(complete, pd.DataFrame(trans[trans['type']=='credit'].groupby('account_id').size(), columns=['type #3']), right_index=True, left_on='account_id', how=\"outer\")\n",
    "\n",
    "complete = pd.merge(complete, pd.DataFrame(trans.groupby('account_id').amount.mean().round(2)).rename(columns={'amount':'avg trans amount'}), right_index=True, left_on='account_id', how=\"outer\")\n",
    "complete = pd.merge(complete, pd.DataFrame(trans.groupby('account_id').balance.mean().round(2)).rename(columns={'balance':'avg trans balance'}), right_index=True, left_on='account_id', how=\"outer\")\n",
    "# (4500, 15)\n",
    "\n",
    "# ------------------------\n",
    "\n",
    "# Merging with Loans' Data\n",
    "complete = pd.merge(complete, loan.rename(columns={'date': 'loan date', 'amount': 'loan amount', 'duration': 'loan duration (mths)', 'payments': 'loan payments', 'status': 'loan status'}))\n",
    "# (328, 21)\n",
    "\n",
    "# ------------------------\n",
    "\n",
    "# Merging with Districts' Data\n",
    "complete = pd.merge(complete, dist.rename(columns={'code ': 'district_id', 'name ': 'district_name', 'region': 'district_region'}))\n",
    "# (328, 36)\n",
    "\n",
    "# ------------------------\n",
    "\n",
    "# Merging Disp' and Cards' Data\n",
    "disp = disp.rename(columns={\"type\": \"disp type\"})\n",
    "disp['has disponent'] = np.where(disp['disp type'] == 'DISPONENT', True, False)\n",
    "card = card.rename(columns={\"type\": \"card type\"})\n",
    "disp_card = pd.merge(disp, card, how=\"outer\")\n",
    "# (5369, 9)\n",
    "\n",
    "# ------------------------\n",
    "\n",
    "# Merging Previous with Clients' Data\n",
    "disp_card_clie = pd.merge(disp_card, clie).drop_duplicates(subset=['account_id']).drop(columns=['has disponent', 'disp type', 'district_id', 'disp_id'])\n",
    "# (4500, 7)\n",
    "temp = pd.merge(disp_card_clie, pd.DataFrame(disp_card.groupby('account_id').size(), columns = ['count owner']), right_index=True, left_on='account_id', how=\"outer\")\n",
    "disp_card_clie['has disponent'] = np.where(temp['count owner'] == 2, True, False)\n",
    "# (4500, 8)\n",
    "\n",
    "# ------------------------\n",
    "\n",
    "# Merging Previous subset with the rest\n",
    "complete = pd.merge(complete, disp_card_clie)\n",
    "\n",
    "\n",
    "print(complete.shape)\n",
    "complete\n"
   ]
  },
  {
   "cell_type": "markdown",
   "metadata": {},
   "source": [
    "### 1.2.1 Replacing by 0 columns refering to number of transactions (operations / types) that are NaN (weren't filled in"
   ]
  },
  {
   "cell_type": "code",
   "execution_count": 37,
   "metadata": {},
   "outputs": [
    {
     "data": {
      "text/html": [
       "<div>\n",
       "<style scoped>\n",
       "    .dataframe tbody tr th:only-of-type {\n",
       "        vertical-align: middle;\n",
       "    }\n",
       "\n",
       "    .dataframe tbody tr th {\n",
       "        vertical-align: top;\n",
       "    }\n",
       "\n",
       "    .dataframe thead th {\n",
       "        text-align: right;\n",
       "    }\n",
       "</style>\n",
       "<table border=\"1\" class=\"dataframe\">\n",
       "  <thead>\n",
       "    <tr style=\"text-align: right;\">\n",
       "      <th></th>\n",
       "      <th>account_id</th>\n",
       "      <th>district_id</th>\n",
       "      <th>frequency</th>\n",
       "      <th>date</th>\n",
       "      <th># trans</th>\n",
       "      <th>oper #1</th>\n",
       "      <th>oper #2</th>\n",
       "      <th>oper #3</th>\n",
       "      <th>oper #4</th>\n",
       "      <th>oper #5</th>\n",
       "      <th>type #1</th>\n",
       "      <th>type #2</th>\n",
       "      <th>type #3</th>\n",
       "      <th>avg trans amount</th>\n",
       "      <th>avg trans balance</th>\n",
       "      <th>loan_id</th>\n",
       "      <th>loan date</th>\n",
       "      <th>loan amount</th>\n",
       "      <th>loan duration (mths)</th>\n",
       "      <th>loan payments</th>\n",
       "      <th>loan status</th>\n",
       "      <th>district_name</th>\n",
       "      <th>district_region</th>\n",
       "      <th>no. of inhabitants</th>\n",
       "      <th>no. of municipalities with inhabitants &lt; 499</th>\n",
       "      <th>no. of municipalities with inhabitants 500-1999</th>\n",
       "      <th>no. of municipalities with inhabitants 2000-9999</th>\n",
       "      <th>no. of municipalities with inhabitants &gt;10000</th>\n",
       "      <th>no. of cities</th>\n",
       "      <th>ratio of urban inhabitants</th>\n",
       "      <th>average salary</th>\n",
       "      <th>unemploymant rate '95</th>\n",
       "      <th>unemploymant rate '96</th>\n",
       "      <th>no. of enterpreneurs per 1000 inhabitants</th>\n",
       "      <th>no. of commited crimes '95</th>\n",
       "      <th>no. of commited crimes '96</th>\n",
       "      <th>client_id</th>\n",
       "      <th>card_id</th>\n",
       "      <th>card type</th>\n",
       "      <th>issued</th>\n",
       "      <th>birthdate</th>\n",
       "      <th>sex</th>\n",
       "      <th>has disponent</th>\n",
       "    </tr>\n",
       "  </thead>\n",
       "  <tbody>\n",
       "    <tr>\n",
       "      <th>0</th>\n",
       "      <td>5724</td>\n",
       "      <td>14</td>\n",
       "      <td>issuance after transaction</td>\n",
       "      <td>1995-04-19</td>\n",
       "      <td>176.0</td>\n",
       "      <td>3.0</td>\n",
       "      <td>0.0</td>\n",
       "      <td>20.0</td>\n",
       "      <td>61.0</td>\n",
       "      <td>72.0</td>\n",
       "      <td>126.0</td>\n",
       "      <td>7.0</td>\n",
       "      <td>43.0</td>\n",
       "      <td>7217.39</td>\n",
       "      <td>40175.61</td>\n",
       "      <td>6173</td>\n",
       "      <td>1997-01-08</td>\n",
       "      <td>232560</td>\n",
       "      <td>48</td>\n",
       "      <td>4845</td>\n",
       "      <td>NaN</td>\n",
       "      <td>Ceske Budejovice</td>\n",
       "      <td>south Bohemia</td>\n",
       "      <td>177686</td>\n",
       "      <td>69</td>\n",
       "      <td>27</td>\n",
       "      <td>10</td>\n",
       "      <td>1</td>\n",
       "      <td>9</td>\n",
       "      <td>74.8</td>\n",
       "      <td>10045</td>\n",
       "      <td>1.42</td>\n",
       "      <td>1.71</td>\n",
       "      <td>135</td>\n",
       "      <td>6604</td>\n",
       "      <td>6295</td>\n",
       "      <td>6922</td>\n",
       "      <td>NaN</td>\n",
       "      <td>NaN</td>\n",
       "      <td>NaN</td>\n",
       "      <td>1939-04-27</td>\n",
       "      <td>F</td>\n",
       "      <td>False</td>\n",
       "    </tr>\n",
       "    <tr>\n",
       "      <th>1</th>\n",
       "      <td>4456</td>\n",
       "      <td>14</td>\n",
       "      <td>monthly issuance</td>\n",
       "      <td>1996-09-03</td>\n",
       "      <td>136.0</td>\n",
       "      <td>38.0</td>\n",
       "      <td>0.0</td>\n",
       "      <td>0.0</td>\n",
       "      <td>0.0</td>\n",
       "      <td>81.0</td>\n",
       "      <td>74.0</td>\n",
       "      <td>7.0</td>\n",
       "      <td>55.0</td>\n",
       "      <td>13228.34</td>\n",
       "      <td>76826.46</td>\n",
       "      <td>5889</td>\n",
       "      <td>1998-02-09</td>\n",
       "      <td>321240</td>\n",
       "      <td>60</td>\n",
       "      <td>5354</td>\n",
       "      <td>NaN</td>\n",
       "      <td>Ceske Budejovice</td>\n",
       "      <td>south Bohemia</td>\n",
       "      <td>177686</td>\n",
       "      <td>69</td>\n",
       "      <td>27</td>\n",
       "      <td>10</td>\n",
       "      <td>1</td>\n",
       "      <td>9</td>\n",
       "      <td>74.8</td>\n",
       "      <td>10045</td>\n",
       "      <td>1.42</td>\n",
       "      <td>1.71</td>\n",
       "      <td>135</td>\n",
       "      <td>6604</td>\n",
       "      <td>6295</td>\n",
       "      <td>5376</td>\n",
       "      <td>NaN</td>\n",
       "      <td>NaN</td>\n",
       "      <td>NaN</td>\n",
       "      <td>1970-01-23</td>\n",
       "      <td>M</td>\n",
       "      <td>False</td>\n",
       "    </tr>\n",
       "    <tr>\n",
       "      <th>2</th>\n",
       "      <td>8381</td>\n",
       "      <td>14</td>\n",
       "      <td>monthly issuance</td>\n",
       "      <td>1996-09-17</td>\n",
       "      <td>97.0</td>\n",
       "      <td>25.0</td>\n",
       "      <td>0.0</td>\n",
       "      <td>0.0</td>\n",
       "      <td>14.0</td>\n",
       "      <td>40.0</td>\n",
       "      <td>50.0</td>\n",
       "      <td>4.0</td>\n",
       "      <td>43.0</td>\n",
       "      <td>12692.52</td>\n",
       "      <td>61748.70</td>\n",
       "      <td>6705</td>\n",
       "      <td>1997-07-25</td>\n",
       "      <td>333648</td>\n",
       "      <td>48</td>\n",
       "      <td>6951</td>\n",
       "      <td>NaN</td>\n",
       "      <td>Ceske Budejovice</td>\n",
       "      <td>south Bohemia</td>\n",
       "      <td>177686</td>\n",
       "      <td>69</td>\n",
       "      <td>27</td>\n",
       "      <td>10</td>\n",
       "      <td>1</td>\n",
       "      <td>9</td>\n",
       "      <td>74.8</td>\n",
       "      <td>10045</td>\n",
       "      <td>1.42</td>\n",
       "      <td>1.71</td>\n",
       "      <td>135</td>\n",
       "      <td>6604</td>\n",
       "      <td>6295</td>\n",
       "      <td>10355</td>\n",
       "      <td>NaN</td>\n",
       "      <td>NaN</td>\n",
       "      <td>NaN</td>\n",
       "      <td>1976-07-10</td>\n",
       "      <td>F</td>\n",
       "      <td>False</td>\n",
       "    </tr>\n",
       "    <tr>\n",
       "      <th>3</th>\n",
       "      <td>309</td>\n",
       "      <td>14</td>\n",
       "      <td>monthly issuance</td>\n",
       "      <td>1997-04-25</td>\n",
       "      <td>99.0</td>\n",
       "      <td>21.0</td>\n",
       "      <td>0.0</td>\n",
       "      <td>0.0</td>\n",
       "      <td>0.0</td>\n",
       "      <td>60.0</td>\n",
       "      <td>60.0</td>\n",
       "      <td>0.0</td>\n",
       "      <td>39.0</td>\n",
       "      <td>7918.74</td>\n",
       "      <td>30173.12</td>\n",
       "      <td>5036</td>\n",
       "      <td>1998-11-25</td>\n",
       "      <td>91248</td>\n",
       "      <td>48</td>\n",
       "      <td>1901</td>\n",
       "      <td>NaN</td>\n",
       "      <td>Ceske Budejovice</td>\n",
       "      <td>south Bohemia</td>\n",
       "      <td>177686</td>\n",
       "      <td>69</td>\n",
       "      <td>27</td>\n",
       "      <td>10</td>\n",
       "      <td>1</td>\n",
       "      <td>9</td>\n",
       "      <td>74.8</td>\n",
       "      <td>10045</td>\n",
       "      <td>1.42</td>\n",
       "      <td>1.71</td>\n",
       "      <td>135</td>\n",
       "      <td>6604</td>\n",
       "      <td>6295</td>\n",
       "      <td>376</td>\n",
       "      <td>NaN</td>\n",
       "      <td>NaN</td>\n",
       "      <td>NaN</td>\n",
       "      <td>1973-01-08</td>\n",
       "      <td>F</td>\n",
       "      <td>False</td>\n",
       "    </tr>\n",
       "    <tr>\n",
       "      <th>4</th>\n",
       "      <td>10351</td>\n",
       "      <td>23</td>\n",
       "      <td>monthly issuance</td>\n",
       "      <td>1995-05-04</td>\n",
       "      <td>131.0</td>\n",
       "      <td>33.0</td>\n",
       "      <td>0.0</td>\n",
       "      <td>0.0</td>\n",
       "      <td>18.0</td>\n",
       "      <td>58.0</td>\n",
       "      <td>76.0</td>\n",
       "      <td>0.0</td>\n",
       "      <td>55.0</td>\n",
       "      <td>2751.43</td>\n",
       "      <td>18675.06</td>\n",
       "      <td>7115</td>\n",
       "      <td>1997-03-04</td>\n",
       "      <td>88704</td>\n",
       "      <td>48</td>\n",
       "      <td>1848</td>\n",
       "      <td>NaN</td>\n",
       "      <td>Cheb</td>\n",
       "      <td>west Bohemia</td>\n",
       "      <td>87419</td>\n",
       "      <td>21</td>\n",
       "      <td>11</td>\n",
       "      <td>4</td>\n",
       "      <td>3</td>\n",
       "      <td>9</td>\n",
       "      <td>85.5</td>\n",
       "      <td>8624</td>\n",
       "      <td>1.79</td>\n",
       "      <td>2.66</td>\n",
       "      <td>102</td>\n",
       "      <td>2879</td>\n",
       "      <td>3198</td>\n",
       "      <td>12738</td>\n",
       "      <td>NaN</td>\n",
       "      <td>NaN</td>\n",
       "      <td>NaN</td>\n",
       "      <td>1960-10-29</td>\n",
       "      <td>F</td>\n",
       "      <td>True</td>\n",
       "    </tr>\n",
       "  </tbody>\n",
       "</table>\n",
       "</div>"
      ],
      "text/plain": [
       "   account_id  district_id                   frequency        date  # trans  \\\n",
       "0        5724           14  issuance after transaction  1995-04-19    176.0   \n",
       "1        4456           14            monthly issuance  1996-09-03    136.0   \n",
       "2        8381           14            monthly issuance  1996-09-17     97.0   \n",
       "3         309           14            monthly issuance  1997-04-25     99.0   \n",
       "4       10351           23            monthly issuance  1995-05-04    131.0   \n",
       "\n",
       "   oper #1  oper #2  oper #3  oper #4  oper #5  type #1  type #2  type #3  \\\n",
       "0      3.0      0.0     20.0     61.0     72.0    126.0      7.0     43.0   \n",
       "1     38.0      0.0      0.0      0.0     81.0     74.0      7.0     55.0   \n",
       "2     25.0      0.0      0.0     14.0     40.0     50.0      4.0     43.0   \n",
       "3     21.0      0.0      0.0      0.0     60.0     60.0      0.0     39.0   \n",
       "4     33.0      0.0      0.0     18.0     58.0     76.0      0.0     55.0   \n",
       "\n",
       "   avg trans amount  avg trans balance  loan_id   loan date  loan amount  \\\n",
       "0           7217.39           40175.61     6173  1997-01-08       232560   \n",
       "1          13228.34           76826.46     5889  1998-02-09       321240   \n",
       "2          12692.52           61748.70     6705  1997-07-25       333648   \n",
       "3           7918.74           30173.12     5036  1998-11-25        91248   \n",
       "4           2751.43           18675.06     7115  1997-03-04        88704   \n",
       "\n",
       "   loan duration (mths)  loan payments  loan status     district_name  \\\n",
       "0                    48           4845          NaN  Ceske Budejovice   \n",
       "1                    60           5354          NaN  Ceske Budejovice   \n",
       "2                    48           6951          NaN  Ceske Budejovice   \n",
       "3                    48           1901          NaN  Ceske Budejovice   \n",
       "4                    48           1848          NaN              Cheb   \n",
       "\n",
       "  district_region  no. of inhabitants  \\\n",
       "0   south Bohemia              177686   \n",
       "1   south Bohemia              177686   \n",
       "2   south Bohemia              177686   \n",
       "3   south Bohemia              177686   \n",
       "4    west Bohemia               87419   \n",
       "\n",
       "   no. of municipalities with inhabitants < 499   \\\n",
       "0                                             69   \n",
       "1                                             69   \n",
       "2                                             69   \n",
       "3                                             69   \n",
       "4                                             21   \n",
       "\n",
       "   no. of municipalities with inhabitants 500-1999  \\\n",
       "0                                               27   \n",
       "1                                               27   \n",
       "2                                               27   \n",
       "3                                               27   \n",
       "4                                               11   \n",
       "\n",
       "   no. of municipalities with inhabitants 2000-9999   \\\n",
       "0                                                 10   \n",
       "1                                                 10   \n",
       "2                                                 10   \n",
       "3                                                 10   \n",
       "4                                                  4   \n",
       "\n",
       "   no. of municipalities with inhabitants >10000   no. of cities   \\\n",
       "0                                               1               9   \n",
       "1                                               1               9   \n",
       "2                                               1               9   \n",
       "3                                               1               9   \n",
       "4                                               3               9   \n",
       "\n",
       "   ratio of urban inhabitants   average salary  unemploymant rate '95   \\\n",
       "0                         74.8            10045                   1.42   \n",
       "1                         74.8            10045                   1.42   \n",
       "2                         74.8            10045                   1.42   \n",
       "3                         74.8            10045                   1.42   \n",
       "4                         85.5             8624                   1.79   \n",
       "\n",
       "   unemploymant rate '96   no. of enterpreneurs per 1000 inhabitants   \\\n",
       "0                    1.71                                         135   \n",
       "1                    1.71                                         135   \n",
       "2                    1.71                                         135   \n",
       "3                    1.71                                         135   \n",
       "4                    2.66                                         102   \n",
       "\n",
       "  no. of commited crimes '95   no. of commited crimes '96   client_id  \\\n",
       "0                        6604                         6295       6922   \n",
       "1                        6604                         6295       5376   \n",
       "2                        6604                         6295      10355   \n",
       "3                        6604                         6295        376   \n",
       "4                        2879                         3198      12738   \n",
       "\n",
       "   card_id card type issued   birthdate sex  has disponent  \n",
       "0      NaN       NaN    NaN  1939-04-27   F          False  \n",
       "1      NaN       NaN    NaN  1970-01-23   M          False  \n",
       "2      NaN       NaN    NaN  1976-07-10   F          False  \n",
       "3      NaN       NaN    NaN  1973-01-08   F          False  \n",
       "4      NaN       NaN    NaN  1960-10-29   F           True  "
      ]
     },
     "execution_count": 37,
     "metadata": {},
     "output_type": "execute_result"
    }
   ],
   "source": [
    "# NaN value is present in # operation / # type columns and represents that 0 were found. Therefore 0 is a more suitable value.\n",
    "for col in ['oper #1', 'oper #2', 'oper #3', 'oper #4', 'oper #5', 'type #1', 'type #2', 'type #3']:\n",
    "    complete[col] = complete[col].fillna(0)\n",
    "    \n",
    "complete.head()"
   ]
  },
  {
   "cell_type": "markdown",
   "metadata": {},
   "source": [
    "### 1.2.2 Deleting columns whose only purpose was to help in the join of tables (IDs) and/or are redundant"
   ]
  },
  {
   "cell_type": "code",
   "execution_count": 38,
   "metadata": {},
   "outputs": [
    {
     "name": "stdout",
     "output_type": "stream",
     "text": [
      "(354, 36)\n"
     ]
    },
    {
     "data": {
      "text/plain": [
       "Index(['frequency', 'date', '# trans', 'oper #1', 'oper #2', 'oper #3',\n",
       "       'oper #4', 'oper #5', 'type #1', 'type #2', 'type #3',\n",
       "       'avg trans amount', 'avg trans balance', 'loan_id', 'loan date',\n",
       "       'loan amount', 'loan duration (mths)', 'loan payments', 'loan status',\n",
       "       'no. of inhabitants', 'no. of municipalities with inhabitants < 499 ',\n",
       "       'no. of municipalities with inhabitants 500-1999',\n",
       "       'no. of municipalities with inhabitants 2000-9999 ',\n",
       "       'no. of municipalities with inhabitants >10000 ', 'no. of cities ',\n",
       "       'ratio of urban inhabitants ', 'average salary ',\n",
       "       'unemploymant rate '95 ', 'unemploymant rate '96 ',\n",
       "       'no. of enterpreneurs per 1000 inhabitants ',\n",
       "       'no. of commited crimes '95 ', 'no. of commited crimes '96 ',\n",
       "       'card type', 'birthdate', 'sex', 'has disponent'],\n",
       "      dtype='object')"
      ]
     },
     "execution_count": 38,
     "metadata": {},
     "output_type": "execute_result"
    }
   ],
   "source": [
    "# Removing attributes. district_name / district_region are redundant because they can be derived by the rest of the district columns\n",
    "complete = complete.drop(columns=['account_id', 'district_id', 'district_name', 'district_region', 'client_id', 'card_id'])\n",
    "\n",
    "# Doesn't seem to be useful, especially considering the very limited amount of data related to cards\n",
    "complete = complete.drop(columns=['issued'])\n",
    "\n",
    "print(complete.shape)\n",
    "complete.columns"
   ]
  },
  {
   "cell_type": "code",
   "execution_count": 39,
   "metadata": {},
   "outputs": [
    {
     "data": {
      "text/plain": [
       "Index(['frequency', 'acc date', '# trans', 'oper #1', 'oper #2', 'oper #3',\n",
       "       'oper #4', 'oper #5', 'type #1', 'type #2', 'type #3',\n",
       "       'avg trans amount', 'avg trans balance', 'loan_id', 'loan date',\n",
       "       'loan amount', 'loan duration (mths)', 'loan payments', 'loan status',\n",
       "       'no. of inhabitants', 'no. of municipalities with inhabitants < 499 ',\n",
       "       'no. of municipalities with inhabitants 500-1999',\n",
       "       'no. of municipalities with inhabitants 2000-9999 ',\n",
       "       'no. of municipalities with inhabitants >10000 ', 'no. of cities ',\n",
       "       'ratio of urban inhabitants ', 'average salary ',\n",
       "       'unemploymant rate '95 ', 'unemploymant rate '96 ',\n",
       "       'no. of enterpreneurs per 1000 inhabitants ',\n",
       "       'no. of commited crimes '95 ', 'no. of commited crimes '96 ',\n",
       "       'card type', 'birthdate', 'sex', 'has disponent'],\n",
       "      dtype='object')"
      ]
     },
     "execution_count": 39,
     "metadata": {},
     "output_type": "execute_result"
    }
   ],
   "source": [
    "complete = complete.rename(columns={'date': 'acc date'})\n",
    "complete.columns"
   ]
  },
  {
   "cell_type": "markdown",
   "metadata": {},
   "source": [
    "### 1.2.3 Account id as index"
   ]
  },
  {
   "cell_type": "code",
   "execution_count": 40,
   "metadata": {},
   "outputs": [],
   "source": [
    "complete = complete.set_index('loan_id')"
   ]
  },
  {
   "cell_type": "code",
   "execution_count": 41,
   "metadata": {},
   "outputs": [],
   "source": [
    "complete['age at loan (Years)'] = (pd.to_datetime(complete['loan date']) - pd.to_datetime(complete['birthdate'])).dt.total_seconds() / (365.25*24*3600)\n",
    "complete['acc age at loan (Years)'] = (pd.to_datetime(complete['loan date']) - pd.to_datetime(complete['acc date'])).dt.total_seconds() / (365.25*24*3600)"
   ]
  },
  {
   "cell_type": "code",
   "execution_count": 42,
   "metadata": {},
   "outputs": [],
   "source": [
    "complete.loc[complete[\"unemploymant rate '95 \"] == '?', \"unemploymant rate '95 \"] = complete[\"unemploymant rate '96 \"]\n",
    "complete.loc[complete[\"unemploymant rate '96 \"] == '?', \"unemploymant rate '96 \"] = complete[\"unemploymant rate '95 \"]"
   ]
  },
  {
   "cell_type": "code",
   "execution_count": 43,
   "metadata": {},
   "outputs": [],
   "source": [
    "complete[\"unemploymant rate\"] = (complete[\"unemploymant rate '95 \"].astype('float') + complete[\"unemploymant rate '96 \"].astype('float')) / 2.0\n",
    "complete = complete.drop(columns=[\"unemploymant rate '95 \", \"unemploymant rate '96 \"])"
   ]
  },
  {
   "cell_type": "code",
   "execution_count": 44,
   "metadata": {},
   "outputs": [],
   "source": [
    "complete.loc[complete[\"no. of commited crimes '95 \"] == '?', \"no. of commited crimes '95 \"] = complete[\"no. of commited crimes '96 \"]\n",
    "complete.loc[complete[\"no. of commited crimes '96 \"] == '?', \"no. of commited crimes '96 \"] = complete[\"no. of commited crimes '95 \"]"
   ]
  },
  {
   "cell_type": "code",
   "execution_count": 45,
   "metadata": {},
   "outputs": [],
   "source": [
    "complete[\"no. of commited crimes per capita\"] = (complete[\"no. of commited crimes '95 \"].astype('float') + complete[\"no. of commited crimes '96 \"].astype('float')) / 2.0 / complete[\"no. of inhabitants\"]\n",
    "complete = complete.drop(columns=[\"no. of commited crimes '95 \", \"no. of commited crimes '96 \"])"
   ]
  },
  {
   "cell_type": "code",
   "execution_count": 46,
   "metadata": {},
   "outputs": [],
   "source": [
    "complete['card type'] = complete['card type'].fillna('None')"
   ]
  },
  {
   "cell_type": "code",
   "execution_count": 47,
   "metadata": {
    "scrolled": true
   },
   "outputs": [
    {
     "data": {
      "text/html": [
       "<div>\n",
       "<style scoped>\n",
       "    .dataframe tbody tr th:only-of-type {\n",
       "        vertical-align: middle;\n",
       "    }\n",
       "\n",
       "    .dataframe tbody tr th {\n",
       "        vertical-align: top;\n",
       "    }\n",
       "\n",
       "    .dataframe thead th {\n",
       "        text-align: right;\n",
       "    }\n",
       "</style>\n",
       "<table border=\"1\" class=\"dataframe\">\n",
       "  <thead>\n",
       "    <tr style=\"text-align: right;\">\n",
       "      <th></th>\n",
       "      <th>frequency</th>\n",
       "      <th>acc date</th>\n",
       "      <th># trans</th>\n",
       "      <th>oper #1</th>\n",
       "      <th>oper #2</th>\n",
       "      <th>oper #3</th>\n",
       "      <th>oper #4</th>\n",
       "      <th>oper #5</th>\n",
       "      <th>type #1</th>\n",
       "      <th>type #2</th>\n",
       "      <th>type #3</th>\n",
       "      <th>avg trans amount</th>\n",
       "      <th>avg trans balance</th>\n",
       "      <th>loan date</th>\n",
       "      <th>loan amount</th>\n",
       "      <th>loan duration (mths)</th>\n",
       "      <th>loan payments</th>\n",
       "      <th>loan status</th>\n",
       "      <th>no. of inhabitants</th>\n",
       "      <th>no. of municipalities with inhabitants &lt; 499</th>\n",
       "      <th>no. of municipalities with inhabitants 500-1999</th>\n",
       "      <th>no. of municipalities with inhabitants 2000-9999</th>\n",
       "      <th>no. of municipalities with inhabitants &gt;10000</th>\n",
       "      <th>no. of cities</th>\n",
       "      <th>ratio of urban inhabitants</th>\n",
       "      <th>average salary</th>\n",
       "      <th>no. of enterpreneurs per 1000 inhabitants</th>\n",
       "      <th>card type</th>\n",
       "      <th>birthdate</th>\n",
       "      <th>sex</th>\n",
       "      <th>has disponent</th>\n",
       "      <th>age at loan (Years)</th>\n",
       "      <th>acc age at loan (Years)</th>\n",
       "      <th>unemploymant rate</th>\n",
       "      <th>no. of commited crimes per capita</th>\n",
       "    </tr>\n",
       "    <tr>\n",
       "      <th>loan_id</th>\n",
       "      <th></th>\n",
       "      <th></th>\n",
       "      <th></th>\n",
       "      <th></th>\n",
       "      <th></th>\n",
       "      <th></th>\n",
       "      <th></th>\n",
       "      <th></th>\n",
       "      <th></th>\n",
       "      <th></th>\n",
       "      <th></th>\n",
       "      <th></th>\n",
       "      <th></th>\n",
       "      <th></th>\n",
       "      <th></th>\n",
       "      <th></th>\n",
       "      <th></th>\n",
       "      <th></th>\n",
       "      <th></th>\n",
       "      <th></th>\n",
       "      <th></th>\n",
       "      <th></th>\n",
       "      <th></th>\n",
       "      <th></th>\n",
       "      <th></th>\n",
       "      <th></th>\n",
       "      <th></th>\n",
       "      <th></th>\n",
       "      <th></th>\n",
       "      <th></th>\n",
       "      <th></th>\n",
       "      <th></th>\n",
       "      <th></th>\n",
       "      <th></th>\n",
       "      <th></th>\n",
       "    </tr>\n",
       "  </thead>\n",
       "  <tbody>\n",
       "    <tr>\n",
       "      <th>5681</th>\n",
       "      <td>weekly issuance</td>\n",
       "      <td>1996-06-06</td>\n",
       "      <td>73.0</td>\n",
       "      <td>14.0</td>\n",
       "      <td>0.0</td>\n",
       "      <td>0.0</td>\n",
       "      <td>0.0</td>\n",
       "      <td>43.0</td>\n",
       "      <td>42.0</td>\n",
       "      <td>1.0</td>\n",
       "      <td>30.0</td>\n",
       "      <td>7446.94</td>\n",
       "      <td>36855.82</td>\n",
       "      <td>1997-10-20</td>\n",
       "      <td>68664</td>\n",
       "      <td>24</td>\n",
       "      <td>2861</td>\n",
       "      <td>NaN</td>\n",
       "      <td>109164</td>\n",
       "      <td>98</td>\n",
       "      <td>16</td>\n",
       "      <td>6</td>\n",
       "      <td>1</td>\n",
       "      <td>4</td>\n",
       "      <td>63.6</td>\n",
       "      <td>8757</td>\n",
       "      <td>96</td>\n",
       "      <td>None</td>\n",
       "      <td>1980-02-19</td>\n",
       "      <td>F</td>\n",
       "      <td>True</td>\n",
       "      <td>17.667351</td>\n",
       "      <td>1.371663</td>\n",
       "      <td>3.665</td>\n",
       "      <td>0.021449</td>\n",
       "    </tr>\n",
       "    <tr>\n",
       "      <th>6758</th>\n",
       "      <td>monthly issuance</td>\n",
       "      <td>1997-01-28</td>\n",
       "      <td>32.0</td>\n",
       "      <td>10.0</td>\n",
       "      <td>0.0</td>\n",
       "      <td>0.0</td>\n",
       "      <td>4.0</td>\n",
       "      <td>8.0</td>\n",
       "      <td>12.0</td>\n",
       "      <td>0.0</td>\n",
       "      <td>20.0</td>\n",
       "      <td>5645.51</td>\n",
       "      <td>32407.65</td>\n",
       "      <td>1997-07-29</td>\n",
       "      <td>33144</td>\n",
       "      <td>12</td>\n",
       "      <td>2762</td>\n",
       "      <td>NaN</td>\n",
       "      <td>285387</td>\n",
       "      <td>0</td>\n",
       "      <td>2</td>\n",
       "      <td>8</td>\n",
       "      <td>5</td>\n",
       "      <td>7</td>\n",
       "      <td>89.9</td>\n",
       "      <td>10177</td>\n",
       "      <td>81</td>\n",
       "      <td>None</td>\n",
       "      <td>1980-01-27</td>\n",
       "      <td>F</td>\n",
       "      <td>True</td>\n",
       "      <td>17.503080</td>\n",
       "      <td>0.498289</td>\n",
       "      <td>7.190</td>\n",
       "      <td>0.035016</td>\n",
       "    </tr>\n",
       "    <tr>\n",
       "      <th>6386</th>\n",
       "      <td>monthly issuance</td>\n",
       "      <td>1995-08-19</td>\n",
       "      <td>148.0</td>\n",
       "      <td>26.0</td>\n",
       "      <td>0.0</td>\n",
       "      <td>0.0</td>\n",
       "      <td>51.0</td>\n",
       "      <td>51.0</td>\n",
       "      <td>101.0</td>\n",
       "      <td>1.0</td>\n",
       "      <td>46.0</td>\n",
       "      <td>6250.36</td>\n",
       "      <td>25654.38</td>\n",
       "      <td>1997-04-30</td>\n",
       "      <td>124344</td>\n",
       "      <td>36</td>\n",
       "      <td>3454</td>\n",
       "      <td>NaN</td>\n",
       "      <td>161854</td>\n",
       "      <td>73</td>\n",
       "      <td>21</td>\n",
       "      <td>6</td>\n",
       "      <td>1</td>\n",
       "      <td>6</td>\n",
       "      <td>76.3</td>\n",
       "      <td>9425</td>\n",
       "      <td>125</td>\n",
       "      <td>None</td>\n",
       "      <td>1979-06-08</td>\n",
       "      <td>F</td>\n",
       "      <td>False</td>\n",
       "      <td>17.894593</td>\n",
       "      <td>1.697467</td>\n",
       "      <td>2.110</td>\n",
       "      <td>0.024639</td>\n",
       "    </tr>\n",
       "    <tr>\n",
       "      <th>5992</th>\n",
       "      <td>monthly issuance</td>\n",
       "      <td>1996-03-12</td>\n",
       "      <td>81.0</td>\n",
       "      <td>2.0</td>\n",
       "      <td>1.0</td>\n",
       "      <td>12.0</td>\n",
       "      <td>16.0</td>\n",
       "      <td>39.0</td>\n",
       "      <td>51.0</td>\n",
       "      <td>5.0</td>\n",
       "      <td>25.0</td>\n",
       "      <td>11450.62</td>\n",
       "      <td>50621.10</td>\n",
       "      <td>1997-03-18</td>\n",
       "      <td>76080</td>\n",
       "      <td>12</td>\n",
       "      <td>6340</td>\n",
       "      <td>NaN</td>\n",
       "      <td>95616</td>\n",
       "      <td>65</td>\n",
       "      <td>30</td>\n",
       "      <td>4</td>\n",
       "      <td>1</td>\n",
       "      <td>6</td>\n",
       "      <td>51.4</td>\n",
       "      <td>9307</td>\n",
       "      <td>118</td>\n",
       "      <td>junior</td>\n",
       "      <td>1979-04-06</td>\n",
       "      <td>F</td>\n",
       "      <td>False</td>\n",
       "      <td>17.949350</td>\n",
       "      <td>1.015743</td>\n",
       "      <td>4.140</td>\n",
       "      <td>0.029577</td>\n",
       "    </tr>\n",
       "    <tr>\n",
       "      <th>6677</th>\n",
       "      <td>monthly issuance</td>\n",
       "      <td>1995-11-28</td>\n",
       "      <td>137.0</td>\n",
       "      <td>25.0</td>\n",
       "      <td>0.0</td>\n",
       "      <td>0.0</td>\n",
       "      <td>32.0</td>\n",
       "      <td>60.0</td>\n",
       "      <td>92.0</td>\n",
       "      <td>0.0</td>\n",
       "      <td>45.0</td>\n",
       "      <td>3667.17</td>\n",
       "      <td>24067.30</td>\n",
       "      <td>1997-08-12</td>\n",
       "      <td>97980</td>\n",
       "      <td>60</td>\n",
       "      <td>1633</td>\n",
       "      <td>NaN</td>\n",
       "      <td>45714</td>\n",
       "      <td>52</td>\n",
       "      <td>10</td>\n",
       "      <td>5</td>\n",
       "      <td>1</td>\n",
       "      <td>6</td>\n",
       "      <td>55.6</td>\n",
       "      <td>8843</td>\n",
       "      <td>113</td>\n",
       "      <td>None</td>\n",
       "      <td>1980-03-14</td>\n",
       "      <td>F</td>\n",
       "      <td>False</td>\n",
       "      <td>17.412731</td>\n",
       "      <td>1.705681</td>\n",
       "      <td>3.210</td>\n",
       "      <td>0.018659</td>\n",
       "    </tr>\n",
       "    <tr>\n",
       "      <th>6878</th>\n",
       "      <td>monthly issuance</td>\n",
       "      <td>1996-03-15</td>\n",
       "      <td>58.0</td>\n",
       "      <td>15.0</td>\n",
       "      <td>0.0</td>\n",
       "      <td>0.0</td>\n",
       "      <td>0.0</td>\n",
       "      <td>25.0</td>\n",
       "      <td>25.0</td>\n",
       "      <td>0.0</td>\n",
       "      <td>33.0</td>\n",
       "      <td>2701.50</td>\n",
       "      <td>36729.80</td>\n",
       "      <td>1997-01-24</td>\n",
       "      <td>23184</td>\n",
       "      <td>12</td>\n",
       "      <td>1932</td>\n",
       "      <td>NaN</td>\n",
       "      <td>161954</td>\n",
       "      <td>21</td>\n",
       "      <td>37</td>\n",
       "      <td>20</td>\n",
       "      <td>3</td>\n",
       "      <td>8</td>\n",
       "      <td>48.0</td>\n",
       "      <td>8720</td>\n",
       "      <td>116</td>\n",
       "      <td>None</td>\n",
       "      <td>1979-07-26</td>\n",
       "      <td>F</td>\n",
       "      <td>False</td>\n",
       "      <td>17.500342</td>\n",
       "      <td>0.862423</td>\n",
       "      <td>4.115</td>\n",
       "      <td>0.022784</td>\n",
       "    </tr>\n",
       "    <tr>\n",
       "      <th>6730</th>\n",
       "      <td>monthly issuance</td>\n",
       "      <td>1996-11-25</td>\n",
       "      <td>104.0</td>\n",
       "      <td>2.0</td>\n",
       "      <td>0.0</td>\n",
       "      <td>15.0</td>\n",
       "      <td>0.0</td>\n",
       "      <td>59.0</td>\n",
       "      <td>52.0</td>\n",
       "      <td>7.0</td>\n",
       "      <td>45.0</td>\n",
       "      <td>14395.11</td>\n",
       "      <td>53890.64</td>\n",
       "      <td>1998-02-15</td>\n",
       "      <td>93036</td>\n",
       "      <td>12</td>\n",
       "      <td>7753</td>\n",
       "      <td>NaN</td>\n",
       "      <td>387570</td>\n",
       "      <td>0</td>\n",
       "      <td>0</td>\n",
       "      <td>0</td>\n",
       "      <td>1</td>\n",
       "      <td>1</td>\n",
       "      <td>100.0</td>\n",
       "      <td>9897</td>\n",
       "      <td>140</td>\n",
       "      <td>None</td>\n",
       "      <td>1980-09-12</td>\n",
       "      <td>F</td>\n",
       "      <td>False</td>\n",
       "      <td>17.426420</td>\n",
       "      <td>1.223819</td>\n",
       "      <td>1.780</td>\n",
       "      <td>0.048271</td>\n",
       "    </tr>\n",
       "    <tr>\n",
       "      <th>5977</th>\n",
       "      <td>monthly issuance</td>\n",
       "      <td>1996-06-08</td>\n",
       "      <td>44.0</td>\n",
       "      <td>15.0</td>\n",
       "      <td>0.0</td>\n",
       "      <td>0.0</td>\n",
       "      <td>0.0</td>\n",
       "      <td>21.0</td>\n",
       "      <td>21.0</td>\n",
       "      <td>0.0</td>\n",
       "      <td>23.0</td>\n",
       "      <td>2346.76</td>\n",
       "      <td>23023.66</td>\n",
       "      <td>1997-02-25</td>\n",
       "      <td>59136</td>\n",
       "      <td>48</td>\n",
       "      <td>1232</td>\n",
       "      <td>NaN</td>\n",
       "      <td>170449</td>\n",
       "      <td>0</td>\n",
       "      <td>0</td>\n",
       "      <td>0</td>\n",
       "      <td>1</td>\n",
       "      <td>1</td>\n",
       "      <td>100.0</td>\n",
       "      <td>10787</td>\n",
       "      <td>131</td>\n",
       "      <td>None</td>\n",
       "      <td>1979-12-10</td>\n",
       "      <td>F</td>\n",
       "      <td>False</td>\n",
       "      <td>17.212868</td>\n",
       "      <td>0.717317</td>\n",
       "      <td>2.865</td>\n",
       "      <td>0.036087</td>\n",
       "    </tr>\n",
       "  </tbody>\n",
       "</table>\n",
       "</div>"
      ],
      "text/plain": [
       "                frequency    acc date  # trans  oper #1  oper #2  oper #3  \\\n",
       "loan_id                                                                     \n",
       "5681      weekly issuance  1996-06-06     73.0     14.0      0.0      0.0   \n",
       "6758     monthly issuance  1997-01-28     32.0     10.0      0.0      0.0   \n",
       "6386     monthly issuance  1995-08-19    148.0     26.0      0.0      0.0   \n",
       "5992     monthly issuance  1996-03-12     81.0      2.0      1.0     12.0   \n",
       "6677     monthly issuance  1995-11-28    137.0     25.0      0.0      0.0   \n",
       "6878     monthly issuance  1996-03-15     58.0     15.0      0.0      0.0   \n",
       "6730     monthly issuance  1996-11-25    104.0      2.0      0.0     15.0   \n",
       "5977     monthly issuance  1996-06-08     44.0     15.0      0.0      0.0   \n",
       "\n",
       "         oper #4  oper #5  type #1  type #2  type #3  avg trans amount  \\\n",
       "loan_id                                                                  \n",
       "5681         0.0     43.0     42.0      1.0     30.0           7446.94   \n",
       "6758         4.0      8.0     12.0      0.0     20.0           5645.51   \n",
       "6386        51.0     51.0    101.0      1.0     46.0           6250.36   \n",
       "5992        16.0     39.0     51.0      5.0     25.0          11450.62   \n",
       "6677        32.0     60.0     92.0      0.0     45.0           3667.17   \n",
       "6878         0.0     25.0     25.0      0.0     33.0           2701.50   \n",
       "6730         0.0     59.0     52.0      7.0     45.0          14395.11   \n",
       "5977         0.0     21.0     21.0      0.0     23.0           2346.76   \n",
       "\n",
       "         avg trans balance   loan date  loan amount  loan duration (mths)  \\\n",
       "loan_id                                                                     \n",
       "5681              36855.82  1997-10-20        68664                    24   \n",
       "6758              32407.65  1997-07-29        33144                    12   \n",
       "6386              25654.38  1997-04-30       124344                    36   \n",
       "5992              50621.10  1997-03-18        76080                    12   \n",
       "6677              24067.30  1997-08-12        97980                    60   \n",
       "6878              36729.80  1997-01-24        23184                    12   \n",
       "6730              53890.64  1998-02-15        93036                    12   \n",
       "5977              23023.66  1997-02-25        59136                    48   \n",
       "\n",
       "         loan payments  loan status  no. of inhabitants  \\\n",
       "loan_id                                                   \n",
       "5681              2861          NaN              109164   \n",
       "6758              2762          NaN              285387   \n",
       "6386              3454          NaN              161854   \n",
       "5992              6340          NaN               95616   \n",
       "6677              1633          NaN               45714   \n",
       "6878              1932          NaN              161954   \n",
       "6730              7753          NaN              387570   \n",
       "5977              1232          NaN              170449   \n",
       "\n",
       "         no. of municipalities with inhabitants < 499   \\\n",
       "loan_id                                                  \n",
       "5681                                                98   \n",
       "6758                                                 0   \n",
       "6386                                                73   \n",
       "5992                                                65   \n",
       "6677                                                52   \n",
       "6878                                                21   \n",
       "6730                                                 0   \n",
       "5977                                                 0   \n",
       "\n",
       "         no. of municipalities with inhabitants 500-1999  \\\n",
       "loan_id                                                    \n",
       "5681                                                  16   \n",
       "6758                                                   2   \n",
       "6386                                                  21   \n",
       "5992                                                  30   \n",
       "6677                                                  10   \n",
       "6878                                                  37   \n",
       "6730                                                   0   \n",
       "5977                                                   0   \n",
       "\n",
       "         no. of municipalities with inhabitants 2000-9999   \\\n",
       "loan_id                                                      \n",
       "5681                                                     6   \n",
       "6758                                                     8   \n",
       "6386                                                     6   \n",
       "5992                                                     4   \n",
       "6677                                                     5   \n",
       "6878                                                    20   \n",
       "6730                                                     0   \n",
       "5977                                                     0   \n",
       "\n",
       "         no. of municipalities with inhabitants >10000   no. of cities   \\\n",
       "loan_id                                                                   \n",
       "5681                                                  1               4   \n",
       "6758                                                  5               7   \n",
       "6386                                                  1               6   \n",
       "5992                                                  1               6   \n",
       "6677                                                  1               6   \n",
       "6878                                                  3               8   \n",
       "6730                                                  1               1   \n",
       "5977                                                  1               1   \n",
       "\n",
       "         ratio of urban inhabitants   average salary   \\\n",
       "loan_id                                                 \n",
       "5681                            63.6             8757   \n",
       "6758                            89.9            10177   \n",
       "6386                            76.3             9425   \n",
       "5992                            51.4             9307   \n",
       "6677                            55.6             8843   \n",
       "6878                            48.0             8720   \n",
       "6730                           100.0             9897   \n",
       "5977                           100.0            10787   \n",
       "\n",
       "         no. of enterpreneurs per 1000 inhabitants  card type   birthdate sex  \\\n",
       "loan_id                                                                         \n",
       "5681                                             96      None  1980-02-19   F   \n",
       "6758                                             81      None  1980-01-27   F   \n",
       "6386                                            125      None  1979-06-08   F   \n",
       "5992                                            118    junior  1979-04-06   F   \n",
       "6677                                            113      None  1980-03-14   F   \n",
       "6878                                            116      None  1979-07-26   F   \n",
       "6730                                            140      None  1980-09-12   F   \n",
       "5977                                            131      None  1979-12-10   F   \n",
       "\n",
       "         has disponent  age at loan (Years)  acc age at loan (Years)  \\\n",
       "loan_id                                                                \n",
       "5681              True            17.667351                 1.371663   \n",
       "6758              True            17.503080                 0.498289   \n",
       "6386             False            17.894593                 1.697467   \n",
       "5992             False            17.949350                 1.015743   \n",
       "6677             False            17.412731                 1.705681   \n",
       "6878             False            17.500342                 0.862423   \n",
       "6730             False            17.426420                 1.223819   \n",
       "5977             False            17.212868                 0.717317   \n",
       "\n",
       "         unemploymant rate  no. of commited crimes per capita  \n",
       "loan_id                                                        \n",
       "5681                 3.665                           0.021449  \n",
       "6758                 7.190                           0.035016  \n",
       "6386                 2.110                           0.024639  \n",
       "5992                 4.140                           0.029577  \n",
       "6677                 3.210                           0.018659  \n",
       "6878                 4.115                           0.022784  \n",
       "6730                 1.780                           0.048271  \n",
       "5977                 2.865                           0.036087  "
      ]
     },
     "execution_count": 47,
     "metadata": {},
     "output_type": "execute_result"
    }
   ],
   "source": [
    "complete.loc[complete['age at loan (Years)'] < 18]"
   ]
  },
  {
   "cell_type": "code",
   "execution_count": 48,
   "metadata": {},
   "outputs": [
    {
     "data": {
      "text/plain": [
       "(354, 35)"
      ]
     },
     "execution_count": 48,
     "metadata": {},
     "output_type": "execute_result"
    }
   ],
   "source": [
    "complete.shape"
   ]
  },
  {
   "cell_type": "code",
   "execution_count": 49,
   "metadata": {},
   "outputs": [
    {
     "data": {
      "text/plain": [
       "(354, 35)"
      ]
     },
     "execution_count": 49,
     "metadata": {},
     "output_type": "execute_result"
    }
   ],
   "source": [
    "complete = complete[['loan status', 'frequency', 'acc date', 'age at loan (Years)',\n",
    "       'acc age at loan (Years)', '# trans', 'oper #1', 'oper #2', 'oper #3',\n",
    "       'oper #4', 'oper #5', 'type #1', 'type #2', 'type #3',\n",
    "       'avg trans amount', 'avg trans balance', 'loan date', 'loan amount',\n",
    "       'loan duration (mths)', 'loan payments',\n",
    "       'no. of inhabitants', 'no. of municipalities with inhabitants < 499 ',\n",
    "       'no. of municipalities with inhabitants 500-1999',\n",
    "       'no. of municipalities with inhabitants 2000-9999 ',\n",
    "       'no. of municipalities with inhabitants >10000 ', 'no. of cities ',\n",
    "       'ratio of urban inhabitants ', 'average salary ',\n",
    "       'no. of enterpreneurs per 1000 inhabitants ', 'card type', 'birthdate',\n",
    "       'sex', 'has disponent', 'unemploymant rate',\n",
    "       'no. of commited crimes per capita']]\n",
    "complete.shape"
   ]
  },
  {
   "cell_type": "code",
   "execution_count": 50,
   "metadata": {},
   "outputs": [
    {
     "name": "stdout",
     "output_type": "stream",
     "text": [
      "<class 'pandas.core.frame.DataFrame'>\n",
      "Int64Index: 354 entries, 6173 to 4967\n",
      "Data columns (total 35 columns):\n",
      " #   Column                                             Non-Null Count  Dtype  \n",
      "---  ------                                             --------------  -----  \n",
      " 0   loan status                                        0 non-null      float64\n",
      " 1   frequency                                          354 non-null    object \n",
      " 2   acc date                                           354 non-null    object \n",
      " 3   age at loan (Years)                                354 non-null    float64\n",
      " 4   acc age at loan (Years)                            354 non-null    float64\n",
      " 5   # trans                                            354 non-null    float64\n",
      " 6   oper #1                                            354 non-null    float64\n",
      " 7   oper #2                                            354 non-null    float64\n",
      " 8   oper #3                                            354 non-null    float64\n",
      " 9   oper #4                                            354 non-null    float64\n",
      " 10  oper #5                                            354 non-null    float64\n",
      " 11  type #1                                            354 non-null    float64\n",
      " 12  type #2                                            354 non-null    float64\n",
      " 13  type #3                                            354 non-null    float64\n",
      " 14  avg trans amount                                   354 non-null    float64\n",
      " 15  avg trans balance                                  354 non-null    float64\n",
      " 16  loan date                                          354 non-null    object \n",
      " 17  loan amount                                        354 non-null    int64  \n",
      " 18  loan duration (mths)                               354 non-null    int64  \n",
      " 19  loan payments                                      354 non-null    int64  \n",
      " 20  no. of inhabitants                                 354 non-null    int64  \n",
      " 21  no. of municipalities with inhabitants < 499       354 non-null    int64  \n",
      " 22  no. of municipalities with inhabitants 500-1999    354 non-null    int64  \n",
      " 23  no. of municipalities with inhabitants 2000-9999   354 non-null    int64  \n",
      " 24  no. of municipalities with inhabitants >10000      354 non-null    int64  \n",
      " 25  no. of cities                                      354 non-null    int64  \n",
      " 26  ratio of urban inhabitants                         354 non-null    float64\n",
      " 27  average salary                                     354 non-null    int64  \n",
      " 28  no. of enterpreneurs per 1000 inhabitants          354 non-null    int64  \n",
      " 29  card type                                          354 non-null    object \n",
      " 30  birthdate                                          354 non-null    object \n",
      " 31  sex                                                354 non-null    object \n",
      " 32  has disponent                                      354 non-null    bool   \n",
      " 33  unemploymant rate                                  354 non-null    float64\n",
      " 34  no. of commited crimes per capita                  354 non-null    float64\n",
      "dtypes: bool(1), float64(17), int64(11), object(6)\n",
      "memory usage: 107.1+ KB\n"
     ]
    }
   ],
   "source": [
    "complete.info()"
   ]
  },
  {
   "cell_type": "code",
   "execution_count": 51,
   "metadata": {},
   "outputs": [
    {
     "data": {
      "text/plain": [
       "Index(['loan status', 'frequency', 'acc date', 'age at loan (Years)',\n",
       "       'acc age at loan (Years)', '# trans', 'oper #1', 'oper #2', 'oper #3',\n",
       "       'oper #4', 'oper #5', 'type #1', 'type #2', 'type #3',\n",
       "       'avg trans amount', 'avg trans balance', 'loan date', 'loan amount',\n",
       "       'loan duration (mths)', 'loan payments', 'no. of inhabitants',\n",
       "       'no. of municipalities with inhabitants < 499 ',\n",
       "       'no. of municipalities with inhabitants 500-1999',\n",
       "       'no. of municipalities with inhabitants 2000-9999 ',\n",
       "       'no. of municipalities with inhabitants >10000 ', 'no. of cities ',\n",
       "       'ratio of urban inhabitants ', 'average salary ',\n",
       "       'no. of enterpreneurs per 1000 inhabitants ', 'card type', 'birthdate',\n",
       "       'sex', 'has disponent', 'unemploymant rate',\n",
       "       'no. of commited crimes per capita'],\n",
       "      dtype='object')"
      ]
     },
     "execution_count": 51,
     "metadata": {},
     "output_type": "execute_result"
    }
   ],
   "source": [
    "complete.columns"
   ]
  },
  {
   "cell_type": "code",
   "execution_count": 52,
   "metadata": {},
   "outputs": [],
   "source": [
    "for column in ['acc date', 'loan date', 'birthdate']:\n",
    "    complete[column] = pd.to_datetime(complete[column])"
   ]
  },
  {
   "cell_type": "code",
   "execution_count": 53,
   "metadata": {},
   "outputs": [],
   "source": [
    "def ordinal_encode(df, column, ordering):\n",
    "    df = df.copy()\n",
    "    df[column] = df[column].apply(lambda x : ordering.index(x))\n",
    "    return df\n",
    "\n",
    "def special_binary_encode(df, column, negative_value):\n",
    "    df = df.copy()\n",
    "    df['card_owner'] = df[column].apply(lambda x : 0 if x == negative_value else 1)\n",
    "    # df = df.drop(column, axis=1)\n",
    "    return df"
   ]
  },
  {
   "cell_type": "code",
   "execution_count": 54,
   "metadata": {},
   "outputs": [],
   "source": [
    "complete['account_year'] = complete['acc date'].apply(lambda x : x.year)\n",
    "complete['account_month'] = complete['acc date'].apply(lambda x : x.month)\n",
    "complete['account_day'] = complete['acc date'].apply(lambda x : x.day)\n",
    "\n",
    "complete['loan_year'] = complete['loan date'].apply(lambda x : x.year)\n",
    "complete['loan_month'] = complete['loan date'].apply(lambda x : x.month)\n",
    "complete['loan_day'] = complete['loan date'].apply(lambda x : x.day)\n",
    "\n",
    "complete['birth_year'] = complete['birthdate'].apply(lambda x : x.year)\n",
    "complete['birth_month'] = complete['birthdate'].apply(lambda x : x.month)\n",
    "complete['birth_day'] = complete['birthdate'].apply(lambda x : x.day)\n",
    "\n",
    "complete = complete.drop(['acc date', 'loan date', 'birthdate'], axis=1)"
   ]
  },
  {
   "cell_type": "code",
   "execution_count": 55,
   "metadata": {},
   "outputs": [],
   "source": [
    "#freq_ordering = [\n",
    "#    'monthly issuance',\n",
    "#    'weekly issuance',\n",
    "#    'issuance after transaction'\n",
    "#]\n",
    "#complete = ordinal_encode(complete, 'frequency', ordering=freq_ordering)\n",
    "\n",
    "complete = pd.get_dummies(complete, columns=['frequency'])\n",
    "\n",
    "complete = special_binary_encode(complete, 'card type', negative_value='None')\n",
    "\n",
    "complete = pd.get_dummies(complete, columns=['card type'])"
   ]
  },
  {
   "cell_type": "markdown",
   "metadata": {},
   "source": [
    "## 1.3 Complete ('joined') data"
   ]
  },
  {
   "cell_type": "code",
   "execution_count": 56,
   "metadata": {},
   "outputs": [
    {
     "data": {
      "text/html": [
       "<div>\n",
       "<style scoped>\n",
       "    .dataframe tbody tr th:only-of-type {\n",
       "        vertical-align: middle;\n",
       "    }\n",
       "\n",
       "    .dataframe tbody tr th {\n",
       "        vertical-align: top;\n",
       "    }\n",
       "\n",
       "    .dataframe thead th {\n",
       "        text-align: right;\n",
       "    }\n",
       "</style>\n",
       "<table border=\"1\" class=\"dataframe\">\n",
       "  <thead>\n",
       "    <tr style=\"text-align: right;\">\n",
       "      <th></th>\n",
       "      <th>loan status</th>\n",
       "      <th>age at loan (Years)</th>\n",
       "      <th>acc age at loan (Years)</th>\n",
       "      <th># trans</th>\n",
       "      <th>oper #1</th>\n",
       "      <th>oper #2</th>\n",
       "      <th>oper #3</th>\n",
       "      <th>oper #4</th>\n",
       "      <th>oper #5</th>\n",
       "      <th>type #1</th>\n",
       "      <th>type #2</th>\n",
       "      <th>type #3</th>\n",
       "      <th>avg trans amount</th>\n",
       "      <th>avg trans balance</th>\n",
       "      <th>loan amount</th>\n",
       "      <th>loan duration (mths)</th>\n",
       "      <th>loan payments</th>\n",
       "      <th>no. of inhabitants</th>\n",
       "      <th>no. of municipalities with inhabitants &lt; 499</th>\n",
       "      <th>no. of municipalities with inhabitants 500-1999</th>\n",
       "      <th>no. of municipalities with inhabitants 2000-9999</th>\n",
       "      <th>no. of municipalities with inhabitants &gt;10000</th>\n",
       "      <th>no. of cities</th>\n",
       "      <th>ratio of urban inhabitants</th>\n",
       "      <th>average salary</th>\n",
       "      <th>no. of enterpreneurs per 1000 inhabitants</th>\n",
       "      <th>sex</th>\n",
       "      <th>has disponent</th>\n",
       "      <th>unemploymant rate</th>\n",
       "      <th>no. of commited crimes per capita</th>\n",
       "      <th>account_year</th>\n",
       "      <th>account_month</th>\n",
       "      <th>account_day</th>\n",
       "      <th>loan_year</th>\n",
       "      <th>loan_month</th>\n",
       "      <th>loan_day</th>\n",
       "      <th>birth_year</th>\n",
       "      <th>birth_month</th>\n",
       "      <th>birth_day</th>\n",
       "      <th>frequency_issuance after transaction</th>\n",
       "      <th>frequency_monthly issuance</th>\n",
       "      <th>frequency_weekly issuance</th>\n",
       "      <th>card_owner</th>\n",
       "      <th>card type_None</th>\n",
       "      <th>card type_classic</th>\n",
       "      <th>card type_gold</th>\n",
       "      <th>card type_junior</th>\n",
       "    </tr>\n",
       "    <tr>\n",
       "      <th>loan_id</th>\n",
       "      <th></th>\n",
       "      <th></th>\n",
       "      <th></th>\n",
       "      <th></th>\n",
       "      <th></th>\n",
       "      <th></th>\n",
       "      <th></th>\n",
       "      <th></th>\n",
       "      <th></th>\n",
       "      <th></th>\n",
       "      <th></th>\n",
       "      <th></th>\n",
       "      <th></th>\n",
       "      <th></th>\n",
       "      <th></th>\n",
       "      <th></th>\n",
       "      <th></th>\n",
       "      <th></th>\n",
       "      <th></th>\n",
       "      <th></th>\n",
       "      <th></th>\n",
       "      <th></th>\n",
       "      <th></th>\n",
       "      <th></th>\n",
       "      <th></th>\n",
       "      <th></th>\n",
       "      <th></th>\n",
       "      <th></th>\n",
       "      <th></th>\n",
       "      <th></th>\n",
       "      <th></th>\n",
       "      <th></th>\n",
       "      <th></th>\n",
       "      <th></th>\n",
       "      <th></th>\n",
       "      <th></th>\n",
       "      <th></th>\n",
       "      <th></th>\n",
       "      <th></th>\n",
       "      <th></th>\n",
       "      <th></th>\n",
       "      <th></th>\n",
       "      <th></th>\n",
       "      <th></th>\n",
       "      <th></th>\n",
       "      <th></th>\n",
       "      <th></th>\n",
       "    </tr>\n",
       "  </thead>\n",
       "  <tbody>\n",
       "    <tr>\n",
       "      <th>6173</th>\n",
       "      <td>NaN</td>\n",
       "      <td>57.702943</td>\n",
       "      <td>1.724846</td>\n",
       "      <td>176.0</td>\n",
       "      <td>3.0</td>\n",
       "      <td>0.0</td>\n",
       "      <td>20.0</td>\n",
       "      <td>61.0</td>\n",
       "      <td>72.0</td>\n",
       "      <td>126.0</td>\n",
       "      <td>7.0</td>\n",
       "      <td>43.0</td>\n",
       "      <td>7217.39</td>\n",
       "      <td>40175.61</td>\n",
       "      <td>232560</td>\n",
       "      <td>48</td>\n",
       "      <td>4845</td>\n",
       "      <td>177686</td>\n",
       "      <td>69</td>\n",
       "      <td>27</td>\n",
       "      <td>10</td>\n",
       "      <td>1</td>\n",
       "      <td>9</td>\n",
       "      <td>74.8</td>\n",
       "      <td>10045</td>\n",
       "      <td>135</td>\n",
       "      <td>F</td>\n",
       "      <td>False</td>\n",
       "      <td>1.565</td>\n",
       "      <td>0.036297</td>\n",
       "      <td>1995</td>\n",
       "      <td>4</td>\n",
       "      <td>19</td>\n",
       "      <td>1997</td>\n",
       "      <td>1</td>\n",
       "      <td>8</td>\n",
       "      <td>1939</td>\n",
       "      <td>4</td>\n",
       "      <td>27</td>\n",
       "      <td>1</td>\n",
       "      <td>0</td>\n",
       "      <td>0</td>\n",
       "      <td>0</td>\n",
       "      <td>1</td>\n",
       "      <td>0</td>\n",
       "      <td>0</td>\n",
       "      <td>0</td>\n",
       "    </tr>\n",
       "    <tr>\n",
       "      <th>5889</th>\n",
       "      <td>NaN</td>\n",
       "      <td>28.046543</td>\n",
       "      <td>1.434634</td>\n",
       "      <td>136.0</td>\n",
       "      <td>38.0</td>\n",
       "      <td>0.0</td>\n",
       "      <td>0.0</td>\n",
       "      <td>0.0</td>\n",
       "      <td>81.0</td>\n",
       "      <td>74.0</td>\n",
       "      <td>7.0</td>\n",
       "      <td>55.0</td>\n",
       "      <td>13228.34</td>\n",
       "      <td>76826.46</td>\n",
       "      <td>321240</td>\n",
       "      <td>60</td>\n",
       "      <td>5354</td>\n",
       "      <td>177686</td>\n",
       "      <td>69</td>\n",
       "      <td>27</td>\n",
       "      <td>10</td>\n",
       "      <td>1</td>\n",
       "      <td>9</td>\n",
       "      <td>74.8</td>\n",
       "      <td>10045</td>\n",
       "      <td>135</td>\n",
       "      <td>M</td>\n",
       "      <td>False</td>\n",
       "      <td>1.565</td>\n",
       "      <td>0.036297</td>\n",
       "      <td>1996</td>\n",
       "      <td>9</td>\n",
       "      <td>3</td>\n",
       "      <td>1998</td>\n",
       "      <td>2</td>\n",
       "      <td>9</td>\n",
       "      <td>1970</td>\n",
       "      <td>1</td>\n",
       "      <td>23</td>\n",
       "      <td>0</td>\n",
       "      <td>1</td>\n",
       "      <td>0</td>\n",
       "      <td>0</td>\n",
       "      <td>1</td>\n",
       "      <td>0</td>\n",
       "      <td>0</td>\n",
       "      <td>0</td>\n",
       "    </tr>\n",
       "    <tr>\n",
       "      <th>6705</th>\n",
       "      <td>NaN</td>\n",
       "      <td>21.040383</td>\n",
       "      <td>0.851472</td>\n",
       "      <td>97.0</td>\n",
       "      <td>25.0</td>\n",
       "      <td>0.0</td>\n",
       "      <td>0.0</td>\n",
       "      <td>14.0</td>\n",
       "      <td>40.0</td>\n",
       "      <td>50.0</td>\n",
       "      <td>4.0</td>\n",
       "      <td>43.0</td>\n",
       "      <td>12692.52</td>\n",
       "      <td>61748.70</td>\n",
       "      <td>333648</td>\n",
       "      <td>48</td>\n",
       "      <td>6951</td>\n",
       "      <td>177686</td>\n",
       "      <td>69</td>\n",
       "      <td>27</td>\n",
       "      <td>10</td>\n",
       "      <td>1</td>\n",
       "      <td>9</td>\n",
       "      <td>74.8</td>\n",
       "      <td>10045</td>\n",
       "      <td>135</td>\n",
       "      <td>F</td>\n",
       "      <td>False</td>\n",
       "      <td>1.565</td>\n",
       "      <td>0.036297</td>\n",
       "      <td>1996</td>\n",
       "      <td>9</td>\n",
       "      <td>17</td>\n",
       "      <td>1997</td>\n",
       "      <td>7</td>\n",
       "      <td>25</td>\n",
       "      <td>1976</td>\n",
       "      <td>7</td>\n",
       "      <td>10</td>\n",
       "      <td>0</td>\n",
       "      <td>1</td>\n",
       "      <td>0</td>\n",
       "      <td>0</td>\n",
       "      <td>1</td>\n",
       "      <td>0</td>\n",
       "      <td>0</td>\n",
       "      <td>0</td>\n",
       "    </tr>\n",
       "    <tr>\n",
       "      <th>5036</th>\n",
       "      <td>NaN</td>\n",
       "      <td>25.878166</td>\n",
       "      <td>1.585216</td>\n",
       "      <td>99.0</td>\n",
       "      <td>21.0</td>\n",
       "      <td>0.0</td>\n",
       "      <td>0.0</td>\n",
       "      <td>0.0</td>\n",
       "      <td>60.0</td>\n",
       "      <td>60.0</td>\n",
       "      <td>0.0</td>\n",
       "      <td>39.0</td>\n",
       "      <td>7918.74</td>\n",
       "      <td>30173.12</td>\n",
       "      <td>91248</td>\n",
       "      <td>48</td>\n",
       "      <td>1901</td>\n",
       "      <td>177686</td>\n",
       "      <td>69</td>\n",
       "      <td>27</td>\n",
       "      <td>10</td>\n",
       "      <td>1</td>\n",
       "      <td>9</td>\n",
       "      <td>74.8</td>\n",
       "      <td>10045</td>\n",
       "      <td>135</td>\n",
       "      <td>F</td>\n",
       "      <td>False</td>\n",
       "      <td>1.565</td>\n",
       "      <td>0.036297</td>\n",
       "      <td>1997</td>\n",
       "      <td>4</td>\n",
       "      <td>25</td>\n",
       "      <td>1998</td>\n",
       "      <td>11</td>\n",
       "      <td>25</td>\n",
       "      <td>1973</td>\n",
       "      <td>1</td>\n",
       "      <td>8</td>\n",
       "      <td>0</td>\n",
       "      <td>1</td>\n",
       "      <td>0</td>\n",
       "      <td>0</td>\n",
       "      <td>1</td>\n",
       "      <td>0</td>\n",
       "      <td>0</td>\n",
       "      <td>0</td>\n",
       "    </tr>\n",
       "    <tr>\n",
       "      <th>7115</th>\n",
       "      <td>NaN</td>\n",
       "      <td>36.344969</td>\n",
       "      <td>1.834360</td>\n",
       "      <td>131.0</td>\n",
       "      <td>33.0</td>\n",
       "      <td>0.0</td>\n",
       "      <td>0.0</td>\n",
       "      <td>18.0</td>\n",
       "      <td>58.0</td>\n",
       "      <td>76.0</td>\n",
       "      <td>0.0</td>\n",
       "      <td>55.0</td>\n",
       "      <td>2751.43</td>\n",
       "      <td>18675.06</td>\n",
       "      <td>88704</td>\n",
       "      <td>48</td>\n",
       "      <td>1848</td>\n",
       "      <td>87419</td>\n",
       "      <td>21</td>\n",
       "      <td>11</td>\n",
       "      <td>4</td>\n",
       "      <td>3</td>\n",
       "      <td>9</td>\n",
       "      <td>85.5</td>\n",
       "      <td>8624</td>\n",
       "      <td>102</td>\n",
       "      <td>F</td>\n",
       "      <td>True</td>\n",
       "      <td>2.225</td>\n",
       "      <td>0.034758</td>\n",
       "      <td>1995</td>\n",
       "      <td>5</td>\n",
       "      <td>4</td>\n",
       "      <td>1997</td>\n",
       "      <td>3</td>\n",
       "      <td>4</td>\n",
       "      <td>1960</td>\n",
       "      <td>10</td>\n",
       "      <td>29</td>\n",
       "      <td>0</td>\n",
       "      <td>1</td>\n",
       "      <td>0</td>\n",
       "      <td>0</td>\n",
       "      <td>1</td>\n",
       "      <td>0</td>\n",
       "      <td>0</td>\n",
       "      <td>0</td>\n",
       "    </tr>\n",
       "    <tr>\n",
       "      <th>...</th>\n",
       "      <td>...</td>\n",
       "      <td>...</td>\n",
       "      <td>...</td>\n",
       "      <td>...</td>\n",
       "      <td>...</td>\n",
       "      <td>...</td>\n",
       "      <td>...</td>\n",
       "      <td>...</td>\n",
       "      <td>...</td>\n",
       "      <td>...</td>\n",
       "      <td>...</td>\n",
       "      <td>...</td>\n",
       "      <td>...</td>\n",
       "      <td>...</td>\n",
       "      <td>...</td>\n",
       "      <td>...</td>\n",
       "      <td>...</td>\n",
       "      <td>...</td>\n",
       "      <td>...</td>\n",
       "      <td>...</td>\n",
       "      <td>...</td>\n",
       "      <td>...</td>\n",
       "      <td>...</td>\n",
       "      <td>...</td>\n",
       "      <td>...</td>\n",
       "      <td>...</td>\n",
       "      <td>...</td>\n",
       "      <td>...</td>\n",
       "      <td>...</td>\n",
       "      <td>...</td>\n",
       "      <td>...</td>\n",
       "      <td>...</td>\n",
       "      <td>...</td>\n",
       "      <td>...</td>\n",
       "      <td>...</td>\n",
       "      <td>...</td>\n",
       "      <td>...</td>\n",
       "      <td>...</td>\n",
       "      <td>...</td>\n",
       "      <td>...</td>\n",
       "      <td>...</td>\n",
       "      <td>...</td>\n",
       "      <td>...</td>\n",
       "      <td>...</td>\n",
       "      <td>...</td>\n",
       "      <td>...</td>\n",
       "      <td>...</td>\n",
       "    </tr>\n",
       "    <tr>\n",
       "      <th>6859</th>\n",
       "      <td>NaN</td>\n",
       "      <td>57.273101</td>\n",
       "      <td>0.928131</td>\n",
       "      <td>80.0</td>\n",
       "      <td>18.0</td>\n",
       "      <td>0.0</td>\n",
       "      <td>0.0</td>\n",
       "      <td>16.0</td>\n",
       "      <td>26.0</td>\n",
       "      <td>37.0</td>\n",
       "      <td>5.0</td>\n",
       "      <td>38.0</td>\n",
       "      <td>7196.52</td>\n",
       "      <td>39041.92</td>\n",
       "      <td>272220</td>\n",
       "      <td>60</td>\n",
       "      <td>4537</td>\n",
       "      <td>124605</td>\n",
       "      <td>11</td>\n",
       "      <td>42</td>\n",
       "      <td>14</td>\n",
       "      <td>1</td>\n",
       "      <td>8</td>\n",
       "      <td>46.0</td>\n",
       "      <td>8772</td>\n",
       "      <td>126</td>\n",
       "      <td>F</td>\n",
       "      <td>False</td>\n",
       "      <td>4.835</td>\n",
       "      <td>0.024124</td>\n",
       "      <td>1997</td>\n",
       "      <td>4</td>\n",
       "      <td>2</td>\n",
       "      <td>1998</td>\n",
       "      <td>3</td>\n",
       "      <td>7</td>\n",
       "      <td>1940</td>\n",
       "      <td>11</td>\n",
       "      <td>27</td>\n",
       "      <td>0</td>\n",
       "      <td>1</td>\n",
       "      <td>0</td>\n",
       "      <td>0</td>\n",
       "      <td>1</td>\n",
       "      <td>0</td>\n",
       "      <td>0</td>\n",
       "      <td>0</td>\n",
       "    </tr>\n",
       "    <tr>\n",
       "      <th>6539</th>\n",
       "      <td>NaN</td>\n",
       "      <td>24.977413</td>\n",
       "      <td>1.130732</td>\n",
       "      <td>78.0</td>\n",
       "      <td>22.0</td>\n",
       "      <td>0.0</td>\n",
       "      <td>0.0</td>\n",
       "      <td>9.0</td>\n",
       "      <td>34.0</td>\n",
       "      <td>43.0</td>\n",
       "      <td>0.0</td>\n",
       "      <td>35.0</td>\n",
       "      <td>2558.96</td>\n",
       "      <td>28534.94</td>\n",
       "      <td>12792</td>\n",
       "      <td>12</td>\n",
       "      <td>1066</td>\n",
       "      <td>124605</td>\n",
       "      <td>11</td>\n",
       "      <td>42</td>\n",
       "      <td>14</td>\n",
       "      <td>1</td>\n",
       "      <td>8</td>\n",
       "      <td>46.0</td>\n",
       "      <td>8772</td>\n",
       "      <td>126</td>\n",
       "      <td>F</td>\n",
       "      <td>False</td>\n",
       "      <td>4.835</td>\n",
       "      <td>0.024124</td>\n",
       "      <td>1997</td>\n",
       "      <td>5</td>\n",
       "      <td>24</td>\n",
       "      <td>1998</td>\n",
       "      <td>7</td>\n",
       "      <td>11</td>\n",
       "      <td>1973</td>\n",
       "      <td>7</td>\n",
       "      <td>19</td>\n",
       "      <td>0</td>\n",
       "      <td>1</td>\n",
       "      <td>0</td>\n",
       "      <td>0</td>\n",
       "      <td>1</td>\n",
       "      <td>0</td>\n",
       "      <td>0</td>\n",
       "      <td>0</td>\n",
       "    </tr>\n",
       "    <tr>\n",
       "      <th>5226</th>\n",
       "      <td>NaN</td>\n",
       "      <td>59.033539</td>\n",
       "      <td>0.802190</td>\n",
       "      <td>35.0</td>\n",
       "      <td>11.0</td>\n",
       "      <td>0.0</td>\n",
       "      <td>0.0</td>\n",
       "      <td>7.0</td>\n",
       "      <td>10.0</td>\n",
       "      <td>15.0</td>\n",
       "      <td>2.0</td>\n",
       "      <td>18.0</td>\n",
       "      <td>7575.05</td>\n",
       "      <td>27729.92</td>\n",
       "      <td>185544</td>\n",
       "      <td>36</td>\n",
       "      <td>5154</td>\n",
       "      <td>124605</td>\n",
       "      <td>11</td>\n",
       "      <td>42</td>\n",
       "      <td>14</td>\n",
       "      <td>1</td>\n",
       "      <td>8</td>\n",
       "      <td>46.0</td>\n",
       "      <td>8772</td>\n",
       "      <td>126</td>\n",
       "      <td>M</td>\n",
       "      <td>False</td>\n",
       "      <td>4.835</td>\n",
       "      <td>0.024124</td>\n",
       "      <td>1997</td>\n",
       "      <td>12</td>\n",
       "      <td>22</td>\n",
       "      <td>1998</td>\n",
       "      <td>10</td>\n",
       "      <td>11</td>\n",
       "      <td>1939</td>\n",
       "      <td>9</td>\n",
       "      <td>29</td>\n",
       "      <td>0</td>\n",
       "      <td>1</td>\n",
       "      <td>0</td>\n",
       "      <td>0</td>\n",
       "      <td>1</td>\n",
       "      <td>0</td>\n",
       "      <td>0</td>\n",
       "      <td>0</td>\n",
       "    </tr>\n",
       "    <tr>\n",
       "      <th>5253</th>\n",
       "      <td>NaN</td>\n",
       "      <td>31.791923</td>\n",
       "      <td>0.281999</td>\n",
       "      <td>10.0</td>\n",
       "      <td>2.0</td>\n",
       "      <td>0.0</td>\n",
       "      <td>3.0</td>\n",
       "      <td>0.0</td>\n",
       "      <td>2.0</td>\n",
       "      <td>2.0</td>\n",
       "      <td>0.0</td>\n",
       "      <td>8.0</td>\n",
       "      <td>5374.27</td>\n",
       "      <td>22604.34</td>\n",
       "      <td>100080</td>\n",
       "      <td>48</td>\n",
       "      <td>2085</td>\n",
       "      <td>114200</td>\n",
       "      <td>101</td>\n",
       "      <td>41</td>\n",
       "      <td>4</td>\n",
       "      <td>1</td>\n",
       "      <td>4</td>\n",
       "      <td>43.7</td>\n",
       "      <td>8403</td>\n",
       "      <td>105</td>\n",
       "      <td>F</td>\n",
       "      <td>False</td>\n",
       "      <td>5.730</td>\n",
       "      <td>0.021344</td>\n",
       "      <td>1997</td>\n",
       "      <td>2</td>\n",
       "      <td>20</td>\n",
       "      <td>1997</td>\n",
       "      <td>6</td>\n",
       "      <td>3</td>\n",
       "      <td>1965</td>\n",
       "      <td>8</td>\n",
       "      <td>18</td>\n",
       "      <td>0</td>\n",
       "      <td>1</td>\n",
       "      <td>0</td>\n",
       "      <td>0</td>\n",
       "      <td>1</td>\n",
       "      <td>0</td>\n",
       "      <td>0</td>\n",
       "      <td>0</td>\n",
       "    </tr>\n",
       "    <tr>\n",
       "      <th>4967</th>\n",
       "      <td>NaN</td>\n",
       "      <td>46.132786</td>\n",
       "      <td>1.155373</td>\n",
       "      <td>116.0</td>\n",
       "      <td>18.0</td>\n",
       "      <td>0.0</td>\n",
       "      <td>0.0</td>\n",
       "      <td>36.0</td>\n",
       "      <td>48.0</td>\n",
       "      <td>82.0</td>\n",
       "      <td>2.0</td>\n",
       "      <td>32.0</td>\n",
       "      <td>7572.00</td>\n",
       "      <td>39953.97</td>\n",
       "      <td>318480</td>\n",
       "      <td>60</td>\n",
       "      <td>5308</td>\n",
       "      <td>70646</td>\n",
       "      <td>94</td>\n",
       "      <td>14</td>\n",
       "      <td>3</td>\n",
       "      <td>1</td>\n",
       "      <td>4</td>\n",
       "      <td>58.4</td>\n",
       "      <td>8547</td>\n",
       "      <td>120</td>\n",
       "      <td>M</td>\n",
       "      <td>False</td>\n",
       "      <td>3.145</td>\n",
       "      <td>0.021976</td>\n",
       "      <td>1997</td>\n",
       "      <td>8</td>\n",
       "      <td>18</td>\n",
       "      <td>1998</td>\n",
       "      <td>10</td>\n",
       "      <td>14</td>\n",
       "      <td>1952</td>\n",
       "      <td>8</td>\n",
       "      <td>26</td>\n",
       "      <td>0</td>\n",
       "      <td>1</td>\n",
       "      <td>0</td>\n",
       "      <td>0</td>\n",
       "      <td>1</td>\n",
       "      <td>0</td>\n",
       "      <td>0</td>\n",
       "      <td>0</td>\n",
       "    </tr>\n",
       "  </tbody>\n",
       "</table>\n",
       "<p>354 rows × 47 columns</p>\n",
       "</div>"
      ],
      "text/plain": [
       "         loan status  age at loan (Years)  acc age at loan (Years)  # trans  \\\n",
       "loan_id                                                                       \n",
       "6173             NaN            57.702943                 1.724846    176.0   \n",
       "5889             NaN            28.046543                 1.434634    136.0   \n",
       "6705             NaN            21.040383                 0.851472     97.0   \n",
       "5036             NaN            25.878166                 1.585216     99.0   \n",
       "7115             NaN            36.344969                 1.834360    131.0   \n",
       "...              ...                  ...                      ...      ...   \n",
       "6859             NaN            57.273101                 0.928131     80.0   \n",
       "6539             NaN            24.977413                 1.130732     78.0   \n",
       "5226             NaN            59.033539                 0.802190     35.0   \n",
       "5253             NaN            31.791923                 0.281999     10.0   \n",
       "4967             NaN            46.132786                 1.155373    116.0   \n",
       "\n",
       "         oper #1  oper #2  oper #3  oper #4  oper #5  type #1  type #2  \\\n",
       "loan_id                                                                  \n",
       "6173         3.0      0.0     20.0     61.0     72.0    126.0      7.0   \n",
       "5889        38.0      0.0      0.0      0.0     81.0     74.0      7.0   \n",
       "6705        25.0      0.0      0.0     14.0     40.0     50.0      4.0   \n",
       "5036        21.0      0.0      0.0      0.0     60.0     60.0      0.0   \n",
       "7115        33.0      0.0      0.0     18.0     58.0     76.0      0.0   \n",
       "...          ...      ...      ...      ...      ...      ...      ...   \n",
       "6859        18.0      0.0      0.0     16.0     26.0     37.0      5.0   \n",
       "6539        22.0      0.0      0.0      9.0     34.0     43.0      0.0   \n",
       "5226        11.0      0.0      0.0      7.0     10.0     15.0      2.0   \n",
       "5253         2.0      0.0      3.0      0.0      2.0      2.0      0.0   \n",
       "4967        18.0      0.0      0.0     36.0     48.0     82.0      2.0   \n",
       "\n",
       "         type #3  avg trans amount  avg trans balance  loan amount  \\\n",
       "loan_id                                                              \n",
       "6173        43.0           7217.39           40175.61       232560   \n",
       "5889        55.0          13228.34           76826.46       321240   \n",
       "6705        43.0          12692.52           61748.70       333648   \n",
       "5036        39.0           7918.74           30173.12        91248   \n",
       "7115        55.0           2751.43           18675.06        88704   \n",
       "...          ...               ...                ...          ...   \n",
       "6859        38.0           7196.52           39041.92       272220   \n",
       "6539        35.0           2558.96           28534.94        12792   \n",
       "5226        18.0           7575.05           27729.92       185544   \n",
       "5253         8.0           5374.27           22604.34       100080   \n",
       "4967        32.0           7572.00           39953.97       318480   \n",
       "\n",
       "         loan duration (mths)  loan payments  no. of inhabitants  \\\n",
       "loan_id                                                            \n",
       "6173                       48           4845              177686   \n",
       "5889                       60           5354              177686   \n",
       "6705                       48           6951              177686   \n",
       "5036                       48           1901              177686   \n",
       "7115                       48           1848               87419   \n",
       "...                       ...            ...                 ...   \n",
       "6859                       60           4537              124605   \n",
       "6539                       12           1066              124605   \n",
       "5226                       36           5154              124605   \n",
       "5253                       48           2085              114200   \n",
       "4967                       60           5308               70646   \n",
       "\n",
       "         no. of municipalities with inhabitants < 499   \\\n",
       "loan_id                                                  \n",
       "6173                                                69   \n",
       "5889                                                69   \n",
       "6705                                                69   \n",
       "5036                                                69   \n",
       "7115                                                21   \n",
       "...                                                ...   \n",
       "6859                                                11   \n",
       "6539                                                11   \n",
       "5226                                                11   \n",
       "5253                                               101   \n",
       "4967                                                94   \n",
       "\n",
       "         no. of municipalities with inhabitants 500-1999  \\\n",
       "loan_id                                                    \n",
       "6173                                                  27   \n",
       "5889                                                  27   \n",
       "6705                                                  27   \n",
       "5036                                                  27   \n",
       "7115                                                  11   \n",
       "...                                                  ...   \n",
       "6859                                                  42   \n",
       "6539                                                  42   \n",
       "5226                                                  42   \n",
       "5253                                                  41   \n",
       "4967                                                  14   \n",
       "\n",
       "         no. of municipalities with inhabitants 2000-9999   \\\n",
       "loan_id                                                      \n",
       "6173                                                    10   \n",
       "5889                                                    10   \n",
       "6705                                                    10   \n",
       "5036                                                    10   \n",
       "7115                                                     4   \n",
       "...                                                    ...   \n",
       "6859                                                    14   \n",
       "6539                                                    14   \n",
       "5226                                                    14   \n",
       "5253                                                     4   \n",
       "4967                                                     3   \n",
       "\n",
       "         no. of municipalities with inhabitants >10000   no. of cities   \\\n",
       "loan_id                                                                   \n",
       "6173                                                  1               9   \n",
       "5889                                                  1               9   \n",
       "6705                                                  1               9   \n",
       "5036                                                  1               9   \n",
       "7115                                                  3               9   \n",
       "...                                                 ...             ...   \n",
       "6859                                                  1               8   \n",
       "6539                                                  1               8   \n",
       "5226                                                  1               8   \n",
       "5253                                                  1               4   \n",
       "4967                                                  1               4   \n",
       "\n",
       "         ratio of urban inhabitants   average salary   \\\n",
       "loan_id                                                 \n",
       "6173                            74.8            10045   \n",
       "5889                            74.8            10045   \n",
       "6705                            74.8            10045   \n",
       "5036                            74.8            10045   \n",
       "7115                            85.5             8624   \n",
       "...                              ...              ...   \n",
       "6859                            46.0             8772   \n",
       "6539                            46.0             8772   \n",
       "5226                            46.0             8772   \n",
       "5253                            43.7             8403   \n",
       "4967                            58.4             8547   \n",
       "\n",
       "         no. of enterpreneurs per 1000 inhabitants  sex  has disponent  \\\n",
       "loan_id                                                                  \n",
       "6173                                            135   F          False   \n",
       "5889                                            135   M          False   \n",
       "6705                                            135   F          False   \n",
       "5036                                            135   F          False   \n",
       "7115                                            102   F           True   \n",
       "...                                             ...  ..            ...   \n",
       "6859                                            126   F          False   \n",
       "6539                                            126   F          False   \n",
       "5226                                            126   M          False   \n",
       "5253                                            105   F          False   \n",
       "4967                                            120   M          False   \n",
       "\n",
       "         unemploymant rate  no. of commited crimes per capita  account_year  \\\n",
       "loan_id                                                                       \n",
       "6173                 1.565                           0.036297          1995   \n",
       "5889                 1.565                           0.036297          1996   \n",
       "6705                 1.565                           0.036297          1996   \n",
       "5036                 1.565                           0.036297          1997   \n",
       "7115                 2.225                           0.034758          1995   \n",
       "...                    ...                                ...           ...   \n",
       "6859                 4.835                           0.024124          1997   \n",
       "6539                 4.835                           0.024124          1997   \n",
       "5226                 4.835                           0.024124          1997   \n",
       "5253                 5.730                           0.021344          1997   \n",
       "4967                 3.145                           0.021976          1997   \n",
       "\n",
       "         account_month  account_day  loan_year  loan_month  loan_day  \\\n",
       "loan_id                                                                \n",
       "6173                 4           19       1997           1         8   \n",
       "5889                 9            3       1998           2         9   \n",
       "6705                 9           17       1997           7        25   \n",
       "5036                 4           25       1998          11        25   \n",
       "7115                 5            4       1997           3         4   \n",
       "...                ...          ...        ...         ...       ...   \n",
       "6859                 4            2       1998           3         7   \n",
       "6539                 5           24       1998           7        11   \n",
       "5226                12           22       1998          10        11   \n",
       "5253                 2           20       1997           6         3   \n",
       "4967                 8           18       1998          10        14   \n",
       "\n",
       "         birth_year  birth_month  birth_day  \\\n",
       "loan_id                                       \n",
       "6173           1939            4         27   \n",
       "5889           1970            1         23   \n",
       "6705           1976            7         10   \n",
       "5036           1973            1          8   \n",
       "7115           1960           10         29   \n",
       "...             ...          ...        ...   \n",
       "6859           1940           11         27   \n",
       "6539           1973            7         19   \n",
       "5226           1939            9         29   \n",
       "5253           1965            8         18   \n",
       "4967           1952            8         26   \n",
       "\n",
       "         frequency_issuance after transaction  frequency_monthly issuance  \\\n",
       "loan_id                                                                     \n",
       "6173                                        1                           0   \n",
       "5889                                        0                           1   \n",
       "6705                                        0                           1   \n",
       "5036                                        0                           1   \n",
       "7115                                        0                           1   \n",
       "...                                       ...                         ...   \n",
       "6859                                        0                           1   \n",
       "6539                                        0                           1   \n",
       "5226                                        0                           1   \n",
       "5253                                        0                           1   \n",
       "4967                                        0                           1   \n",
       "\n",
       "         frequency_weekly issuance  card_owner  card type_None  \\\n",
       "loan_id                                                          \n",
       "6173                             0           0               1   \n",
       "5889                             0           0               1   \n",
       "6705                             0           0               1   \n",
       "5036                             0           0               1   \n",
       "7115                             0           0               1   \n",
       "...                            ...         ...             ...   \n",
       "6859                             0           0               1   \n",
       "6539                             0           0               1   \n",
       "5226                             0           0               1   \n",
       "5253                             0           0               1   \n",
       "4967                             0           0               1   \n",
       "\n",
       "         card type_classic  card type_gold  card type_junior  \n",
       "loan_id                                                       \n",
       "6173                     0               0                 0  \n",
       "5889                     0               0                 0  \n",
       "6705                     0               0                 0  \n",
       "5036                     0               0                 0  \n",
       "7115                     0               0                 0  \n",
       "...                    ...             ...               ...  \n",
       "6859                     0               0                 0  \n",
       "6539                     0               0                 0  \n",
       "5226                     0               0                 0  \n",
       "5253                     0               0                 0  \n",
       "4967                     0               0                 0  \n",
       "\n",
       "[354 rows x 47 columns]"
      ]
     },
     "execution_count": 56,
     "metadata": {},
     "output_type": "execute_result"
    }
   ],
   "source": [
    "complete"
   ]
  },
  {
   "cell_type": "markdown",
   "metadata": {},
   "source": [
    "### 1.3.1 Exporting to csv"
   ]
  },
  {
   "cell_type": "code",
   "execution_count": 57,
   "metadata": {},
   "outputs": [],
   "source": [
    "#complete.to_csv(\"./last_comp_complete_data.csv\", sep=\";\")"
   ]
  },
  {
   "cell_type": "markdown",
   "metadata": {},
   "source": [
    "## 1.4 Data Analysis"
   ]
  },
  {
   "cell_type": "markdown",
   "metadata": {},
   "source": [
    "### 1.4.1 Frequency - Nominal Categorical Attribute"
   ]
  },
  {
   "cell_type": "code",
   "execution_count": 26,
   "metadata": {},
   "outputs": [
    {
     "data": {
      "text/plain": [
       "count                  328\n",
       "unique                   3\n",
       "top       monthly issuance\n",
       "freq                   259\n",
       "Name: frequency, dtype: object"
      ]
     },
     "execution_count": 26,
     "metadata": {},
     "output_type": "execute_result"
    }
   ],
   "source": [
    "complete['frequency'].describe()"
   ]
  },
  {
   "cell_type": "code",
   "execution_count": 27,
   "metadata": {},
   "outputs": [
    {
     "data": {
      "text/plain": [
       "<AxesSubplot:>"
      ]
     },
     "execution_count": 27,
     "metadata": {},
     "output_type": "execute_result"
    },
    {
     "data": {
      "image/png": "[encoded data removed]",
      "text/plain": [
       "<Figure size 432x288 with 1 Axes>"
      ]
     },
     "metadata": {
      "needs_background": "light"
     },
     "output_type": "display_data"
    }
   ],
   "source": [
    "complete['frequency'].value_counts().plot(kind='bar')"
   ]
  },
  {
   "cell_type": "code",
   "execution_count": 28,
   "metadata": {},
   "outputs": [
    {
     "data": {
      "image/png": "[encoded data removed]",
      "text/plain": [
       "<Figure size 432x288 with 1 Axes>"
      ]
     },
     "metadata": {},
     "output_type": "display_data"
    }
   ],
   "source": [
    "fig, ax = plt.subplots()\n",
    "ax.pie(complete['frequency'].value_counts(), labels=complete['frequency'].unique(), autopct='%1.1f%%')\n",
    "ax.axis('equal')  # Equal aspect ratio ensures the pie chart is circular.\n",
    "ax.set_title('Frequency types')\n",
    "\n",
    "plt.show()"
   ]
  },
  {
   "cell_type": "markdown",
   "metadata": {},
   "source": [
    "#### Remarks:\n",
    "Of the 328 rows of complete data available, the majority corresponds to accounts where the frequency attribute value is 'monthly issuance'. 'monthly issuance' has 5 times more entries than 'weekly issuance' and more than 14 times more entries than 'issuance after transaction'.\n",
    "\n",
    "This might mean that this attribute will not be of great help to predict the outcome of a loan due to the small sample of the other 2 possibilities."
   ]
  },
  {
   "cell_type": "markdown",
   "metadata": {},
   "source": [
    "### 1.4.2 Account Creation Date - Date Attribute"
   ]
  },
  {
   "cell_type": "code",
   "execution_count": 29,
   "metadata": {},
   "outputs": [
    {
     "ename": "KeyError",
     "evalue": "'date'",
     "output_type": "error",
     "traceback": [
      "\u001b[1;31m---------------------------------------------------------------------------\u001b[0m",
      "\u001b[1;31mKeyError\u001b[0m                                  Traceback (most recent call last)",
      "\u001b[1;32mC:\\ProgramData\\Anaconda3\\lib\\site-packages\\pandas\\core\\indexes\\base.py\u001b[0m in \u001b[0;36mget_loc\u001b[1;34m(self, key, method, tolerance)\u001b[0m\n\u001b[0;32m   2894\u001b[0m             \u001b[1;32mtry\u001b[0m\u001b[1;33m:\u001b[0m\u001b[1;33m\u001b[0m\u001b[1;33m\u001b[0m\u001b[0m\n\u001b[1;32m-> 2895\u001b[1;33m                 \u001b[1;32mreturn\u001b[0m \u001b[0mself\u001b[0m\u001b[1;33m.\u001b[0m\u001b[0m_engine\u001b[0m\u001b[1;33m.\u001b[0m\u001b[0mget_loc\u001b[0m\u001b[1;33m(\u001b[0m\u001b[0mcasted_key\u001b[0m\u001b[1;33m)\u001b[0m\u001b[1;33m\u001b[0m\u001b[1;33m\u001b[0m\u001b[0m\n\u001b[0m\u001b[0;32m   2896\u001b[0m             \u001b[1;32mexcept\u001b[0m \u001b[0mKeyError\u001b[0m \u001b[1;32mas\u001b[0m \u001b[0merr\u001b[0m\u001b[1;33m:\u001b[0m\u001b[1;33m\u001b[0m\u001b[1;33m\u001b[0m\u001b[0m\n",
      "\u001b[1;32mpandas\\_libs\\index.pyx\u001b[0m in \u001b[0;36mpandas._libs.index.IndexEngine.get_loc\u001b[1;34m()\u001b[0m\n",
      "\u001b[1;32mpandas\\_libs\\index.pyx\u001b[0m in \u001b[0;36mpandas._libs.index.IndexEngine.get_loc\u001b[1;34m()\u001b[0m\n",
      "\u001b[1;32mpandas\\_libs\\hashtable_class_helper.pxi\u001b[0m in \u001b[0;36mpandas._libs.hashtable.PyObjectHashTable.get_item\u001b[1;34m()\u001b[0m\n",
      "\u001b[1;32mpandas\\_libs\\hashtable_class_helper.pxi\u001b[0m in \u001b[0;36mpandas._libs.hashtable.PyObjectHashTable.get_item\u001b[1;34m()\u001b[0m\n",
      "\u001b[1;31mKeyError\u001b[0m: 'date'",
      "\nThe above exception was the direct cause of the following exception:\n",
      "\u001b[1;31mKeyError\u001b[0m                                  Traceback (most recent call last)",
      "\u001b[1;32m<ipython-input-29-ad91e396018f>\u001b[0m in \u001b[0;36m<module>\u001b[1;34m\u001b[0m\n\u001b[1;32m----> 1\u001b[1;33m \u001b[0mcomplete\u001b[0m\u001b[1;33m[\u001b[0m\u001b[1;34m'date'\u001b[0m\u001b[1;33m]\u001b[0m\u001b[1;33m.\u001b[0m\u001b[0mdescribe\u001b[0m\u001b[1;33m(\u001b[0m\u001b[1;33m)\u001b[0m\u001b[1;33m\u001b[0m\u001b[1;33m\u001b[0m\u001b[0m\n\u001b[0m",
      "\u001b[1;32mC:\\ProgramData\\Anaconda3\\lib\\site-packages\\pandas\\core\\frame.py\u001b[0m in \u001b[0;36m__getitem__\u001b[1;34m(self, key)\u001b[0m\n\u001b[0;32m   2900\u001b[0m             \u001b[1;32mif\u001b[0m \u001b[0mself\u001b[0m\u001b[1;33m.\u001b[0m\u001b[0mcolumns\u001b[0m\u001b[1;33m.\u001b[0m\u001b[0mnlevels\u001b[0m \u001b[1;33m>\u001b[0m \u001b[1;36m1\u001b[0m\u001b[1;33m:\u001b[0m\u001b[1;33m\u001b[0m\u001b[1;33m\u001b[0m\u001b[0m\n\u001b[0;32m   2901\u001b[0m                 \u001b[1;32mreturn\u001b[0m \u001b[0mself\u001b[0m\u001b[1;33m.\u001b[0m\u001b[0m_getitem_multilevel\u001b[0m\u001b[1;33m(\u001b[0m\u001b[0mkey\u001b[0m\u001b[1;33m)\u001b[0m\u001b[1;33m\u001b[0m\u001b[1;33m\u001b[0m\u001b[0m\n\u001b[1;32m-> 2902\u001b[1;33m             \u001b[0mindexer\u001b[0m \u001b[1;33m=\u001b[0m \u001b[0mself\u001b[0m\u001b[1;33m.\u001b[0m\u001b[0mcolumns\u001b[0m\u001b[1;33m.\u001b[0m\u001b[0mget_loc\u001b[0m\u001b[1;33m(\u001b[0m\u001b[0mkey\u001b[0m\u001b[1;33m)\u001b[0m\u001b[1;33m\u001b[0m\u001b[1;33m\u001b[0m\u001b[0m\n\u001b[0m\u001b[0;32m   2903\u001b[0m             \u001b[1;32mif\u001b[0m \u001b[0mis_integer\u001b[0m\u001b[1;33m(\u001b[0m\u001b[0mindexer\u001b[0m\u001b[1;33m)\u001b[0m\u001b[1;33m:\u001b[0m\u001b[1;33m\u001b[0m\u001b[1;33m\u001b[0m\u001b[0m\n\u001b[0;32m   2904\u001b[0m                 \u001b[0mindexer\u001b[0m \u001b[1;33m=\u001b[0m \u001b[1;33m[\u001b[0m\u001b[0mindexer\u001b[0m\u001b[1;33m]\u001b[0m\u001b[1;33m\u001b[0m\u001b[1;33m\u001b[0m\u001b[0m\n",
      "\u001b[1;32mC:\\ProgramData\\Anaconda3\\lib\\site-packages\\pandas\\core\\indexes\\base.py\u001b[0m in \u001b[0;36mget_loc\u001b[1;34m(self, key, method, tolerance)\u001b[0m\n\u001b[0;32m   2895\u001b[0m                 \u001b[1;32mreturn\u001b[0m \u001b[0mself\u001b[0m\u001b[1;33m.\u001b[0m\u001b[0m_engine\u001b[0m\u001b[1;33m.\u001b[0m\u001b[0mget_loc\u001b[0m\u001b[1;33m(\u001b[0m\u001b[0mcasted_key\u001b[0m\u001b[1;33m)\u001b[0m\u001b[1;33m\u001b[0m\u001b[1;33m\u001b[0m\u001b[0m\n\u001b[0;32m   2896\u001b[0m             \u001b[1;32mexcept\u001b[0m \u001b[0mKeyError\u001b[0m \u001b[1;32mas\u001b[0m \u001b[0merr\u001b[0m\u001b[1;33m:\u001b[0m\u001b[1;33m\u001b[0m\u001b[1;33m\u001b[0m\u001b[0m\n\u001b[1;32m-> 2897\u001b[1;33m                 \u001b[1;32mraise\u001b[0m \u001b[0mKeyError\u001b[0m\u001b[1;33m(\u001b[0m\u001b[0mkey\u001b[0m\u001b[1;33m)\u001b[0m \u001b[1;32mfrom\u001b[0m \u001b[0merr\u001b[0m\u001b[1;33m\u001b[0m\u001b[1;33m\u001b[0m\u001b[0m\n\u001b[0m\u001b[0;32m   2898\u001b[0m \u001b[1;33m\u001b[0m\u001b[0m\n\u001b[0;32m   2899\u001b[0m         \u001b[1;32mif\u001b[0m \u001b[0mtolerance\u001b[0m \u001b[1;32mis\u001b[0m \u001b[1;32mnot\u001b[0m \u001b[1;32mNone\u001b[0m\u001b[1;33m:\u001b[0m\u001b[1;33m\u001b[0m\u001b[1;33m\u001b[0m\u001b[0m\n",
      "\u001b[1;31mKeyError\u001b[0m: 'date'"
     ]
    }
   ],
   "source": [
    "complete['date'].describe()"
   ]
  },
  {
   "cell_type": "code",
   "execution_count": null,
   "metadata": {},
   "outputs": [],
   "source": [
    "print(\"Min: \", end=\"\");                 print(complete['date'].min())\n",
    "print(\"Max: \", end=\"\");                 print(complete['date'].max())"
   ]
  },
  {
   "cell_type": "code",
   "execution_count": null,
   "metadata": {},
   "outputs": [],
   "source": [
    "complete['date'].value_counts()[:50].plot(kind='bar', figsize=(15,3))"
   ]
  },
  {
   "cell_type": "markdown",
   "metadata": {},
   "source": [
    "#### Remarks:\n",
    "The accounts of this dataset were all created between the years 1993 and 1996.\n",
    "\n",
    "The date of account creation a priori doesn't seem to be related at all with the possible outcome of a loan."
   ]
  },
  {
   "cell_type": "markdown",
   "metadata": {},
   "source": [
    "### 1.4.3 Number of transactions - Numerical Attribute"
   ]
  },
  {
   "cell_type": "code",
   "execution_count": null,
   "metadata": {},
   "outputs": [],
   "source": [
    "q3, q1 = np.percentile(complete['# trans'], [75 ,25])\n",
    "\n",
    "print(\"Min: \", end=\"\");                 print(complete['# trans'].min())\n",
    "print(\"Max: \", end=\"\");                 print(complete['# trans'].max())\n",
    "print(\"Mean: \", end=\"\");                print(complete['# trans'].mean())\n",
    "print(\"Median: \", end=\"\");              print(complete['# trans'].median())\n",
    "print(\"Standard deviation: \", end=\"\");  print(complete['# trans'].std())\n",
    "print(\"Skewness: \", end=\"\");            print(complete['# trans'].skew())  \n",
    "print(\"Variance: \", end=\"\");            print(complete['# trans'].var())\n",
    "print(\"Kurtosis: \", end=\"\");            print(complete['# trans'].kurtosis())\n",
    "print(\"Interquartile Range: \", end=\"\"); print(q3 - q1, end=\" | \"); print(\"Q1: {} | Q3: {}\".format(q1,q3))"
   ]
  },
  {
   "cell_type": "code",
   "execution_count": null,
   "metadata": {},
   "outputs": [],
   "source": [
    "sns.distplot(complete['# trans'])"
   ]
  },
  {
   "cell_type": "code",
   "execution_count": null,
   "metadata": {},
   "outputs": [],
   "source": [
    "complete['# trans'].plot.box();"
   ]
  },
  {
   "cell_type": "markdown",
   "metadata": {},
   "source": [
    "#### Remarks:\n",
    "The number of transactions performed by an account has a very wide range of values and every single one is at minimum 4 and at maximum 196 which justifies the high variance / standard deviation. The majority of the values is concentrated in the range \\[39,103\\].\n",
    "By observing the skewness we can classify the data as slightly skewed (between -0.5 and 0.5 would be considered approximately symmetric). The small (in absolute value) kurtosis (it is in the range \\[-1,1\\]) informs that the distribution is neither too flat or too peeked."
   ]
  },
  {
   "cell_type": "markdown",
   "metadata": {},
   "source": [
    "### 1.4.4 Transaction Operations - Numerical Attributes"
   ]
  },
  {
   "cell_type": "code",
   "execution_count": null,
   "metadata": {},
   "outputs": [],
   "source": [
    "subset = complete[['oper #1', 'oper #2', 'oper #3', 'oper #4', 'oper #5']].mean()\n",
    "print(subset)\n",
    "subset.plot(kind='bar', title=\"Average number of transactions per Operation\")"
   ]
  },
  {
   "cell_type": "markdown",
   "metadata": {},
   "source": [
    "#### Remarks:\n",
    "The data provided is very unbalanced when it comes to the transaction operations' performed for each account of which there is information about a loan. Of the 5 options identified, 'oper \\#5' ('withdrawal in cash') is by far the most common while 'oper \\#2' ('credit card withdrawal') is very rare.\n",
    "\n",
    "Therefore, this attribute might not be of much use to predict the outcome of a loan due to sample size discrepancy of the 5 possible values."
   ]
  },
  {
   "cell_type": "markdown",
   "metadata": {},
   "source": [
    "### 1.4.5 Transaction Types - Numerical Attributes"
   ]
  },
  {
   "cell_type": "code",
   "execution_count": null,
   "metadata": {},
   "outputs": [],
   "source": [
    "subset = complete[['type #1', 'type #2', 'type #3']].mean()\n",
    "subset.plot(kind='bar', title=\"Average number of transactions per Type\")"
   ]
  },
  {
   "cell_type": "markdown",
   "metadata": {},
   "source": [
    "#### Remarks: \n",
    "Similar to columns 'oper X' with the difference that in this case only one value is much less represented than the others\n",
    "Therefore, similarly to the previous attribute, this one might also not be of much use to predict the outcome of a loan due to sample size of 1 of the possible values."
   ]
  },
  {
   "cell_type": "markdown",
   "metadata": {},
   "source": [
    "### 1.4.6 Average Transaction Amount - Numerical Attribute"
   ]
  },
  {
   "cell_type": "code",
   "execution_count": null,
   "metadata": {
    "scrolled": true
   },
   "outputs": [],
   "source": [
    "q3, q1 = np.percentile(complete['avg trans amount'], [75 ,25])\n",
    "\n",
    "print(\"Min: \", end=\"\");                 print(complete['avg trans amount'].min())\n",
    "print(\"Max: \", end=\"\");                 print(complete['avg trans amount'].max())\n",
    "print(\"Mean: \", end=\"\");                print(complete['avg trans amount'].mean())\n",
    "print(\"Median: \", end=\"\");              print(complete['avg trans amount'].median())\n",
    "print(\"Standard deviation: \", end=\"\");  print(complete['avg trans amount'].std())\n",
    "print(\"Skewness: \", end=\"\");            print(complete['avg trans amount'].skew())  \n",
    "print(\"Variance: \", end=\"\");            print(complete['avg trans amount'].var())\n",
    "print(\"Kurtosis: \", end=\"\");            print(complete['avg trans amount'].kurtosis())\n",
    "print(\"Interquartile Range: \", end=\"\"); print(q3 - q1, end=\" | \"); print(\"Q1: {} | Q3: {}\".format(q1,q3))\n",
    "\n",
    "# var() method returns the unbiased variance\n",
    "# Medium-High std which indicates that the data is spread out and not clustered around the mean\n",
    "# Skewness > 1 => it is skewed to the right"
   ]
  },
  {
   "cell_type": "code",
   "execution_count": null,
   "metadata": {},
   "outputs": [],
   "source": [
    "sns.distplot(complete['avg trans amount'])"
   ]
  },
  {
   "cell_type": "code",
   "execution_count": null,
   "metadata": {},
   "outputs": [],
   "source": [
    "complete['avg trans amount'].plot.box();"
   ]
  },
  {
   "cell_type": "markdown",
   "metadata": {},
   "source": [
    "#### Remarks:\n",
    "The 'average transaction amount' atribute seems to follow approximately a normal distribution based on its graphical representation and skewness/kurtosis values.\n",
    "\n",
    "Despite this, it is possible to identify some values outside the general landscape that can either correspond to outliers or to a real group that is not well represented in the provided data."
   ]
  },
  {
   "cell_type": "markdown",
   "metadata": {},
   "source": [
    "### 1.4.7 Average Transaction Balance - Numerical Attribute"
   ]
  },
  {
   "cell_type": "code",
   "execution_count": null,
   "metadata": {},
   "outputs": [],
   "source": [
    "q3, q1 = np.percentile(complete['avg trans balance'], [75 ,25])\n",
    "\n",
    "print(\"Min: \", end=\"\");                 print(complete['avg trans balance'].min())\n",
    "print(\"Max: \", end=\"\");                 print(complete['avg trans balance'].max())\n",
    "print(\"Mean: \", end=\"\");                print(complete['avg trans balance'].mean())\n",
    "print(\"Median: \", end=\"\");              print(complete['avg trans balance'].median())\n",
    "print(\"Standard deviation: \", end=\"\");  print(complete['avg trans balance'].std())\n",
    "print(\"Skewness: \", end=\"\");            print(complete['avg trans balance'].skew())  \n",
    "print(\"Variance: \", end=\"\");            print(complete['avg trans balance'].var())\n",
    "print(\"Kurtosis: \", end=\"\");            print(complete['avg trans balance'].kurtosis())\n",
    "print(\"Interquartile Range: \", end=\"\"); print(q3 - q1, end=\" | \"); print(\"Q1: {} | Q3: {}\".format(q1,q3))\n",
    "\n",
    "# var() method returns the unbiased variance\n",
    "# Medium-High std which indicates that the data is spread out and not clustered around the mean\n",
    "# Skewness > 1 => it is skewed to the right"
   ]
  },
  {
   "cell_type": "code",
   "execution_count": null,
   "metadata": {},
   "outputs": [],
   "source": [
    "sns.distplot(complete['avg trans balance'])"
   ]
  },
  {
   "cell_type": "code",
   "execution_count": null,
   "metadata": {},
   "outputs": [],
   "source": [
    "complete['avg trans balance'].plot.box();"
   ]
  },
  {
   "cell_type": "markdown",
   "metadata": {},
   "source": [
    "#### Remarks:\n",
    "Like the previous atribute, the 'average transaction balance' seems to follow approximately a normal distribution based on its graphical representation and skewness/kurtosis values. Contrasting with the last atribute, there seem to be no possible outliers, constituting possibly a good candidate variable to predict the outcome of a loan."
   ]
  },
  {
   "cell_type": "markdown",
   "metadata": {},
   "source": [
    "### 1.4.8 Loan Date - Date Attribute"
   ]
  },
  {
   "cell_type": "code",
   "execution_count": null,
   "metadata": {},
   "outputs": [],
   "source": [
    "complete['loan date'].describe()"
   ]
  },
  {
   "cell_type": "code",
   "execution_count": null,
   "metadata": {
    "scrolled": true
   },
   "outputs": [],
   "source": [
    "print(\"Min: \", end=\"\");                 print(complete['loan date'].min())\n",
    "print(\"Max: \", end=\"\");                 print(complete['loan date'].max())"
   ]
  },
  {
   "cell_type": "code",
   "execution_count": null,
   "metadata": {},
   "outputs": [],
   "source": [
    "complete['loan date'].value_counts()[:50].plot(kind='bar', figsize=(15,3))"
   ]
  },
  {
   "cell_type": "markdown",
   "metadata": {},
   "source": [
    "#### Remarks:\n",
    "The loan of this dataset all date between the years 1993 and 1996, similarly to the account creation dates.\n",
    "\n",
    "The date of a loan, a priori, doesn't seem to be related at all with the possible outcome of a loan."
   ]
  },
  {
   "cell_type": "code",
   "execution_count": null,
   "metadata": {},
   "outputs": [],
   "source": [
    "q3, q1 = np.percentile(complete['age at loan (Years)'], [75 ,25])\n",
    "\n",
    "print(\"Min: \", end=\"\");                 print(complete['age at loan (Years)'].min())\n",
    "print(\"Max: \", end=\"\");                 print(complete['age at loan (Years)'].max())\n",
    "print(\"Mean: \", end=\"\");                print(complete['age at loan (Years)'].mean())\n",
    "print(\"Median: \", end=\"\");              print(complete['age at loan (Years)'].median())\n",
    "print(\"Standard deviation: \", end=\"\");  print(complete['age at loan (Years)'].std())\n",
    "print(\"Skewness: \", end=\"\");            print(complete['age at loan (Years)'].skew())  \n",
    "print(\"Variance: \", end=\"\");            print(complete['age at loan (Years)'].var())\n",
    "print(\"Kurtosis: \", end=\"\");            print(complete['age at loan (Years)'].kurtosis())\n",
    "print(\"Interquartile Range: \", end=\"\"); print(q3 - q1, end=\" | \"); print(\"Q1: {} | Q3: {}\".format(q1,q3))"
   ]
  },
  {
   "cell_type": "code",
   "execution_count": null,
   "metadata": {},
   "outputs": [],
   "source": [
    "sns.distplot(complete['age at loan (Years)'])"
   ]
  },
  {
   "cell_type": "code",
   "execution_count": null,
   "metadata": {},
   "outputs": [],
   "source": [
    "complete['age at loan (Years)'].plot.box()"
   ]
  },
  {
   "cell_type": "markdown",
   "metadata": {},
   "source": [
    "#### Remarks:\n",
    "The range of ages of the clients at the time at which the loan was provided is quite comprehensive.\n",
    "The skewness indicates a distribution of the data that isn't skewed and the kurtosis points to its flatness, as it is possible to confirm by observation of the distplot.\n",
    "\n",
    "Despite this aparent 'normality' and, by extent, possibly usefulness of this atribute it is also possible to detect that some values and under the minimum adult age (18 years) which would make these entries invalid and, therefore, creating the necessity to remove them before further analysis."
   ]
  },
  {
   "cell_type": "markdown",
   "metadata": {},
   "source": [
    "### 1.4.9 Loan Amount - Numerical Attribute"
   ]
  },
  {
   "cell_type": "code",
   "execution_count": null,
   "metadata": {},
   "outputs": [],
   "source": [
    "q3, q1 = np.percentile(complete['loan amount'], [75 ,25])\n",
    "\n",
    "print(\"Min: \", end=\"\");                 print(complete['loan amount'].min())\n",
    "print(\"Max: \", end=\"\");                 print(complete['loan amount'].max())\n",
    "print(\"Mean: \", end=\"\");                print(complete['loan amount'].mean())\n",
    "print(\"Median: \", end=\"\");              print(complete['loan amount'].median())\n",
    "print(\"Standard deviation: \", end=\"\");  print(complete['loan amount'].std())\n",
    "print(\"Skewness: \", end=\"\");            print(complete['loan amount'].skew())  \n",
    "print(\"Variance: \", end=\"\");            print(complete['loan amount'].var())\n",
    "print(\"Kurtosis: \", end=\"\");            print(complete['loan amount'].kurtosis())\n",
    "print(\"Interquartile Range: \", end=\"\"); print(q3 - q1, end=\" | \"); print(\"Q1: {} | Q3: {}\".format(q1,q3))\n",
    "\n",
    "# Very High std which indicates that the data is spread out and not clustered around the mean\n",
    "# > 1 therefore it is skewed to the right"
   ]
  },
  {
   "cell_type": "code",
   "execution_count": null,
   "metadata": {},
   "outputs": [],
   "source": [
    "sns.distplot(complete['loan amount'])"
   ]
  },
  {
   "cell_type": "code",
   "execution_count": null,
   "metadata": {},
   "outputs": [],
   "source": [
    "complete['loan amount'].plot.box();"
   ]
  },
  {
   "cell_type": "markdown",
   "metadata": {},
   "source": [
    "#### Remarks:\n",
    "The loan amount column data is made of very different values and it is skewed to the right which is confirmed by the skewness. The kurtosis can be confirmed by observation of the seaborn distplot that shows a peak around the value 100000.\n",
    "\n",
    "It is possible to identify some values outside the general landscape that can either correspond to outliers or to a real group that is not well represented in the provided data. Due to the number of these values we assume the second hypotesis."
   ]
  },
  {
   "cell_type": "markdown",
   "metadata": {},
   "source": [
    "### 1.4.10 Loan Duration (in months) - Numerical Attribute"
   ]
  },
  {
   "cell_type": "code",
   "execution_count": null,
   "metadata": {},
   "outputs": [],
   "source": [
    "q3, q1 = np.percentile(complete['loan duration (mths)'], [75 ,25])\n",
    "\n",
    "print(\"Min: \", end=\"\");                 print(complete['loan duration (mths)'].min())\n",
    "print(\"Max: \", end=\"\");                 print(complete['loan duration (mths)'].max())\n",
    "print(\"Mean: \", end=\"\");                print(complete['loan duration (mths)'].mean())\n",
    "print(\"Median: \", end=\"\");              print(complete['loan duration (mths)'].median())\n",
    "print(\"Standard deviation: \", end=\"\");  print(complete['loan duration (mths)'].std())\n",
    "print(\"Skewness: \", end=\"\");            print(complete['loan duration (mths)'].skew())  \n",
    "print(\"Variance: \", end=\"\");            print(complete['loan duration (mths)'].var())\n",
    "print(\"Kurtosis: \", end=\"\");            print(complete['loan duration (mths)'].kurtosis())\n",
    "print(\"Interquartile Range: \", end=\"\"); print(q3 - q1, end=\" | \"); print(\"Q1: {} | Q3: {}\".format(q1,q3))"
   ]
  },
  {
   "cell_type": "code",
   "execution_count": null,
   "metadata": {},
   "outputs": [],
   "source": [
    "complete['loan duration (mths)'].value_counts().sort_index().plot(kind='bar')"
   ]
  },
  {
   "cell_type": "markdown",
   "metadata": {},
   "source": [
    "#### Remarks:\n",
    "In general, the loan duration data seems rather uniform visually, which is in agreement with the statistical analysis results: small absolute value of skewness points to a approximately normal distribution and the lower than -1 kurtosis represents a flat distribution.\n",
    "\n",
    "Due to the very small variation in frequency of each of the values of this loan duration column, it is plausible to think it won't provide much information regarding the prediction of the outcome of a loan."
   ]
  },
  {
   "cell_type": "markdown",
   "metadata": {},
   "source": [
    "### 1.4.11 Loan Payments - Numerical Attribute"
   ]
  },
  {
   "cell_type": "code",
   "execution_count": null,
   "metadata": {},
   "outputs": [],
   "source": [
    "q3, q1 = np.percentile(complete['loan payments'], [75 ,25])\n",
    "\n",
    "print(\"Min: \", end=\"\");                 print(complete['loan payments'].min())\n",
    "print(\"Max: \", end=\"\");                 print(complete['loan payments'].max())\n",
    "print(\"Mean: \", end=\"\");                print(complete['loan payments'].mean())\n",
    "print(\"Median: \", end=\"\");              print(complete['loan payments'].median())\n",
    "print(\"Standard deviation: \", end=\"\");  print(complete['loan payments'].std())\n",
    "print(\"Skewness: \", end=\"\");            print(complete['loan payments'].skew())  \n",
    "print(\"Variance: \", end=\"\");            print(complete['loan payments'].var())\n",
    "print(\"Kurtosis: \", end=\"\");            print(complete['loan payments'].kurtosis())\n",
    "print(\"Interquartile Range: \", end=\"\"); print(q3 - q1, end=\" | \"); print(\"Q1: {} | Q3: {}\".format(q1,q3))"
   ]
  },
  {
   "cell_type": "code",
   "execution_count": null,
   "metadata": {},
   "outputs": [],
   "source": [
    "sns.distplot(complete['loan payments'])"
   ]
  },
  {
   "cell_type": "code",
   "execution_count": null,
   "metadata": {},
   "outputs": [],
   "source": [
    "complete['loan payments'].plot.box();"
   ]
  },
  {
   "cell_type": "markdown",
   "metadata": {},
   "source": [
    "#### Remarks:\n",
    "Similarly to some of the previous atributes, loan payments follows approximately a normal distribution.\n",
    "Besides, in some way seems to be in agreement with the loan amount atribute, as expected."
   ]
  },
  {
   "cell_type": "markdown",
   "metadata": {},
   "source": [
    "### 1.4.12 Loan Status - Nominal(?) Attribute"
   ]
  },
  {
   "cell_type": "code",
   "execution_count": null,
   "metadata": {},
   "outputs": [],
   "source": [
    "#complete['loan status'].describe()"
   ]
  },
  {
   "cell_type": "code",
   "execution_count": null,
   "metadata": {},
   "outputs": [],
   "source": [
    "# -1 -> not paid; 1 -> paid\n",
    "#complete['loan status'].value_counts().plot(kind='bar')"
   ]
  },
  {
   "cell_type": "markdown",
   "metadata": {},
   "source": [
    "#### Remarks:\n",
    "By observation alone it is clear that the amount of loans where an account fulfills its commitments to the bank severely surpasses the number of entries where default credit it the result. Then, oversampling/undersampling methods might useful."
   ]
  },
  {
   "cell_type": "markdown",
   "metadata": {},
   "source": [
    "### 1.4.13 Number of district inhabitants - Numerical Attribute"
   ]
  },
  {
   "cell_type": "code",
   "execution_count": null,
   "metadata": {},
   "outputs": [],
   "source": [
    "q3, q1 = np.percentile(complete['no. of inhabitants'], [75 ,25])\n",
    "\n",
    "print(\"Min: \", end=\"\");                 print(complete['no. of inhabitants'].min())\n",
    "print(\"Max: \", end=\"\");                 print(complete['no. of inhabitants'].max())\n",
    "print(\"Mean: \", end=\"\");                print(complete['no. of inhabitants'].mean())\n",
    "print(\"Median: \", end=\"\");              print(complete['no. of inhabitants'].median())\n",
    "print(\"Standard deviation: \", end=\"\");  print(complete['no. of inhabitants'].std())\n",
    "print(\"Skewness: \", end=\"\");            print(complete['no. of inhabitants'].skew())  \n",
    "print(\"Variance: \", end=\"\");            print(complete['no. of inhabitants'].var())\n",
    "print(\"Kurtosis: \", end=\"\");            print(complete['no. of inhabitants'].kurtosis())\n",
    "print(\"Interquartile Range: \", end=\"\"); print(q3 - q1, end=\" | \"); print(\"Q1: {} | Q3: {}\".format(q1,q3))"
   ]
  },
  {
   "cell_type": "code",
   "execution_count": null,
   "metadata": {},
   "outputs": [],
   "source": [
    "sns.distplot(complete['no. of inhabitants'])"
   ]
  },
  {
   "cell_type": "code",
   "execution_count": null,
   "metadata": {},
   "outputs": [],
   "source": [
    "complete['no. of inhabitants'].plot.box();"
   ]
  },
  {
   "cell_type": "markdown",
   "metadata": {},
   "source": [
    "#### Remarks:\n",
    "Without the data past 750 thousand inhabitants, the atribute would assume almost a perfect normal distribution. As is, the data distribution is substantially skewed and the kurtosis confirms the peaked characterization.\n",
    "Due to the percentage of information that fits in the supposed 'outlier zone', these entries can't be considered outliers. They may just represent a densely populated area where the average corresponds to semi-urban or even rural regions and the provided data simply doesn't have information regarding regions whose population numbers fit the \\[400000, 1100000\\] range."
   ]
  },
  {
   "cell_type": "markdown",
   "metadata": {},
   "source": [
    "### 1.4.14 Inahbitants per municipality - Numerical Attribute"
   ]
  },
  {
   "cell_type": "code",
   "execution_count": null,
   "metadata": {},
   "outputs": [],
   "source": [
    "fig, ax = plt.subplots(2,2)\n",
    "sns.distplot(complete['no. of municipalities with inhabitants < 499 '], ax=ax[0][0])\n",
    "sns.distplot(complete['no. of municipalities with inhabitants 500-1999'], ax=ax[0][1])\n",
    "\n",
    "sns.distplot(complete['no. of municipalities with inhabitants 2000-9999 '], ax=ax[1][0])\n",
    "sns.distplot(complete['no. of municipalities with inhabitants >10000 '], ax=ax[1][1])\n",
    "fig.tight_layout()\n",
    "fig.show()"
   ]
  },
  {
   "cell_type": "code",
   "execution_count": null,
   "metadata": {},
   "outputs": [],
   "source": [
    "complete[['no. of municipalities with inhabitants < 499 ', 'no. of municipalities with inhabitants 500-1999', 'no. of municipalities with inhabitants 2000-9999 ', 'no. of municipalities with inhabitants >10000 ']].plot(kind='box', subplots=True, legend=False, layout=(2, 2))\n",
    "plt.tight_layout()"
   ]
  },
  {
   "cell_type": "markdown",
   "metadata": {},
   "source": [
    "#### Remarks:\n",
    "The distributions of the number of municipalities seem very disperse and with aparent low value by themselves for loan predictions. Nonetheless, it can be especulated that many of the accounts belong to people that live in a far more densely populated area that the rest, hyposthesis that is corroborated by the previous and next data regarding the districts."
   ]
  },
  {
   "cell_type": "markdown",
   "metadata": {},
   "source": [
    "### 1.4.15 Number of cities of district - Numerical Attribute"
   ]
  },
  {
   "cell_type": "code",
   "execution_count": null,
   "metadata": {},
   "outputs": [],
   "source": [
    "q3, q1 = np.percentile(complete['no. of cities '], [75 ,25])\n",
    "\n",
    "print(\"Min: \", end=\"\");                 print(complete['no. of cities '].min())\n",
    "print(\"Max: \", end=\"\");                 print(complete['no. of cities '].max())\n",
    "print(\"Mean: \", end=\"\");                print(complete['no. of cities '].mean())\n",
    "print(\"Median: \", end=\"\");              print(complete['no. of cities '].median())\n",
    "print(\"Standard deviation: \", end=\"\");  print(complete['no. of cities '].std())\n",
    "print(\"Skewness: \", end=\"\");            print(complete['no. of cities '].skew())  \n",
    "print(\"Variance: \", end=\"\");            print(complete['no. of cities '].var())\n",
    "print(\"Kurtosis: \", end=\"\");            print(complete['no. of cities '].kurtosis())\n",
    "print(\"Interquartile Range: \", end=\"\"); print(q3 - q1, end=\" | \"); print(\"Q1: {} | Q3: {}\".format(q1,q3))"
   ]
  },
  {
   "cell_type": "code",
   "execution_count": null,
   "metadata": {
    "scrolled": true
   },
   "outputs": [],
   "source": [
    "complete['no. of cities '].value_counts().sort_index().plot(kind='bar')"
   ]
  },
  {
   "cell_type": "code",
   "execution_count": null,
   "metadata": {},
   "outputs": [],
   "source": [
    "sns.distplot(complete['no. of cities '].value_counts())"
   ]
  },
  {
   "cell_type": "code",
   "execution_count": null,
   "metadata": {},
   "outputs": [],
   "source": [
    "complete['no. of cities '].plot.box();"
   ]
  },
  {
   "cell_type": "markdown",
   "metadata": {},
   "source": [
    "#### Remarks:\n",
    "Aproximately a normal distribution.\n",
    "This data doesn't seem to indicate any anomaly that might skew the outcome of a loan."
   ]
  },
  {
   "cell_type": "markdown",
   "metadata": {},
   "source": [
    "### 1.4.16 Ratio of Urban Inhabitants - Numerical Attribute"
   ]
  },
  {
   "cell_type": "code",
   "execution_count": null,
   "metadata": {},
   "outputs": [],
   "source": [
    "q3, q1 = np.percentile(complete['ratio of urban inhabitants '], [75 ,25])\n",
    "\n",
    "print(\"Min: \", end=\"\");                 print(complete['ratio of urban inhabitants '].min())\n",
    "print(\"Max: \", end=\"\");                 print(complete['ratio of urban inhabitants '].max())\n",
    "print(\"Mean: \", end=\"\");                print(complete['ratio of urban inhabitants '].mean())\n",
    "print(\"Median: \", end=\"\");              print(complete['ratio of urban inhabitants '].median())\n",
    "print(\"Standard deviation: \", end=\"\");  print(complete['ratio of urban inhabitants '].std())\n",
    "print(\"Skewness: \", end=\"\");            print(complete['ratio of urban inhabitants '].skew())  \n",
    "print(\"Variance: \", end=\"\");            print(complete['ratio of urban inhabitants '].var())\n",
    "print(\"Kurtosis: \", end=\"\");            print(complete['ratio of urban inhabitants '].kurtosis())\n",
    "print(\"Interquartile Range: \", end=\"\"); print(q3 - q1, end=\" | \"); print(\"Q1: {} | Q3: {}\".format(q1,q3))"
   ]
  },
  {
   "cell_type": "code",
   "execution_count": null,
   "metadata": {},
   "outputs": [],
   "source": [
    "sns.distplot(complete['ratio of urban inhabitants '])"
   ]
  },
  {
   "cell_type": "code",
   "execution_count": null,
   "metadata": {},
   "outputs": [],
   "source": [
    "complete['ratio of urban inhabitants '].plot.box();"
   ]
  },
  {
   "cell_type": "markdown",
   "metadata": {},
   "source": [
    "#### Remarks:\n",
    "The range of districts' ratio of urban inhabitants is very wide. The provided information regarding people that took loans points to 2 concentrations: in districts where the urban inhabitants constitute either 50 or 100 percent of the population. Due to these 2 spikes, the skewness and kurtosis conclude an approximate normal and flat distribution of the data."
   ]
  },
  {
   "cell_type": "markdown",
   "metadata": {},
   "source": [
    "### 1.4.17 Average Salary - Numerical Attribute"
   ]
  },
  {
   "cell_type": "code",
   "execution_count": null,
   "metadata": {},
   "outputs": [],
   "source": [
    "q3, q1 = np.percentile(complete['average salary '], [75 ,25])\n",
    "\n",
    "print(\"Min: \", end=\"\");                 print(complete['average salary '].min())\n",
    "print(\"Max: \", end=\"\");                 print(complete['average salary '].max())\n",
    "print(\"Mean: \", end=\"\");                print(complete['average salary '].mean())\n",
    "print(\"Median: \", end=\"\");              print(complete['average salary '].median())\n",
    "print(\"Standard deviation: \", end=\"\");  print(complete['average salary '].std())\n",
    "print(\"Skewness: \", end=\"\");            print(complete['average salary '].skew())  \n",
    "print(\"Variance: \", end=\"\");            print(complete['average salary '].var())\n",
    "print(\"Kurtosis: \", end=\"\");            print(complete['average salary '].kurtosis())\n",
    "print(\"Interquartile Range: \", end=\"\"); print(q3 - q1, end=\" | \"); print(\"Q1: {} | Q3: {}\".format(q1,q3))"
   ]
  },
  {
   "cell_type": "code",
   "execution_count": null,
   "metadata": {},
   "outputs": [],
   "source": [
    "sns.distplot(complete['average salary '])"
   ]
  },
  {
   "cell_type": "code",
   "execution_count": null,
   "metadata": {},
   "outputs": [],
   "source": [
    "complete['average salary '].plot.box();"
   ]
  },
  {
   "cell_type": "markdown",
   "metadata": {},
   "source": [
    "#### Remarks:\n",
    "The average salary atribute seems to follow graphically a distribution somewhat similar to the ratio or urban inhabitants. The second 'spike' in this column could be taken as outlier because it is separated from the rest, which is not an option because of the percentage of the entries that it represents."
   ]
  },
  {
   "cell_type": "markdown",
   "metadata": {},
   "source": [
    "### 1.4.18 Unemploymant Rate - Numerical Attribute"
   ]
  },
  {
   "cell_type": "code",
   "execution_count": null,
   "metadata": {},
   "outputs": [],
   "source": [
    "#complete.loc[complete[\"unemploymant rate '95 \"] == '?', \"unemploymant rate '95 \"] = complete[\"unemploymant rate '96 \"]\n",
    "#complete.loc[complete[\"unemploymant rate '96 \"] == '?', \"unemploymant rate '96 \"] = complete[\"unemploymant rate '95 \"]"
   ]
  },
  {
   "cell_type": "markdown",
   "metadata": {},
   "source": [
    "#### Obtain the average of 95' and 96' columns"
   ]
  },
  {
   "cell_type": "code",
   "execution_count": null,
   "metadata": {},
   "outputs": [],
   "source": [
    "#complete[\"unemploymant rate\"] = (complete[\"unemploymant rate '95 \"].astype('float') + complete[\"unemploymant rate '96 \"].astype('float')) / 2.0\n",
    "#complete = complete.drop(columns=[\"unemploymant rate '95 \", \"unemploymant rate '96 \"])\n",
    "# complete"
   ]
  },
  {
   "cell_type": "code",
   "execution_count": null,
   "metadata": {},
   "outputs": [],
   "source": [
    "q3, q1 = np.percentile(complete['unemploymant rate'], [75 ,25])\n",
    "\n",
    "print(\"Min: \", end=\"\");                 print(complete['unemploymant rate'].min())\n",
    "print(\"Max: \", end=\"\");                 print(complete['unemploymant rate'].max())\n",
    "print(\"Mean: \", end=\"\");                print(complete['unemploymant rate'].mean())\n",
    "print(\"Median: \", end=\"\");              print(complete['unemploymant rate'].median())\n",
    "print(\"Standard deviation: \", end=\"\");  print(complete['unemploymant rate'].std())\n",
    "print(\"Skewness: \", end=\"\");            print(complete['unemploymant rate'].skew())  \n",
    "print(\"Variance: \", end=\"\");            print(complete['unemploymant rate'].var())\n",
    "print(\"Kurtosis: \", end=\"\");            print(complete['unemploymant rate'].kurtosis())\n",
    "print(\"Interquartile Range: \", end=\"\"); print(q3 - q1, end=\" | \"); print(\"Q1: {} | Q3: {}\".format(q1,q3))"
   ]
  },
  {
   "cell_type": "code",
   "execution_count": null,
   "metadata": {},
   "outputs": [],
   "source": [
    "sns.distplot(complete['unemploymant rate'])"
   ]
  },
  {
   "cell_type": "code",
   "execution_count": null,
   "metadata": {},
   "outputs": [],
   "source": [
    "complete['unemploymant rate'].plot.box();"
   ]
  },
  {
   "cell_type": "markdown",
   "metadata": {},
   "source": [
    "#### Remarks:\n",
    "The unemploymant rate seems to follow a normal distribution and doesn't have any outliers."
   ]
  },
  {
   "cell_type": "markdown",
   "metadata": {},
   "source": [
    "### 1.4.19 Number of enterpreneurs per 1000 inhabitants - Numerical Attribute"
   ]
  },
  {
   "cell_type": "code",
   "execution_count": null,
   "metadata": {},
   "outputs": [],
   "source": [
    "q3, q1 = np.percentile(complete['no. of enterpreneurs per 1000 inhabitants '], [75 ,25])\n",
    "\n",
    "print(\"Min: \", end=\"\");                 print(complete['no. of enterpreneurs per 1000 inhabitants '].min())\n",
    "print(\"Max: \", end=\"\");                 print(complete['no. of enterpreneurs per 1000 inhabitants '].max())\n",
    "print(\"Mean: \", end=\"\");                print(complete['no. of enterpreneurs per 1000 inhabitants '].mean())\n",
    "print(\"Median: \", end=\"\");              print(complete['no. of enterpreneurs per 1000 inhabitants '].median())\n",
    "print(\"Standard deviation: \", end=\"\");  print(complete['no. of enterpreneurs per 1000 inhabitants '].std())\n",
    "print(\"Skewness: \", end=\"\");            print(complete['no. of enterpreneurs per 1000 inhabitants '].skew())  \n",
    "print(\"Variance: \", end=\"\");            print(complete['no. of enterpreneurs per 1000 inhabitants '].var())\n",
    "print(\"Kurtosis: \", end=\"\");            print(complete['no. of enterpreneurs per 1000 inhabitants '].kurtosis())\n",
    "print(\"Interquartile Range: \", end=\"\"); print(q3 - q1, end=\" | \"); print(\"Q1: {} | Q3: {}\".format(q1,q3))"
   ]
  },
  {
   "cell_type": "code",
   "execution_count": null,
   "metadata": {},
   "outputs": [],
   "source": [
    "sns.distplot(complete['no. of enterpreneurs per 1000 inhabitants '])"
   ]
  },
  {
   "cell_type": "code",
   "execution_count": null,
   "metadata": {},
   "outputs": [],
   "source": [
    "complete['no. of enterpreneurs per 1000 inhabitants '].plot.box();"
   ]
  },
  {
   "cell_type": "markdown",
   "metadata": {},
   "source": [
    "#### Remarks:\n",
    "Interestingly, the number of enterpreneurs per 1000 inhabitants follows a distribution practically identical to the ratio of urban inhabitants and average salary, which may represent that some of the columns regarding district data might be redundant."
   ]
  },
  {
   "cell_type": "markdown",
   "metadata": {},
   "source": [
    "### 1.4.20 Number of commited crimes per capita - Numerical Attribute"
   ]
  },
  {
   "cell_type": "code",
   "execution_count": null,
   "metadata": {},
   "outputs": [],
   "source": [
    "#complete.loc[complete[\"no. of commited crimes '95 \"] == '?', \"no. of commited crimes '95 \"] = complete[\"no. of commited crimes '96 \"]\n",
    "#complete.loc[complete[\"no. of commited crimes '96 \"] == '?', \"no. of commited crimes '96 \"] = complete[\"no. of commited crimes '95 \"]"
   ]
  },
  {
   "cell_type": "markdown",
   "metadata": {},
   "source": [
    "#### Obtain the average of 95' and 96' columns and then divide by the number of inhabitants"
   ]
  },
  {
   "cell_type": "code",
   "execution_count": null,
   "metadata": {},
   "outputs": [],
   "source": [
    "#complete[\"no. of commited crimes per capita\"] = (complete[\"no. of commited crimes '95 \"].astype('float') + complete[\"no. of commited crimes '96 \"].astype('float')) / 2.0 / complete[\"no. of inhabitants\"]\n",
    "#complete = complete.drop(columns=[\"no. of commited crimes '95 \", \"no. of commited crimes '96 \"])\n",
    "# complete"
   ]
  },
  {
   "cell_type": "code",
   "execution_count": null,
   "metadata": {},
   "outputs": [],
   "source": [
    "sns.distplot(complete['no. of commited crimes per capita'])"
   ]
  },
  {
   "cell_type": "code",
   "execution_count": null,
   "metadata": {},
   "outputs": [],
   "source": [
    "complete['no. of commited crimes per capita'].plot.box();"
   ]
  },
  {
   "cell_type": "markdown",
   "metadata": {},
   "source": [
    "#### Remarks:\n",
    "The number of crimes per capita follows the general district data distribution. One peculiarity by 'crossing data' is that the second spike in this case corresponds to places with higher numbers of inhabitants."
   ]
  },
  {
   "cell_type": "markdown",
   "metadata": {},
   "source": [
    "### 1.4.21 Card Type - Numerical Attribute"
   ]
  },
  {
   "cell_type": "code",
   "execution_count": null,
   "metadata": {},
   "outputs": [],
   "source": [
    "complete['card type'].describe()"
   ]
  },
  {
   "cell_type": "code",
   "execution_count": null,
   "metadata": {},
   "outputs": [],
   "source": [
    "complete['card type'].value_counts().plot(kind='bar')"
   ]
  },
  {
   "cell_type": "markdown",
   "metadata": {},
   "source": [
    "#### Filling Missing Values with 'None'"
   ]
  },
  {
   "cell_type": "code",
   "execution_count": null,
   "metadata": {},
   "outputs": [],
   "source": [
    "#complete['card type'] = complete['card type'].fillna('None')"
   ]
  },
  {
   "cell_type": "code",
   "execution_count": null,
   "metadata": {},
   "outputs": [],
   "source": [
    "complete['card type'].value_counts()"
   ]
  },
  {
   "cell_type": "code",
   "execution_count": null,
   "metadata": {
    "scrolled": false
   },
   "outputs": [],
   "source": [
    "fig, ax = plt.subplots()\n",
    "ax.pie(complete['card type'].value_counts(), labels=complete['card type'].unique(), autopct='%1.1f%%', explode = [0.1,0.1,0.2,0.5])\n",
    "ax.axis('equal')  # Equal aspect ratio ensures the pie chart is circular.\n",
    "ax.set_title('Frequency types')\n",
    "\n",
    "plt.show()"
   ]
  },
  {
   "cell_type": "markdown",
   "metadata": {},
   "source": [
    "#### Remarks:\n",
    "Missing values ('NaN') are infered to be 'no card existent' and therefore replaced by 'None' because in the 90s the popularity of the credit was still low.\n",
    "Despite the very small amount of entries that have card data, this atribute can still be considered useful: for example, to have a card might lead to a higher chance to pay a loan."
   ]
  },
  {
   "cell_type": "markdown",
   "metadata": {},
   "source": [
    "### 1.4.22 Birthdate - Date Attribute"
   ]
  },
  {
   "cell_type": "code",
   "execution_count": null,
   "metadata": {},
   "outputs": [],
   "source": [
    "complete['birthdate'].describe()"
   ]
  },
  {
   "cell_type": "code",
   "execution_count": null,
   "metadata": {},
   "outputs": [],
   "source": [
    "print(\"Min: \", end=\"\");                 print(complete['birthdate'].min())\n",
    "print(\"Max: \", end=\"\");                 print(complete['birthdate'].max())"
   ]
  },
  {
   "cell_type": "code",
   "execution_count": null,
   "metadata": {},
   "outputs": [],
   "source": [
    "complete['birthdate'].value_counts()[:50].plot(kind='bar', figsize=(15,3))"
   ]
  },
  {
   "cell_type": "markdown",
   "metadata": {},
   "source": [
    "#### Remarks:\n",
    "The birthdate of an account owner, a priori, doesn't seem to be related at all with the possible outcome of a loan, but might be useful to detect anomalies like the possibility of an under 18 person to contract a loan which is invalid."
   ]
  },
  {
   "cell_type": "markdown",
   "metadata": {},
   "source": [
    "### 1.4.23 Client Sex - Nominal Categorical Attribute"
   ]
  },
  {
   "cell_type": "code",
   "execution_count": null,
   "metadata": {},
   "outputs": [],
   "source": [
    "complete['sex'].describe()"
   ]
  },
  {
   "cell_type": "code",
   "execution_count": null,
   "metadata": {},
   "outputs": [],
   "source": [
    "complete['sex'].value_counts().plot(kind='bar')"
   ]
  },
  {
   "cell_type": "code",
   "execution_count": null,
   "metadata": {},
   "outputs": [],
   "source": [
    "fig, ax = plt.subplots()\n",
    "ax.pie(complete['sex'].value_counts(), labels=complete['sex'].unique(), autopct='%1.1f%%', startangle = 90)\n",
    "ax.axis('equal')  # Equal aspect ratio ensures the pie chart is circular.\n",
    "ax.set_title('Sex distribution')\n",
    "\n",
    "plt.show()"
   ]
  },
  {
   "cell_type": "markdown",
   "metadata": {},
   "source": [
    "#### Remarks:\n",
    "There isn't any unbalance in the total distribution of individuals regarding their sex which should lead to a plausible atribute for loan prediction."
   ]
  },
  {
   "cell_type": "markdown",
   "metadata": {},
   "source": [
    "### 1.4.23 Account has disponent or not - Nominal Categorical Attribute"
   ]
  },
  {
   "cell_type": "code",
   "execution_count": null,
   "metadata": {},
   "outputs": [],
   "source": [
    "complete['has disponent'].describe()"
   ]
  },
  {
   "cell_type": "code",
   "execution_count": null,
   "metadata": {},
   "outputs": [],
   "source": [
    "complete['has disponent'].value_counts().plot(kind='bar')"
   ]
  },
  {
   "cell_type": "code",
   "execution_count": null,
   "metadata": {},
   "outputs": [],
   "source": [
    "fig, ax = plt.subplots()\n",
    "ax.pie(complete['has disponent'].value_counts(), labels=complete['has disponent'].unique(), autopct='%1.1f%%', startangle = 90)\n",
    "ax.axis('equal')  # Equal aspect ratio ensures the pie chart is circular.\n",
    "ax.set_title('Account has disponent')\n",
    "\n",
    "plt.show()"
   ]
  },
  {
   "cell_type": "markdown",
   "metadata": {},
   "source": [
    "#### Remarks\n",
    "Despite the frequency disparity between the two possible values, another person besides the owner associated with an account may imply a higher or lower chance of loan payment."
   ]
  },
  {
   "cell_type": "code",
   "execution_count": null,
   "metadata": {},
   "outputs": [],
   "source": [
    "#complete.to_csv(\"./complete_data_comp_final_1.csv\", sep=\";\")"
   ]
  },
  {
   "cell_type": "code",
   "execution_count": null,
   "metadata": {},
   "outputs": [],
   "source": [
    "#complete.loc[complete['age at loan (Years)'] < 18]"
   ]
  },
  {
   "cell_type": "markdown",
   "metadata": {},
   "source": [
    "## 1.5 Multivariate Data Analysis of variability or dispersion"
   ]
  },
  {
   "cell_type": "code",
   "execution_count": null,
   "metadata": {},
   "outputs": [],
   "source": [
    "df_num = complete.select_dtypes(include = ['float64', 'int64'])\n",
    "df_num.columns"
   ]
  },
  {
   "cell_type": "markdown",
   "metadata": {},
   "source": [
    "### 1.5.1 Covariance Matrix"
   ]
  },
  {
   "cell_type": "code",
   "execution_count": null,
   "metadata": {},
   "outputs": [],
   "source": [
    "# plot the heatmap\n",
    "sns.heatmap(df_num.cov(), \n",
    "        xticklabels=df_num.columns,\n",
    "        yticklabels=df_num.columns)"
   ]
  },
  {
   "cell_type": "markdown",
   "metadata": {},
   "source": [
    "#### Remarks"
   ]
  },
  {
   "cell_type": "markdown",
   "metadata": {},
   "source": [
    "### 1.5.2 Correlation Matrix"
   ]
  },
  {
   "cell_type": "markdown",
   "metadata": {},
   "source": [
    "#### 1.5.2.1 Pearson (standard correlation coefficient)"
   ]
  },
  {
   "cell_type": "code",
   "execution_count": null,
   "metadata": {
    "scrolled": true
   },
   "outputs": [],
   "source": [
    "pearsoncorr = df_num.corr(method='pearson').round(2)\n",
    "pearsoncorr"
   ]
  },
  {
   "cell_type": "code",
   "execution_count": null,
   "metadata": {},
   "outputs": [],
   "source": [
    "fig, ax = plt.subplots(figsize=(15,10)) \n",
    "sns.heatmap(pearsoncorr, \n",
    "            xticklabels=pearsoncorr.columns,\n",
    "            yticklabels=pearsoncorr.columns,\n",
    "            cmap='RdBu_r',\n",
    "            linewidth=0.5,\n",
    "            annot=True,\n",
    "            ax=ax)"
   ]
  },
  {
   "cell_type": "code",
   "execution_count": null,
   "metadata": {},
   "outputs": [],
   "source": [
    "complete['loan status'].corr(complete['average salary '])"
   ]
  },
  {
   "cell_type": "code",
   "execution_count": null,
   "metadata": {},
   "outputs": [],
   "source": [
    "from scipy import stats"
   ]
  },
  {
   "cell_type": "code",
   "execution_count": null,
   "metadata": {},
   "outputs": [],
   "source": [
    "r, p = stats.pearsonr(complete['loan status'], complete['average salary '])\n",
    "print(round(r, 4))\n",
    "print(round(p, 4))"
   ]
  },
  {
   "cell_type": "code",
   "execution_count": null,
   "metadata": {
    "scrolled": false
   },
   "outputs": [],
   "source": [
    "corr_df = pd.DataFrame(columns=['r', 'p'])\n",
    "\n",
    "for col in complete:\n",
    "    if pd.api.types.is_numeric_dtype(complete[col]) and col != 'loan status':\n",
    "        r, p = stats.pearsonr(complete['loan status'], complete[col])\n",
    "        corr_df.loc[col] = [round(r, 3), round(p, 3)]\n",
    "    \n",
    "corr_df"
   ]
  },
  {
   "cell_type": "code",
   "execution_count": null,
   "metadata": {},
   "outputs": [],
   "source": [
    "corr_df.loc[(corr_df['p'] <= 0.05)]"
   ]
  },
  {
   "cell_type": "markdown",
   "metadata": {},
   "source": [
    "#### 1.5.2.2 Spearman (Spearman rank correlation)"
   ]
  },
  {
   "cell_type": "code",
   "execution_count": null,
   "metadata": {
    "scrolled": true
   },
   "outputs": [],
   "source": [
    "spearmancorr = df_num.corr(method='spearman').round(2)\n",
    "spearmancorr"
   ]
  },
  {
   "cell_type": "code",
   "execution_count": null,
   "metadata": {},
   "outputs": [],
   "source": [
    "fig, ax = plt.subplots(figsize=(15,10)) \n",
    "\n",
    "# Getting the Upper Triangle of the co-relation matrix\n",
    "matrix = np.triu(spearmancorr)\n",
    "\n",
    "sns.heatmap(spearmancorr, \n",
    "            xticklabels=spearmancorr.columns,\n",
    "            yticklabels=spearmancorr.columns,\n",
    "            cmap='RdBu_r',\n",
    "            linewidth=0.5,\n",
    "            annot=True,\n",
    "            ax=ax,\n",
    "           mask=matrix)"
   ]
  },
  {
   "cell_type": "markdown",
   "metadata": {},
   "source": [
    "#### Remarks"
   ]
  },
  {
   "cell_type": "markdown",
   "metadata": {},
   "source": [
    "## 1.6 Data Visualization: Bivariate/Multivariate Graphs"
   ]
  },
  {
   "cell_type": "markdown",
   "metadata": {},
   "source": [
    "### N Transactions / Operations / Types "
   ]
  },
  {
   "cell_type": "code",
   "execution_count": null,
   "metadata": {
    "scrolled": false
   },
   "outputs": [],
   "source": [
    "#sns.pairplot(df_num[['# trans', 'oper #1', 'oper #2', 'oper #3', 'oper #4', 'oper #5', 'type #1', 'type #2', 'type #3']])"
   ]
  },
  {
   "cell_type": "markdown",
   "metadata": {},
   "source": [
    "### avg trans amount / avg trans balance"
   ]
  },
  {
   "cell_type": "code",
   "execution_count": null,
   "metadata": {},
   "outputs": [],
   "source": [
    "#complete[['avg trans amount', 'avg trans balance']].plot.scatter(x=\"avg trans amount\", y=\"avg trans balance\");"
   ]
  },
  {
   "cell_type": "code",
   "execution_count": null,
   "metadata": {},
   "outputs": [],
   "source": [
    "#complete[['avg trans amount', 'avg trans balance']].plot.hexbin(x=\"avg trans amount\", y=\"avg trans balance\", gridsize=25);"
   ]
  },
  {
   "cell_type": "markdown",
   "metadata": {},
   "source": [
    "### loan amount / avg trans amount / avg trans balance"
   ]
  },
  {
   "cell_type": "code",
   "execution_count": null,
   "metadata": {},
   "outputs": [],
   "source": [
    "#fig, ax = plt.subplots()\n",
    "#complete.plot(kind='scatter',x='avg trans amount', y='avg trans balance', c='loan amount', colormap='RdBu_r', ax=ax)\n",
    "#plt.show()"
   ]
  },
  {
   "cell_type": "code",
   "execution_count": null,
   "metadata": {
    "scrolled": false
   },
   "outputs": [],
   "source": [
    "%matplotlib notebook\n",
    "fig = plt.figure()\n",
    "ax = fig.add_subplot(projection='3d')\n",
    "\n",
    "ax.scatter(complete['avg trans amount'], complete['avg trans balance'], complete[\"loan amount\"], c='g', marker='o')\n",
    "\n",
    "ax.set_xlabel('avg trans amount')\n",
    "ax.set_ylabel('avg trans balance')\n",
    "ax.set_zlabel('loan amount')\n",
    "\n",
    "\n",
    "plt.show()"
   ]
  },
  {
   "cell_type": "markdown",
   "metadata": {},
   "source": [
    "### loan duration (mths) / loan amount"
   ]
  },
  {
   "cell_type": "code",
   "execution_count": null,
   "metadata": {},
   "outputs": [],
   "source": [
    "#complete[['loan duration (mths)', 'loan amount']].plot.hexbin(x='loan duration (mths)', y='loan amount', gridsize=25);"
   ]
  },
  {
   "cell_type": "markdown",
   "metadata": {},
   "source": [
    "### loan payments / avg trans amount, avg trans balance, loan amount"
   ]
  },
  {
   "cell_type": "code",
   "execution_count": null,
   "metadata": {},
   "outputs": [],
   "source": [
    "fig = plt.figure()\n",
    "ax = fig.add_subplot(111, projection='3d')\n",
    "\n",
    "x = complete['loan payments']\n",
    "y = complete['avg trans amount']\n",
    "z = complete['avg trans balance']\n",
    "c = complete['loan amount']\n",
    "\n",
    "ax.set_xlabel('loan payments')\n",
    "ax.set_ylabel('avg trans amount')\n",
    "ax.set_zlabel('avg trans balance')\n",
    "\n",
    "img = ax.scatter(x, y, z, c=c, cmap=plt.hot())\n",
    "fig.colorbar(img)\n",
    "plt.show()"
   ]
  },
  {
   "cell_type": "markdown",
   "metadata": {},
   "source": [
    "#### Remarks: loan amount increase seem to imply higher loan payments as expected"
   ]
  },
  {
   "cell_type": "markdown",
   "metadata": {},
   "source": [
    "### loan status / loan amount, loan payments"
   ]
  },
  {
   "cell_type": "code",
   "execution_count": null,
   "metadata": {},
   "outputs": [],
   "source": [
    "#fig, ax = plt.subplots()\n",
    "#complete.plot(kind='scatter',x='loan amount', y='loan payments', c='loan status', colormap='winter', ax=ax)\n",
    "#plt.show()"
   ]
  },
  {
   "cell_type": "code",
   "execution_count": null,
   "metadata": {},
   "outputs": [],
   "source": [
    "#complete[['loan amount', 'loan payments', 'loan status']].plot.hexbin(x='loan amount', y='loan payments', C='loan status', gridsize=25);"
   ]
  },
  {
   "cell_type": "markdown",
   "metadata": {},
   "source": [
    "### no. of cities / no. of inhabitants"
   ]
  },
  {
   "cell_type": "code",
   "execution_count": null,
   "metadata": {},
   "outputs": [],
   "source": [
    "#complete[['no. of cities ', 'no. of inhabitants']].plot.scatter(x='no. of cities ', y='no. of inhabitants');"
   ]
  },
  {
   "cell_type": "markdown",
   "metadata": {},
   "source": [
    "### ratio of urban inhabitants / no. of inhabitants, no. of cities"
   ]
  },
  {
   "cell_type": "code",
   "execution_count": null,
   "metadata": {
    "scrolled": false
   },
   "outputs": [],
   "source": [
    "#fig, ax = plt.subplots()\n",
    "#complete.plot(kind='scatter',x='no. of cities ', y='no. of inhabitants', c='ratio of urban inhabitants ', colormap='RdBu_r', ax=ax)\n",
    "#ax.set_ylabel(\"no. of inhabitants\")\n",
    "#plt.show()"
   ]
  },
  {
   "cell_type": "markdown",
   "metadata": {},
   "source": [
    "### avg salary / no. of inhabitants, no. of cities, ratio of urban inhabitants"
   ]
  },
  {
   "cell_type": "code",
   "execution_count": null,
   "metadata": {},
   "outputs": [],
   "source": [
    "fig = plt.figure()\n",
    "ax = fig.add_subplot(111, projection='3d')\n",
    "\n",
    "x = complete['average salary ']\n",
    "y = complete['no. of inhabitants']\n",
    "z = complete['no. of cities ']\n",
    "c = complete['ratio of urban inhabitants ']\n",
    "\n",
    "ax.set_xlabel('avg salary')\n",
    "ax.set_ylabel('no. of inhabitants')\n",
    "ax.set_zlabel('no. of cities')\n",
    "\n",
    "img = ax.scatter(x, y, z, c=c, cmap='RdBu_r')\n",
    "fig.colorbar(img)\n",
    "plt.show()"
   ]
  },
  {
   "cell_type": "markdown",
   "metadata": {},
   "source": [
    "### enterpreneurs / no. of inhabitants, ratio of urban inhabitants, avg salary"
   ]
  },
  {
   "cell_type": "code",
   "execution_count": null,
   "metadata": {},
   "outputs": [],
   "source": [
    "fig = plt.figure()\n",
    "ax = fig.add_subplot(111, projection='3d')\n",
    "\n",
    "x = complete['no. of enterpreneurs per 1000 inhabitants ']\n",
    "y = complete['no. of inhabitants']\n",
    "z = complete['average salary ']\n",
    "c = complete['ratio of urban inhabitants ']\n",
    "\n",
    "ax.set_xlabel('no. of enterpreneurs per 1000 inhabitants')\n",
    "ax.set_ylabel('no. of inhabitants')\n",
    "ax.set_zlabel('average salary')\n",
    "\n",
    "img = ax.scatter(x, y, z, c=c, cmap='RdBu_r')\n",
    "fig.colorbar(img)\n",
    "plt.show()"
   ]
  },
  {
   "cell_type": "markdown",
   "metadata": {},
   "source": [
    "### unemploymant rate / no. of inhabitants, avg salary, enterpreneurs"
   ]
  },
  {
   "cell_type": "code",
   "execution_count": null,
   "metadata": {},
   "outputs": [],
   "source": [
    "fig = plt.figure()\n",
    "ax = fig.add_subplot(111, projection='3d')\n",
    "\n",
    "x = complete['unemploymant rate']\n",
    "y = complete['no. of inhabitants']\n",
    "z = complete['no. of enterpreneurs per 1000 inhabitants ']\n",
    "c = complete['average salary ']\n",
    "\n",
    "ax.set_xlabel('unemploymant rate')\n",
    "ax.set_ylabel('no. of inhabitants')\n",
    "ax.set_zlabel('no. of enterpreneurs per 1000 inhabitants')\n",
    "\n",
    "img = ax.scatter(x, y, z, c=c, cmap='RdBu_r')\n",
    "fig.colorbar(img)\n",
    "plt.show()"
   ]
  },
  {
   "cell_type": "markdown",
   "metadata": {},
   "source": [
    "### crimes / no. of cities, no. of inhabitants, ratio of urban inhabitants, avg salary, unemployment"
   ]
  },
  {
   "cell_type": "code",
   "execution_count": null,
   "metadata": {},
   "outputs": [],
   "source": [
    "fig = plt.figure()\n",
    "ax = fig.add_subplot(111, projection='3d')\n",
    "\n",
    "x = complete['ratio of urban inhabitants ']\n",
    "y = complete['no. of inhabitants']\n",
    "z = complete['average salary ']\n",
    "c = complete['no. of commited crimes per capita']\n",
    "\n",
    "ax.set_xlabel('ratio of urban inhabitants')\n",
    "ax.set_ylabel('no. of inhabitants')\n",
    "ax.set_zlabel('average salary')\n",
    "\n",
    "img = ax.scatter(x, y, z, c=c, cmap='RdBu_r')\n",
    "fig.colorbar(img)\n",
    "plt.show()"
   ]
  },
  {
   "cell_type": "code",
   "execution_count": null,
   "metadata": {},
   "outputs": [],
   "source": [
    "fig = plt.figure()\n",
    "ax = fig.add_subplot(111, projection='3d')\n",
    "\n",
    "x = complete['ratio of urban inhabitants ']\n",
    "y = complete['no. of cities ']\n",
    "z = complete['average salary ']\n",
    "c = complete['no. of commited crimes per capita']\n",
    "\n",
    "ax.set_xlabel('ratio of urban inhabitants')\n",
    "ax.set_ylabel('no. of cities')\n",
    "ax.set_zlabel('average salary')\n",
    "\n",
    "img = ax.scatter(x, y, z, c=c, cmap='RdBu_r')\n",
    "fig.colorbar(img)\n",
    "plt.show()"
   ]
  },
  {
   "cell_type": "code",
   "execution_count": null,
   "metadata": {},
   "outputs": [],
   "source": [
    "fig = plt.figure()\n",
    "ax = fig.add_subplot(111, projection='3d')\n",
    "\n",
    "x = complete['ratio of urban inhabitants ']\n",
    "y = complete['unemploymant rate']\n",
    "z = complete['average salary ']\n",
    "c = complete['no. of commited crimes per capita']\n",
    "\n",
    "ax.set_xlabel('ratio of urban inhabitants')\n",
    "ax.set_ylabel('unemploymant rate')\n",
    "ax.set_zlabel('average salary')\n",
    "\n",
    "img = ax.scatter(x, y, z, c=c, cmap='RdBu_r')\n",
    "fig.colorbar(img)\n",
    "plt.show()"
   ]
  },
  {
   "cell_type": "code",
   "execution_count": null,
   "metadata": {},
   "outputs": [],
   "source": []
  },
  {
   "cell_type": "code",
   "execution_count": null,
   "metadata": {
    "scrolled": false
   },
   "outputs": [],
   "source": []
  },
  {
   "cell_type": "code",
   "execution_count": null,
   "metadata": {},
   "outputs": [],
   "source": []
  },
  {
   "cell_type": "code",
   "execution_count": null,
   "metadata": {},
   "outputs": [],
   "source": []
  },
  {
   "cell_type": "markdown",
   "metadata": {},
   "source": [
    "# --- Under here not 'redone' ---"
   ]
  },
  {
   "cell_type": "code",
   "execution_count": null,
   "metadata": {},
   "outputs": [],
   "source": []
  },
  {
   "cell_type": "code",
   "execution_count": null,
   "metadata": {},
   "outputs": [],
   "source": []
  },
  {
   "cell_type": "code",
   "execution_count": null,
   "metadata": {},
   "outputs": [],
   "source": [
    "temp = complete[['sex', 'loan status']]"
   ]
  },
  {
   "cell_type": "code",
   "execution_count": null,
   "metadata": {
    "scrolled": false
   },
   "outputs": [],
   "source": [
    "sns.swarmplot(x=\"loan amount\", y=\"sex\", data=complete[['sex', 'loan amount']])"
   ]
  },
  {
   "cell_type": "code",
   "execution_count": null,
   "metadata": {},
   "outputs": [],
   "source": [
    "ax = sns.swarmplot(x=\"loan status\", y=\"average salary \", hue=\"sex\", data=complete[['average salary ', 'loan status', 'sex']])"
   ]
  },
  {
   "cell_type": "code",
   "execution_count": null,
   "metadata": {},
   "outputs": [],
   "source": []
  },
  {
   "cell_type": "code",
   "execution_count": null,
   "metadata": {},
   "outputs": [],
   "source": [
    "# Number of transactions, loan amount, avg amount per transaction\n",
    "\n",
    "fig, ax = plt.subplots()\n",
    "complete.plot(kind='scatter',x='# trans', y='loan amount', c='avg trans amount', colormap='viridis', ax=ax)\n",
    "ax.set_xlabel(\"# trans\")\n",
    "plt.show()"
   ]
  },
  {
   "cell_type": "code",
   "execution_count": null,
   "metadata": {},
   "outputs": [],
   "source": [
    "# %matplotlib notebook\n",
    "fig = plt.figure()\n",
    "ax = fig.add_subplot(projection='3d')\n",
    "\n",
    "ax.scatter(complete['average salary '], complete['loan amount'], complete[\"unemploymant rate\"], c='g', marker='o')\n",
    "\n",
    "ax.set_xlabel('average salary')\n",
    "ax.set_ylabel('loan amount')\n",
    "ax.set_zlabel('unemploymant rate')\n",
    "\n",
    "\n",
    "plt.show()"
   ]
  },
  {
   "cell_type": "markdown",
   "metadata": {},
   "source": [
    "#### Missing Values"
   ]
  },
  {
   "cell_type": "code",
   "execution_count": null,
   "metadata": {},
   "outputs": [],
   "source": [
    "total = complete.isnull().sum().sort_values(ascending=False)\n",
    "percent = (complete.isnull().sum()/complete.isnull().count()).sort_values(ascending=False)\n",
    "missing_data = pd.concat([total, percent], axis=1, keys=['Total', 'Percent'])\n",
    "print(\"Total number of rows: \", end=\"\"); print(complete.shape[0])\n",
    "missing_data.head(10)"
   ]
  },
  {
   "cell_type": "code",
   "execution_count": null,
   "metadata": {},
   "outputs": [],
   "source": []
  },
  {
   "cell_type": "code",
   "execution_count": null,
   "metadata": {},
   "outputs": [],
   "source": []
  },
  {
   "cell_type": "code",
   "execution_count": null,
   "metadata": {},
   "outputs": [],
   "source": [
    "#df_num = complete.select_dtypes(include = ['float64', 'int64'])\n",
    "#df_num.head()"
   ]
  },
  {
   "cell_type": "code",
   "execution_count": null,
   "metadata": {},
   "outputs": [],
   "source": []
  },
  {
   "cell_type": "code",
   "execution_count": null,
   "metadata": {},
   "outputs": [],
   "source": [
    "#df_num.hist(figsize=(16, 20), bins=50, xlabelsize=8, ylabelsize=8);"
   ]
  },
  {
   "cell_type": "code",
   "execution_count": null,
   "metadata": {},
   "outputs": [],
   "source": [
    "corr = complete.corr()['loan status']\n",
    "corr"
   ]
  },
  {
   "cell_type": "code",
   "execution_count": null,
   "metadata": {},
   "outputs": [],
   "source": [
    "#sns.heatmap(complete.corr(method='pearson'))"
   ]
  },
  {
   "cell_type": "markdown",
   "metadata": {},
   "source": [
    "#### Outliers"
   ]
  },
  {
   "cell_type": "code",
   "execution_count": null,
   "metadata": {},
   "outputs": [],
   "source": [
    "#subset = complete[['loan amount', 'loan payments']]\n",
    "#subset['loan payments'] = subset['loan payments'] * 30\n",
    "#subset.plot.box();"
   ]
  },
  {
   "cell_type": "code",
   "execution_count": null,
   "metadata": {},
   "outputs": [],
   "source": [
    "#complete['average salary '].plot.box();"
   ]
  },
  {
   "cell_type": "code",
   "execution_count": null,
   "metadata": {},
   "outputs": [],
   "source": [
    "mpl.rcParams.update(mpl.rcParamsDefault)\n",
    "plt.figure(figsize=(16,5))\n",
    "plt.subplot(1,2,1)\n",
    "sns.distplot(complete['loan amount'])\n",
    "plt.subplot(1,2,2)\n",
    "sns.distplot(complete['average salary '])\n",
    "plt.show()"
   ]
  },
  {
   "cell_type": "code",
   "execution_count": null,
   "metadata": {},
   "outputs": [],
   "source": [
    "# Finding how many \n",
    "df_mask = complete['average salary '] > 12000\n",
    "# print(len(complete[df_mask].index))\n",
    "complete[df_mask]"
   ]
  },
  {
   "cell_type": "code",
   "execution_count": null,
   "metadata": {},
   "outputs": [],
   "source": []
  }
 ],
 "metadata": {
  "kernelspec": {
   "display_name": "Python 3",
   "language": "python",
   "name": "python3"
  },
  "language_info": {
   "codemirror_mode": {
    "name": "ipython",
    "version": 3
   },
   "file_extension": ".py",
   "mimetype": "text/x-python",
   "name": "python",
   "nbconvert_exporter": "python",
   "pygments_lexer": "ipython3",
   "version": "3.8.5"
  }
 },
 "nbformat": 4,
 "nbformat_minor": 2
}
