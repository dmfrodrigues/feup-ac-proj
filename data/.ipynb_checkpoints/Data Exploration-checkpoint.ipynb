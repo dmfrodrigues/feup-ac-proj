{
 "cells": [
  {
   "cell_type": "markdown",
   "metadata": {},
   "source": [
    "# Data Exploration"
   ]
  },
  {
   "cell_type": "code",
   "execution_count": 1,
   "metadata": {},
   "outputs": [],
   "source": [
    "import pandas as pd\n",
    "import matplotlib.pyplot as plt\n",
    "import seaborn as sns\n",
    "import numpy as np\n",
    "from datetime import datetime"
   ]
  },
  {
   "cell_type": "code",
   "execution_count": 71,
   "metadata": {},
   "outputs": [],
   "source": [
    "df_account = pd.read_csv(\"./processed/account.csv\", sep=\";\");\n",
    "df_card_comp = pd.read_csv(\"./processed/card_comp.csv\", sep=\";\");\n",
    "df_card_dev = pd.read_csv(\"./processed/card_dev.csv\", sep=\";\");\n",
    "df_client = pd.read_csv(\"./processed/client.csv\", sep=\";\");\n",
    "df_disp = pd.read_csv(\"./processed/disp.csv\", sep=\";\");\n",
    "df_loan_comp = pd.read_csv(\"./processed/loan_comp.csv\", sep=\";\");\n",
    "df_loan_dev = pd.read_csv(\"./processed/loan_dev.csv\", sep=\";\");\n",
    "# df_trans_comp = pd.read_csv(\"./processed/trans_dev.csv\", sep=\";\");\n",
    "df_trans_dev = pd.read_csv(\"./processed/trans_dev.csv\", sep=\";\", low_memory=False); # see here\n",
    "df_district = pd.read_csv(\"./raw/district.csv\", sep=\";\");\n",
    "\n",
    "df_loan_dev['date'] = [datetime.strptime(d, \"%Y-%m-%d\") for d in df_loan_dev['date']]"
   ]
  },
  {
   "cell_type": "code",
   "execution_count": 3,
   "metadata": {},
   "outputs": [
    {
     "data": {
      "text/plain": [
       "Index(['account_id', 'district_id', 'frequency', 'date'], dtype='object')"
      ]
     },
     "execution_count": 3,
     "metadata": {},
     "output_type": "execute_result"
    }
   ],
   "source": [
    "df_account.columns"
   ]
  },
  {
   "cell_type": "markdown",
   "metadata": {},
   "source": [
    "account.csv Variables\n",
    "\n",
    "| Variable Name | Type        | Expectation (influence) |\n",
    "| ---           | ---         | ---                     |\n",
    "| account_id    | Numerical   | Low                     |\n",
    "| district_id   | Numerical   | Low                     |\n",
    "| frequency     | Categorical | Medium                  |\n",
    "| date          | Numerical(date)| Low                  |"
   ]
  },
  {
   "cell_type": "code",
   "execution_count": 4,
   "metadata": {},
   "outputs": [
    {
     "data": {
      "text/plain": [
       "Index(['card_id', 'disp_id', 'type', 'issued'], dtype='object')"
      ]
     },
     "execution_count": 4,
     "metadata": {},
     "output_type": "execute_result"
    }
   ],
   "source": [
    "df_card_dev.columns"
   ]
  },
  {
   "cell_type": "markdown",
   "metadata": {},
   "source": [
    "card_dev.csv Variables\n",
    "\n",
    "| Variable Name | Type        | Expectation (influence) |\n",
    "| ---           | ---         | ---                     |\n",
    "| card_id       | Numerical   | Low                     |\n",
    "| disp_id       | Numerical   | Medium (meaning???)     |\n",
    "| type          | Categorical | High                    |\n",
    "| issued        | Numerical(date)| Low                  |"
   ]
  },
  {
   "cell_type": "code",
   "execution_count": 5,
   "metadata": {},
   "outputs": [
    {
     "data": {
      "text/plain": [
       "Index(['client_id', 'district_id', 'birthdate', 'sex'], dtype='object')"
      ]
     },
     "execution_count": 5,
     "metadata": {},
     "output_type": "execute_result"
    }
   ],
   "source": [
    "df_client.columns"
   ]
  },
  {
   "cell_type": "markdown",
   "metadata": {},
   "source": [
    "client.csv Variables\n",
    "\n",
    "| Variable Name | Type        | Expectation (influence) |\n",
    "| ---           | ---         | ---                     |\n",
    "| client_id     | Numerical   | Low                     |\n",
    "| district_id   | Numerical   | Medium (?)              |\n",
    "| birthdate     | Numerical   | Low                     |\n",
    "| sex           | Categorical | Medium                  |"
   ]
  },
  {
   "cell_type": "code",
   "execution_count": 6,
   "metadata": {},
   "outputs": [
    {
     "data": {
      "text/plain": [
       "Index(['disp_id', 'client_id', 'account_id', 'type'], dtype='object')"
      ]
     },
     "execution_count": 6,
     "metadata": {},
     "output_type": "execute_result"
    }
   ],
   "source": [
    "df_disp.columns"
   ]
  },
  {
   "cell_type": "markdown",
   "metadata": {},
   "source": [
    "disp.csv Variables\n",
    "\n",
    "| Variable Name | Type        | Expectation (influence) |\n",
    "| ---           | ---         | ---                     |\n",
    "| disp_id       | Numerical   | Low                     |\n",
    "| client_id     | Numerical   | Low                     |\n",
    "| account_id    | Numerical   | Low                     |\n",
    "| type          | Categorical | Medium                  |"
   ]
  },
  {
   "cell_type": "code",
   "execution_count": 7,
   "metadata": {},
   "outputs": [
    {
     "data": {
      "text/plain": [
       "Index(['loan_id', 'account_id', 'date', 'amount', 'duration', 'payments',\n",
       "       'status'],\n",
       "      dtype='object')"
      ]
     },
     "execution_count": 7,
     "metadata": {},
     "output_type": "execute_result"
    }
   ],
   "source": [
    "df_loan_dev.columns #duration in months"
   ]
  },
  {
   "cell_type": "markdown",
   "metadata": {},
   "source": [
    "loan_dev.csv Variables\n",
    "\n",
    "| Variable Name | Type        | Expectation (influence) |\n",
    "| ---           | ---         | ---                     |\n",
    "| loan_id       | Numerical   | Low                     |\n",
    "| account_id    | Numerical   | Low                     |\n",
    "| date          | Numerical   | Medium                  |\n",
    "| amount        | Numerical   | High                    |\n",
    "| duration      | Numerical   | High                    |\n",
    "| payment       | Numerical   | Medium                  |\n",
    "| status        | Numerical   | High|"
   ]
  },
  {
   "cell_type": "code",
   "execution_count": 73,
   "metadata": {},
   "outputs": [
    {
     "data": {
      "text/plain": [
       "Index(['trans_id', 'account_id', 'date', 'type', 'operation', 'amount',\n",
       "       'balance', 'k_symbol', 'bank', 'account'],\n",
       "      dtype='object')"
      ]
     },
     "execution_count": 73,
     "metadata": {},
     "output_type": "execute_result"
    }
   ],
   "source": [
    "df_trans_dev.columns"
   ]
  },
  {
   "cell_type": "markdown",
   "metadata": {},
   "source": [
    "trans_dev.csv Variables\n",
    "\n",
    "| Variable Name | Type        | Expectation (influence) |\n",
    "| ---           | ---         | ---                     |\n",
    "| trans_id      | Numerical   | Low                     |\n",
    "| account_id    | Numerical   | Low                     |\n",
    "| date          | Numerical   | Low                     |\n",
    "| type          | Numerical   | Medium                  |\n",
    "| operation     | Numerical   | Medium                  |\n",
    "| amount        | Numerical   | Medium/High             |\n",
    "| balance       | Numerical   | Medium/High             |\n",
    "| k_symbol      | Numerical   | Medium                  |\n",
    "| bank          | Categorical | Medium                  |\n",
    "| account       | Numerical   | Low                     |"
   ]
  },
  {
   "cell_type": "code",
   "execution_count": 74,
   "metadata": {},
   "outputs": [
    {
     "data": {
      "text/plain": [
       "Index(['code ', 'name ', 'region', 'no. of inhabitants',\n",
       "       'no. of municipalities with inhabitants < 499 ',\n",
       "       'no. of municipalities with inhabitants 500-1999',\n",
       "       'no. of municipalities with inhabitants 2000-9999 ',\n",
       "       'no. of municipalities with inhabitants >10000 ', 'no. of cities ',\n",
       "       'ratio of urban inhabitants ', 'average salary ',\n",
       "       'unemploymant rate '95 ', 'unemploymant rate '96 ',\n",
       "       'no. of enterpreneurs per 1000 inhabitants ',\n",
       "       'no. of commited crimes '95 ', 'no. of commited crimes '96 '],\n",
       "      dtype='object')"
      ]
     },
     "execution_count": 74,
     "metadata": {},
     "output_type": "execute_result"
    }
   ],
   "source": [
    "df_district.columns"
   ]
  },
  {
   "cell_type": "markdown",
   "metadata": {},
   "source": [
    "district.csv Variables\n",
    "\n",
    "| Variable Name             | Type        | Expectation (influence)        |\n",
    "| ---                       | ---         | ---                            |\n",
    "| code                      | Numerical   | Low                            |\n",
    "| name                      | Categorical | Low                            |\n",
    "| region                    | Categorical | Low                            |\n",
    "| no. of inhabitants        | Numerical   | Medium                         |\n",
    "| inhabitants < 499         | Numerical   | Low                            |\n",
    "| munic with # inhabitants 500-1999      | Numerical   | Low               |\n",
    "| inhabitants 2000-9999     | Numerical   | Low                            |\n",
    "| inhabitants >10000        | Numerical   | Low                            |\n",
    "| no. of cities             | Numerical   | Low                            |\n",
    "| ratio of urban inhabitants| Numerical   | Medium                         |\n",
    "| average salary            | Numerical   | High                           |\n",
    "| unemploymant rate '95     | Numerical   | High                           |\n",
    "| unemploymant rate '96     | Numerical   | High                           |\n",
    "| enterpreneurs per 1000 inhabitants    | Numerical   | Medium/High        |\n",
    "| commited crimes '95       | Numerical   | High                           |\n",
    "| commited crimes '96       | Numerical   | High                           |"
   ]
  },
  {
   "cell_type": "markdown",
   "metadata": {},
   "source": [
    "### Relevant Variables\n",
    "- Account:     frequency (of issuance)\n",
    "- Card:        disp_id(?), type\n",
    "- Client:      district_id(?), sex\n",
    "- Disp:        type\n",
    "- Loan:        date, amount, duration, payment, status\n",
    "- Transaction: type, operation, amount, balance, k_symbol, bank\n",
    "- district: #inhabitants, ratio of urban inhabitants, avg salary, unemp rate 95', 96', entrepreneurs per 1000 inhabitants, commited crimes '95, '96"
   ]
  },
  {
   "cell_type": "markdown",
   "metadata": {},
   "source": [
    "#### Account"
   ]
  },
  {
   "cell_type": "code",
   "execution_count": 9,
   "metadata": {},
   "outputs": [
    {
     "data": {
      "text/plain": [
       "count                 4500\n",
       "unique                   3\n",
       "top       monthly issuance\n",
       "freq                  4167\n",
       "Name: frequency, dtype: object"
      ]
     },
     "execution_count": 9,
     "metadata": {},
     "output_type": "execute_result"
    }
   ],
   "source": [
    "# descriptive statistics summary\n",
    "df_account['frequency'].describe()"
   ]
  },
  {
   "cell_type": "code",
   "execution_count": 10,
   "metadata": {},
   "outputs": [
    {
     "data": {
      "text/plain": [
       "<seaborn.axisgrid.FacetGrid at 0x12b5c6ba8>"
      ]
     },
     "execution_count": 10,
     "metadata": {},
     "output_type": "execute_result"
    },
    {
     "data": {
      "image/png": "[encoded data removed]",
      "text/plain": [
       "<Figure size 360x360 with 1 Axes>"
      ]
     },
     "metadata": {
      "needs_background": "light"
     },
     "output_type": "display_data"
    }
   ],
   "source": [
    "# histogram\n",
    "sns.displot(df_account['frequency'])"
   ]
  },
  {
   "cell_type": "code",
   "execution_count": 11,
   "metadata": {},
   "outputs": [
    {
     "data": {
      "text/html": [
       "<div>\n",
       "<style scoped>\n",
       "    .dataframe tbody tr th:only-of-type {\n",
       "        vertical-align: middle;\n",
       "    }\n",
       "\n",
       "    .dataframe tbody tr th {\n",
       "        vertical-align: top;\n",
       "    }\n",
       "\n",
       "    .dataframe thead th {\n",
       "        text-align: right;\n",
       "    }\n",
       "</style>\n",
       "<table border=\"1\" class=\"dataframe\">\n",
       "  <thead>\n",
       "    <tr style=\"text-align: right;\">\n",
       "      <th></th>\n",
       "      <th>Total</th>\n",
       "      <th>Percent</th>\n",
       "    </tr>\n",
       "  </thead>\n",
       "  <tbody>\n",
       "    <tr>\n",
       "      <th>account_id</th>\n",
       "      <td>0</td>\n",
       "      <td>0.0</td>\n",
       "    </tr>\n",
       "    <tr>\n",
       "      <th>district_id</th>\n",
       "      <td>0</td>\n",
       "      <td>0.0</td>\n",
       "    </tr>\n",
       "    <tr>\n",
       "      <th>frequency</th>\n",
       "      <td>0</td>\n",
       "      <td>0.0</td>\n",
       "    </tr>\n",
       "    <tr>\n",
       "      <th>date</th>\n",
       "      <td>0</td>\n",
       "      <td>0.0</td>\n",
       "    </tr>\n",
       "  </tbody>\n",
       "</table>\n",
       "</div>"
      ],
      "text/plain": [
       "             Total  Percent\n",
       "account_id       0      0.0\n",
       "district_id      0      0.0\n",
       "frequency        0      0.0\n",
       "date             0      0.0"
      ]
     },
     "execution_count": 11,
     "metadata": {},
     "output_type": "execute_result"
    }
   ],
   "source": [
    "# missing data\n",
    "total = df_account.isnull().sum().sort_values(ascending=False)\n",
    "percent = (df_account.isnull().sum()/df_account.isnull().count()).sort_values(ascending=False)\n",
    "missing_data = pd.concat([total, percent], axis=1, keys=['Total', 'Percent'])\n",
    "missing_data.head(20)"
   ]
  },
  {
   "cell_type": "markdown",
   "metadata": {},
   "source": [
    "#### Card"
   ]
  },
  {
   "cell_type": "code",
   "execution_count": 12,
   "metadata": {},
   "outputs": [
    {
     "data": {
      "text/plain": [
       "count      177.000000\n",
       "mean      3031.723164\n",
       "std       2632.338944\n",
       "min         41.000000\n",
       "25%       1080.000000\n",
       "50%       2513.000000\n",
       "75%       4270.000000\n",
       "max      13660.000000\n",
       "Name: disp_id, dtype: float64"
      ]
     },
     "execution_count": 12,
     "metadata": {},
     "output_type": "execute_result"
    }
   ],
   "source": [
    "# descriptive statistics summary\n",
    "df_card_dev['disp_id'].describe()"
   ]
  },
  {
   "cell_type": "code",
   "execution_count": 13,
   "metadata": {},
   "outputs": [
    {
     "data": {
      "text/plain": [
       "count         177\n",
       "unique          3\n",
       "top       classic\n",
       "freq          127\n",
       "Name: type, dtype: object"
      ]
     },
     "execution_count": 13,
     "metadata": {},
     "output_type": "execute_result"
    }
   ],
   "source": [
    "# descriptive statistics summary\n",
    "df_card_dev['type'].describe()"
   ]
  },
  {
   "cell_type": "code",
   "execution_count": 14,
   "metadata": {},
   "outputs": [
    {
     "data": {
      "text/plain": [
       "<seaborn.axisgrid.FacetGrid at 0x12b78c6a0>"
      ]
     },
     "execution_count": 14,
     "metadata": {},
     "output_type": "execute_result"
    },
    {
     "data": {
      "image/png": "[encoded data removed]",
      "text/plain": [
       "<Figure size 360x360 with 1 Axes>"
      ]
     },
     "metadata": {
      "needs_background": "light"
     },
     "output_type": "display_data"
    }
   ],
   "source": [
    "# histogram\n",
    "sns.displot(df_card_dev['type'])"
   ]
  },
  {
   "cell_type": "code",
   "execution_count": 15,
   "metadata": {},
   "outputs": [
    {
     "data": {
      "text/html": [
       "<div>\n",
       "<style scoped>\n",
       "    .dataframe tbody tr th:only-of-type {\n",
       "        vertical-align: middle;\n",
       "    }\n",
       "\n",
       "    .dataframe tbody tr th {\n",
       "        vertical-align: top;\n",
       "    }\n",
       "\n",
       "    .dataframe thead th {\n",
       "        text-align: right;\n",
       "    }\n",
       "</style>\n",
       "<table border=\"1\" class=\"dataframe\">\n",
       "  <thead>\n",
       "    <tr style=\"text-align: right;\">\n",
       "      <th></th>\n",
       "      <th>Total</th>\n",
       "      <th>Percent</th>\n",
       "    </tr>\n",
       "  </thead>\n",
       "  <tbody>\n",
       "    <tr>\n",
       "      <th>card_id</th>\n",
       "      <td>0</td>\n",
       "      <td>0.0</td>\n",
       "    </tr>\n",
       "    <tr>\n",
       "      <th>disp_id</th>\n",
       "      <td>0</td>\n",
       "      <td>0.0</td>\n",
       "    </tr>\n",
       "    <tr>\n",
       "      <th>type</th>\n",
       "      <td>0</td>\n",
       "      <td>0.0</td>\n",
       "    </tr>\n",
       "    <tr>\n",
       "      <th>issued</th>\n",
       "      <td>0</td>\n",
       "      <td>0.0</td>\n",
       "    </tr>\n",
       "  </tbody>\n",
       "</table>\n",
       "</div>"
      ],
      "text/plain": [
       "         Total  Percent\n",
       "card_id      0      0.0\n",
       "disp_id      0      0.0\n",
       "type         0      0.0\n",
       "issued       0      0.0"
      ]
     },
     "execution_count": 15,
     "metadata": {},
     "output_type": "execute_result"
    }
   ],
   "source": [
    "# missing data\n",
    "total = df_card_dev.isnull().sum().sort_values(ascending=False)\n",
    "percent = (df_card_dev.isnull().sum()/df_card_dev.isnull().count()).sort_values(ascending=False)\n",
    "missing_data = pd.concat([total, percent], axis=1, keys=['Total', 'Percent'])\n",
    "missing_data.head(20)"
   ]
  },
  {
   "cell_type": "markdown",
   "metadata": {},
   "source": [
    "#### Client"
   ]
  },
  {
   "cell_type": "code",
   "execution_count": 16,
   "metadata": {},
   "outputs": [
    {
     "data": {
      "text/plain": [
       "count    5369.000000\n",
       "mean       37.310114\n",
       "std        25.043690\n",
       "min         1.000000\n",
       "25%        14.000000\n",
       "50%        38.000000\n",
       "75%        60.000000\n",
       "max        77.000000\n",
       "Name: district_id, dtype: float64"
      ]
     },
     "execution_count": 16,
     "metadata": {},
     "output_type": "execute_result"
    }
   ],
   "source": [
    "# descriptive statistics summary\n",
    "df_client['district_id'].describe()"
   ]
  },
  {
   "cell_type": "code",
   "execution_count": 17,
   "metadata": {},
   "outputs": [
    {
     "data": {
      "text/plain": [
       "count     5369\n",
       "unique       2\n",
       "top          M\n",
       "freq      2724\n",
       "Name: sex, dtype: object"
      ]
     },
     "execution_count": 17,
     "metadata": {},
     "output_type": "execute_result"
    }
   ],
   "source": [
    "df_client['sex'].describe()"
   ]
  },
  {
   "cell_type": "code",
   "execution_count": 63,
   "metadata": {},
   "outputs": [
    {
     "data": {
      "text/plain": [
       "<matplotlib.axes._subplots.AxesSubplot at 0x12f8650f0>"
      ]
     },
     "execution_count": 63,
     "metadata": {},
     "output_type": "execute_result"
    },
    {
     "data": {
      "image/png": "[encoded data removed]",
      "text/plain": [
       "<Figure size 1440x360 with 1 Axes>"
      ]
     },
     "metadata": {},
     "output_type": "display_data"
    }
   ],
   "source": [
    "# histogram\n",
    "# Change to full bars\n",
    "#sns.displot(df_client['district_id'])\n",
    "df_client['district_id'].value_counts().sort_index().plot(kind='bar', width=1, figsize=(20, 5))"
   ]
  },
  {
   "cell_type": "code",
   "execution_count": 19,
   "metadata": {},
   "outputs": [
    {
     "data": {
      "text/plain": [
       "<seaborn.axisgrid.FacetGrid at 0x12ba7b978>"
      ]
     },
     "execution_count": 19,
     "metadata": {},
     "output_type": "execute_result"
    },
    {
     "data": {
      "image/png": "[encoded data removed]",
      "text/plain": [
       "<Figure size 360x360 with 1 Axes>"
      ]
     },
     "metadata": {
      "needs_background": "light"
     },
     "output_type": "display_data"
    }
   ],
   "source": [
    "# histogram\n",
    "sns.displot(df_client['sex'])"
   ]
  },
  {
   "cell_type": "code",
   "execution_count": 20,
   "metadata": {},
   "outputs": [
    {
     "data": {
      "text/html": [
       "<div>\n",
       "<style scoped>\n",
       "    .dataframe tbody tr th:only-of-type {\n",
       "        vertical-align: middle;\n",
       "    }\n",
       "\n",
       "    .dataframe tbody tr th {\n",
       "        vertical-align: top;\n",
       "    }\n",
       "\n",
       "    .dataframe thead th {\n",
       "        text-align: right;\n",
       "    }\n",
       "</style>\n",
       "<table border=\"1\" class=\"dataframe\">\n",
       "  <thead>\n",
       "    <tr style=\"text-align: right;\">\n",
       "      <th></th>\n",
       "      <th>Total</th>\n",
       "      <th>Percent</th>\n",
       "    </tr>\n",
       "  </thead>\n",
       "  <tbody>\n",
       "    <tr>\n",
       "      <th>client_id</th>\n",
       "      <td>0</td>\n",
       "      <td>0.0</td>\n",
       "    </tr>\n",
       "    <tr>\n",
       "      <th>district_id</th>\n",
       "      <td>0</td>\n",
       "      <td>0.0</td>\n",
       "    </tr>\n",
       "    <tr>\n",
       "      <th>birthdate</th>\n",
       "      <td>0</td>\n",
       "      <td>0.0</td>\n",
       "    </tr>\n",
       "    <tr>\n",
       "      <th>sex</th>\n",
       "      <td>0</td>\n",
       "      <td>0.0</td>\n",
       "    </tr>\n",
       "  </tbody>\n",
       "</table>\n",
       "</div>"
      ],
      "text/plain": [
       "             Total  Percent\n",
       "client_id        0      0.0\n",
       "district_id      0      0.0\n",
       "birthdate        0      0.0\n",
       "sex              0      0.0"
      ]
     },
     "execution_count": 20,
     "metadata": {},
     "output_type": "execute_result"
    }
   ],
   "source": [
    "# missing data\n",
    "total = df_client.isnull().sum().sort_values(ascending=False)\n",
    "percent = (df_client.isnull().sum()/df_client.isnull().count()).sort_values(ascending=False)\n",
    "missing_data = pd.concat([total, percent], axis=1, keys=['Total', 'Percent'])\n",
    "missing_data.head(20)"
   ]
  },
  {
   "cell_type": "markdown",
   "metadata": {},
   "source": [
    "#### Disp"
   ]
  },
  {
   "cell_type": "code",
   "execution_count": 21,
   "metadata": {},
   "outputs": [
    {
     "data": {
      "text/plain": [
       "count      5369\n",
       "unique        2\n",
       "top       OWNER\n",
       "freq       4500\n",
       "Name: type, dtype: object"
      ]
     },
     "execution_count": 21,
     "metadata": {},
     "output_type": "execute_result"
    }
   ],
   "source": [
    "# descriptive statistics summary\n",
    "df_disp['type'].describe()"
   ]
  },
  {
   "cell_type": "code",
   "execution_count": 22,
   "metadata": {},
   "outputs": [
    {
     "data": {
      "text/plain": [
       "<seaborn.axisgrid.FacetGrid at 0x12bac5d30>"
      ]
     },
     "execution_count": 22,
     "metadata": {},
     "output_type": "execute_result"
    },
    {
     "data": {
      "image/png": "[encoded data removed]",
      "text/plain": [
       "<Figure size 360x360 with 1 Axes>"
      ]
     },
     "metadata": {
      "needs_background": "light"
     },
     "output_type": "display_data"
    }
   ],
   "source": [
    "# histogram\n",
    "sns.displot(df_disp['type'])"
   ]
  },
  {
   "cell_type": "code",
   "execution_count": 23,
   "metadata": {},
   "outputs": [
    {
     "data": {
      "text/html": [
       "<div>\n",
       "<style scoped>\n",
       "    .dataframe tbody tr th:only-of-type {\n",
       "        vertical-align: middle;\n",
       "    }\n",
       "\n",
       "    .dataframe tbody tr th {\n",
       "        vertical-align: top;\n",
       "    }\n",
       "\n",
       "    .dataframe thead th {\n",
       "        text-align: right;\n",
       "    }\n",
       "</style>\n",
       "<table border=\"1\" class=\"dataframe\">\n",
       "  <thead>\n",
       "    <tr style=\"text-align: right;\">\n",
       "      <th></th>\n",
       "      <th>Total</th>\n",
       "      <th>Percent</th>\n",
       "    </tr>\n",
       "  </thead>\n",
       "  <tbody>\n",
       "    <tr>\n",
       "      <th>disp_id</th>\n",
       "      <td>0</td>\n",
       "      <td>0.0</td>\n",
       "    </tr>\n",
       "    <tr>\n",
       "      <th>client_id</th>\n",
       "      <td>0</td>\n",
       "      <td>0.0</td>\n",
       "    </tr>\n",
       "    <tr>\n",
       "      <th>account_id</th>\n",
       "      <td>0</td>\n",
       "      <td>0.0</td>\n",
       "    </tr>\n",
       "    <tr>\n",
       "      <th>type</th>\n",
       "      <td>0</td>\n",
       "      <td>0.0</td>\n",
       "    </tr>\n",
       "  </tbody>\n",
       "</table>\n",
       "</div>"
      ],
      "text/plain": [
       "            Total  Percent\n",
       "disp_id         0      0.0\n",
       "client_id       0      0.0\n",
       "account_id      0      0.0\n",
       "type            0      0.0"
      ]
     },
     "execution_count": 23,
     "metadata": {},
     "output_type": "execute_result"
    }
   ],
   "source": [
    "# missing data\n",
    "total = df_disp.isnull().sum().sort_values(ascending=False)\n",
    "percent = (df_disp.isnull().sum()/df_disp.isnull().count()).sort_values(ascending=False)\n",
    "missing_data = pd.concat([total, percent], axis=1, keys=['Total', 'Percent'])\n",
    "missing_data.head(20)"
   ]
  },
  {
   "cell_type": "markdown",
   "metadata": {},
   "source": [
    "#### Loan"
   ]
  },
  {
   "cell_type": "code",
   "execution_count": 65,
   "metadata": {},
   "outputs": [
    {
     "data": {
      "text/plain": [
       "count                              328\n",
       "mean     1995-06-21 08:02:55.609756160\n",
       "min                1993-07-05 00:00:00\n",
       "25%                1994-08-09 06:00:00\n",
       "50%                1995-05-31 00:00:00\n",
       "75%                1996-05-25 06:00:00\n",
       "max                1996-12-27 00:00:00\n",
       "Name: date, dtype: object"
      ]
     },
     "execution_count": 65,
     "metadata": {},
     "output_type": "execute_result"
    }
   ],
   "source": [
    "# descriptive statistics summary\n",
    "df_loan_dev['date'].describe(datetime_is_numeric=True)"
   ]
  },
  {
   "cell_type": "code",
   "execution_count": 25,
   "metadata": {},
   "outputs": [
    {
     "data": {
      "text/plain": [
       "count       328.000000\n",
       "mean     145308.621951\n",
       "std      105247.318098\n",
       "min        4980.000000\n",
       "25%       68328.000000\n",
       "50%      114804.000000\n",
       "75%      198600.000000\n",
       "max      538500.000000\n",
       "Name: amount, dtype: float64"
      ]
     },
     "execution_count": 25,
     "metadata": {},
     "output_type": "execute_result"
    }
   ],
   "source": [
    "df_loan_dev['amount'].describe()"
   ]
  },
  {
   "cell_type": "code",
   "execution_count": 26,
   "metadata": {},
   "outputs": [
    {
     "data": {
      "text/plain": [
       "count    328.000000\n",
       "mean      35.853659\n",
       "std       16.734752\n",
       "min       12.000000\n",
       "25%       24.000000\n",
       "50%       36.000000\n",
       "75%       48.000000\n",
       "max       60.000000\n",
       "Name: duration, dtype: float64"
      ]
     },
     "execution_count": 26,
     "metadata": {},
     "output_type": "execute_result"
    }
   ],
   "source": [
    "df_loan_dev['duration'].describe()"
   ]
  },
  {
   "cell_type": "code",
   "execution_count": 27,
   "metadata": {},
   "outputs": [
    {
     "data": {
      "text/plain": [
       "count     328.000000\n",
       "mean     4150.932927\n",
       "std      2193.620989\n",
       "min       319.000000\n",
       "25%      2368.750000\n",
       "50%      3878.500000\n",
       "75%      5907.750000\n",
       "max      9689.000000\n",
       "Name: payments, dtype: float64"
      ]
     },
     "execution_count": 27,
     "metadata": {},
     "output_type": "execute_result"
    }
   ],
   "source": [
    "df_loan_dev['payments'].describe()"
   ]
  },
  {
   "cell_type": "code",
   "execution_count": 28,
   "metadata": {},
   "outputs": [
    {
     "data": {
      "text/plain": [
       "count    328.000000\n",
       "mean       0.719512\n",
       "std        0.695541\n",
       "min       -1.000000\n",
       "25%        1.000000\n",
       "50%        1.000000\n",
       "75%        1.000000\n",
       "max        1.000000\n",
       "Name: status, dtype: float64"
      ]
     },
     "execution_count": 28,
     "metadata": {},
     "output_type": "execute_result"
    }
   ],
   "source": [
    "df_loan_dev['status'].describe()"
   ]
  },
  {
   "cell_type": "code",
   "execution_count": 29,
   "metadata": {},
   "outputs": [
    {
     "data": {
      "text/plain": [
       "<seaborn.axisgrid.FacetGrid at 0x12bc90320>"
      ]
     },
     "execution_count": 29,
     "metadata": {},
     "output_type": "execute_result"
    },
    {
     "data": {
      "image/png": "[encoded data removed]",
      "text/plain": [
       "<Figure size 360x360 with 1 Axes>"
      ]
     },
     "metadata": {
      "needs_background": "light"
     },
     "output_type": "display_data"
    }
   ],
   "source": [
    "# histogram\n",
    "sns.displot(df_loan_dev['amount'])"
   ]
  },
  {
   "cell_type": "code",
   "execution_count": 30,
   "metadata": {},
   "outputs": [
    {
     "data": {
      "text/plain": [
       "<seaborn.axisgrid.FacetGrid at 0x12bf845c0>"
      ]
     },
     "execution_count": 30,
     "metadata": {},
     "output_type": "execute_result"
    },
    {
     "data": {
      "image/png": "[encoded data removed]",
      "text/plain": [
       "<Figure size 360x360 with 1 Axes>"
      ]
     },
     "metadata": {
      "needs_background": "light"
     },
     "output_type": "display_data"
    }
   ],
   "source": [
    "# histogram\n",
    "sns.displot(df_loan_dev['duration'])"
   ]
  },
  {
   "cell_type": "code",
   "execution_count": 31,
   "metadata": {},
   "outputs": [
    {
     "data": {
      "text/plain": [
       "<seaborn.axisgrid.FacetGrid at 0x12c15d198>"
      ]
     },
     "execution_count": 31,
     "metadata": {},
     "output_type": "execute_result"
    },
    {
     "data": {
      "image/png": "[encoded data removed]",
      "text/plain": [
       "<Figure size 360x360 with 1 Axes>"
      ]
     },
     "metadata": {
      "needs_background": "light"
     },
     "output_type": "display_data"
    }
   ],
   "source": [
    "# histogram\n",
    "sns.displot(df_loan_dev['payments'])"
   ]
  },
  {
   "cell_type": "code",
   "execution_count": 70,
   "metadata": {
    "scrolled": false
   },
   "outputs": [
    {
     "data": {
      "text/plain": [
       "<matplotlib.axes._subplots.AxesSubplot at 0x12fe5b7b8>"
      ]
     },
     "execution_count": 70,
     "metadata": {},
     "output_type": "execute_result"
    },
    {
     "data": {
      "image/png": "[encoded data removed]",
      "text/plain": [
       "<Figure size 432x288 with 1 Axes>"
      ]
     },
     "metadata": {},
     "output_type": "display_data"
    }
   ],
   "source": [
    "# histogram\n",
    "#sns.displot(df_loan_dev['status'])\n",
    "df_loan_dev['status'].value_counts().plot(kind='bar')"
   ]
  },
  {
   "cell_type": "code",
   "execution_count": 33,
   "metadata": {},
   "outputs": [
    {
     "name": "stdout",
     "output_type": "stream",
     "text": [
      "Skewness: 1.081108\n",
      "Kurtosis: 0.830694\n"
     ]
    }
   ],
   "source": [
    "# skewness and kurtosis\n",
    "# skewness: [-0.5, 0.5] -> symmetrical, [-1,-0.5]/[0.5,1] -> moderately skewed, [-inf, -1]/[1, +inf] highly skewed\n",
    "# kurtosis:\n",
    "#  > 3 -> dataset has heavier tails than a normal distribution (more in the tails);\n",
    "#  < 3 -> dataset has lighter tails than a normal distribution (less in the tails)\n",
    "print(\"Skewness: %f\" % df_loan_dev['amount'].skew())\n",
    "print(\"Kurtosis: %f\" % df_loan_dev['amount'].kurt())"
   ]
  },
  {
   "cell_type": "code",
   "execution_count": 34,
   "metadata": {},
   "outputs": [
    {
     "name": "stdout",
     "output_type": "stream",
     "text": [
      "Skewness: 0.055892\n",
      "Kurtosis: -1.267191\n"
     ]
    }
   ],
   "source": [
    "# skewness and kurtosis\n",
    "# skewness: [-0.5, 0.5] -> symmetrical, [-1,-0.5]/[0.5,1] -> moderately skewed, [-inf, -1]/[1, +inf] highly skewed\n",
    "# kurtosis:\n",
    "#  > 3 -> dataset has heavier tails than a normal distribution (more in the tails);\n",
    "#  < 3 -> dataset has lighter tails than a normal distribution (less in the tails)\n",
    "print(\"Skewness: %f\" % df_loan_dev['duration'].skew())\n",
    "print(\"Kurtosis: %f\" % df_loan_dev['duration'].kurt())"
   ]
  },
  {
   "cell_type": "code",
   "execution_count": 35,
   "metadata": {},
   "outputs": [
    {
     "name": "stdout",
     "output_type": "stream",
     "text": [
      "Skewness: 0.269339\n",
      "Kurtosis: -0.846561\n"
     ]
    }
   ],
   "source": [
    "# skewness and kurtosis\n",
    "# skewness: [-0.5, 0.5] -> symmetrical, [-1,-0.5]/[0.5,1] -> moderately skewed, [-inf, -1]/[1, +inf] highly skewed\n",
    "# kurtosis:\n",
    "#  > 3 -> dataset has heavier tails than a normal distribution (more in the tails);\n",
    "#  < 3 -> dataset has lighter tails than a normal distribution (less in the tails)\n",
    "print(\"Skewness: %f\" % df_loan_dev['payments'].skew())\n",
    "print(\"Kurtosis: %f\" % df_loan_dev['payments'].kurt())"
   ]
  },
  {
   "cell_type": "code",
   "execution_count": 36,
   "metadata": {},
   "outputs": [
    {
     "name": "stdout",
     "output_type": "stream",
     "text": [
      "Skewness: -2.081621\n",
      "Kurtosis: 2.347424\n"
     ]
    }
   ],
   "source": [
    "# skewness and kurtosis\n",
    "# skewness: [-0.5, 0.5] -> symmetrical, [-1,-0.5]/[0.5,1] -> moderately skewed, [-inf, -1]/[1, +inf] highly skewed\n",
    "# kurtosis:\n",
    "#  > 3 -> dataset has heavier tails than a normal distribution (more in the tails);\n",
    "#  < 3 -> dataset has lighter tails than a normal distribution (less in the tails)\n",
    "print(\"Skewness: %f\" % df_loan_dev['status'].skew())\n",
    "print(\"Kurtosis: %f\" % df_loan_dev['status'].kurt())"
   ]
  },
  {
   "cell_type": "code",
   "execution_count": 37,
   "metadata": {},
   "outputs": [
    {
     "data": {
      "image/png": "[encoded data removed]",
      "text/plain": [
       "<Figure size 432x288 with 1 Axes>"
      ]
     },
     "metadata": {
      "needs_background": "light"
     },
     "output_type": "display_data"
    }
   ],
   "source": [
    "#scatter plot duration/amount\n",
    "var = 'duration'\n",
    "data = pd.concat([df_loan_dev['amount'], df_loan_dev[var]], axis=1)\n",
    "data.plot.scatter(x=var, y='amount');"
   ]
  },
  {
   "cell_type": "code",
   "execution_count": 38,
   "metadata": {},
   "outputs": [
    {
     "data": {
      "image/png": "[encoded data removed]",
      "text/plain": [
       "<Figure size 432x288 with 1 Axes>"
      ]
     },
     "metadata": {
      "needs_background": "light"
     },
     "output_type": "display_data"
    }
   ],
   "source": [
    "#scatter plot payments/amount\n",
    "var = 'payments'\n",
    "data = pd.concat([df_loan_dev['amount'], df_loan_dev[var]], axis=1)\n",
    "data.plot.scatter(x=var, y='amount');"
   ]
  },
  {
   "cell_type": "code",
   "execution_count": 39,
   "metadata": {},
   "outputs": [
    {
     "data": {
      "image/png": "[encoded data removed]",
      "text/plain": [
       "<Figure size 432x288 with 1 Axes>"
      ]
     },
     "metadata": {
      "needs_background": "light"
     },
     "output_type": "display_data"
    }
   ],
   "source": [
    "#scatter plot date/amount\n",
    "var = 'date'\n",
    "data = pd.concat([df_loan_dev['amount'], df_loan_dev[var]], axis=1)\n",
    "data.plot.scatter(x=var, y='amount');"
   ]
  },
  {
   "cell_type": "code",
   "execution_count": 41,
   "metadata": {},
   "outputs": [
    {
     "data": {
      "image/png": "[encoded data removed]",
      "text/plain": [
       "<Figure size 864x648 with 2 Axes>"
      ]
     },
     "metadata": {
      "needs_background": "light"
     },
     "output_type": "display_data"
    }
   ],
   "source": [
    "#correlation matrix\n",
    "corrmat = df_loan_dev.corr()\n",
    "f, ax = plt.subplots(figsize=(12, 9))\n",
    "sns.heatmap(corrmat, vmax=.9, square=True);"
   ]
  },
  {
   "cell_type": "code",
   "execution_count": 42,
   "metadata": {},
   "outputs": [
    {
     "data": {
      "image/png": "[encoded data removed]",
      "text/plain": [
       "<Figure size 432x288 with 2 Axes>"
      ]
     },
     "metadata": {},
     "output_type": "display_data"
    }
   ],
   "source": [
    "# status correlation matrix\n",
    "k = 10 # number of variables for heatmap\n",
    "cols = corrmat.nlargest(k, 'status')['status'].index\n",
    "cm = np.corrcoef(df_loan_dev[cols].values.T)\n",
    "sns.set(font_scale=1.25)\n",
    "hm = sns.heatmap(cm, cbar=True, annot=True, square=True, fmt='.2f', annot_kws={'size': 10}, yticklabels=cols.values, xticklabels=cols.values)\n",
    "plt.show()"
   ]
  },
  {
   "cell_type": "code",
   "execution_count": 43,
   "metadata": {},
   "outputs": [
    {
     "data": {
      "text/html": [
       "<div>\n",
       "<style scoped>\n",
       "    .dataframe tbody tr th:only-of-type {\n",
       "        vertical-align: middle;\n",
       "    }\n",
       "\n",
       "    .dataframe tbody tr th {\n",
       "        vertical-align: top;\n",
       "    }\n",
       "\n",
       "    .dataframe thead th {\n",
       "        text-align: right;\n",
       "    }\n",
       "</style>\n",
       "<table border=\"1\" class=\"dataframe\">\n",
       "  <thead>\n",
       "    <tr style=\"text-align: right;\">\n",
       "      <th></th>\n",
       "      <th>Total</th>\n",
       "      <th>Percent</th>\n",
       "    </tr>\n",
       "  </thead>\n",
       "  <tbody>\n",
       "    <tr>\n",
       "      <th>loan_id</th>\n",
       "      <td>0</td>\n",
       "      <td>0.0</td>\n",
       "    </tr>\n",
       "    <tr>\n",
       "      <th>account_id</th>\n",
       "      <td>0</td>\n",
       "      <td>0.0</td>\n",
       "    </tr>\n",
       "    <tr>\n",
       "      <th>date</th>\n",
       "      <td>0</td>\n",
       "      <td>0.0</td>\n",
       "    </tr>\n",
       "    <tr>\n",
       "      <th>amount</th>\n",
       "      <td>0</td>\n",
       "      <td>0.0</td>\n",
       "    </tr>\n",
       "    <tr>\n",
       "      <th>duration</th>\n",
       "      <td>0</td>\n",
       "      <td>0.0</td>\n",
       "    </tr>\n",
       "    <tr>\n",
       "      <th>payments</th>\n",
       "      <td>0</td>\n",
       "      <td>0.0</td>\n",
       "    </tr>\n",
       "    <tr>\n",
       "      <th>status</th>\n",
       "      <td>0</td>\n",
       "      <td>0.0</td>\n",
       "    </tr>\n",
       "  </tbody>\n",
       "</table>\n",
       "</div>"
      ],
      "text/plain": [
       "            Total  Percent\n",
       "loan_id         0      0.0\n",
       "account_id      0      0.0\n",
       "date            0      0.0\n",
       "amount          0      0.0\n",
       "duration        0      0.0\n",
       "payments        0      0.0\n",
       "status          0      0.0"
      ]
     },
     "execution_count": 43,
     "metadata": {},
     "output_type": "execute_result"
    }
   ],
   "source": [
    "# missing data\n",
    "total = df_loan_dev.isnull().sum().sort_values(ascending=False)\n",
    "percent = (df_loan_dev.isnull().sum()/df_loan_dev.isnull().count()).sort_values(ascending=False)\n",
    "missing_data = pd.concat([total, percent], axis=1, keys=['Total', 'Percent'])\n",
    "missing_data.head(20)"
   ]
  },
  {
   "cell_type": "markdown",
   "metadata": {},
   "source": [
    "#### Transaction"
   ]
  },
  {
   "cell_type": "code",
   "execution_count": 44,
   "metadata": {},
   "outputs": [
    {
     "data": {
      "text/plain": [
       "396685"
      ]
     },
     "execution_count": 44,
     "metadata": {},
     "output_type": "execute_result"
    }
   ],
   "source": [
    "# descriptive statistics\n",
    "# trans_id;account_id;date;type;operation;amount;balance;k_symbol;bank;account\n",
    "df_trans_dev['trans_id'].count()"
   ]
  },
  {
   "cell_type": "code",
   "execution_count": 45,
   "metadata": {},
   "outputs": [
    {
     "data": {
      "text/plain": [
       "count         396685\n",
       "unique             3\n",
       "top       withdrawal\n",
       "freq          232093\n",
       "Name: type, dtype: object"
      ]
     },
     "execution_count": 45,
     "metadata": {},
     "output_type": "execute_result"
    }
   ],
   "source": [
    "# descriptive statistics summary\n",
    "df_trans_dev['type'].describe()"
   ]
  },
  {
   "cell_type": "code",
   "execution_count": 46,
   "metadata": {},
   "outputs": [
    {
     "data": {
      "text/plain": [
       "count                 325924\n",
       "unique                     5\n",
       "top       withdrawal in cash\n",
       "freq                  165270\n",
       "Name: operation, dtype: object"
      ]
     },
     "execution_count": 46,
     "metadata": {},
     "output_type": "execute_result"
    }
   ],
   "source": [
    "# descriptive statistics summary\n",
    "df_trans_dev['operation'].describe()"
   ]
  },
  {
   "cell_type": "code",
   "execution_count": 47,
   "metadata": {},
   "outputs": [
    {
     "data": {
      "text/plain": [
       "count    396685.000000\n",
       "mean       5677.552980\n",
       "std        9190.364137\n",
       "min           0.000000\n",
       "25%         127.500000\n",
       "50%        1952.000000\n",
       "75%        6500.000000\n",
       "max       86400.000000\n",
       "Name: amount, dtype: float64"
      ]
     },
     "execution_count": 47,
     "metadata": {},
     "output_type": "execute_result"
    }
   ],
   "source": [
    "# descriptive statistics summary\n",
    "df_trans_dev['amount'].describe()"
   ]
  },
  {
   "cell_type": "code",
   "execution_count": 48,
   "metadata": {},
   "outputs": [
    {
     "data": {
      "text/plain": [
       "count                211441\n",
       "unique                    7\n",
       "top       interest credited\n",
       "freq                  70761\n",
       "Name: k_symbol, dtype: object"
      ]
     },
     "execution_count": 48,
     "metadata": {},
     "output_type": "execute_result"
    }
   ],
   "source": [
    "# descriptive statistics summary\n",
    "df_trans_dev['k_symbol'].describe()"
   ]
  },
  {
   "cell_type": "code",
   "execution_count": 49,
   "metadata": {},
   "outputs": [
    {
     "data": {
      "text/plain": [
       "count     97242\n",
       "unique       13\n",
       "top          ST\n",
       "freq       8114\n",
       "Name: bank, dtype: object"
      ]
     },
     "execution_count": 49,
     "metadata": {},
     "output_type": "execute_result"
    }
   ],
   "source": [
    "# descriptive statistics summary\n",
    "df_trans_dev['bank'].describe()"
   ]
  },
  {
   "cell_type": "code",
   "execution_count": 50,
   "metadata": {},
   "outputs": [
    {
     "data": {
      "text/plain": [
       "<matplotlib.axes._subplots.AxesSubplot at 0x12d1fb588>"
      ]
     },
     "execution_count": 50,
     "metadata": {},
     "output_type": "execute_result"
    },
    {
     "data": {
      "image/png": "[encoded data removed]",
      "text/plain": [
       "<Figure size 432x288 with 1 Axes>"
      ]
     },
     "metadata": {},
     "output_type": "display_data"
    }
   ],
   "source": [
    "# histogram\n",
    "df_trans_dev['type'].value_counts().plot(kind='bar')"
   ]
  },
  {
   "cell_type": "code",
   "execution_count": 51,
   "metadata": {},
   "outputs": [
    {
     "data": {
      "text/plain": [
       "<matplotlib.axes._subplots.AxesSubplot at 0x12d2cf240>"
      ]
     },
     "execution_count": 51,
     "metadata": {},
     "output_type": "execute_result"
    },
    {
     "data": {
      "image/png": "[encoded data removed]",
      "text/plain": [
       "<Figure size 432x288 with 1 Axes>"
      ]
     },
     "metadata": {},
     "output_type": "display_data"
    }
   ],
   "source": [
    "# histogram\n",
    "df_trans_dev['operation'].value_counts().plot(kind='bar')"
   ]
  },
  {
   "cell_type": "code",
   "execution_count": 52,
   "metadata": {},
   "outputs": [
    {
     "data": {
      "image/png": "[encoded data removed]",
      "text/plain": [
       "<Figure size 864x648 with 2 Axes>"
      ]
     },
     "metadata": {},
     "output_type": "display_data"
    }
   ],
   "source": [
    "#correlation matrix\n",
    "corrmat = df_trans_dev.corr()\n",
    "f, ax = plt.subplots(figsize=(12, 9))\n",
    "sns.heatmap(corrmat, vmax=.9, square=True);"
   ]
  },
  {
   "cell_type": "code",
   "execution_count": 53,
   "metadata": {},
   "outputs": [
    {
     "data": {
      "image/png": "[encoded data removed]",
      "text/plain": [
       "<Figure size 432x288 with 2 Axes>"
      ]
     },
     "metadata": {},
     "output_type": "display_data"
    }
   ],
   "source": [
    "# amount correlation matrix\n",
    "k = 10 # number of variables for heatmap\n",
    "cols = corrmat.nlargest(k, 'amount')['amount'].index\n",
    "cm = np.corrcoef(df_trans_dev[cols].values.T)\n",
    "sns.set(font_scale=1.25)\n",
    "hm = sns.heatmap(cm, cbar=True, annot=True, square=True, fmt='.2f', annot_kws={'size': 10}, yticklabels=cols.values, xticklabels=cols.values)\n",
    "plt.show()"
   ]
  },
  {
   "cell_type": "code",
   "execution_count": 54,
   "metadata": {},
   "outputs": [
    {
     "data": {
      "text/html": [
       "<div>\n",
       "<style scoped>\n",
       "    .dataframe tbody tr th:only-of-type {\n",
       "        vertical-align: middle;\n",
       "    }\n",
       "\n",
       "    .dataframe tbody tr th {\n",
       "        vertical-align: top;\n",
       "    }\n",
       "\n",
       "    .dataframe thead th {\n",
       "        text-align: right;\n",
       "    }\n",
       "</style>\n",
       "<table border=\"1\" class=\"dataframe\">\n",
       "  <thead>\n",
       "    <tr style=\"text-align: right;\">\n",
       "      <th></th>\n",
       "      <th>Total</th>\n",
       "      <th>Percent</th>\n",
       "    </tr>\n",
       "  </thead>\n",
       "  <tbody>\n",
       "    <tr>\n",
       "      <th>bank</th>\n",
       "      <td>299443</td>\n",
       "      <td>0.754863</td>\n",
       "    </tr>\n",
       "    <tr>\n",
       "      <th>account</th>\n",
       "      <td>294456</td>\n",
       "      <td>0.742292</td>\n",
       "    </tr>\n",
       "    <tr>\n",
       "      <th>k_symbol</th>\n",
       "      <td>185244</td>\n",
       "      <td>0.466980</td>\n",
       "    </tr>\n",
       "    <tr>\n",
       "      <th>operation</th>\n",
       "      <td>70761</td>\n",
       "      <td>0.178381</td>\n",
       "    </tr>\n",
       "    <tr>\n",
       "      <th>trans_id</th>\n",
       "      <td>0</td>\n",
       "      <td>0.000000</td>\n",
       "    </tr>\n",
       "    <tr>\n",
       "      <th>account_id</th>\n",
       "      <td>0</td>\n",
       "      <td>0.000000</td>\n",
       "    </tr>\n",
       "    <tr>\n",
       "      <th>date</th>\n",
       "      <td>0</td>\n",
       "      <td>0.000000</td>\n",
       "    </tr>\n",
       "    <tr>\n",
       "      <th>type</th>\n",
       "      <td>0</td>\n",
       "      <td>0.000000</td>\n",
       "    </tr>\n",
       "    <tr>\n",
       "      <th>amount</th>\n",
       "      <td>0</td>\n",
       "      <td>0.000000</td>\n",
       "    </tr>\n",
       "    <tr>\n",
       "      <th>balance</th>\n",
       "      <td>0</td>\n",
       "      <td>0.000000</td>\n",
       "    </tr>\n",
       "  </tbody>\n",
       "</table>\n",
       "</div>"
      ],
      "text/plain": [
       "             Total   Percent\n",
       "bank        299443  0.754863\n",
       "account     294456  0.742292\n",
       "k_symbol    185244  0.466980\n",
       "operation    70761  0.178381\n",
       "trans_id         0  0.000000\n",
       "account_id       0  0.000000\n",
       "date             0  0.000000\n",
       "type             0  0.000000\n",
       "amount           0  0.000000\n",
       "balance          0  0.000000"
      ]
     },
     "execution_count": 54,
     "metadata": {},
     "output_type": "execute_result"
    }
   ],
   "source": [
    "# missing data\n",
    "total = df_trans_dev.isnull().sum().sort_values(ascending=False)\n",
    "percent = (df_trans_dev.isnull().sum()/df_trans_dev.isnull().count()).sort_values(ascending=False)\n",
    "missing_data = pd.concat([total, percent], axis=1, keys=['Total', 'Percent'])\n",
    "missing_data.head(20)"
   ]
  }
 ],
 "metadata": {
  "kernelspec": {
   "display_name": "Python 3",
   "language": "python",
   "name": "python3"
  },
  "language_info": {
   "codemirror_mode": {
    "name": "ipython",
    "version": 3
   },
   "file_extension": ".py",
   "mimetype": "text/x-python",
   "name": "python",
   "nbconvert_exporter": "python",
   "pygments_lexer": "ipython3",
   "version": "3.7.2"
  }
 },
 "nbformat": 4,
 "nbformat_minor": 4
}
